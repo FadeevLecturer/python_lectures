{
 "cells": [
  {
   "cell_type": "markdown",
   "id": "7304d607",
   "metadata": {},
   "source": [
    "(ipython_notebook)=\n",
    "\n",
    "# Что такое Jupyter Notebooks?\n",
    "\n",
    "[Jupyter](http://jupyter.org/) notebooks (блокноты, тетрадки) --- ещё один способ интерактивно работать с python. Он объединяет в себе возможность сохранять код и многократно его использовать и возможность интерактивного взаимодействия с интерпретатором python. Кроме того, помимо исходного кода python в jupyter notebook могут быть встроены форматированный текст, таблицы, изображения, анимация, математические формулы и многое другое.\n",
    "\n",
    "Благодаря таким особенностям, тетрадки сейчас очень популярны в науке, особенно в сфере анализе данных и машинного обучения. \n",
    "\n",
    "{numref}`Скриншот %s <jp_demo>` демонстрирует выполнение кода (подсмотренного \n",
    "[здесь](http://matplotlib.org/examples/pylab_examples/hexbin_demo.html))\n",
    "в Jupyter notebook.\n",
    "\n",
    "```{figure} /_static/lecture_specific/jupyter_notebooks/jp_demo.png\n",
    ":scale: 50%\n",
    ":name: jp_demo\n",
    "\n",
    "Jupyter notebook запущенный в браузере\n",
    "```\n",
    "\n",
    "## Запуск Jupyter Notebook\n",
    "\n",
    "Установив `Anaconda`, запустить jupyter notebook можно двумя способами:\n",
    "\n",
    "1.  вбив Jupyter в поиск по приложениям;\n",
    "2.  открыв `Anaconda prompt` и набрав команду `jupyter notebook`;\n",
    "    \n",
    "\n",
    "В обоих случаях должен открыться браузер, а в `Anaconda prompt` вы увидите что-то похожее на\n",
    "```{figure} /_static/lecture_specific/jupyter_notebooks/starting_nb.png\n",
    ":scale: 50%\n",
    "```\n",
    "\n",
    "Вывод сообщает, что jupyter notebook запущен на [http://localhost:8888/](http://localhost:8888/), т.е. ядро Jupyter принимает Python команды по 8888 локальной машины.\n",
    "\n",
    "Открывшееся окно в браузере должно выглядеть как-то так\n",
    "```{figure} /_static/lecture_specific/jupyter_notebooks/nb.png\n",
    ":scale: 50%\n",
    "```\n",
    "\n",
    "Содержимое этого окна называется the Jupyter *dashboard*. Здесь можно осуществлять навигацию по файловой системе, открывать уже написанные тетрадки или создавать новые. Чтобы создать новую, нажмите `New` в правом верхнем углу и выберите `Python 3`."
   ]
  }
 ],
 "metadata": {
  "jupytext": {
   "text_representation": {
    "extension": ".md",
    "format_name": "myst"
   }
  },
  "kernelspec": {
   "display_name": "Python 3",
   "language": "python",
   "name": "python3"
  },
  "language_info": {
   "codemirror_mode": {
    "name": "ipython",
    "version": 3
   },
   "file_extension": ".py",
   "mimetype": "text/x-python",
   "name": "python",
   "nbconvert_exporter": "python",
   "pygments_lexer": "ipython3",
   "version": "3.8.10"
  },
  "source_map": [
   10
  ]
 },
 "nbformat": 4,
 "nbformat_minor": 5
}