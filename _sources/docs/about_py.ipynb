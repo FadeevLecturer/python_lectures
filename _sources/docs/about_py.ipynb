{
 "cells": [
  {
   "cell_type": "markdown",
   "id": "cef1f30b",
   "metadata": {},
   "source": [
    "(about_py)=\n",
    "\n",
    "# О питоне\n",
    "\n",
    "## Что такое python?\n",
    "\n",
    "[Python](https://www.python.org) - это язык программирования общего назначения, разработанный голландским программистом  [Гвидо ван Россумом](https://ru.wikipedia.org/wiki/%D0%92%D0%B0%D0%BD_%D0%A0%D0%BE%D1%81%D1%81%D1%83%D0%BC,_%D0%93%D0%B2%D0%B8%D0%B4%D0%BE) в конце 1980-х годов.\n",
    "\n",
    "Python - проект с открытым исходным кодом, бесплатный для использования.\n",
    "\n",
    "[//]: # (Popular textbooks on Python programming include {cite}`guttag2016introduction` and {cite}`hill2016learning`.)\n",
    "\n",
    "### Сферы применения python\n",
    "\n",
    "python применяется практически для всех целей, в том числе:\n",
    "\n",
    "-   написание скриптов\n",
    "-   web разработка\n",
    "-   разработка игр\n",
    "-   анализ данных, машинное обучение\n",
    "-   многое другое\n",
    "\n",
    "Последнее время python становится все популярнее в научной среде.\n",
    "\n",
    "### Особенности\n",
    "\n",
    "- Python - [язык программирования высокого уровня](https://ru.wikipedia.org/wiki/%D0%92%D1%8B%D1%81%D0%BE%D0%BA%D0%BE%D1%83%D1%80%D0%BE%D0%B2%D0%BD%D0%B5%D0%B2%D1%8B%D0%B9_%D1%8F%D0%B7%D1%8B%D0%BA_%D0%BF%D1%80%D0%BE%D0%B3%D1%80%D0%B0%D0%BC%D0%BC%D0%B8%D1%80%D0%BE%D0%B2%D0%B0%D0%BD%D0%B8%D1%8F).\n",
    "\n",
    "- [Интерпретируемый язык программирования](https://ru.wikipedia.org/wiki/%D0%98%D0%BD%D1%82%D0%B5%D1%80%D0%BF%D1%80%D0%B5%D1%82%D0%B8%D1%80%D1%83%D0%B5%D0%BC%D1%8B%D0%B9_%D1%8F%D0%B7%D1%8B%D0%BA_%D0%BF%D1%80%D0%BE%D0%B3%D1%80%D0%B0%D0%BC%D0%BC%D0%B8%D1%80%D0%BE%D0%B2%D0%B0%D0%BD%D0%B8%D1%8F).\n",
    "\n",
    "- В открытом доступе имеется огромное количество библиотек, написанных сообществом программистов.\n",
    "\n",
    "- Можно разрабатывать в рамках различных парадигм (ООП, процедурное программирование, функциональное программирование)."
   ]
  }
 ],
 "metadata": {
  "jupytext": {
   "text_representation": {
    "extension": ".md",
    "format_name": "myst"
   }
  },
  "kernelspec": {
   "display_name": "Python 3",
   "language": "python",
   "name": "python3"
  },
  "language_info": {
   "codemirror_mode": {
    "name": "ipython",
    "version": 3
   },
   "file_extension": ".py",
   "mimetype": "text/x-python",
   "name": "python",
   "nbconvert_exporter": "python",
   "pygments_lexer": "ipython3",
   "version": "3.8.10"
  },
  "source_map": [
   10
  ]
 },
 "nbformat": 4,
 "nbformat_minor": 5
}