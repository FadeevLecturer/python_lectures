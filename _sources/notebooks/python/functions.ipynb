{
 "cells": [
  {
   "cell_type": "markdown",
   "metadata": {},
   "source": [
    "# Функции\n",
    "\n",
    "## Объявление функций\n",
    "\n",
    "Про определение функций в `python` можно подробно прочитать в документации [по ссылке](https://docs.python.org/3/tutorial/controlflow.html#defining-functions).\n",
    "\n",
    "Объявление функции (`function definition`) состоит из заголовка и тела. \n",
    "- Заголовок начинается с ключевого слова `def`, за которым должно следовать название (имя) функции и список формальных параметров. Завершается заголовок символом двоеточия.\n",
    "- Далее приводится тело функции, инструкции в котором приводятся с постоянным отступом вправо относительно заголовка функции. \n",
    "- Первой строкой в теле функции допускается указывать документирующую строку.\n",
    "\n",
    "```python\n",
    "def имя_функции(параметр1, ..., параметрN):\n",
    "    \"Документирующая строка.\"\n",
    "    Первая инструкция в теле функции\n",
    "    ...\n",
    "    Последняя инструкция в теле функции\n",
    "\n",
    "Инструкция снаружи тела функции    \n",
    "```\n",
    "\n",
    "Когда интерпретатор встречает определение функции, он создаёт вызываемый объект-функцию и связывает этот объект с указанным при объявлении именем. Это имя также функции сохраняется в атрибут `__name__` объекта-функции."
   ]
  },
  {
   "cell_type": "code",
   "execution_count": 12,
   "metadata": {},
   "outputs": [
    {
     "name": "stdout",
     "output_type": "stream",
     "text": [
      "<class 'function'>\n",
      "add\n"
     ]
    }
   ],
   "source": [
    "def add(x, y):\n",
    "    \"\"\"Return the sum of its arguments\"\"\"\n",
    "    return x + y\n",
    "\n",
    "print(type(add))\n",
    "print(add.__name__)"
   ]
  },
  {
   "cell_type": "markdown",
   "metadata": {},
   "source": [
    "В ячейке выше на первой строке мы объявили функцию с именем `add` принимающую два аргумента под именами `x` и `y`. \n",
    "\n",
    "```python\n",
    "def add(x, y):\n",
    "```\n",
    "\n",
    "На следующей строке располагается документирующая строка.\n",
    "\n",
    "```python\n",
    "def add(x, y):\n",
    "    \"\"\"Return the sum of its arguments\"\"\"\n",
    "```\n",
    "\n",
    "Документирующая строка сохраняется в атрибут `__doc__` объекта функции и также выводится в справке по функции, которую можно сгенерировать встроенной функцией [help](https://docs.python.org/3/library/functions.html#help)."
   ]
  },
  {
   "cell_type": "code",
   "execution_count": 13,
   "metadata": {},
   "outputs": [
    {
     "name": "stdout",
     "output_type": "stream",
     "text": [
      "Return the sum of its arguments\n",
      "----------------------------------------\n",
      "Help on function add in module __main__:\n",
      "\n",
      "add(x, y)\n",
      "    Return the sum of its arguments\n",
      "\n"
     ]
    }
   ],
   "source": [
    "print(add.__doc__)\n",
    "print(\"-\" * 40)\n",
    "help(add)"
   ]
  },
  {
   "cell_type": "markdown",
   "metadata": {},
   "source": [
    "На последней строке функция возвращает результат вычисления выражения `x + y` вызывающему коду.\n",
    "\n",
    "```python\n",
    "def add(x, y):\n",
    "    \"\"\"Return the sum of its arguments\"\"\"\n",
    "    return x + y\n",
    "```\n",
    "\n",
    "## Управление потоком управления и возвращение значений из функции\n",
    "\n",
    "При вызове функции поток управления программой передаётся этой функции. Поток управления программой возвращается обратно вызывающему коду, когда исполнение функций завершается, что может произойти по трём причинам:\n",
    "1. встречено ключевое слово `return`;\n",
    "2. достигнут конец функции;\n",
    "3. возникло необработанное исключение, которое начало распространяться по стеку вызовов.\n",
    "\n",
    "Последний случай разбирается позднее в разделе \"[](exceptions_page)\", разберем первые два.\n",
    "\n",
    "Если встречается конструкция вида \n",
    "```python\n",
    "def имя_функции():\n",
    "    ...\n",
    "    return expression\n",
    "```\n",
    "т.е. ключевое слово `return` и некоторое выражение `expression`, то вызывающему коду возвращается результат вычисления `expression`. Именно такая ситуация и встречается в определенной выше функции `add`: в качестве `expression` выступает выражение `x + y`.\n",
    "\n",
    "Если же после ключевого слова `return` ничего не стоит, т.е. встречается конструкция вида\n",
    "```python\n",
    "def имя_функции():\n",
    "    ...\n",
    "    return \n",
    "```\n",
    "то вызывающему коду возвращается значение `None`. \n",
    "\n",
    "Если же функция заканчивается без ключевого слова `return`, то после исполнения последней инструкции тела функции вызывающему коду возвращается значение `None`. Т.е. следующие три определения функции эквиваленты.\n",
    "```python\n",
    "def имя_функции():\n",
    "    print(\"Hello, world!\")\n",
    "```\n",
    "```python\n",
    "def имя_функции():\n",
    "    print(\"Hello, world!\")\n",
    "    return None\n",
    "```\n",
    "```python\n",
    "def имя_функции():\n",
    "    print(\"Hello, world!\")\n",
    "    return \n",
    "```\n",
    "\n",
    "Таким образом **функция всегда возвращает какое-то значение**, если её исполнение завершилось без возникновения исключений. Это значение явно задаётся выражением справа от ключевого слова `return` или возвращается `None`, если ключевое слово `return` не встретилось при исполнении тела функции или справа от оператора `return` ничего не указано. \n",
    "\n",
    "## Функции как объекты первого класса\n",
    "\n",
    "Прочитав объявление функции, интерпретатор создаёт вызываемый объект-функцию типа `function` и связывает его с указанным при объявлении функции именем. При этом объекты функционального типа `function` ничем не выделяются на фоне объектов всех остальных типов. Как и с любыми другими объектами в `python` можно совершать следующие операции и над функциями:\n",
    "1. присвоить переменной;\n",
    "2. передать в качестве аргумента функции;\n",
    "3. возвращать из функции;\n",
    "\n",
    "В программировании такие объекты с такими свойствами принято называть [объектами первого класса](https://ru.wikipedia.org/wiki/%D0%9E%D0%B1%D1%8A%D0%B5%D0%BA%D1%82_%D0%BF%D0%B5%D1%80%D0%B2%D0%BE%D0%B3%D0%BE_%D0%BA%D0%BB%D0%B0%D1%81%D1%81%D0%B0) и далеко не во всех языках программирования функции являются таковыми. Но в `python` это так и давайте продемонстрируем это.\n",
    "\n",
    "### Присваивание переменной\n",
    "\n",
    "Присвоение переменной в `python` --- связывание с именем. В качестве демонстрации этой возможности свяжем встроенную функцию [print](https://docs.python.org/3/library/functions.html#print) с именем `p` и вызовем её от этого имени."
   ]
  },
  {
   "cell_type": "code",
   "execution_count": 14,
   "metadata": {},
   "outputs": [
    {
     "name": "stdout",
     "output_type": "stream",
     "text": [
      "Теперь я могу вызывать функцию print от имени p\n"
     ]
    }
   ],
   "source": [
    "p = print\n",
    "\n",
    "p(\"Теперь я могу вызывать функцию print от имени p\")"
   ]
  },
  {
   "cell_type": "markdown",
   "metadata": {},
   "source": [
    "### Передача в качестве аргумента функции \n",
    "\n",
    "Передачу функции в качестве аргумента другой функции мы уже встречали на примере получения справки функцией `help`. Разберем пример того, как пользовательская функция может принимать в качестве параметра объект-функцию. "
   ]
  },
  {
   "cell_type": "code",
   "execution_count": 18,
   "metadata": {},
   "outputs": [
    {
     "name": "stdout",
     "output_type": "stream",
     "text": [
      "add\n",
      "print_function_name\n"
     ]
    }
   ],
   "source": [
    "def print_function_name(f):\n",
    "    print(f.__name__)\n",
    "\n",
    "print_function_name(add)\n",
    "print_function_name(print_function_name)"
   ]
  },
  {
   "cell_type": "markdown",
   "metadata": {},
   "source": [
    "В ячейке выше определена примитивная функция `print_function_name`, которая просто печатает содержимое атрибута `__name__` функции. Далее на вход этой функции сначала передаётся определенная ранее функция `add`. А потом на вход этой функции передаётся она сама! Да, `python` настолько гибкий, что функция может обработать саму себя. Правда сложно представить себе ситуацию, где такая возможность пригодится и будет лучшей из всех возможных альтернатив.\n",
    "\n",
    "Напишем чуть более содержательную функцию `apply`, которая принимает на вход функцию `f` и список `l` и подменяет каждый элемент `l[i]` значением `f(l[i])`, т.к. применяет функцию `f` к элементам списка `l` на месте.  "
   ]
  },
  {
   "cell_type": "code",
   "execution_count": 21,
   "metadata": {},
   "outputs": [
    {
     "name": "stdout",
     "output_type": "stream",
     "text": [
      "[0.0, 0.49999999999999994, 0.7071067811865476, 0.8660254037844386, 1.0]\n"
     ]
    }
   ],
   "source": [
    "from math import sin, pi\n",
    "\n",
    "def apply(f, l):\n",
    "    for i in range(len(l)):\n",
    "        l[i] = f(l[i])\n",
    "    return \n",
    "\n",
    "x = [0, pi/6., pi/4., pi/3., pi/2.]\n",
    "apply(sin, x)\n",
    "print(x)"
   ]
  },
  {
   "cell_type": "markdown",
   "metadata": {},
   "source": [
    "На самом деле есть встроенная функция [map](https://docs.python.org/3/library/functions.html#map), которая делает то же самое, только не на месте."
   ]
  },
  {
   "cell_type": "code",
   "execution_count": 23,
   "metadata": {},
   "outputs": [
    {
     "name": "stdout",
     "output_type": "stream",
     "text": [
      "[0.0, 0.47942553860420295, 0.6496369390800625, 0.7617599814162892, 0.8414709848078965]\n"
     ]
    }
   ],
   "source": [
    "y = list(map(sin, x))\n",
    "print(y)"
   ]
  },
  {
   "cell_type": "markdown",
   "metadata": {},
   "source": [
    "### Возвращение из функции. Замыкание\n",
    "\n",
    "Функция может возвращать функцию из себя. Распространенное применение такого приема --- декораторы (см. \"[](decorators_)\"). Одна из основных причин такой распространенности --- возможность реализовать шаблон [замыкание](https://ru.wikipedia.org/wiki/%D0%97%D0%B0%D0%BC%D1%8B%D0%BA%D0%B0%D0%BD%D0%B8%D0%B5_(%D0%BF%D1%80%D0%BE%D0%B3%D1%80%D0%B0%D0%BC%D0%BC%D0%B8%D1%80%D0%BE%D0%B2%D0%B0%D0%BD%D0%B8%D0%B5)) (`closure`).  \n",
    "\n",
    "Рассмотрим самый простой пример. Реализуем функцию, которая генерирует функцию, запоминающую момент своего создания."
   ]
  },
  {
   "cell_type": "code",
   "execution_count": 7,
   "metadata": {},
   "outputs": [
    {
     "name": "stdout",
     "output_type": "stream",
     "text": [
      "I was created at 2022-10-04 15:15:34.360450\n",
      "I was created at 2022-10-04 15:15:35.372219\n"
     ]
    }
   ],
   "source": [
    "from datetime import datetime\n",
    "from time import sleep\n",
    "\n",
    "def make_remembering_function():\n",
    "    time_of_creation = datetime.now()\n",
    "    def remembering_function():\n",
    "        print(f\"I was created at {time_of_creation}\")\n",
    "    return remembering_function\n",
    "\n",
    "f1 = make_remembering_function()\n",
    "sleep(1)\n",
    "f2 = make_remembering_function()\n",
    "\n",
    "for f in (f1, f2):\n",
    "    f()"
   ]
  },
  {
   "cell_type": "markdown",
   "metadata": {},
   "source": [
    "Разберем, как этот пример работает. Обратим внимание на функцию `make_remembering_function`.\n",
    "```python\n",
    "def make_remembering_function():\n",
    "    ...\n",
    "    def remembering_function():\n",
    "        ...\n",
    "    return remembering_function\n",
    "```\n",
    "Для начала обратим внимание на то, что внутри тела этой функции объявляется другая функция `remembering_function` и она же возвращается в качестве результата. При каждом вызове функции `make_remembering_function` интерпретатор заново встречает объявление функции `remembering_function`, создаёт функциональный объект и связывает его с именем `remembering_function` в пространстве локальных имен функции `make_remembering_function` (каждому вызову одной и той же функции соответствует своё уникальное пространство локальных имен).  \n",
    "\n",
    "Теперь обратим внимание, что созданная функция `remembering_function` обращается к переменной `time_of_creation`, которая в этой функции не объявляется. \n",
    "```python\n",
    "...\n",
    "time_of_creation = datetime.now()\n",
    "def remembering_function():\n",
    "    print(f\"I was created at {time_of_creation}\")\n",
    "...\n",
    "```\n",
    "Такие переменные считаются свободными переменными и к списку таковых даже можно получить доступ напрямую. "
   ]
  },
  {
   "cell_type": "code",
   "execution_count": 20,
   "metadata": {},
   "outputs": [
    {
     "data": {
      "text/plain": [
       "('time_of_creation',)"
      ]
     },
     "execution_count": 20,
     "metadata": {},
     "output_type": "execute_result"
    }
   ],
   "source": [
    "f1.__code__.co_freevars"
   ]
  },
  {
   "cell_type": "markdown",
   "metadata": {},
   "source": [
    "Связывание свободных переменных с объектов происходит во время вызова функции. Поиск происходит в приоритете \n",
    "1. `nonlocals` --- пространство локальных имен замыкающей функции (в данному примере пространство локальных имен функции `make_remembering_function`);\n",
    "2. `globals` --- глобальное пространство имен модуля, в котором объявлена эта функция;\n",
    "3. `builtins` --- пространство встроенных имен.\n",
    "\n",
    "Искусственно произвести процесс разрешения можно средствами модуля [inspect](https://docs.python.org/3/library/inspect.html), который предназначен для инспекции `python` объектов. Метод [inspect.getclosurevars](https://docs.python.org/3/library/inspect.html#inspect.getclosurevars) разрешает все имена, которые используются в функции, но не объявлены в самой функции, с объектами. "
   ]
  },
  {
   "cell_type": "code",
   "execution_count": 25,
   "metadata": {},
   "outputs": [
    {
     "name": "stdout",
     "output_type": "stream",
     "text": [
      "ClosureVars(nonlocals={'time_of_creation': datetime.datetime(2022, 10, 4, 15, 15, 34, 360450)}, globals={}, builtins={'print': <built-in function print>}, unbound=set())\n",
      "ClosureVars(nonlocals={'time_of_creation': datetime.datetime(2022, 10, 4, 15, 15, 35, 372219)}, globals={}, builtins={'print': <built-in function print>}, unbound=set())\n"
     ]
    }
   ],
   "source": [
    "import inspect\n",
    "\n",
    "print(inspect.getclosurevars(f1))\n",
    "print(inspect.getclosurevars(f2))"
   ]
  },
  {
   "cell_type": "markdown",
   "metadata": {},
   "source": [
    "В данном примере имя `time_of_creation` обнаружено в пространстве имен замыкающей функции, а `print` в пространстве имен встроенных функций.\n",
    "\n",
    "Рассмотрим несколько другой пример."
   ]
  },
  {
   "cell_type": "code",
   "execution_count": 26,
   "metadata": {},
   "outputs": [
    {
     "name": "stdout",
     "output_type": "stream",
     "text": [
      "Hi, Ivan!\n",
      "Hi, Alex!\n"
     ]
    }
   ],
   "source": [
    "def make_greeter_function(name):\n",
    "    def greet():\n",
    "        print(f\"Hi, {name}!\")\n",
    "    return greet\n",
    "\n",
    "\n",
    "ivan = make_greeter_function(\"Ivan\")\n",
    "alex = make_greeter_function(\"Alex\")\n",
    "\n",
    "for f in (ivan, alex):\n",
    "    f()"
   ]
  },
  {
   "cell_type": "markdown",
   "metadata": {},
   "source": [
    "Этот пример работает, основываясь на тех же механизмах, что и предыдущей, так как параметры функции --- локальные переменные функции. В данном примере `name` --- локальная переменная функции `make_greeter_function`, и она же является переменной из локального пространства имен замыкающей функции `greet` (иными словами она `nonlocal` для функции `greet`).  "
   ]
  },
  {
   "cell_type": "markdown",
   "metadata": {},
   "source": [
    "## Опциональные и обязательные параметры функции\n",
    "\n",
    "Как и в `C/C++`, у параметров функции могут быть значения по умолчанию (`default value`). Такие параметры ещё называют **опциональными** (`optional parameter`), т.к. при вызове функции их можно не указывать, а параметры без значений по умолчаний называют **обязательными** (`required parameter`)."
   ]
  },
  {
   "cell_type": "code",
   "execution_count": 35,
   "metadata": {},
   "outputs": [],
   "source": [
    "def say_hi_n_times(name, n=1):\n",
    "    for _ in range(n):\n",
    "        print(f\"Привет, {name}!\")"
   ]
  },
  {
   "cell_type": "markdown",
   "metadata": {},
   "source": [
    "В примере выше объявлена функция `say_hi_n_times` с обязательным параметром `name` и опциональным параметром `n`, у которого значение по умолчанию равняется 1.\n",
    "\n",
    "Вызвать это функцию можно двумя способами:\n",
    "- указав оба аргумента:"
   ]
  },
  {
   "cell_type": "code",
   "execution_count": 38,
   "metadata": {},
   "outputs": [
    {
     "name": "stdout",
     "output_type": "stream",
     "text": [
      "Привет, Иван!\n",
      "Привет, Иван!\n",
      "Привет, Иван!\n"
     ]
    }
   ],
   "source": [
    "say_hi_n_times(\"Иван\", 3)"
   ]
  },
  {
   "cell_type": "markdown",
   "metadata": {},
   "source": [
    "- указав только обязательный параметр `name` и опустив опциональный `n`:"
   ]
  },
  {
   "cell_type": "code",
   "execution_count": 39,
   "metadata": {},
   "outputs": [
    {
     "name": "stdout",
     "output_type": "stream",
     "text": [
      "Привет, Иван!\n"
     ]
    }
   ],
   "source": [
    "say_hi_n_times(\"Иван\")"
   ]
  },
  {
   "cell_type": "markdown",
   "metadata": {},
   "source": [
    "При объявлении функции можно указывать произвольное количество как и обязательных, так и опциональных параметров, но необходимо соблюдать следующее требование: **все обязательные параметры должны быть перечислены ранее всех опциональных**. Т.е. допустим только следующий синтаксис.\n",
    "```python\n",
    "def f(req1, ..., reqN, opt1=v1, ..., optM=vM):\n",
    "    ...\n",
    "```\n",
    "\n",
    "Нарушение этого требования --- синтаксическая ошибка."
   ]
  },
  {
   "cell_type": "code",
   "execution_count": 42,
   "metadata": {},
   "outputs": [
    {
     "ename": "SyntaxError",
     "evalue": "non-default argument follows default argument (380899168.py, line 1)",
     "output_type": "error",
     "traceback": [
      "\u001b[1;36m  Input \u001b[1;32mIn [42]\u001b[1;36m\u001b[0m\n\u001b[1;33m    def f(x=0, y):\u001b[0m\n\u001b[1;37m          ^\u001b[0m\n\u001b[1;31mSyntaxError\u001b[0m\u001b[1;31m:\u001b[0m non-default argument follows default argument\n"
     ]
    }
   ],
   "source": [
    "def f(x=0, y):\n",
    "    pass"
   ]
  },
  {
   "cell_type": "markdown",
   "metadata": {},
   "source": [
    "Про механизм вычисления значения по умолчанию надо помнить две детали. \n",
    "\n",
    "Во-первых, значение по умолчанию вычисляется при объявлении функции."
   ]
  },
  {
   "cell_type": "code",
   "execution_count": 36,
   "metadata": {},
   "outputs": [
    {
     "name": "stdout",
     "output_type": "stream",
     "text": [
      "before\n"
     ]
    }
   ],
   "source": [
    "x = \"before\"\n",
    "\n",
    "def f(arg=x):\n",
    "    print(arg)\n",
    "\n",
    "x = \"after\"\n",
    "f()"
   ]
  },
  {
   "cell_type": "markdown",
   "metadata": {},
   "source": [
    "Здесь `f()` печатает строку \"before\", а не \"after\", потому что на момент, когда интерпретатор читал объявление функции `f` и создавал соответствующий объект, имя `x` ссылалось на объект `5`.\n",
    "\n",
    "Во-вторых, это значение вычисляется всего один раз. Это играет роль, если значение по умолчанию --- изменяемый объект."
   ]
  },
  {
   "cell_type": "code",
   "execution_count": 37,
   "metadata": {},
   "outputs": [
    {
     "name": "stdout",
     "output_type": "stream",
     "text": [
      "[1]\n",
      "[1, 2]\n",
      "[1, 2, 3]\n"
     ]
    }
   ],
   "source": [
    "def f(a, L=[]):\n",
    "    L.append(a)\n",
    "    return L\n",
    "\n",
    "print(f(1))\n",
    "print(f(2))\n",
    "print(f(3))"
   ]
  },
  {
   "cell_type": "markdown",
   "metadata": {},
   "source": [
    "А здесь один и тот же список разделяется между тремя вызовами функции `f`. Этот список создан при объявлении функции и затем используется при всех вызовах функции без второго аргумента."
   ]
  },
  {
   "cell_type": "markdown",
   "metadata": {},
   "source": [
    "## Передача аргументов в функцию по имени\n",
    "\n",
    "Во всех предыдущих примерах аргументы передавались в функцию **позиционно**, т.е. то, в какой параметр попадет значение при передаче его в качестве аргумента, определялось тем, в какой позиции он был указан при вызове функции. В `python` можно передавать аргументы так же и **по именам** параметров, нарушая при этом порядок, в котором параметры перечислены в заголовке вызываемой функции. \n",
    "\n",
    "Для этого при вызове функции указывается имя параметра, затем знак \"`=`\", а затем значение, т.е. если мы хотим передать в функцию `f` значение `value` в качестве параметра с именем `x`, то используется следующий синтаксис. \n",
    "```python\n",
    "f(...,x=value ,...)\n",
    "```  \n",
    "\n",
    "Это сильно увеличивает количество способов передать одни и те же аргументы в функцию. Например, в случае функции с двумя параметрами существует 4 равнозначных способа её вызвать, в том числе:\n",
    "1. передав оба аргумента позиционно;\n",
    "2. передав первый аргумент позиционно, а второй аргумент по имени;\n",
    "3. передав оба аргумента по имени в том же порядке, в котором они перечисленны в определении функции; \n",
    "4. передав оба аргумента по имени в противоположном порядке, чем порядок при котором они перечислены в определении функции."
   ]
  },
  {
   "cell_type": "code",
   "execution_count": 41,
   "metadata": {},
   "outputs": [
    {
     "name": "stdout",
     "output_type": "stream",
     "text": [
      "First parameter: 0. Second parameter: 1\n",
      "First parameter: 0. Second parameter: 1\n",
      "First parameter: 0. Second parameter: 1\n",
      "First parameter: 0. Second parameter: 1\n"
     ]
    }
   ],
   "source": [
    "def f(param1, param2):\n",
    "    print(f\"First parameter: {param1}. Second parameter: {param2}\")\n",
    "\n",
    "f(0, 1)                 # 1\n",
    "f(0, param2=1)          # 2\n",
    "f(param1=0, param2=1)   # 3\n",
    "f(param2=1, param1=0)   # 4\n"
   ]
  },
  {
   "cell_type": "markdown",
   "metadata": {},
   "source": [
    "Как и в случае с опциональными параметрами в определении функции, есть ограничение на передачу параметров по имени: **необходимо сначала указать все параметры, передаваемые позиционно, а только потом все параметры, передаваемые по именам**. \n",
    "\n",
    "```python\n",
    "f(param1, ..., paramN, param(N+1)=value1, ..., param(N+M)=value(N+M))\n",
    "```\n",
    "\n",
    "Нарушение этого правила --- синтаксическая ошибка."
   ]
  },
  {
   "cell_type": "code",
   "execution_count": 22,
   "metadata": {},
   "outputs": [
    {
     "ename": "SyntaxError",
     "evalue": "positional argument follows keyword argument (Temp/ipykernel_11924/1298529622.py, line 1)",
     "output_type": "error",
     "traceback": [
      "\u001b[1;36m  File \u001b[1;32m\"C:\\Users\\qujim\\AppData\\Local\\Temp/ipykernel_11924/1298529622.py\"\u001b[1;36m, line \u001b[1;32m1\u001b[0m\n\u001b[1;33m    f(param1=0, 1)\u001b[0m\n\u001b[1;37m                ^\u001b[0m\n\u001b[1;31mSyntaxError\u001b[0m\u001b[1;31m:\u001b[0m positional argument follows keyword argument\n"
     ]
    }
   ],
   "source": [
    "f(param1=0, 1)"
   ]
  },
  {
   "cell_type": "markdown",
   "metadata": {},
   "source": [
    "### Сугубо позиционные параметры и сугубо именованные параметры\n",
    "\n",
    "Иногда может быть удобно сделать прием каких-то параметров только по позиции, а ряда других параметров только по имени. Для этого внутри списка параметров ставятся символы \"`/`\" и \"`*`\":\n",
    "- все параметры, перечисленные **до** символа \"`/`\" считаются сугубо позиционными, т.е. передавать их можно только по позиции;\n",
    "- все параметры, перечисленные **после** символа \"`*`\" считаются сугубо именованными, т.е. передавать их можно только по имени;\n",
    "\n",
    "Ниже приведена иллюстрация.\n",
    "\n",
    "```python\n",
    "def f(pos1, pos2, /, pos_or_kwd, *, kwd1, kwd2):\n",
    "      -----------    ----------     ----------\n",
    "        |             |                  |\n",
    "        |        По позиции или по имени |\n",
    "        |                                - Только по имени\n",
    "         -- Только по позиции\n",
    "```"
   ]
  },
  {
   "cell_type": "code",
   "execution_count": 43,
   "metadata": {},
   "outputs": [
    {
     "name": "stdout",
     "output_type": "stream",
     "text": [
      "Только по позиции: 0 и 1\n",
      "По позиции или по имени: 2\n",
      "Только по имени: 3 и 4\n",
      "------------------------------\n",
      "Только по позиции: 0 и 1\n",
      "По позиции или по имени: 2\n",
      "Только по имени: 3 и 4\n"
     ]
    }
   ],
   "source": [
    "def f(pos1, pos2, /, pos_or_kwd, *, kwd1, kwd2):\n",
    "    print(f\"Только по позиции: {pos1} и {pos2}\")\n",
    "    print(f\"По позиции или по имени: {pos_or_kwd}\")\n",
    "    print(f\"Только по имени: {kwd1} и {kwd2}\")\n",
    "\n",
    "\n",
    "f(0, 1, 2, kwd1=3, kwd2=4) \n",
    "print(\"-\"*30)\n",
    "f(0, 1, pos_or_kwd=2, kwd1=3, kwd2=4)   "
   ]
  },
  {
   "cell_type": "markdown",
   "metadata": {},
   "source": [
    "Примеры некорректных вызовов функции `f`.\n",
    "```python\n",
    "f(x=0, y=1, pos_or_kwd=2, kwd1=3, kwd2=4)   \n",
    "```\n",
    "Первый два параметра должны быть переданы по позиции.\n",
    "```python\n",
    "f(0, 1, 2, 3, 4)   \n",
    "```\n",
    "Передано 5 позиционных аргумента, а в объявлении всего 3 параметра допускающих передачу по позиции."
   ]
  },
  {
   "cell_type": "markdown",
   "metadata": {},
   "source": [
    "(argskwargs)=\n",
    "## Перехват произвольного количества позиционных параметров.\n",
    "\n",
    "`Python` допускает синтаксис, которые позволяет перехватывать произвольное количество позиционно переданных аргументов. Для этого при объявлении функции указывается параметр с символом \"`*`\" перед ним. Обычно такому параметру дают имя `*args` (сокращение от `arguments`). Ниже приведен пример такого объявления."
   ]
  },
  {
   "cell_type": "code",
   "execution_count": 71,
   "metadata": {},
   "outputs": [],
   "source": [
    "def f(*args):\n",
    "    print(f\"{len(args)=}, {args=}\")"
   ]
  },
  {
   "cell_type": "markdown",
   "metadata": {},
   "source": [
    "Вызывать такую функцию можно передавая произвольное количество параметров."
   ]
  },
  {
   "cell_type": "code",
   "execution_count": 57,
   "metadata": {},
   "outputs": [
    {
     "name": "stdout",
     "output_type": "stream",
     "text": [
      "len(args)=0, args=()\n",
      "len(args)=1, args=(0,)\n",
      "len(args)=2, args=(0, 1)\n",
      "len(args)=11, args=(0, 1, 2, 3, 4, 5, 6, 7, 8, 9, 10)\n"
     ]
    }
   ],
   "source": [
    "f()\n",
    "f(0)\n",
    "f(0, 1)\n",
    "f(0, 1, 2, 3, 4, 5, 6, 7, 8, 9, 10)"
   ]
  },
  {
   "cell_type": "markdown",
   "metadata": {},
   "source": [
    "Все переданные в функцию значения попадают в кортеж, который связывается с именем `args`."
   ]
  },
  {
   "cell_type": "code",
   "execution_count": 58,
   "metadata": {},
   "outputs": [
    {
     "name": "stdout",
     "output_type": "stream",
     "text": [
      "<class 'tuple'>\n",
      "<class 'tuple'>\n",
      "<class 'tuple'>\n"
     ]
    }
   ],
   "source": [
    "def g(*args):\n",
    "    print(type(args))\n",
    "\n",
    "g()\n",
    "g(0)\n",
    "g(0, 1)"
   ]
  },
  {
   "cell_type": "markdown",
   "metadata": {},
   "source": [
    "Полный синтаксис допускает наличие обычных позиционных параметров и одного перехватывающего.\n",
    "\n",
    "```python\n",
    "def f(pos1, ..., posN, *args):\n",
    "    ...\n",
    "```\n",
    "\n",
    "Тогда в перехватывающий параметр попадают все оставшиеся аргументы."
   ]
  },
  {
   "cell_type": "code",
   "execution_count": 70,
   "metadata": {},
   "outputs": [
    {
     "name": "stdout",
     "output_type": "stream",
     "text": [
      "x=0, args=()\n",
      "x=0, args=(1,)\n",
      "x=0, args=(1, 2, 3, 4, 5, 6, 7, 8, 9, 10)\n"
     ]
    }
   ],
   "source": [
    "def f(x, *args):\n",
    "    print(f\"{x=}, {args=}\")\n",
    "\n",
    "f(0)\n",
    "f(0, 1)\n",
    "f(0, 1, 2, 3, 4, 5, 6, 7, 8, 9, 10)"
   ]
  },
  {
   "cell_type": "markdown",
   "metadata": {},
   "source": [
    "Функция [print](https://docs.python.org/3/library/functions.html#print) --- пример функции, объявленной таким образом. Действительно, мы можем напечатать произвольное количество объектов за один вызов функции `print`."
   ]
  },
  {
   "cell_type": "code",
   "execution_count": 59,
   "metadata": {},
   "outputs": [
    {
     "name": "stdout",
     "output_type": "stream",
     "text": [
      "0\n",
      "\n",
      "0 1\n",
      "0 1 2 3 4 5 6 7 8 9 10\n"
     ]
    }
   ],
   "source": [
    "print(0)\n",
    "print()\n",
    "print(0, 1)\n",
    "print(0, 1, 2, 3, 4, 5, 6, 7, 8, 9, 10)"
   ]
  },
  {
   "cell_type": "markdown",
   "metadata": {},
   "source": [
    "Функции [min](https://docs.python.org/3/library/functions.html#min) и [max](https://docs.python.org/3/library/functions.html#print) --- ещё два примера таких функций. Если в любую из них передать два и более аргумента, то результатом будет минимальное или максимальное значение из всех аргументов. "
   ]
  },
  {
   "cell_type": "code",
   "execution_count": 61,
   "metadata": {},
   "outputs": [
    {
     "name": "stdout",
     "output_type": "stream",
     "text": [
      "-1\n",
      "3\n"
     ]
    }
   ],
   "source": [
    "print(min(0, 1, 3, -1, 2))\n",
    "print(max(0, 1, 3, -1, 2))"
   ]
  },
  {
   "cell_type": "markdown",
   "metadata": {},
   "source": [
    "## Распаковка последовательности по позиционным аргументам функции\n",
    "\n",
    "Допустима в некотором смысле и обратная операция к перехвату всех позиционных аргументов, которая позволяет распаковать последовательность произвольной длины по позиционным аргументам функции. Для этого при передаче распаковываемого аргумента перед ним ставится \"`*`\". Если `f` --- вызываемая функция, `s` --- распаковываемая последовательность, то используется следующий синтаксис.\n",
    "```python\n",
    "f(..., *s, ...)\n",
    "```\n",
    "\n",
    "Сравните следующие два вызова функции `print`."
   ]
  },
  {
   "cell_type": "code",
   "execution_count": 64,
   "metadata": {},
   "outputs": [
    {
     "name": "stdout",
     "output_type": "stream",
     "text": [
      "range(0, 3)\n",
      "0 1 2\n"
     ]
    }
   ],
   "source": [
    "r = range(3)\n",
    "\n",
    "print(r)\n",
    "print(*r)"
   ]
  },
  {
   "cell_type": "markdown",
   "metadata": {},
   "source": [
    "Такое синтаксис будет работать с любой последовательностью."
   ]
  },
  {
   "cell_type": "code",
   "execution_count": 68,
   "metadata": {},
   "outputs": [
    {
     "name": "stdout",
     "output_type": "stream",
     "text": [
      "abc\n",
      "a, b, c\n",
      "[0, 1, 2]\n",
      "0 1 2\n"
     ]
    }
   ],
   "source": [
    "s = \"abc\"\n",
    "l = [0, 1, 2]\n",
    "\n",
    "print(s, sep=\", \")\n",
    "print(*s, sep=\", \")\n",
    "\n",
    "print(l)\n",
    "print(*l)"
   ]
  },
  {
   "cell_type": "markdown",
   "metadata": {},
   "source": [
    "Естественно это работает и с пользовательскими функциями. "
   ]
  },
  {
   "cell_type": "code",
   "execution_count": 69,
   "metadata": {},
   "outputs": [
    {
     "name": "stdout",
     "output_type": "stream",
     "text": [
      "x=0, y=1, z=2\n",
      "x=0, y=1, z=2\n"
     ]
    }
   ],
   "source": [
    "def f(x, y, z):\n",
    "    print(f\"{x=}, {y=}, {z=}\")\n",
    "\n",
    "x, y, z = range(3)\n",
    "\n",
    "f(x, y, z)\n",
    "f(*range(3))\n"
   ]
  },
  {
   "cell_type": "markdown",
   "metadata": {},
   "source": [
    "## Перехват произвольного количества переданных по имени аргументов\n",
    "\n",
    "Чтобы перехватить произвольное количество переданных по имени параметров, используется схожий синтаксис, но вместо одного символа \"`*`\" перед перехватывающим параметром, ставится сразу два. Такому параметру обычно дают имя `**kwargs` (сокращение от `key words arguments`).\n",
    "\n",
    "Ниже приведен пример такого объявления."
   ]
  },
  {
   "cell_type": "code",
   "execution_count": 74,
   "metadata": {},
   "outputs": [
    {
     "name": "stdout",
     "output_type": "stream",
     "text": [
      "len(kwargs)=0, kwargs={}\n",
      "len(kwargs)=2, kwargs={'x': 1, 'y': 2}\n",
      "len(kwargs)=3, kwargs={'first_name': 'Иван', 'surname': 'Иванов', 'age': 18}\n"
     ]
    }
   ],
   "source": [
    "def f(**kwargs):\n",
    "    print(f\"{len(kwargs)=}, {kwargs=}\")\n",
    "\n",
    "f()\n",
    "f(x=1, y=2)\n",
    "f(first_name=\"Иван\", surname=\"Иванов\", age=18)"
   ]
  },
  {
   "cell_type": "markdown",
   "metadata": {},
   "source": [
    "В этом случае все переданные аргументы группируются в словаре. В качестве ключей выступают имена параметров, в качестве значений --- переданные аргументы."
   ]
  },
  {
   "cell_type": "code",
   "execution_count": 75,
   "metadata": {},
   "outputs": [
    {
     "name": "stdout",
     "output_type": "stream",
     "text": [
      "<class 'dict'>\n"
     ]
    }
   ],
   "source": [
    "def g(**kwargs):\n",
    "    print(type(kwargs))\n",
    "\n",
    "g()"
   ]
  },
  {
   "cell_type": "markdown",
   "metadata": {},
   "source": [
    "Естественно можно комбинировать перехват позиционных и именованных параметров."
   ]
  },
  {
   "cell_type": "code",
   "execution_count": 76,
   "metadata": {},
   "outputs": [
    {
     "name": "stdout",
     "output_type": "stream",
     "text": [
      "args=('a', 1), kwargs={'letter': 'b', 'digit': 2}\n"
     ]
    }
   ],
   "source": [
    "def f(*args, **kwargs):\n",
    "    print(f\"{args=}, {kwargs=}\")\n",
    "\n",
    "f(\"a\", 1, letter=\"b\", digit=2)"
   ]
  },
  {
   "cell_type": "markdown",
   "metadata": {},
   "source": [
    "## Распаковка словарей по аргументам функции \n",
    "\n",
    "Словари тоже допускают распаковку по параметрам функции, но при распаковке элементы распределяются не по позициям, а по именам: ключи словаря выступают в качестве имён параметров, а значения --- в качестве аргументов. В этом случае при вызове функции перед распаковываемым словарем ставится два символа \"`*`\". Если `f` --- вызываемая функция, а `d` --- распаковываемый словарь, то используется следующий синтаксис. \n",
    "\n",
    "```python\n",
    "f(..., **d, ...)\n",
    "```"
   ]
  },
  {
   "cell_type": "code",
   "execution_count": 1,
   "metadata": {},
   "outputs": [
    {
     "name": "stdout",
     "output_type": "stream",
     "text": [
      "x=1, y=2\n"
     ]
    }
   ],
   "source": [
    "def f(x, y):\n",
    "    print(f\"{x=}, {y=}\")\n",
    "\n",
    "d = {\"x\": 1, \"y\": 2}\n",
    "f(**d)"
   ]
  },
  {
   "cell_type": "markdown",
   "metadata": {},
   "source": [
    "Естественно можно совмещать одновременную распаковку нескольких последовательностей и нескольких словарей, если у функции хватает параметров."
   ]
  },
  {
   "cell_type": "code",
   "execution_count": 85,
   "metadata": {},
   "outputs": [
    {
     "name": "stdout",
     "output_type": "stream",
     "text": [
      "0->1->2->3->4->5 =)"
     ]
    }
   ],
   "source": [
    "l1 = range(3)\n",
    "l2 = [3, 4, 5]\n",
    "d1 = {\"sep\": \"->\"}\n",
    "d2 = {\"end\": \" =)\"}\n",
    "print(*l1, *l2, **d1, **d2)"
   ]
  }
 ],
 "metadata": {
  "kernelspec": {
   "display_name": "Python 3.8.10 ('venv': venv)",
   "language": "python",
   "name": "python3"
  },
  "language_info": {
   "codemirror_mode": {
    "name": "ipython",
    "version": 3
   },
   "file_extension": ".py",
   "mimetype": "text/x-python",
   "name": "python",
   "nbconvert_exporter": "python",
   "pygments_lexer": "ipython3",
   "version": "3.8.10"
  },
  "vscode": {
   "interpreter": {
    "hash": "eea3ef54c04064aa17c056cc2578c78db8b44278034b77b7225a3166c34cea02"
   }
  }
 },
 "nbformat": 4,
 "nbformat_minor": 2
}
