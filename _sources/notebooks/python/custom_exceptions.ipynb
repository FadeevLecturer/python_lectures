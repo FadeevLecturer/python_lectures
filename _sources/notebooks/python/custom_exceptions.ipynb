{
 "cells": [
  {
   "cell_type": "markdown",
   "metadata": {},
   "source": [
    "# Пользовательские исключения\n",
    "\n",
    "## Создание простейшего пользовательского исключения\n",
    "\n",
    "Чтобы создать пользовательское исключение, необходимо всего лишь унаследовать от класса `Exception`. Для большинства целей этого достаточно и тело класса оставляют пустым."
   ]
  },
  {
   "cell_type": "code",
   "execution_count": 16,
   "metadata": {},
   "outputs": [
    {
     "ename": "MyException",
     "evalue": "Моё первое пользовательское исключение.",
     "output_type": "error",
     "traceback": [
      "\u001b[1;31m---------------------------------------------------------------------------\u001b[0m",
      "\u001b[1;31mMyException\u001b[0m                               Traceback (most recent call last)",
      "\u001b[1;32m~\\AppData\\Local\\Temp/ipykernel_16112/91365735.py\u001b[0m in \u001b[0;36m<module>\u001b[1;34m\u001b[0m\n\u001b[0;32m      2\u001b[0m     \u001b[1;32mpass\u001b[0m\u001b[1;33m\u001b[0m\u001b[1;33m\u001b[0m\u001b[0m\n\u001b[0;32m      3\u001b[0m \u001b[1;33m\u001b[0m\u001b[0m\n\u001b[1;32m----> 4\u001b[1;33m \u001b[1;32mraise\u001b[0m \u001b[0mMyException\u001b[0m\u001b[1;33m(\u001b[0m\u001b[1;34m\"Моё первое пользовательское исключение.\"\u001b[0m\u001b[1;33m)\u001b[0m\u001b[1;33m\u001b[0m\u001b[1;33m\u001b[0m\u001b[0m\n\u001b[0m",
      "\u001b[1;31mMyException\u001b[0m: Моё первое пользовательское исключение."
     ]
    }
   ],
   "source": [
    "class MyException(Exception):\n",
    "    pass\n",
    "\n",
    "raise MyException(\"Моё первое пользовательское исключение.\")"
   ]
  },
  {
   "cell_type": "markdown",
   "metadata": {},
   "source": [
    "В примере создан типа исключений `MyException`, а сразу после оно возбуждено, что привело к появлению сообщения об ошибке, т.к. оно не обработано.\n",
    "Обрабатывать исключения типа `MyException` можно, как и любые другие."
   ]
  },
  {
   "cell_type": "code",
   "execution_count": 15,
   "metadata": {},
   "outputs": [
    {
     "name": "stdout",
     "output_type": "stream",
     "text": [
      "Моё пользовательское исключение!\n"
     ]
    }
   ],
   "source": [
    "try:\n",
    "    raise MyException(\"Моё пользовательское исключение!\")\n",
    "except MyException as msg:\n",
    "    print(msg)"
   ]
  },
  {
   "cell_type": "markdown",
   "metadata": {},
   "source": [
    "Т.к. `MyException` наследует от `Exception`, то проверка на него тоже будет проходить."
   ]
  },
  {
   "cell_type": "code",
   "execution_count": 19,
   "metadata": {},
   "outputs": [
    {
     "name": "stdout",
     "output_type": "stream",
     "text": [
      "Перехвачено какое-то исключение с следующим сообщением:\n",
      "Моё пользовательское исключение!\n"
     ]
    }
   ],
   "source": [
    "try:\n",
    "    raise MyException(\"Моё пользовательское исключение!\")\n",
    "except Exception as msg:\n",
    "    print(f\"Перехвачено какое-то исключение со следующим сообщением:\\n{msg}\")"
   ]
  },
  {
   "cell_type": "markdown",
   "metadata": {},
   "source": [
    "## Более сложный случай\n",
    "\n",
    "Исключения являются полноценными классами, что позволяет добавлять им атрибуты, объявлять методы и т.п. Это можно использовать, чтобы вместе с возбуждаемым исключением передавать больше информации, но обычно исключения все же оставляют простыми.\n",
    "\n",
    "В качестве примера создадим исключение, которое запоминает время, когда оно было возбужденно."
   ]
  },
  {
   "cell_type": "code",
   "execution_count": 35,
   "metadata": {},
   "outputs": [],
   "source": [
    "from time import ctime\n",
    "\n",
    "class MyException(Exception):\n",
    "    def __init__(self, *args, **kwargs):\n",
    "        super().__init__(*args, **kwargs)\n",
    "        self.time = ctime()"
   ]
  },
  {
   "cell_type": "markdown",
   "metadata": {},
   "source": [
    "Теперь в обработчике событий можно получить доступ к атрибуту `time`. "
   ]
  },
  {
   "cell_type": "code",
   "execution_count": null,
   "metadata": {},
   "outputs": [],
   "source": [
    "try:\n",
    "    raise MyException(\"Какое-то сообщение!\")\n",
    "except MyException as e:\n",
    "    print(f'Перехвачено исключение типа MyException со следующим сообщением:\\n\"{e}\"')\n",
    "    print(f\"Время возбуждения исключения: {e.time}.\")"
   ]
  },
  {
   "cell_type": "markdown",
   "metadata": {},
   "source": [
    "В качестве второго примера приведем класс исключений, который подсчитывает количество раз, в программе возбуждались исключения данного типа."
   ]
  },
  {
   "cell_type": "code",
   "execution_count": 36,
   "metadata": {},
   "outputs": [
    {
     "name": "stdout",
     "output_type": "stream",
     "text": [
      "Подсчитывающее исключение возбужденно.\n",
      "Подсчитывающее исключение возбужденно.\n",
      "Подсчитывающее исключение возбужденно.\n",
      "Подсчитывающее исключение было возбужденно 3 раз!\n"
     ]
    }
   ],
   "source": [
    "class CountingException(Exception):\n",
    "    times_raised = 0 \n",
    "    def __init__(self, *args, **kwargs):\n",
    "        super().__init__(*args, **kwargs)\n",
    "        CountingException.times_raised += 1\n",
    "\n",
    "for i in range(3):\n",
    "    try:\n",
    "        raise CountingException(\"Подсчитывающее исключение возбужденно.\")\n",
    "    except CountingException as msg:\n",
    "        print(msg)\n",
    "\n",
    "print(f\"Подсчитывающее исключение было возбужденно {CountingException.times_raised} раз!\")"
   ]
  },
  {
   "cell_type": "markdown",
   "metadata": {},
   "source": [
    "## Пример\n",
    "\n",
    "В качестве примера рассмотрим исключение [IndexError](https://docs.python.org/3/library/exceptions.html#IndexError), которое в частности возбуждается при попытке обращения по индексу за пределы списка. Предположим, что мы хотим знать не только, что мы обратились за пределы массива, но также и в какую конкретно сторону мы промахнулись: ниже минимального допустимого индекса или выше максимального.\n",
    "\n",
    "Для этого определим два пользовательских типа исключений `LowIndexError` и `HighIndexError`."
   ]
  },
  {
   "cell_type": "code",
   "execution_count": 43,
   "metadata": {},
   "outputs": [],
   "source": [
    "class LowIndexError(IndexError):\n",
    "    def __init__(self, index, size):\n",
    "        message = f\"Lowest acceptable index is {-size}, but {index} was given.\"\n",
    "        super().__init__(message)\n",
    "\n",
    "class HighIndexError(IndexError):\n",
    "    def __init__(self, index, size):\n",
    "        message = f\"Highest acceptable index is {size - 1}, but {index} was given.\"\n",
    "        super().__init__(message)"
   ]
  },
  {
   "cell_type": "markdown",
   "metadata": {},
   "source": [
    "Т.к. обе этих ошибки сигнализируют об ошибке, связанной с индексом, то логично наследовать от `IndexError`. Конструктор перегружен таким образом, чтобы он принимал индекс и размер коллекции и формировал сообщение с упоминанием значений этих параметров.\n",
    "\n",
    "Теперь объявим пользовательский класс `MyList`, который инкапсулирует в себе список своих элементов и делегирует ему все свои методы, но переопределяем доступ к элементам списка (метод `__getitem__`) таким образом, что он бросает исключение `LowIndexError`, если индекс ниже минимального, исключение `HighIndexError` если индекс выше максимального.\n",
    "\n",
    "```{note}\n",
    "Вообще говоря, такая перегрузка метода `__getitem__` сломает использование срезов, но в целях простоты оставим срезы за скобками.\n",
    "```"
   ]
  },
  {
   "cell_type": "code",
   "execution_count": 51,
   "metadata": {},
   "outputs": [],
   "source": [
    "class MyList:\n",
    "    def __init__(self, *elements):\n",
    "        self._elements = list(elements)\n",
    "\n",
    "    def __getitem__(self, k):\n",
    "        n = len(self._elements)\n",
    "        if k < -n:\n",
    "            raise LowIndexError(k, n)\n",
    "        elif k < n:\n",
    "            return self._elements[k]\n",
    "        else:\n",
    "            raise HighIndexError(k, n)\n",
    "    \n",
    "    def __getattr__(self, attr):\n",
    "        return getattr(self._elements, attr)\n",
    "\n",
    "l = MyList(1, 2, 3)"
   ]
  },
  {
   "cell_type": "markdown",
   "metadata": {},
   "source": [
    "Теперь обращение к элементу со слишком низким индексом вызовет одну ошибку."
   ]
  },
  {
   "cell_type": "code",
   "execution_count": 52,
   "metadata": {},
   "outputs": [
    {
     "ename": "LowIndexError",
     "evalue": "Lowest acceptable index is -3, but -4 was given.",
     "output_type": "error",
     "traceback": [
      "\u001b[1;31m---------------------------------------------------------------------------\u001b[0m",
      "\u001b[1;31mLowIndexError\u001b[0m                             Traceback (most recent call last)",
      "\u001b[1;32m~\\AppData\\Local\\Temp/ipykernel_16112/2775217345.py\u001b[0m in \u001b[0;36m<module>\u001b[1;34m\u001b[0m\n\u001b[1;32m----> 1\u001b[1;33m \u001b[0ml\u001b[0m\u001b[1;33m[\u001b[0m\u001b[1;33m-\u001b[0m\u001b[1;36m4\u001b[0m\u001b[1;33m]\u001b[0m\u001b[1;33m\u001b[0m\u001b[1;33m\u001b[0m\u001b[0m\n\u001b[0m",
      "\u001b[1;32m~\\AppData\\Local\\Temp/ipykernel_16112/1588382805.py\u001b[0m in \u001b[0;36m__getitem__\u001b[1;34m(self, k)\u001b[0m\n\u001b[0;32m      6\u001b[0m         \u001b[0mn\u001b[0m \u001b[1;33m=\u001b[0m \u001b[0mlen\u001b[0m\u001b[1;33m(\u001b[0m\u001b[0mself\u001b[0m\u001b[1;33m.\u001b[0m\u001b[0m_elements\u001b[0m\u001b[1;33m)\u001b[0m\u001b[1;33m\u001b[0m\u001b[1;33m\u001b[0m\u001b[0m\n\u001b[0;32m      7\u001b[0m         \u001b[1;32mif\u001b[0m \u001b[0mk\u001b[0m \u001b[1;33m<\u001b[0m \u001b[1;33m-\u001b[0m\u001b[0mn\u001b[0m\u001b[1;33m:\u001b[0m\u001b[1;33m\u001b[0m\u001b[1;33m\u001b[0m\u001b[0m\n\u001b[1;32m----> 8\u001b[1;33m             \u001b[1;32mraise\u001b[0m \u001b[0mLowIndexError\u001b[0m\u001b[1;33m(\u001b[0m\u001b[0mk\u001b[0m\u001b[1;33m,\u001b[0m \u001b[0mn\u001b[0m\u001b[1;33m)\u001b[0m\u001b[1;33m\u001b[0m\u001b[1;33m\u001b[0m\u001b[0m\n\u001b[0m\u001b[0;32m      9\u001b[0m         \u001b[1;32melif\u001b[0m \u001b[0mk\u001b[0m \u001b[1;33m<\u001b[0m \u001b[0mn\u001b[0m\u001b[1;33m:\u001b[0m\u001b[1;33m\u001b[0m\u001b[1;33m\u001b[0m\u001b[0m\n\u001b[0;32m     10\u001b[0m             \u001b[1;32mreturn\u001b[0m \u001b[0mself\u001b[0m\u001b[1;33m.\u001b[0m\u001b[0m_elements\u001b[0m\u001b[1;33m[\u001b[0m\u001b[0mk\u001b[0m\u001b[1;33m]\u001b[0m\u001b[1;33m\u001b[0m\u001b[1;33m\u001b[0m\u001b[0m\n",
      "\u001b[1;31mLowIndexError\u001b[0m: Lowest acceptable index is -3, but -4 was given."
     ]
    }
   ],
   "source": [
    "l[-4]"
   ]
  },
  {
   "cell_type": "markdown",
   "metadata": {},
   "source": [
    "А обращение к элементу со слишком высоким индексом  --- другую."
   ]
  },
  {
   "cell_type": "code",
   "execution_count": 54,
   "metadata": {},
   "outputs": [
    {
     "ename": "HighIndexError",
     "evalue": "Highest acceptable index is 2, but 3 was given.",
     "output_type": "error",
     "traceback": [
      "\u001b[1;31m---------------------------------------------------------------------------\u001b[0m",
      "\u001b[1;31mHighIndexError\u001b[0m                            Traceback (most recent call last)",
      "\u001b[1;32m~\\AppData\\Local\\Temp/ipykernel_16112/219327365.py\u001b[0m in \u001b[0;36m<module>\u001b[1;34m\u001b[0m\n\u001b[1;32m----> 1\u001b[1;33m \u001b[0ml\u001b[0m\u001b[1;33m[\u001b[0m\u001b[1;36m3\u001b[0m\u001b[1;33m]\u001b[0m\u001b[1;33m\u001b[0m\u001b[1;33m\u001b[0m\u001b[0m\n\u001b[0m",
      "\u001b[1;32m~\\AppData\\Local\\Temp/ipykernel_16112/1588382805.py\u001b[0m in \u001b[0;36m__getitem__\u001b[1;34m(self, k)\u001b[0m\n\u001b[0;32m     10\u001b[0m             \u001b[1;32mreturn\u001b[0m \u001b[0mself\u001b[0m\u001b[1;33m.\u001b[0m\u001b[0m_elements\u001b[0m\u001b[1;33m[\u001b[0m\u001b[0mk\u001b[0m\u001b[1;33m]\u001b[0m\u001b[1;33m\u001b[0m\u001b[1;33m\u001b[0m\u001b[0m\n\u001b[0;32m     11\u001b[0m         \u001b[1;32melse\u001b[0m\u001b[1;33m:\u001b[0m\u001b[1;33m\u001b[0m\u001b[1;33m\u001b[0m\u001b[0m\n\u001b[1;32m---> 12\u001b[1;33m             \u001b[1;32mraise\u001b[0m \u001b[0mHighIndexError\u001b[0m\u001b[1;33m(\u001b[0m\u001b[0mk\u001b[0m\u001b[1;33m,\u001b[0m \u001b[0mn\u001b[0m\u001b[1;33m)\u001b[0m\u001b[1;33m\u001b[0m\u001b[1;33m\u001b[0m\u001b[0m\n\u001b[0m\u001b[0;32m     13\u001b[0m \u001b[1;33m\u001b[0m\u001b[0m\n\u001b[0;32m     14\u001b[0m     \u001b[1;32mdef\u001b[0m \u001b[0m__getattr__\u001b[0m\u001b[1;33m(\u001b[0m\u001b[0mself\u001b[0m\u001b[1;33m,\u001b[0m \u001b[0mattr\u001b[0m\u001b[1;33m)\u001b[0m\u001b[1;33m:\u001b[0m\u001b[1;33m\u001b[0m\u001b[1;33m\u001b[0m\u001b[0m\n",
      "\u001b[1;31mHighIndexError\u001b[0m: Highest acceptable index is 2, but 3 was given."
     ]
    }
   ],
   "source": [
    "l[3]"
   ]
  },
  {
   "cell_type": "markdown",
   "metadata": {},
   "source": [
    "Обе из них можно обработать через `IndexError`."
   ]
  },
  {
   "cell_type": "code",
   "execution_count": 55,
   "metadata": {},
   "outputs": [
    {
     "name": "stdout",
     "output_type": "stream",
     "text": [
      "Lowest acceptable index is -3, but -4 was given.\n"
     ]
    }
   ],
   "source": [
    "try:\n",
    "    l[-4]\n",
    "except IndexError as msg:\n",
    "    print(msg) "
   ]
  }
 ],
 "metadata": {
  "interpreter": {
   "hash": "cd49b4596bae9c980ff74fdf93e8fe80e447435ae307c062fad6c4f9ef2eb47f"
  },
  "kernelspec": {
   "display_name": "Python 3.8.10 ('venv': venv)",
   "language": "python",
   "name": "python3"
  },
  "language_info": {
   "codemirror_mode": {
    "name": "ipython",
    "version": 3
   },
   "file_extension": ".py",
   "mimetype": "text/x-python",
   "name": "python",
   "nbconvert_exporter": "python",
   "pygments_lexer": "ipython3",
   "version": "3.8.10"
  },
  "orig_nbformat": 4
 },
 "nbformat": 4,
 "nbformat_minor": 2
}
