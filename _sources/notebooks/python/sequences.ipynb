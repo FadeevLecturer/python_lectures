{
 "cells": [
  {
   "attachments": {},
   "cell_type": "markdown",
   "metadata": {},
   "source": [
    "# Последовательности: списки, кортежи и строки\n",
    "\n",
    "## Последовательности\n",
    "\n",
    "Все встроенные коллекции, перечисленные ниже, являются **последовательностями** ([sequence types](https://docs.python.org/3/library/stdtypes.html#sequence-types-list-tuple-range)): \n",
    "- [list](https://docs.python.org/3/library/stdtypes.html#lists) --- списки;\n",
    "- [tuple](https://docs.python.org/3/library/stdtypes.html#tuples) --- кортежи;\n",
    "- [range](https://docs.python.org/3/library/stdtypes.html#ranges) --- диапазоны;\n",
    "- [str](https://docs.python.org/3/library/stdtypes.html#str) --- строки;\n",
    "- [bytearray](https://docs.python.org/3/library/stdtypes.html#bytearray) и [bytes](https://docs.python.org/3/library/stdtypes.html#bytes) --- изменяемый и неизменяемый  массивы байтов.\n",
    "\n",
    "```{figure} /_static/lecture_specific/types/sequencies.svg\n",
    "```"
   ]
  },
  {
   "cell_type": "code",
   "execution_count": 12,
   "metadata": {},
   "outputs": [
    {
     "name": "stdout",
     "output_type": "stream",
     "text": [
      "True\n",
      "True\n",
      "True\n",
      "True\n"
     ]
    }
   ],
   "source": [
    "from collections.abc import Sequence\n",
    "\n",
    "print(issubclass(list, Sequence))\n",
    "print(issubclass(tuple, Sequence))\n",
    "print(issubclass(range, Sequence))\n",
    "print(issubclass(str, Sequence))"
   ]
  },
  {
   "cell_type": "markdown",
   "metadata": {},
   "source": [
    "\n",
    "\n",
    "Коллекция является последовательностью, если элементы этой коллекции упорядоченны. Следствием этого свойства является возможность индексации последовательности по порядковому номеру элемента (по смещению, по целочисленному индексу), т.е. у любой последовательности можно спросить её $i$-й элемент. \n",
    "\n",
    "Более формально это значит, что если `s` --- объект-последовательность, `i`, `j` и `k` --- индексы (целые числа), то доступные следующие операции. \n",
    "\n",
    "\n",
    "| Операция | Описание    |\n",
    "| :---    |    ---:     |\n",
    "|`s[i]` | `i`-й элемент последовательности `s`. |\n",
    "|`s[i:j]`| Срез `s` от `i` включительно до `j` не включительно. |\n",
    "|`s[i:j:k]`| Срез `s` от `i` включительно до `j` не включительно c шагом `k`. |\n",
    "\n",
    "```{note}\n",
    "Нас пока интересует только первая строка этой таблицы. Про срезы речь пойдет позже.\n",
    "```\n",
    "\n",
    "\n",
    "При этом индексация последовательностей в `python` всегда начинается с 0 ([sero based](https://en.wikipedia.org/wiki/Zero-based_numbering)).\n",
    "\n",
    "## Общие для последовательностей операции\n",
    "\n",
    "Следующие операции можно совершать почти над любыми последовательностями (некоторые из них не поддерживаются `range`).\n",
    "\n",
    "| Операция | Описание    |\n",
    "| :---    |    ---:     |\n",
    "|`len(s)`| Длина `s`. |\n",
    "|`x in s` | `True`, если в `s` есть элемент равный `x`. `False` иначе. |\n",
    "|`x not in s`| Отрицание `x in s`. |\n",
    "| `s + t` | Конкатенация `s` и `t`. Новый объект.|\n",
    "|`s * n` или `n * s`| Эквивалентно добавлению `s` к самому себе `n` раз. Новый объект. |\n",
    "|`min(s)`| Наименьший элемент в `s`.|\n",
    "|`max(s)`| Наибольший элемент в `s`.|\n",
    "|`s.index(x[, start[, end]])`| Индекс первого совпадения `x` с элементом в `s`. Бросает ошибку, если элемента нет в `x`. (В срезе `s[start:end]`, если метод вызван с `start` и/или `end`, но возвращаемое значение все равно отсчитывается от начала `s`, а не от `start`). |\n",
    "|`s.count(x)`| Количество раз `x` встречается в `s`. |"
   ]
  },
  {
   "attachments": {},
   "cell_type": "markdown",
   "metadata": {},
   "source": [
    "### Принадлежность контейнеру\n",
    "\n",
    "Т.к. все последовательности являются контейнерами (обратное неверно), то у любой последовательности `sequence` можно выяснять, содержит ли она объект `x` следующим синтаксисом.\n",
    "```python\n",
    "x in sequence\n",
    "```\n",
    "Вычисление этого выражение должно вернуть значение `True`, если `x` содержится в `sequence`, и значение `False` иначе.\n",
    "\n",
    "Код в ячейке ниже удостоверяет, что символ `\"a\"` присутствует в строке `\"abc\"`, а символ `\"x\"` --- нет."
   ]
  },
  {
   "cell_type": "code",
   "execution_count": 9,
   "metadata": {},
   "outputs": [
    {
     "name": "stdout",
     "output_type": "stream",
     "text": [
      "True\n",
      "False\n"
     ]
    }
   ],
   "source": [
    "s = \"abc\"\n",
    "print(\"a\" in s)\n",
    "print(\"z\" in s)"
   ]
  },
  {
   "cell_type": "markdown",
   "metadata": {},
   "source": [
    "Для строк операция проверки на принадлежность работает несколько шире, чем для остальных контейнеров: можно проверять наличие сразу подстроки."
   ]
  },
  {
   "cell_type": "code",
   "execution_count": 52,
   "metadata": {},
   "outputs": [
    {
     "name": "stdout",
     "output_type": "stream",
     "text": [
      "True\n",
      "False\n"
     ]
    }
   ],
   "source": [
    "print(\"ab\" in s)\n",
    "print(\"ac\" in s)"
   ]
  },
  {
   "attachments": {},
   "cell_type": "markdown",
   "metadata": {},
   "source": [
    "Вместо того чтобы отрицать результат проверки на принадлежность, можно проверять на непринадлежность сразу. "
   ]
  },
  {
   "cell_type": "code",
   "execution_count": 53,
   "metadata": {},
   "outputs": [
    {
     "name": "stdout",
     "output_type": "stream",
     "text": [
      "True\n"
     ]
    }
   ],
   "source": [
    "print(\"z\" not in s)"
   ]
  },
  {
   "cell_type": "markdown",
   "metadata": {},
   "source": [
    "У последовательностей можно спрашивать более содержательные вопросы, чем просто факт наличия элемента в контейнере. Например, методом `index` можно узнать индекс первого вхождения элемента `x` в последовательность `s`."
   ]
  },
  {
   "cell_type": "code",
   "execution_count": 54,
   "metadata": {},
   "outputs": [
    {
     "name": "stdout",
     "output_type": "stream",
     "text": [
      "4 o\n"
     ]
    }
   ],
   "source": [
    "s = \"Hello, World!\"\n",
    "i = s.index(\"o\")\n",
    "print(i, s[i])"
   ]
  },
  {
   "cell_type": "markdown",
   "metadata": {},
   "source": [
    "Методом `count` можно посчитать количество вхождений элемента `x` в последовательность `s`."
   ]
  },
  {
   "cell_type": "code",
   "execution_count": 55,
   "metadata": {},
   "outputs": [
    {
     "name": "stdout",
     "output_type": "stream",
     "text": [
      "2\n"
     ]
    }
   ],
   "source": [
    "print(s.count(\"o\"))"
   ]
  },
  {
   "cell_type": "markdown",
   "metadata": {},
   "source": [
    "### Сложение и умножение последовательностей\n",
    "\n",
    "Последовательности одного вида (кроме `range`) можно конкатенировать знаком плюс."
   ]
  },
  {
   "cell_type": "code",
   "execution_count": 56,
   "metadata": {},
   "outputs": [
    {
     "name": "stdout",
     "output_type": "stream",
     "text": [
      "abcdefghijklmnopqrstuvwxyzABCDEFGHIJKLMNOPQRSTUVWXYZ\n"
     ]
    }
   ],
   "source": [
    "from string import ascii_lowercase, ascii_uppercase\n",
    "\n",
    "print(ascii_lowercase + ascii_uppercase)"
   ]
  },
  {
   "cell_type": "markdown",
   "metadata": {},
   "source": [
    "Умножение последовательности `s` (кроме `range`) на целое число `n` эквивалентно конкатенации `s` с самой собой `n` раз. "
   ]
  },
  {
   "cell_type": "code",
   "execution_count": 10,
   "metadata": {},
   "outputs": [
    {
     "name": "stdout",
     "output_type": "stream",
     "text": [
      "I will not waste chalk.\n",
      "I will not waste chalk.\n",
      "I will not waste chalk.\n",
      "I will not waste chalk.\n",
      "I will not waste chalk.\n",
      "\n"
     ]
    }
   ],
   "source": [
    "x = \"I will not waste chalk.\\n\"\n",
    "print(x*5)"
   ]
  },
  {
   "cell_type": "markdown",
   "metadata": {},
   "source": [
    "### Упорядочивание элементов последовательности\n",
    "\n",
    "Операции в этом подразделе поддерживаются, вообще говоря, всеми итерируемыми объектами, т.е. контейнерами, по элементам которого можно пробежаться в каком-то порядке. Все последовательности являются итерируемыми объектами, т.к. по их элементам можно пробежаться хотя бы в порядке, в котором они пронумерованы.\n",
    "\n",
    "Если элементы итерируемого объекта однородны, т.е. их можно сравнить друг с другом на предмет большинства и равенства, то их можно сортировать, искать минимальное и максимальное значение в них.\n",
    "\n",
    "Например, строки в `python` упорядочиваются в [лексикографическом порядке](https://ru.wikipedia.org/wiki/%D0%9B%D0%B5%D0%BA%D1%81%D0%B8%D0%BA%D0%BE%D0%B3%D1%80%D0%B0%D1%84%D0%B8%D1%87%D0%B5%D1%81%D0%BA%D0%B8%D0%B9_%D0%BF%D0%BE%D1%80%D1%8F%D0%B4%D0%BE%D0%BA) (как в словаре)."
   ]
  },
  {
   "cell_type": "code",
   "execution_count": 58,
   "metadata": {},
   "outputs": [
    {
     "name": "stdout",
     "output_type": "stream",
     "text": [
      "True\n",
      "True\n"
     ]
    }
   ],
   "source": [
    "print(\"A\" < \"Z\")\n",
    "print(\"A\" < \"a\")"
   ]
  },
  {
   "cell_type": "markdown",
   "metadata": {},
   "source": [
    "Встроенные функции [min](https://docs.python.org/3/library/functions.html#min) и [max](https://docs.python.org/3/library/functions.html#max) находят минимальный и максимальный элементы итерируемого объекта соответственно. \n",
    "\n",
    "Код в ячейке удостоверяет, что буква `\"h\"` идет раньше всех в алфавите среди всех букв слова `\"python\"`, а буква `\"y\"` --- последней."
   ]
  },
  {
   "cell_type": "code",
   "execution_count": 59,
   "metadata": {},
   "outputs": [
    {
     "name": "stdout",
     "output_type": "stream",
     "text": [
      "h y\n"
     ]
    }
   ],
   "source": [
    "x = \"python\"\n",
    "print(min(x), max(x))"
   ]
  },
  {
   "cell_type": "markdown",
   "metadata": {},
   "source": [
    "Встроенная функция [sorted](https://docs.python.org/3/library/functions.html#sorted) принимает на вход итерируемый объект и возвращает **список** его элементов в отсортированном порядке."
   ]
  },
  {
   "cell_type": "code",
   "execution_count": 60,
   "metadata": {},
   "outputs": [
    {
     "name": "stdout",
     "output_type": "stream",
     "text": [
      "['h', 'n', 'o', 'p', 't', 'y']\n"
     ]
    }
   ],
   "source": [
    "print(sorted(x))"
   ]
  },
  {
   "cell_type": "markdown",
   "metadata": {},
   "source": [
    "Опциональный именованный параметр `reverse` позволяет сортировать в обратном порядке."
   ]
  },
  {
   "cell_type": "code",
   "execution_count": 61,
   "metadata": {},
   "outputs": [
    {
     "name": "stdout",
     "output_type": "stream",
     "text": [
      "['y', 't', 'p', 'o', 'n', 'h']\n"
     ]
    }
   ],
   "source": [
    "print(sorted(x, reverse=True))"
   ]
  },
  {
   "attachments": {},
   "cell_type": "markdown",
   "metadata": {},
   "source": [
    "```{note}\n",
    "На самом деле `python` упорядочивает символы согласно их [unicode кодам](https://en.wikipedia.org/wiki/Code_point). В таблицу символов `unicode` входят, в том числе и [emoji](https://home.unicode.org/emoji/about-emoji/), что позволяет средствами `python` ответить на извечный вопрос: \"Что появилось раньше, яйцо или курица?\".\n",
    "```"
   ]
  },
  {
   "cell_type": "code",
   "execution_count": 62,
   "metadata": {},
   "outputs": [
    {
     "name": "stdout",
     "output_type": "stream",
     "text": [
      "🐔 🥚\n",
      "['🐔', '🥚']\n"
     ]
    }
   ],
   "source": [
    "chicken = chr(0x1f414)\n",
    "egg = chr(0x1f95a)\n",
    "print(chicken, egg)\n",
    "print(sorted([egg, chicken]))"
   ]
  },
  {
   "attachments": {},
   "cell_type": "markdown",
   "metadata": {},
   "source": [
    "Здесь встроенная функция [chr](https://docs.python.org/3/library/functions.html#chr) делает символ из его `unicode` кода, который в примере выше задаётся в шестнадцатеричной системе счисления, чем и объясняется наличие префикса `0x` и цифр `abcdef` в числе. Встроенная функция [ord](https://docs.python.org/3/library/functions.html#ord) совершает обратную операцию, т.е. принимает на вход символ и возвращает его код.\n",
    "\n",
    "## Списки. `list`\n",
    "\n",
    "Под капотом списки реализованы в виде [динамического массива](https://ru.wikipedia.org/wiki/%D0%94%D0%B8%D0%BD%D0%B0%D0%BC%D0%B8%D1%87%D0%B5%D1%81%D0%BA%D0%B8%D0%B9_%D0%BC%D0%B0%D1%81%D1%81%D0%B8%D0%B2) (т.е. похожего на [std::vector](https://en.cppreference.com/w/cpp/container/vector) массива, размер которого может изменяться) указателей на его элементы. Ссылки могут вести на объекты произвольных типов, как и в случае обычных имён в программе. \n",
    "\n",
    "Ниже создаётся список и схематично приводится его устройство."
   ]
  },
  {
   "cell_type": "code",
   "execution_count": 2,
   "metadata": {},
   "outputs": [
    {
     "name": "stdout",
     "output_type": "stream",
     "text": [
      "[42, 3.14, 'abc']\n"
     ]
    }
   ],
   "source": [
    "a_list = [42, 3.14, \"abc\"]\n",
    "print(a_list)"
   ]
  },
  {
   "cell_type": "markdown",
   "metadata": {},
   "source": [
    "```{figure} /_static/lecture_specific/types/list.svg\n",
    "```\n",
    "\n",
    "Создать список можно несколькими способами:\n",
    "- Парой квадратных скобок, чтобы создать пустой список: `[]`;"
   ]
  },
  {
   "cell_type": "code",
   "execution_count": 64,
   "metadata": {},
   "outputs": [
    {
     "name": "stdout",
     "output_type": "stream",
     "text": [
      "[]\n"
     ]
    }
   ],
   "source": [
    "empty_list = []\n",
    "print(empty_list)"
   ]
  },
  {
   "cell_type": "markdown",
   "metadata": {},
   "source": [
    "- Перечислив элементы списка явно внутри пары квадратных скобок и используя запятую как разделитель  элементов: `[a]`, `[a, b, c]`;"
   ]
  },
  {
   "cell_type": "code",
   "execution_count": 65,
   "metadata": {},
   "outputs": [
    {
     "name": "stdout",
     "output_type": "stream",
     "text": [
      "[42] ['Alex', 'Alice', 'John']\n"
     ]
    }
   ],
   "source": [
    "singleton_list = [42]\n",
    "students = [\"Alex\", \"Alice\", \"John\"]\n",
    "print(singleton_list, students)"
   ]
  },
  {
   "cell_type": "markdown",
   "metadata": {},
   "source": [
    "- Используя конструктор [list](https://docs.python.org/3/library/functions.html#func-list), чтобы создать пустой список или список из элементов итерируемого объекта `iterable`: `list()` или `list(iterable)`;"
   ]
  },
  {
   "cell_type": "code",
   "execution_count": 66,
   "metadata": {},
   "outputs": [
    {
     "name": "stdout",
     "output_type": "stream",
     "text": [
      "['a', 'b', 'c', 'd', 'e', 'f', 'g', 'h', 'i', 'j', 'k', 'l', 'm', 'n', 'o', 'p', 'q', 'r', 's', 't', 'u', 'v', 'w', 'x', 'y', 'z']\n"
     ]
    }
   ],
   "source": [
    "letters = list(ascii_lowercase)\n",
    "print(letters)"
   ]
  },
  {
   "cell_type": "markdown",
   "metadata": {},
   "source": [
    "- Используя списковые включения (`list comprehensions`): `[x for x in iterable]` "
   ]
  },
  {
   "cell_type": "code",
   "execution_count": 67,
   "metadata": {},
   "outputs": [
    {
     "name": "stdout",
     "output_type": "stream",
     "text": [
      "[0, 1, 4, 9, 16]\n"
     ]
    }
   ],
   "source": [
    "square = [x*x for x in range(5)]\n",
    "print(square)"
   ]
  },
  {
   "cell_type": "markdown",
   "metadata": {},
   "source": [
    "**List comprehensions** --- очень мощный инструмент для работы создания списков и будет обсуждаться позже в разделе \"[](listcomp)\"."
   ]
  },
  {
   "cell_type": "markdown",
   "metadata": {},
   "source": [
    "\n",
    "### Создание списков с помощью умножения\n",
    "\n",
    "Выражение `[expression] * n` может быть использовано для того, чтобы создавать не пустой список, а список из `n` одинаковых элементов --- результатов вычисления выражения `expression` внутри квадратных скобок. В качестве примера создадим нулевой `n` мерный вектор.  "
   ]
  },
  {
   "cell_type": "code",
   "execution_count": 68,
   "metadata": {},
   "outputs": [
    {
     "name": "stdout",
     "output_type": "stream",
     "text": [
      "[0, 0, 0, 0, 0, 0, 0, 0, 0, 0]\n",
      "[1, 0, 0, 0, 0, 0, 0, 0, 0, 0]\n"
     ]
    }
   ],
   "source": [
    "v = [0] * 10\n",
    "print(v)\n",
    "v[0] = 1\n",
    "print(v)"
   ]
  },
  {
   "cell_type": "markdown",
   "metadata": {},
   "source": [
    "Но необходимо проявлять бдительность. Выражение `expression` вычисляется один раз, что может привести к неожиданному поведению, если `expression` изменяемого типа. Попробуем создать нулевую матрицу из `3` строк и `2` столбцов и поменять один элемент. Будем хранить матрицу в виде списка, элементами которого являются строки матрицы. Выражение `[0] * 2` создаст одну нулевую строку матрицы. Может показаться, что выражение `[[0] * 2] * 3` создаст нулевую матрицу из трех таких строк. "
   ]
  },
  {
   "cell_type": "code",
   "execution_count": 69,
   "metadata": {},
   "outputs": [
    {
     "name": "stdout",
     "output_type": "stream",
     "text": [
      "[0, 0]\n",
      "[0, 0]\n",
      "[0, 0]\n"
     ]
    }
   ],
   "source": [
    "def print_matrix(matrix):\n",
    "    for row in matrix:\n",
    "        print(row)\n",
    "\n",
    "\n",
    "matrix = [[0] * 2] * 3\n",
    "print_matrix(matrix)"
   ]
  },
  {
   "cell_type": "markdown",
   "metadata": {},
   "source": [
    "Теперь изменим один элемент матрицы и снова напечатаем матрицу."
   ]
  },
  {
   "cell_type": "code",
   "execution_count": 70,
   "metadata": {},
   "outputs": [
    {
     "name": "stdout",
     "output_type": "stream",
     "text": [
      "[1, 0]\n",
      "[1, 0]\n",
      "[1, 0]\n"
     ]
    }
   ],
   "source": [
    "matrix[0][0] = 1 \n",
    "print_matrix(matrix)"
   ]
  },
  {
   "cell_type": "markdown",
   "metadata": {},
   "source": [
    "Результат объясняется тем, что выражение `[0] * 2` было вычислено единожды и создало один список `[0, 0]`, на который ссылаются все указатели списка `m`.\n",
    "\n",
    "```{figure} /_static/lecture_specific/types/list_multiplication.svg\n",
    "```\n",
    "### Методы списка.\n",
    "\n",
    "В таблице ниже перечислены основные методы списков.\n",
    "\n",
    "| Операция | Описание  |\n",
    "| :---:    |    :---:     |\n",
    "| `l[i] = x` | Изменяет `i`-й элемент на `x`.|\n",
    "| `l[i:j] = t` | Срез с `i` по `j` заменяется элементами из `t`.|\n",
    "| `del l[i:j]` | То же самое, что и `l[i:j] = []`.|  \n",
    "| `l[i:j:k] = t` | Элементы среза с `i` по `j` с шагом `k` заменяются на элементы из `t`, но `len(t)` должно быть равно `len(l[i])`.|\n",
    "| `del l[i:j:k]` | Удаляет элементы этого среза из списка. |  \n",
    "| `l.append(x)` | Добавляет элемент в конец (аналог `push_back` для `std::vector`). | \n",
    "| `l.clear()` | Удаляет все элементы из списка. Эквивалентно `del l[:]`. | \n",
    "| `l.copy()` | Создаёт копию списка. Эквивалентно `l[:]`. |\n",
    "| `l.extend(t)` или `l += t` | Расширяет список, добавляя все элементы итерируемого объекта в конце списка. |\n",
    "| `l *= n`| То же, что и `l = l * n`, но не создаёт новый список, а расширяет существующий. |\n",
    "| `l.insert(i, x)` | Вставляет элемент  по заданной позиции. Первый аргумент --- индекс элемента, перед которым нужно вставить элемент (второй аргумент). `l.insert(0, x)` вставляет `x` в самое начало списка, `l.insert(len(l), x)` эквивалентно `l.append(x)`. |\n",
    "| `l.pop()` или `l.pop(i)`   |  `l.pop()` удаляет из списка последний элемент и возвращает его. `l.pop(i)` делает то же самое, но не с последним, а с `i`-м элементом. |\n",
    "| `l.remove(x)`  | Удаляет первый элемент списка, который равен `x`. Если такого элемента нет, то бросает ошибку. | \n",
    "| `l.reverse(x)`| Обращает список на месте. | \n",
    "| `l.sort()` | Сортирует список на месте.  |\n",
    "\n",
    "```{note}\n",
    "Все эти методы доступны также и для других изменяемых последовательностей (`mutable sequence types`), кроме метода `l.sort()`.  \n",
    "```\n",
    "\n",
    "```{note}\n",
    "В `python` изменяющие объекты на месте методы обычно ничего не возвращают. Например, в итоге вычисления выражения `l = l.sort()` имя `l` будет указывать на `None`.\n",
    "```"
   ]
  },
  {
   "cell_type": "markdown",
   "metadata": {},
   "source": [
    "## Кортежи. `tuple`\n",
    "\n",
    "Кортеж --- неизменяемый (`immutable`) аналог списка.\n",
    "\n",
    "Создаётся кортеж практически также, как и список, но вместо квадратных скобок \"`[]`\" используются круглые \"`()`\" или скобки вообще опускаются. Чтобы создать кортеж из одного элемента, необходимо поставить хвостовую запятую, иначе `python` интерпретирует это значение или как сам элемент, если скобки круглые скобки не поставлены, или в качестве повышения приоритета, если скобки поставлены. Итого, кортеж создаётся: \n",
    "- Парой круглых скобок, чтобы обозначить пустой кортеж: `()`;"
   ]
  },
  {
   "cell_type": "code",
   "execution_count": 71,
   "metadata": {},
   "outputs": [
    {
     "name": "stdout",
     "output_type": "stream",
     "text": [
      "()\n"
     ]
    }
   ],
   "source": [
    "empty_tuple = ()\n",
    "print(empty_tuple)"
   ]
  },
  {
   "cell_type": "markdown",
   "metadata": {},
   "source": [
    "- Используя хвостовую запятую с круглыми скобками или без, чтобы обозначить кортеж из одного элемента: `a,` или`(a, )`;"
   ]
  },
  {
   "cell_type": "code",
   "execution_count": 72,
   "metadata": {},
   "outputs": [],
   "source": [
    "singleton_tuple = 0,        # или singleton_tuple = (0, )\n",
    "an_int = (0)                # но не так, это int"
   ]
  },
  {
   "cell_type": "markdown",
   "metadata": {},
   "source": [
    "- Разделяя элементы кортежа запятыми (опционально внутри круглых скобок): `a, b, c` или `(a, b, c)`;"
   ]
  },
  {
   "cell_type": "code",
   "execution_count": 73,
   "metadata": {},
   "outputs": [],
   "source": [
    "a_tuple = 1, 2, 3           # или a_tuple = (1, 2, 3)"
   ]
  },
  {
   "cell_type": "markdown",
   "metadata": {},
   "source": [
    "\n",
    "- Используя конструктор типа: `tuple()` или `tuple(iterable)`;"
   ]
  },
  {
   "cell_type": "code",
   "execution_count": 74,
   "metadata": {},
   "outputs": [],
   "source": [
    "letters = tuple(\"abc\")"
   ]
  },
  {
   "cell_type": "markdown",
   "metadata": {},
   "source": [
    "### Неизменяемость кортежей\n",
    "\n",
    "Кортеж под капотом является константным массивом указателей на его элементы. В отличие от списка ни размер ни содержимое этого массива менять нельзя."
   ]
  },
  {
   "cell_type": "code",
   "execution_count": 75,
   "metadata": {},
   "outputs": [
    {
     "ename": "TypeError",
     "evalue": "'tuple' object does not support item assignment",
     "output_type": "error",
     "traceback": [
      "\u001b[1;31m---------------------------------------------------------------------------\u001b[0m",
      "\u001b[1;31mTypeError\u001b[0m                                 Traceback (most recent call last)",
      "Input \u001b[1;32mIn [75]\u001b[0m, in \u001b[0;36m<cell line: 2>\u001b[1;34m()\u001b[0m\n\u001b[0;32m      1\u001b[0m a_tuple \u001b[38;5;241m=\u001b[39m \u001b[38;5;124m\"\u001b[39m\u001b[38;5;124mEarth\u001b[39m\u001b[38;5;124m\"\u001b[39m, \u001b[38;5;241m3\u001b[39m, \u001b[38;5;241m1.0\u001b[39m\n\u001b[1;32m----> 2\u001b[0m a_tuple[\u001b[38;5;241m0\u001b[39m] \u001b[38;5;241m=\u001b[39m \u001b[38;5;241m42\u001b[39m\n",
      "\u001b[1;31mTypeError\u001b[0m: 'tuple' object does not support item assignment"
     ]
    }
   ],
   "source": [
    "a_tuple = \"Earth\", 3, 1.0\n",
    "a_tuple[0] = 42         # ошибка"
   ]
  },
  {
   "cell_type": "markdown",
   "metadata": {},
   "source": [
    "Попытка изменить содержимое кортежа вызвало ошибку. Более точно, попытка изменить ссылку, на которую ссылается кортеж вызвало ошибку. Если объект по этой ссылке изменяемый (`mutable`), то изменить этот объект можно."
   ]
  },
  {
   "cell_type": "code",
   "execution_count": 76,
   "metadata": {},
   "outputs": [
    {
     "name": "stdout",
     "output_type": "stream",
     "text": [
      "(['Работает!'], 3)\n"
     ]
    }
   ],
   "source": [
    "a_list = []\n",
    "an_integer = 3\n",
    "a_tuple_with_list = a_list, an_integer \n",
    "a_list.append(\"Работает!\")\n",
    "print(a_tuple_with_list)"
   ]
  },
  {
   "cell_type": "markdown",
   "metadata": {},
   "source": [
    "Т.е. кортеж не даёт гарантии, что его элементы не изменятся, а гарантирует лишь то, что его элементы останутся теми же самыми объектами."
   ]
  },
  {
   "cell_type": "markdown",
   "metadata": {},
   "source": [
    "### Кортежи vs списки\n",
    "\n",
    "Изучив свойства кортежей может возникнуть вопрос: в чем смысл использовать кортежи, если у них урезанный функционал (по сравнению со списками), а их отличительная особенность (неизменяемость) не гарантирует неизменность его элементов?\n",
    "\n",
    "У кортежей есть два основных преимущества на фоне списков, оба из которых обусловлены их неизменяемостью:\n",
    "1. Они работают быстрее;\n",
    "2. От них можно вычислять `hash`. Будет обсуждаться позже.\n",
    "\n",
    "И списки и кортежи позволяют хранить произвольное количество элементов произвольного типа, но в документации рекомендуют использовать **списки** для хранения однородных (`homogeneous`) объектов, а кортежи для хранения разнородных (`heterogeneous`) объектов.\n",
    "\n",
    "\n",
    "Имеется ввиду, что в список обычно помещают элементы, которые в некотором контексте могут обрабатываться одним и тем же кодом, в предельном случае объекты одного типа. Например, если выстраивается конструкция, в которой элементы контейнера однообразно обрабатываются в цикле, то в качестве контейнера плохо подходит кортеж. Кортежи нередко используются в качестве записей. Элемента кортежа при таком подходе\n",
    "\n",
    "\n",
    "### Распаковка кортежей\n",
    "\n",
    "Очень часто кортежи используются для того, чтобы упаковать несколько объектов, передать их как единое целое и затем распаковать эти объекты обратно."
   ]
  },
  {
   "cell_type": "code",
   "execution_count": 77,
   "metadata": {},
   "outputs": [
    {
     "name": "stdout",
     "output_type": "stream",
     "text": [
      "42 321.0 a string\n"
     ]
    }
   ],
   "source": [
    "a_tuple = (42, 321.0, \"a string\")\n",
    "first, second, third = a_tuple\n",
    "print(first, second, third)"
   ]
  },
  {
   "cell_type": "markdown",
   "metadata": {},
   "source": [
    "Это позволяет очень выразительно писать функции, как бы возвращающие несколько значений. В качестве примера напишем функцию, решающую приведенное квадратное уравнение \n",
    "\n",
    "$$\n",
    "x^2 + bx + c = 0,\n",
    "$$\n",
    "\n",
    "решением которого являются значения\n",
    "\n",
    "$$\n",
    "x_{1, 2} = \\dfrac{-b \\pm \\sqrt{b^2 - 4c}}{2}.\n",
    "$$\n",
    "\n",
    "Для простоты будем считать, что даже если дискриминант $D$ нулевой и существует единственный корень кратности два, что существует два одинаковых корня.\n",
    "\n",
    "Сравнительно наивная (численно не устойчивая) реализация этого алгоритма выглядит следующим образом."
   ]
  },
  {
   "cell_type": "code",
   "execution_count": 78,
   "metadata": {},
   "outputs": [],
   "source": [
    "from math import sqrt\n",
    "\n",
    "def quadratic_solve(b, c):\n",
    "    \"Solves an equation x^2 + bx + c = 0\"\n",
    "    # linear case\n",
    "    D = b * b - 4. * c\n",
    "    term1 = -b / 2.\n",
    "    term2 = sqrt(abs(D)) / 2. \n",
    "    # real roots\n",
    "    if D >= 0:\n",
    "        return  term1 - term2, term1 + term2\n",
    "    # complex roots\n",
    "    return complex(term1, -term2), complex(term1, term2)\n"
   ]
  },
  {
   "cell_type": "markdown",
   "metadata": {},
   "source": [
    "Обратим внимание на то, как возвращаются значения из этой функции:\n",
    "```python\n",
    "return  term1 - term2, term1 + term2\n",
    "```\n",
    "в случае двух действительных корней и \n",
    "```python\n",
    "return complex(term1, -term2), complex(term1, term2)\n",
    "```\n",
    "в случае двух комплексных корней.\n",
    "\n",
    "В обоях случаях справа от ключевого слова `return` указаны два отделенных запятой значения, что приводит к созданию кортежа из них, который и возвращается вызывающему коду. Вызывающий код в свою очередь может сразу при вызове функции и распаковать элементы этого кортежа по двум именам.\n",
    "\n",
    "В качестве примера решим уравнение этой функцией $x^2 - 5x + 6 = (x-2)(x-3) = 0$ и сразу распакуем два корня по разным переменным."
   ]
  },
  {
   "cell_type": "code",
   "execution_count": 79,
   "metadata": {},
   "outputs": [
    {
     "name": "stdout",
     "output_type": "stream",
     "text": [
      "2.0 3.0\n"
     ]
    }
   ],
   "source": [
    "x1, x2 = quadratic_solve(-5, 6)\n",
    "\n",
    "print(x1, x2)"
   ]
  },
  {
   "cell_type": "markdown",
   "metadata": {},
   "source": [
    "Функция [divmod](https://docs.python.org/3/library/functions.html#divmod) --- пример встроенной возвращающей 2 значения функции. "
   ]
  },
  {
   "cell_type": "code",
   "execution_count": 80,
   "metadata": {},
   "outputs": [
    {
     "name": "stdout",
     "output_type": "stream",
     "text": [
      "3 2\n",
      "3 2\n"
     ]
    }
   ],
   "source": [
    "d, m = divmod(11, 3)\n",
    "print(d, m)\n",
    "print(11 // 3, 11 % 3)"
   ]
  },
  {
   "cell_type": "markdown",
   "metadata": {},
   "source": [
    "```{note}\n",
    "Распаковывать можно и списки, но это кроме того, что вынуждает писать дополнительные скобочки, ещё и работает медленнее.\n",
    "```\n",
    "\n",
    "(tuples_as_records)=\n",
    "### Кортежи в качестве записей\n",
    "\n",
    "Кортежи нередко использую в качестве записей, т.е. таких структур данных с полями.\n",
    "\n",
    "Например, если в рамках программы планеты описываются названиями, количество спутников и их массой относительно массы земли, то для их описания можно использовать кортежи из трех элементов. "
   ]
  },
  {
   "cell_type": "code",
   "execution_count": 81,
   "metadata": {},
   "outputs": [],
   "source": [
    "planets = [\n",
    "    (\"Меркурий\", 0, 0.0055),\n",
    "    (\"Венера\", 0, 0.815),\n",
    "    (\"Земля\", 1, 1.),\n",
    "    (\"Марс\", 2, 0.107),\n",
    "    (\"Юпитер\", 62, 317.8),\n",
    "    (\"Сатурн\", 34, 95.2),\n",
    "    (\"Уран\", 27, 14.37),\n",
    "    (\"Нептун\", 13, 17.15),\n",
    "]"
   ]
  },
  {
   "attachments": {},
   "cell_type": "markdown",
   "metadata": {},
   "source": [
    "Заметим, что список `planets` хранит однородные объекты --- кортежи из трех элементов, описывающие планеты, а каждый из кортежей состоит из разнородных объектов, т.к. они представляют собой разные свойства планеты: имя (строка), количество планет (целое число) и масса (действительное число).\n",
    "\n",
    "Элементы списка `planets` удобно обрабатывать одним и тем же кодом, так как все они имеют одинаковую структуру. Каждую запись о планете легко распаковать по переменным согласно полям этой записи."
   ]
  },
  {
   "cell_type": "code",
   "execution_count": 82,
   "metadata": {},
   "outputs": [
    {
     "name": "stdout",
     "output_type": "stream",
     "text": [
      "Планета Меркурий имеет 0 спутников. Её масса составляет 0.0055 земных масс.\n",
      "Планета Венера имеет 0 спутников. Её масса составляет 0.815 земных масс.\n",
      "Планета Земля имеет 1 спутников. Её масса составляет 1.0 земных масс.\n",
      "Планета Марс имеет 2 спутников. Её масса составляет 0.107 земных масс.\n",
      "Планета Юпитер имеет 62 спутников. Её масса составляет 317.8 земных масс.\n",
      "Планета Сатурн имеет 34 спутников. Её масса составляет 95.2 земных масс.\n",
      "Планета Уран имеет 27 спутников. Её масса составляет 14.37 земных масс.\n",
      "Планета Нептун имеет 13 спутников. Её масса составляет 17.15 земных масс.\n"
     ]
    }
   ],
   "source": [
    "def print_summary(planet):\n",
    "    name, n_moons, mass = planet\n",
    "    print(f\"Планета {name} имеет {n_moons} спутников. Её масса составляет {mass} земных масс.\")\n",
    "\n",
    "for planet in planets:\n",
    "    print_summary(planet)"
   ]
  },
  {
   "cell_type": "markdown",
   "metadata": {},
   "source": [
    "## Строки. `str`\n",
    "\n",
    "[Строки](https://docs.python.org/3/library/stdtypes.html#textseq) --- неизменяемые последовательности (`immutable sequence type`), предназначенные для работы с текстовыми данными в кодировке [unicode](https://home.unicode.org/). То, что `python` из коробки поддерживает `unicode`, значительно упрощает работу с текстом в общем случае, и написание `web`-ориентированных приложений в частности. Кроме того, что в `unicode` помещается английский язык и все спецсимволы, в него также помещаются русский, китайский, арабский и многие другие языки. Ещё в него помещаются [emoji](https://home.unicode.org/emoji/about-emoji/)."
   ]
  },
  {
   "cell_type": "code",
   "execution_count": 83,
   "metadata": {},
   "outputs": [
    {
     "name": "stdout",
     "output_type": "stream",
     "text": [
      "Привет! こんにちは 🐍\n"
     ]
    }
   ],
   "source": [
    "hello_in_russia = \"Привет!\"\n",
    "hello_in_japanese = \"こんにちは\"\n",
    "snake_emoji = \"🐍\"\n",
    "\n",
    "print(hello_in_russia, hello_in_japanese, snake_emoji)"
   ]
  },
  {
   "cell_type": "markdown",
   "metadata": {},
   "source": [
    "Так как при решении физических и математических задач работа с текстом встречается сравнительно редко, то тут будет приведен поверхностный обзор возможностей `python`, не затрагивающий кодировок и не покрывающий огромное множество методов обработки.\n",
    "\n",
    "Можно считать, что строка --- это константный массив, который содержит в себе `unicode` коды символов в этой строке. В `python` нет отдельного типа данных под один символ, т.е. символ представляет собой строку длинны 1.\n",
    "\n",
    "Строки --- последовательности, а значит можно обратившись по индексу получить символ (строку из одного символа), но последовательности неизменяемые, т.е. изменить любой символ нельзя. Чтобы изменить строку, нужно создать новую.\n",
    "\n",
    "Создать строки можно огромным количеством способом. Рассмотрим самые основные из них.\n",
    "\n",
    "1. Можно задавать строки в одинарных (апострофы) и двойных кавычках:\n",
    "    ```python\n",
    "    s1 = 'Hello, world!'\n",
    "    s2 = \"Hello, world!\"\n",
    "    ```\n",
    "    Это может пригодиться, если вы хотите поместить внутрь строки символы кавычек первого или второго типа. Например, апостроф можно поместить внутри двойных кавычек, а двойные кавычки внутри одинарных:\n",
    "    ```python\n",
    "    s1 = '\"Э́врика!\" - Архимед'\n",
    "    s2 = \"What's up.\"\n",
    "    ```\n",
    "\n",
    "2. Можно задавать строки, допускающие перенос строки внутри, с помощью троекратных одинарных или двойных кавычек:"
   ]
  },
  {
   "cell_type": "code",
   "execution_count": 84,
   "metadata": {},
   "outputs": [
    {
     "name": "stdout",
     "output_type": "stream",
     "text": [
      "\n",
      "\"Modern programs must handle Unicode — \n",
      "Python has excellent support for Unicode, \n",
      "and will keep getting better\" - Guido van Rossum. \n",
      "     \n"
     ]
    }
   ],
   "source": [
    "s = '''\n",
    "\"Modern programs must handle Unicode — \n",
    "Python has excellent support for Unicode, \n",
    "and will keep getting better\" - Guido van Rossum. \n",
    "     '''\n",
    "print(s)"
   ]
  },
  {
   "cell_type": "markdown",
   "metadata": {},
   "source": [
    "Очень часто используется для документации функций. Например, ниже приводится пример из исходного кода функции `complex`.\n",
    "```python\n",
    "def complex(real=0.0, imag=0.0):\n",
    "    \"\"\"Form a complex number.\n",
    "\n",
    "    Keyword arguments:\n",
    "    real -- the real part (default 0.0)\n",
    "    imag -- the imaginary part (default 0.0)\n",
    "    \"\"\"\n",
    "    if imag == 0.0 and real == 0.0:\n",
    "        return complex_zero\n",
    "    ...\n",
    "```"
   ]
  },
  {
   "cell_type": "markdown",
   "metadata": {},
   "source": [
    "Также существует огромное количество функций и методов, которые позволяют создавать строки из уже существующих строк и объектов других видов.\n",
    "\n",
    "Самый простой пример --- конструктор класса [str](https://docs.python.org/3/library/functions.html#func-str). Она преобразует объект в читабельную строку (если объект допускает это) и всегда неявно вызывается, если объект подаётся на вход функции `print`."
   ]
  },
  {
   "cell_type": "code",
   "execution_count": 85,
   "metadata": {},
   "outputs": [
    {
     "name": "stdout",
     "output_type": "stream",
     "text": [
      "3.141592653589793 3.141592653589793\n",
      "<class 'str'> <class 'float'>\n"
     ]
    }
   ],
   "source": [
    "from math import pi\n",
    "s = str(pi)\n",
    "print(s, pi)\n",
    "print(type(s), type(pi))"
   ]
  },
  {
   "attachments": {},
   "cell_type": "markdown",
   "metadata": {},
   "source": [
    "### Строковые методы\n",
    "\n",
    "У строковых объектов есть огромное количество методов, которые обычно возвращают отредактированную тем или иным образом строку (всегда новую, т.к. строки неизменяемы). С полным списком методов можно ознакомиться [по ссылке](https://docs.python.org/3/library/stdtypes.html#string-methods), а здесь будут упомянуты самые необходимые.\n",
    "\n",
    "Метод [strip](https://docs.python.org/3/library/stdtypes.html#str.strip) удаляет переданные ему в качестве параметра символы по обоим краям строки. По умолчанию удаляет пробелы. Существуют аналогичные методы [lstrip](https://docs.python.org/3/library/stdtypes.html#str.lstrip) и [rstrip](https://docs.python.org/3/library/stdtypes.html#str.rstrip), которые делают то же самое, но только с левого конца и с правого конца соответственно."
   ]
  },
  {
   "cell_type": "code",
   "execution_count": 86,
   "metadata": {},
   "outputs": [
    {
     "name": "stdout",
     "output_type": "stream",
     "text": [
      "|   spacious   |\n",
      "|spacious|\n"
     ]
    }
   ],
   "source": [
    "s = \"   spacious   \"\n",
    "print(f\"|{s}|\")\n",
    "print(f\"|{s.strip()}|\")"
   ]
  },
  {
   "cell_type": "markdown",
   "metadata": {},
   "source": [
    "Метод [replace](https://docs.python.org/3/library/stdtypes.html#str.replace) принимает два обязательных параметра `old` и `new` и заменяет все вхождения `old` в строке на `new`. Передавая в качестве `new` пустую строку, можно использовать этот метод для удаления."
   ]
  },
  {
   "cell_type": "code",
   "execution_count": 87,
   "metadata": {},
   "outputs": [
    {
     "name": "stdout",
     "output_type": "stream",
     "text": [
      "Александр любит математику.\n"
     ]
    }
   ],
   "source": [
    "s = \"Иван любит математику.\"\n",
    "print(s.replace(\"Иван\", \"Александр\"))"
   ]
  },
  {
   "cell_type": "markdown",
   "metadata": {},
   "source": [
    "Методы [ljust](https://docs.python.org/3/library/stdtypes.html#str.ljust), [rjust](https://docs.python.org/3/library/stdtypes.html#str.ljust) и [center](https://docs.python.org/3/library/stdtypes.html#str.center) расширяют строку до нужной строки пробелами, но с разным выравниванием исходной строки внутри результирующей: \n",
    "- [ljust](https://docs.python.org/3/library/stdtypes.html#str.ljust) выравнивает по левому краю, т.е. добивает строку пробелами до нужной длины с правого края;\n",
    "- [rjust](https://docs.python.org/3/library/stdtypes.html#str.rjust) выравнивает по правому краю, т.е. добивает строку пробелами до нужной длины с правого края;\n",
    "- [center](https://docs.python.org/3/library/stdtypes.html#str.center) выравнивает по центру, т.е. добивает строку пробелами до нужной длины с обоих краёв симметрично."
   ]
  },
  {
   "cell_type": "code",
   "execution_count": 88,
   "metadata": {},
   "outputs": [
    {
     "name": "stdout",
     "output_type": "stream",
     "text": [
      "                                     Knock                                      \n",
      "The last man on Earth sat alone in a room. There was a knock at the door...     \n",
      "                                                                   Fredric Brown\n"
     ]
    }
   ],
   "source": [
    "line_width = 80\n",
    "title = \"Knock\"\n",
    "text = \"The last man on Earth sat alone in a room. There was a knock at the door...\" \n",
    "author = \"Fredric Brown\"\n",
    "\n",
    "print(title.center(line_width))\n",
    "print(text.ljust(line_width))\n",
    "print(author.rjust(line_width))"
   ]
  },
  {
   "cell_type": "markdown",
   "metadata": {},
   "source": [
    "Метод [split](https://docs.python.org/3/library/stdtypes.html#str.split) режет строку на части, используя переданный в качестве параметра разделитель (по умолчанию пробел). Возвращает список строк."
   ]
  },
  {
   "cell_type": "code",
   "execution_count": 89,
   "metadata": {},
   "outputs": [
    {
     "name": "stdout",
     "output_type": "stream",
     "text": [
      "['1', '2', '3']\n"
     ]
    }
   ],
   "source": [
    "x = \"1,2,3\"\n",
    "values = x.split(\",\")\n",
    "print(values)"
   ]
  },
  {
   "cell_type": "markdown",
   "metadata": {},
   "source": [
    "Метод [join](https://docs.python.org/3/library/stdtypes.html#str.join) является по сути дела обратным к методу [split](https://docs.python.org/3/library/stdtypes.html#str.split). Он объединяет список переданных ему строк в качестве обязательного параметру в одну, используя в качестве разделителя строку, от которой этот метод был вызван."
   ]
  },
  {
   "cell_type": "code",
   "execution_count": 90,
   "metadata": {},
   "outputs": [
    {
     "data": {
      "text/plain": [
       "'1 2 3'"
      ]
     },
     "execution_count": 90,
     "metadata": {},
     "output_type": "execute_result"
    }
   ],
   "source": [
    "\" \".join(values)"
   ]
  },
  {
   "cell_type": "markdown",
   "metadata": {},
   "source": [
    "### Форматирование строк\n",
    "\n",
    "В `python` есть минимум четыре способа форматирования строк. \n",
    "\n",
    "- Первым, и пожалуй самым неправильным, является склеивание строки вручную."
   ]
  },
  {
   "cell_type": "code",
   "execution_count": 91,
   "metadata": {},
   "outputs": [
    {
     "name": "stdout",
     "output_type": "stream",
     "text": [
      "Иван больше всего любит два числа: 42 3.141592653589793.\n"
     ]
    }
   ],
   "source": [
    "an_int = 42\n",
    "a_float = pi\n",
    "a_name = \"Иван\" \n",
    "\n",
    "print(a_name + \" больше всего любит два числа: \" + str(an_int) + \" \" + str(a_float) + \".\")"
   ]
  },
  {
   "cell_type": "markdown",
   "metadata": {},
   "source": [
    "- Вторым подходом является форматирование в стиле `C`, который опирается на перегруженность оператора `\"%\"` для строк. Полные возможности такого подхода описаны [по ссылке](https://docs.python.org/3/library/stdtypes.html#printf-style-string-formatting). "
   ]
  },
  {
   "cell_type": "code",
   "execution_count": 92,
   "metadata": {},
   "outputs": [
    {
     "name": "stdout",
     "output_type": "stream",
     "text": [
      "Иван больше всего любит два числа: 42 и 3.141593.\n"
     ]
    }
   ],
   "source": [
    "print(\"%s больше всего любит два числа: %i и %f.\" % (a_name, an_int, a_float))"
   ]
  },
  {
   "cell_type": "markdown",
   "metadata": {},
   "source": [
    "- Третьим подходом является использование метода строковых объектов [format](https://docs.python.org/3/library/stdtypes.html#str.format), полные возможности которого описаны [по ссылке](https://docs.python.org/3/library/string.html#formatstrings)."
   ]
  },
  {
   "cell_type": "code",
   "execution_count": 93,
   "metadata": {},
   "outputs": [
    {
     "name": "stdout",
     "output_type": "stream",
     "text": [
      "Иван больше всего любит два числа: 42 и 3.141592653589793.\n"
     ]
    }
   ],
   "source": [
    "template = \"{0} больше всего любит два числа: {1} и {2}.\"\n",
    "print(template.format(a_name, an_int, a_float))"
   ]
  },
  {
   "cell_type": "markdown",
   "metadata": {},
   "source": [
    "- Четвертым и самым новым подходом является использование [f-строк](https://docs.python.org/3/reference/lexical_analysis.html#f-strings) (`f-strings`), которым и отдаёт предпочтение автор. `f-строки` позволяют использовать выражения `python` прямо внутри строки, за счет чего нередко предлагают самый наглядный способ форматирования строк."
   ]
  },
  {
   "cell_type": "code",
   "execution_count": 94,
   "metadata": {},
   "outputs": [
    {
     "name": "stdout",
     "output_type": "stream",
     "text": [
      "Иван больше всего любит два числа: 42 и 3.141592653589793.\n"
     ]
    }
   ],
   "source": [
    "s = f\"{a_name} больше всего любит два числа: {an_int} и {a_float}.\"\n",
    "print(s) "
   ]
  },
  {
   "attachments": {},
   "cell_type": "markdown",
   "metadata": {},
   "source": [
    "Какой из них выбрать --- по большей части дело вкуса. \n",
    "\n",
    "Форматирование в стиле `C` было введено в `python` вместе с самой первой версией языка и гарантированно будет работать на более старых версиях `python`. Из-за схожести с форматированием в языке `C`, а также из-за того, что раньше этот способ был единственным, некоторым программистам легче воспринимать код, форматирующий строки в таком стиле в силу привычки.\n",
    "\n",
    "Метод `format` более наглядный и допускает более гибкое форматирование, чем форматирование в стиле `C`. Они оба позволяют переиспользовать одну и ту же шаблонную строку для многократного форматирования, но методом `format` это делать естественнее. Это может быть очень эффективно, если в вашей программе необходимо регулярно подставлять какие-то значения в определенные позиции одного и того же шаблона. Никакими другими перечисленными здесь методами такого эффекта не достичь, но в ряде ситуация оправданным будет использовать  для таких целей класс [Template](https://docs.python.org/3/library/string.html#template-strings) из модуля [string](https://docs.python.org/3/library/string.html#module-string).\n",
    "\n",
    "`f-строки` введены сравнительно недавно и наверное представляют собой самый наглядный способ форматирования строк на сегодня, хотя и не все с этим согласны. Переиспользовать многократно одну и ту же `f-строку` не выйдет: она вычисляется на лету каждый раз. Ниже будут коротко описаны самые основы этого способа.\n",
    "\n",
    "#### `f-строки`.\n",
    "\n",
    "Чтобы писать `f`-строки, необходимо ставить перед строкой символ `f` или `F`. Далее в самом простом варианте внутри одинарных фигурных скобок \"`{}`\" можно указывать `python` выражение, результат вычисления которого появится вместо фигурных скобок в результирующей строке. \n",
    "```python\n",
    "s = f\"abc{expression}def\"\n",
    "```"
   ]
  },
  {
   "cell_type": "code",
   "execution_count": 95,
   "metadata": {},
   "outputs": [
    {
     "name": "stdout",
     "output_type": "stream",
     "text": [
      "4\n"
     ]
    }
   ],
   "source": [
    "print(f\"{2 + 2}\")"
   ]
  },
  {
   "cell_type": "markdown",
   "metadata": {},
   "source": [
    "Опционально можно указать спецификацию форматирования этого выражения, указав её после выражения через двоеточия внутри той же пары фигурных скобок.\n",
    "```python\n",
    "s = f\"abc{expression:specification}def\"\n",
    "```\n",
    "\n",
    "Самая простая спецификация --- обеспечивание необходимой ширины строки с выравниванием, т.е. достижение аналогичного строковым методам [ljust](https://docs.python.org/3/library/stdtypes.html#str.ljust), [rjust](https://docs.python.org/3/library/stdtypes.html#str.rjust) и [center](https://docs.python.org/3/library/stdtypes.html#str.center) эффекта, для чего после двоеточие ставится один из символов \"`<`\", \"`>`\" и \"`^`\" и целое положительное число. \n",
    "\n",
    "```python\n",
    "s = f\"{expression:[alignment]width}\"\n",
    "```\n",
    "\n",
    "```{note}\n",
    "Квадратные скобки \"`[]`\" указывают на опциональность их содержимого. \n",
    "```"
   ]
  },
  {
   "cell_type": "code",
   "execution_count": 96,
   "metadata": {},
   "outputs": [
    {
     "name": "stdout",
     "output_type": "stream",
     "text": [
      "                                     Knock                                      \n",
      "The last man on Earth sat alone in a room. There was a knock at the door...     \n",
      "                                                                   Fredric Brown\n"
     ]
    }
   ],
   "source": [
    "print(f\"{title:^80}\")\n",
    "print(f\"{text:<80}\")\n",
    "print(f\"{author:>80}\")"
   ]
  },
  {
   "cell_type": "markdown",
   "metadata": {},
   "source": [
    "Подобные выражения могут быть использованы для выравнивания столбцов в тексте. В качестве примера рассмотрим следующий код и его вывод."
   ]
  },
  {
   "cell_type": "code",
   "execution_count": 97,
   "metadata": {},
   "outputs": [
    {
     "name": "stdout",
     "output_type": "stream",
     "text": [
      "Год 99 => I-й век\n",
      "Год 100 => II-й век\n",
      "Год 101 => II-й век\n"
     ]
    }
   ],
   "source": [
    "years = [99, 100, 101]\n",
    "centuries = [\"I\", \"II\", \"II\"]\n",
    "\n",
    "for i in range(3):\n",
    "    print(f\"Год {years[i]} => {centuries[i]}-й век\")"
   ]
  },
  {
   "cell_type": "markdown",
   "metadata": {},
   "source": [
    "Эстетически может не понравится, что значения в первой строке \"поехали\" влево относительно значений в других строках. Чтобы исправить это, можно указать все значения с необходимой шириной и выравниванием."
   ]
  },
  {
   "cell_type": "code",
   "execution_count": 98,
   "metadata": {},
   "outputs": [
    {
     "name": "stdout",
     "output_type": "stream",
     "text": [
      "Год  99 =>   I-й век\n",
      "Год 100 =>  II-й век\n",
      "Год 101 =>  II-й век\n"
     ]
    }
   ],
   "source": [
    "for i in range(3):\n",
    "    print(f\"Год {years[i]:>3} => {centuries[i]:>3}-й век\")"
   ]
  },
  {
   "cell_type": "markdown",
   "metadata": {},
   "source": [
    "Чтобы добивать строку до необходимой ширины не пробелом, а другим символом, необходимо указать этот символ перед спецификатором выравнивания.\n",
    "```python\n",
    "s = f\"{expression:[filler][alignment]width}\"\n",
    "```"
   ]
  },
  {
   "cell_type": "code",
   "execution_count": 99,
   "metadata": {},
   "outputs": [
    {
     "name": "stdout",
     "output_type": "stream",
     "text": [
      "0000000001\n",
      "0000000010\n",
      "0000000100\n",
      "0000001000\n",
      "0000010000\n",
      "0000100000\n",
      "0001000000\n",
      "0010000000\n",
      "0100000000\n",
      "1000000000\n"
     ]
    }
   ],
   "source": [
    "for power in range(10):\n",
    "    print(f\"{10 ** power:0>10}\")"
   ]
  },
  {
   "cell_type": "markdown",
   "metadata": {},
   "source": [
    "При форматировании чисел с плавающей запятой можно указать количество значащих цифр.\n",
    "\n",
    "```python\n",
    "s = f\"{expression:[filler][alignment]width[.precision]}\"\n",
    "```"
   ]
  },
  {
   "cell_type": "code",
   "execution_count": 100,
   "metadata": {},
   "outputs": [
    {
     "name": "stdout",
     "output_type": "stream",
     "text": [
      "             3.1\n",
      "          3.1416\n",
      "3.14159265358979\n"
     ]
    }
   ],
   "source": [
    "from math import pi\n",
    "\n",
    "print(f\"{pi:>16.2}\")\n",
    "print(f\"{pi:>16.5}\")\n",
    "print(f\"{pi:>16.15}\")"
   ]
  },
  {
   "cell_type": "markdown",
   "metadata": {},
   "source": [
    "Кроме того можно фиксировать формат вывода. Доступные значения:\n",
    "```python\n",
    "s = f\"{expression:[filler][alignment]width[.precision][type]}\"\n",
    "```\n",
    "Среди допустимых значений:\n",
    "- \"`f`\" --- число с фиксированной точкой;\n",
    "- \"`e`\" --- научный формат;\n",
    "- \"`%`\" --- процент;\n",
    "- и др."
   ]
  },
  {
   "cell_type": "code",
   "execution_count": 101,
   "metadata": {},
   "outputs": [
    {
     "name": "stdout",
     "output_type": "stream",
     "text": [
      "0.38462\n",
      "0.38462\n",
      "3.84615e-01\n",
      "38.46154%\n"
     ]
    }
   ],
   "source": [
    "x = 5 / 13\n",
    "\n",
    "print(f\"{x:.5}\")\n",
    "print(f\"{x:>.5f}\")\n",
    "print(f\"{x:>.5e}\")\n",
    "print(f\"{x:>.5%}\")"
   ]
  }
 ],
 "metadata": {
  "kernelspec": {
   "display_name": "Python 3 (ipykernel)",
   "language": "python",
   "name": "python3"
  },
  "language_info": {
   "codemirror_mode": {
    "name": "ipython",
    "version": 3
   },
   "file_extension": ".py",
   "mimetype": "text/x-python",
   "name": "python",
   "nbconvert_exporter": "python",
   "pygments_lexer": "ipython3",
   "version": "3.10.7 (tags/v3.10.7:6cc6b13, Sep  5 2022, 14:08:36) [MSC v.1933 64 bit (AMD64)]"
  },
  "vscode": {
   "interpreter": {
    "hash": "eea3ef54c04064aa17c056cc2578c78db8b44278034b77b7225a3166c34cea02"
   }
  }
 },
 "nbformat": 4,
 "nbformat_minor": 2
}
