{
 "cells": [
  {
   "attachments": {},
   "cell_type": "markdown",
   "metadata": {},
   "source": [
    "# О коллекциях в `python`\n",
    "\n",
    "## Разнообразие коллекций\n",
    "\n",
    "В `python` в любой момент времени имеется доступ к нескольким видам коллекций, среди которых:\n",
    "- [list](https://docs.python.org/3/library/stdtypes.html#lists) --- списки;\n",
    "- [tuple](https://docs.python.org/3/library/stdtypes.html#tuples) --- кортежи;\n",
    "- [range](https://docs.python.org/3/library/stdtypes.html#ranges) --- диапазоны;\n",
    "- [str](https://docs.python.org/3/library/stdtypes.html#str) --- строки;\n",
    "- [bytearray](https://docs.python.org/3/library/stdtypes.html#bytearray) и [bytes](https://docs.python.org/3/library/stdtypes.html#bytes) --- изменяемый и неизменяемый  массивы байтов;\n",
    "- [set](https://docs.python.org/3/library/stdtypes.html#set) и [frozenset](https://docs.python.org/3/library/stdtypes.html#frozenset) --- изменяемые и неизменяемые множества;\n",
    "- [dict](https://docs.python.org/3/library/stdtypes.html#dict) --- словари (ассоциативные массивы, хеш таблицы).\n",
    "\n",
    "Ещё больше коллекций доступно, если брать в расчет модули стандартной библиотеки:\n",
    "- [array.array](https://docs.python.org/3/library/array.html) --- массивы численных значений;\n",
    "- [collections.deque](https://docs.python.org/3/library/collections.html#collections.deque) --- двухсторонняя очередь;\n",
    "- [collections.OrderedDict](https://docs.python.org/3/library/collections.html#collections.OrderedDict) --- упорядоченный словарь;\n",
    "- [collections.defaultdict](https://docs.python.org/3/library/collections.html#collections.defaultdict) --- словарь, со значениями по-умолчанию;\n",
    "- и т.д.\n",
    "\n",
    "А ещё ведь существуют разнообразные коллекции из сторонних библиотек. Может показаться, что познакомиться со всеми коллекциями в `python` --- непосильная задача. Однако можно значительно упростить себе задачу, если выявить между некоторыми коллекциями сходства. Благо сам `python` выделяет среди коллекций некоторую иерархию, которая располагает все свои встроенные коллекции и многие сторонние по полочкам. \n",
    "\n",
    "## Базовые понятия\n",
    "\n",
    "Для начала введём три самых базовых понятия с точки зрения `python`, которые позволят четко сформулировать, что понимается под коллекцией в `python`. \n",
    "\n",
    "### Контейнер. `Container` \n",
    "Объект считается **контейнером** (**`Container`**), если у него можно спросить, содержит ли он какой-то произвольный элемент `x` (**does it `contain` x?**). Иными словами, если `A` контейнер, то для любого `x` следующее выражение должно вычисляться без ошибок и возвращать булевое значение. \n",
    "```python\n",
    "x in A \n",
    "```\n",
    "\n",
    "```{note}\n",
    "Строго говоря, тип считается контейнером, если у него перегружен метод `__contains__`, что и позволяет его использовать справа от ключевого слова `in`. Однако, если объект не является контейнером, но является итерируемым объектом, то этот объект все равно можно использовать справа от ключевого слова `in`. Такой объект, тем не менее, формально не считается контейнером. \n",
    "```\n",
    "\n",
    "Например, списки являются контейнерами."
   ]
  },
  {
   "cell_type": "code",
   "execution_count": 11,
   "metadata": {},
   "outputs": [
    {
     "name": "stdout",
     "output_type": "stream",
     "text": [
      "True\n"
     ]
    }
   ],
   "source": [
    "print(0 in [1, 0, 2])"
   ]
  },
  {
   "attachments": {},
   "cell_type": "markdown",
   "metadata": {},
   "source": [
    "```{tip}\n",
    "Тест на принадлежность списку работает очень медленно. В большинстве ситуаций, если требуется часто проверять наличие элемента в коллекции, быстрее всего отработают множества ([set](https://docs.python.org/3/library/stdtypes.html#set)), которые используют хеш-таблицу для быстрого теста на принадлежность.\n",
    "```  \n",
    "\n",
    "### Итерируемый объект. `Iterable`\n",
    "\n",
    "Объект считается **итерируемым** (**`Iterable`**), если по нему можно пробежаться в цикле (**`iterate` over**). Т.е. `A` --- итерируемый объект, если можно написать следующее выражение. \n",
    "```python\n",
    "for x in A: \n",
    "    ...\n",
    "```\n",
    "\n",
    "Из изученных на первом занятии типов, списки и диапазоны являются итерируемыми объектами, а числа --- нет. \n",
    "\n",
    "Многие `python` функции ожидают в качестве аргумента итерируемый объект, т.к. возможности пробежаться по элементам итерируемого объекта достаточно для выполнения большинства операций. Например, из итерируемого объекта можно создать список функцией [list](https://docs.python.org/3/library/functions.html#func-list), к нему можно поэлементно применить функцию функцией [map](https://docs.python.org/3/library/functions.html#map), отфильтровать значения функцией [filter](https://docs.python.org/3/library/functions.html#filter), а при выполнении требования на однородность элементов можно искать минимальное и максимальное значения функциями [min](https://docs.python.org/3/library/functions.html#min) и [max](https://docs.python.org/3/library/functions.html#max), или получать упорядоченный список элементов функцией [sorted](https://docs.python.org/3/library/functions.html#sorted).    \n",
    "\n",
    "Кроме этого, из итерируемости объекта следует, что его допустимо использовать справа от ключевого слова `in`: если `python` видит, что объект целенаправленно не реализует интерфейс контейнера, то при тесте на принадлежность `python` пытается воспользоваться итерируемостью объекта. Действительно, можно в цикле сравнить каждый элемент итерируемого объекта с запрашиваем значением, и если хоть один совпал, вернуть истину. Ниже приводится функция `contains`, иллюстрирующая данную идею.  \n",
    "\n",
    "```python\n",
    "def contains(element, iterable):\n",
    "    for x in iterable:\n",
    "        if x == element:\n",
    "            return True\n",
    "    return False\n",
    "```\n",
    "\n",
    "В настоящем коде достаточно написать `element in iterable`, а `python` сам сгенерирует схожий код. \n",
    "\n",
    "```{warning}\n",
    "Такой поиск является очень медленным: чтобы убедиться в отсутствии значения в итерируемом объекте, придется сравнить это значение с каждым элементов. \n",
    "```\n",
    "\n",
    "### Объект ограниченной длины. `Sized`\n",
    "\n",
    "Объект считается **объектом ограниченной длины** (**`Sized`**), если у него можно спросить количество элементов (длина, размер, **`size`**) функцией [len](https://docs.python.org/3/library/functions.html#len). Т.е. `A` --- объект ограниченной длинны, если `len(A)` вычисляется без ошибок и возвращает целое неотрицательное число. \n",
    "\n",
    "Все коллекции в `python` удовлетворяют этому свойству, поэтому функцию `len` можно использовать с любой из них."
   ]
  },
  {
   "cell_type": "code",
   "execution_count": 14,
   "metadata": {},
   "outputs": [
    {
     "name": "stdout",
     "output_type": "stream",
     "text": [
      "3\n",
      "3\n",
      "3\n",
      "3\n"
     ]
    }
   ],
   "source": [
    "print(len((1, 2, 3)))\n",
    "print(len([1, 2, 3]))\n",
    "print(len(\"abc\"))\n",
    "print(len(range(3)))"
   ]
  },
  {
   "cell_type": "markdown",
   "metadata": {},
   "source": [
    "\n",
    "\n",
    "### Пример: контейнер, но не итерируемый и без длины\n",
    "\n",
    "В качестве примера рассмотрим класс `Interval`, экземпляры которого должны репрезентировать в программе математические интервалы, т.е. множества вида $(a, b)=\\{x\\in\\mathbb{R}\\mid a<x<b\\}$. Кроме наличия двух действительнозначных атрибутов `a` и `b`, отвечающих за границы интервала, логично для этого типа `Interval` перегрузить действие оператора `in` таким образом, чтобы оно проверяло вхождение числа слева от него в интервал справа от него.\n",
    "\n",
    "Ниже приводится возможное определение класса `Interval`, удовлетворяющее обозначенным требованиям. Пока можете не обращать внимание на эту ячейку, объявление пользовательских классов будет обсуждаться значительно позже.  "
   ]
  },
  {
   "cell_type": "code",
   "execution_count": 20,
   "metadata": {},
   "outputs": [
    {
     "name": "stdout",
     "output_type": "stream",
     "text": [
      "Interval(a=0, b=1)\n"
     ]
    }
   ],
   "source": [
    "from collections.abc import Container\n",
    "from dataclasses import dataclass\n",
    "\n",
    "\n",
    "@dataclass\n",
    "class Interval(Container):\n",
    "    a: float\n",
    "    b: float\n",
    "\n",
    "    def __contains__(self, x: float) -> bool:\n",
    "        return self.a < x < self.b\n",
    "\n",
    "interval = Interval(0, 1)\n",
    "print(interval)"
   ]
  },
  {
   "attachments": {},
   "cell_type": "markdown",
   "metadata": {},
   "source": [
    "Помимо самого объявления нового типа `Interval`, в ячейке выше также создан один экземпляр `interval` с параметрами `a=0` и `b=1`, который соответствует интервалу $(0, 1)$. Этот объект теперь можно использовать для определения принадлежности любого числа `x` интервалу $(0, 1)$ синтаксисом `x in interval`. "
   ]
  },
  {
   "cell_type": "code",
   "execution_count": 21,
   "metadata": {},
   "outputs": [
    {
     "name": "stdout",
     "output_type": "stream",
     "text": [
      "x=-0.5: contains=False\n",
      "x=0.5: contains=True\n",
      "x=1.5: contains=False\n"
     ]
    }
   ],
   "source": [
    "numbers = (-0.5, 0.5, 1.5)\n",
    "\n",
    "for x in numbers:\n",
    "    contains = x in interval\n",
    "    print(f\"{x=}: {contains=}\")\n"
   ]
  },
  {
   "attachments": {},
   "cell_type": "markdown",
   "metadata": {},
   "source": [
    "С формальной точки зрения такой объект является контейнером. Теперь зададимся вопросами: \n",
    "1. можно ли поставить в соответствие интервалу $(a, b)$ какое-то разумное значение длины? \n",
    "2. можно ли в каком-то разумном порядке пробежаться по числам из интервала $(a, b)$? \n",
    "\n",
    "Ответ на первый вопрос --- нет. Функция `len` должна возвращать неотрицательное целое число, т.к. её смысл --- количество элементов. Известно, что в отрезке $(a, b)$ находится бесконечное количество точек, поэтому `len` не может возвращать количество точек внутри отрезка (значение `+inf` может принимать только `float` в `python`). Математическая длина отрезка $b-a$ тоже не подходит, т.к. в общем случае эта величина является не целым числом (да и противоречило бы изначальному смыслу, вкладываемому в функцию `len`). В связи с этим разумно заключить, что `Interval` не является объектом ограниченной длины.\n",
    "\n",
    "Ответ на второй вопрос --- нет. Мало того, что внутри отрезка $(a, b)$ находится бесконечное множество чисел, так это множество ещё и не является [счетным](https://ru.wikipedia.org/wiki/%D0%A1%D1%87%D1%91%D1%82%D0%BD%D0%BE%D0%B5_%D0%BC%D0%BD%D0%BE%D0%B6%D0%B5%D1%81%D1%82%D0%B2%D0%BE) (более конкретно, оно является [континуумом](https://ru.wikipedia.org/wiki/%D0%9A%D0%BE%D0%BD%D1%82%D0%B8%D0%BD%D1%83%D1%83%D0%BC_(%D1%82%D0%B5%D0%BE%D1%80%D0%B8%D1%8F_%D0%BC%D0%BD%D0%BE%D0%B6%D0%B5%D1%81%D1%82%D0%B2))), что как раз и значит, что даже теоретически невозможно поставить в соответствие каждому числу из интервала $(a, b)$ уникальное натуральное число (его порядковый номер). В связи с этим разумно заключить, что `Interval` не является итерируемым объектом.\n",
    "\n",
    "Итого, такой объект имеет все полномочия называться контейнером, но он не удовлетворяет определениям итерируемого объекта и объекта ограниченной длины."
   ]
  },
  {
   "cell_type": "code",
   "execution_count": 29,
   "metadata": {},
   "outputs": [
    {
     "name": "stdout",
     "output_type": "stream",
     "text": [
      "True\n",
      "False\n",
      "False\n"
     ]
    }
   ],
   "source": [
    "from collections.abc import Container, Iterable, Sized\n",
    "\n",
    "print(isinstance(interval, Container))\n",
    "print(isinstance(interval, Iterable))\n",
    "print(isinstance(interval, Sized))"
   ]
  },
  {
   "attachments": {},
   "cell_type": "markdown",
   "metadata": {},
   "source": [
    "\n",
    "\n",
    "### Пример: итерируемый, но не контейнер и безграничный \n",
    "\n",
    "Забегая вперед, можно привести пример объекта, по которому можно пробежаться в цикле, но который не является контейнером и не имеет определенного размера. В `python` есть специальный тип **генераторов**, для создания которых даже предусмотрен свой специальный синтаксис (см. [](generators)). \n",
    "\n",
    "Генераторы очень похожи на итераторы, но в отличии от них по-требованию выдают не существующие элементы какого-то итерируемого объекта, а вычисляют новые значения по заданному правилу. Одна из основных идей, скрывающихся за генераторами, заключается в экономии памяти: вместо одновременного хранения всех элементов последовательности в памяти, достаточно хранить только рецепт для вычисления каждого следующего. \n",
    "\n",
    "В зависимости от того, какое правило использовалось при создании генератора, последовательность элементов, генерируемая им, может исчерпаться за конечное число шагов, а может длиться бесконечно. \n",
    "\n",
    "```{tip}\n",
    "Примером бесконечного генератора является [itertools.count](https://docs.python.org/3/library/itertools.html#itertools.count), который генерирует бесконечную арифметическую последовательность. \n",
    "```\n",
    "\n",
    "Внизу объявляется генератор `generator` (обратите на наличие ключевого слова `yield`), и демонстрируется, что по нему можно пробежаться в цикле."
   ]
  },
  {
   "cell_type": "code",
   "execution_count": 10,
   "metadata": {},
   "outputs": [
    {
     "name": "stdout",
     "output_type": "stream",
     "text": [
      "0 1 2 3 4 5 6 7 8 9 "
     ]
    }
   ],
   "source": [
    "def generator(n):\n",
    "    yield from range(n)\n",
    "\n",
    "for i in generator(10):\n",
    "    print(i, end=\" \")"
   ]
  },
  {
   "attachments": {},
   "cell_type": "markdown",
   "metadata": {},
   "source": [
    "При этом в общем случае невозможно автоматически заранее вычислить длину этой последовательности, хотя бы потому, что она может оказаться бесконечной. Поэтому генераторы не поддерживают вызов функции `len`, а значит не являются объектами ограниченной длины. Внизу демонстрируется этот факт."
   ]
  },
  {
   "cell_type": "code",
   "execution_count": 8,
   "metadata": {},
   "outputs": [
    {
     "ename": "TypeError",
     "evalue": "object of type 'generator' has no len()",
     "output_type": "error",
     "traceback": [
      "\u001b[1;31m---------------------------------------------------------------------------\u001b[0m",
      "\u001b[1;31mTypeError\u001b[0m                                 Traceback (most recent call last)",
      "Cell \u001b[1;32mIn[8], line 1\u001b[0m\n\u001b[1;32m----> 1\u001b[0m \u001b[39mlen\u001b[39;49m(generator(\u001b[39m10\u001b[39;49m))\n",
      "\u001b[1;31mTypeError\u001b[0m: object of type 'generator' has no len()"
     ]
    }
   ],
   "source": [
    "len(generator(10))"
   ]
  },
  {
   "attachments": {},
   "cell_type": "markdown",
   "metadata": {},
   "source": [
    "Проверить наличие элемента в генераторе, можно только воспользовавшись тем, что он итерируемый объект, т.к. в общем случае невозможно заранее предугадать будет ли такой элемент в генерируемой последовательности, особенно, если она бесконечная.\n",
    "\n",
    "Однако такое поведение является побочным проявлением итерируемости генераторов, и используя генераторы в качестве контейнеров, можно наткнуться на неожиданные эффекты. Посмотрите на следующий пример, две последовательные проверки вхождений `0` в один и тот же объект генератора `g` дают разный ответ. "
   ]
  },
  {
   "cell_type": "code",
   "execution_count": 13,
   "metadata": {},
   "outputs": [
    {
     "name": "stdout",
     "output_type": "stream",
     "text": [
      "True\n",
      "False\n"
     ]
    }
   ],
   "source": [
    "g = generator(10)\n",
    "print(0 in g)\n",
    "print(0 in g)"
   ]
  },
  {
   "attachments": {},
   "cell_type": "markdown",
   "metadata": {},
   "source": [
    "Кроме того, использование бесконечно генератора справа от ключевого слова `in` запустит бесконечный цикл. Ну и наконец, наиболее формальный ответ: у генераторов не перегружен метод `__contains__`, что отнимает у них право называться контейнером.\n",
    "\n",
    "Итого, генераторы являются итерируемыми объектами, но не контейнерами и не объектами ограниченной длины."
   ]
  },
  {
   "cell_type": "code",
   "execution_count": 27,
   "metadata": {},
   "outputs": [
    {
     "name": "stdout",
     "output_type": "stream",
     "text": [
      "False\n",
      "True\n",
      "False\n"
     ]
    }
   ],
   "source": [
    "from collections.abc import Container, Iterable, Sized\n",
    "\n",
    "print(isinstance(g, Container))\n",
    "print(isinstance(g, Iterable))\n",
    "print(isinstance(g, Sized))"
   ]
  },
  {
   "attachments": {},
   "cell_type": "markdown",
   "metadata": {},
   "source": [
    "\n",
    "## Коллекции \n",
    "\n",
    "**`Коллекция`** --- объект, который одновременно является **контейнером**, **итерируемым объектом** и **объектом ограниченный длинны**. \n",
    "```{figure} /_static/lecture_specific/types/collections_venn.svg\n",
    "```\n",
    "С бытовой точки зрения, коллекция --- нечто, хранящее в себе совокупность объектов. \n",
    "- Эта совокупность не может быть бесконечной, т.к. она физически хранится внутри коллекции, а значит должна быть ограниченного размера, т.е. допускает вызов функции `len`.\n",
    "- Т.к. эта совокупность ограничена, то мы всегда можем пробежаться по её элементам (например, в случайном порядке, хотя нередко этот порядок возникает естественным образом), а значит она должна являться итерируемым объектом.\n",
    "- Т.к. мы всегда можем пробежаться по её элементам, то мы всегда можем проверить наличия произвольного элемента в коллекции (например, просто сравнив каждый элемент коллекции на равенство в цикле), т.е. коллекция должна являться контейнером. \n",
    "\n",
    "Разработчики языка `python` смотрят на эту иерархию понятий, как на иерархию классов, где абстрактный класс [Collection](https://docs.python.org/3/library/collections.abc.html#collections.abc.Collection) наследуется от всех трех выше обозначенных абстрактных классов: [Container](https://docs.python.org/3/library/collections.abc.html#collections.abc.Container), [Iterable](https://docs.python.org/3/library/collections.abc.html#collections.abc.Iterable) и [Sized](https://docs.python.org/3/library/collections.abc.html#collections.abc.Sized).\n",
    "```{figure} /_static/lecture_specific/types/collections_hierarchy.svg\n",
    "```"
   ]
  },
  {
   "cell_type": "code",
   "execution_count": 26,
   "metadata": {},
   "outputs": [
    {
     "name": "stdout",
     "output_type": "stream",
     "text": [
      "True\n",
      "True\n",
      "True\n"
     ]
    }
   ],
   "source": [
    "from collections.abc import Collection, Container, Iterable, Sized\n",
    "\n",
    "print(issubclass(Collection, Container))\n",
    "print(issubclass(Collection, Iterable))\n",
    "print(issubclass(Collection, Sized))"
   ]
  },
  {
   "attachments": {},
   "cell_type": "markdown",
   "metadata": {},
   "source": [
    "```{note}\n",
    "Более конкретно, каждый абстрактный класс в иерархии задаёт интерфейс: только объекты, удовлетворяющие заданному интерфейсу, можно считать экземплярами этого класса. Все производные классы тоже обязаны удовлетворять этому интерфейсу, а значит экземпляры класса `Collection` должны одновременно удовлетворять интерфейсам классов `Container`, `Iterable` и `Sized`.\n",
    "```\n",
    "\n",
    "## Дальнейшее ветвление в иерархии\n",
    "\n",
    "Выше было перечисленно сравнительно большое количество объектов, являющихся коллекциями. Дальнейшая их классификация обычно производится по способу получения доступа к элементам. По такому принципу можно выделить два наиболее широких класса --- последовательности (`Sequence`) и отображения (`Mapping`), хотя ещё существуют множества (`Set`) и другие. \n",
    "\n",
    "```{figure} /_static/lecture_specific/types/sequence_vs_mapping.svg\n",
    "```"
   ]
  },
  {
   "cell_type": "code",
   "execution_count": 31,
   "metadata": {},
   "outputs": [
    {
     "name": "stdout",
     "output_type": "stream",
     "text": [
      "True\n",
      "True\n"
     ]
    }
   ],
   "source": [
    "from collections.abc import Collection, Sequence, Mapping\n",
    "\n",
    "print(issubclass(Sequence, Collection))\n",
    "print(issubclass(Mapping, Collection))"
   ]
  },
  {
   "attachments": {},
   "cell_type": "markdown",
   "metadata": {},
   "source": [
    "\n",
    "\n",
    "Про последовательности речь пойдет на следующей странице, а среди класса `Mapping` мы познакомимся только с одним представителем, но несколько позже (см. [](dictionaries))."
   ]
  }
 ],
 "metadata": {
  "kernelspec": {
   "display_name": "venv",
   "language": "python",
   "name": "python3"
  },
  "language_info": {
   "codemirror_mode": {
    "name": "ipython",
    "version": 3
   },
   "file_extension": ".py",
   "mimetype": "text/x-python",
   "name": "python",
   "nbconvert_exporter": "python",
   "pygments_lexer": "ipython3",
   "version": "3.10.7 (tags/v3.10.7:6cc6b13, Sep  5 2022, 14:08:36) [MSC v.1933 64 bit (AMD64)]"
  },
  "orig_nbformat": 4,
  "vscode": {
   "interpreter": {
    "hash": "eea3ef54c04064aa17c056cc2578c78db8b44278034b77b7225a3166c34cea02"
   }
  }
 },
 "nbformat": 4,
 "nbformat_minor": 2
}
