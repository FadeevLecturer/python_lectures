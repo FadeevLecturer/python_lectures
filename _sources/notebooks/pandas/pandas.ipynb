{
 "cells": [
  {
   "cell_type": "markdown",
   "metadata": {},
   "source": [
    "# Библиотека `pandas`\n",
    "\n",
    "[pandas](https://pandas.pydata.org/) ([**pan**el **da**ta](https://en.wikipedia.org/wiki/Panel_data)) --- самая популярная библиотека для работы с таблицами в `python`. `pandas` --- сторонняя библиотека, а значит требует дополнительной установки в общем случае, но входит в дистрибутив `anaconda`.\n",
    "\n",
    "```console\n",
    "conda install pandas\n",
    "```\n",
    "или \n",
    "```console\n",
    "python -m pip install pandas\n",
    "```\n",
    "\n",
    "При импортировании `pandas` часто пользуются псевдонимом `pd`.\n",
    "```python\n",
    "import pandas as pd\n",
    "```\n",
    "\n",
    "```{tip}\n",
    "Базовый туториал по работе с библиотекой от разработчиков можно найти [здесь](https://pandas.pydata.org/docs/getting_started/intro_tutorials/01_table_oriented.html#min-tut-01-tableoriented).\n",
    "\n",
    "Удобную шпаргалку по `pandas` можно найти [здесь](https://pandas.pydata.org/Pandas_Cheat_Sheet.pdf). \n",
    "```"
   ]
  },
  {
   "cell_type": "markdown",
   "metadata": {},
   "source": [
    "## Основные объекты `pandas`\n",
    "\n",
    "Своё название библиотека `pandas` берет от английского термина [**pan**el **da**ta](https://en.wikipedia.org/wiki/Panel_data) ([панельные данные](https://ru.wikipedia.org/wiki/%D0%9F%D0%B0%D0%BD%D0%B5%D0%BB%D1%8C%D0%BD%D1%8B%D0%B5_%D0%B4%D0%B0%D0%BD%D0%BD%D1%8B%D0%B5)). Своим названием `pandas` подсказывает то, как табличные данные представляются в ней. Дело в том, что в `pandas` существует асимметрия относительно строк и столбцов: чтобы таблицы в `pandas` работали эффективно, необходимо чтобы в столбцах этой таблицы были данные одинакового типа. В случае панельных данных, такой эффект достигается естественным образом, если поставить в соответствие каждой измеряемой величине столбец, а ось времени отложить вместе со строками. \n",
    "\n",
    "В `pandas` есть два основных типа объекта: `DataFrame` --- соответствует таблице, `Series` --- соответствует одному столбцу таблицы, но может существовать и сам по себе. \n",
    "\n",
    "```{figure} /_static/lecture_specific/pandas/hierarchy.svg\n",
    "```\n",
    "\n",
    "### `DataFrame`\n",
    "\n",
    "[DataFrame](https://pandas.pydata.org/docs/reference/api/pandas.DataFrame.html#pandas.DataFrame) --- двумерная структура данных, которая может хранить данные разных типов в столбцах. \n",
    "\n",
    "```{figure} /_static/lecture_specific/pandas/dataframe.svg\n",
    "```\n",
    "\n",
    "Больше всего `DataFrame` напоминает лист (`SpreadSheet`) из `Excel` таблицы или `SQL` таблицу. Объекты `DataFrame` изменяемы, но с некоторыми ограничениями. Можно изменять значения в ячейках таблицы, добавлять новые столбцы на месте, но для добавления строк придется создать новый объект. Ниже приведен пример таблицы `pandas`, созданной из `python` словаря.\n"
   ]
  },
  {
   "cell_type": "code",
   "execution_count": 1,
   "metadata": {},
   "outputs": [
    {
     "data": {
      "text/html": [
       "<div>\n",
       "<style scoped>\n",
       "    .dataframe tbody tr th:only-of-type {\n",
       "        vertical-align: middle;\n",
       "    }\n",
       "\n",
       "    .dataframe tbody tr th {\n",
       "        vertical-align: top;\n",
       "    }\n",
       "\n",
       "    .dataframe thead th {\n",
       "        text-align: right;\n",
       "    }\n",
       "</style>\n",
       "<table border=\"1\" class=\"dataframe\">\n",
       "  <thead>\n",
       "    <tr style=\"text-align: right;\">\n",
       "      <th></th>\n",
       "      <th>Name</th>\n",
       "      <th>Age</th>\n",
       "      <th>Sex</th>\n",
       "    </tr>\n",
       "  </thead>\n",
       "  <tbody>\n",
       "    <tr>\n",
       "      <th>0</th>\n",
       "      <td>Ivan</td>\n",
       "      <td>22</td>\n",
       "      <td>male</td>\n",
       "    </tr>\n",
       "    <tr>\n",
       "      <th>1</th>\n",
       "      <td>Alex</td>\n",
       "      <td>35</td>\n",
       "      <td>male</td>\n",
       "    </tr>\n",
       "    <tr>\n",
       "      <th>2</th>\n",
       "      <td>Jane</td>\n",
       "      <td>58</td>\n",
       "      <td>female</td>\n",
       "    </tr>\n",
       "  </tbody>\n",
       "</table>\n",
       "</div>"
      ],
      "text/plain": [
       "   Name  Age     Sex\n",
       "0  Ivan   22    male\n",
       "1  Alex   35    male\n",
       "2  Jane   58  female"
      ]
     },
     "execution_count": 1,
     "metadata": {},
     "output_type": "execute_result"
    }
   ],
   "source": [
    "import pandas as pd\n",
    "\n",
    "\n",
    "# Создание таблицы из словаря. \n",
    "# Ключи словаря используются в качестве названий столбцов\n",
    "# Значения используются в качестве содержимого таблицы\n",
    "df = pd.DataFrame(\n",
    "    {\n",
    "        \"Name\": [\"Ivan\",\"Alex\",\"Jane\"],\n",
    "        \"Age\": [22, 35, 58],\n",
    "        \"Sex\": [\"male\", \"male\", \"female\"],\n",
    "    }\n",
    ")\n",
    "\n",
    "df"
   ]
  },
  {
   "cell_type": "markdown",
   "metadata": {},
   "source": [
    "### `Series`\n",
    "\n",
    "Каждый столбец `DataFrame` --- [Series](https://pandas.pydata.org/docs/reference/api/pandas.Series.html#pandas.Series).\n",
    "\n",
    "```{figure} /_static/lecture_specific/pandas/series.svg\n",
    "```\n",
    "\n",
    "Код в ячейке ниже демонстрирует, что созданный ранее `DataFrame` состоит из трех `Series`, каждый из которых соответствует одному из столбцов таблицы."
   ]
  },
  {
   "cell_type": "code",
   "execution_count": 2,
   "metadata": {},
   "outputs": [
    {
     "name": "stdout",
     "output_type": "stream",
     "text": [
      "column_name='Name': <class 'pandas.core.series.Series'>\n",
      "0    Ivan\n",
      "1    Alex\n",
      "2    Jane\n",
      "Name: Name, dtype: object\n",
      "--------------------------------------------------------------------------------\n",
      "column_name='Age': <class 'pandas.core.series.Series'>\n",
      "0    22\n",
      "1    35\n",
      "2    58\n",
      "Name: Age, dtype: int64\n",
      "--------------------------------------------------------------------------------\n",
      "column_name='Sex': <class 'pandas.core.series.Series'>\n",
      "0      male\n",
      "1      male\n",
      "2    female\n",
      "Name: Sex, dtype: object\n",
      "--------------------------------------------------------------------------------\n"
     ]
    }
   ],
   "source": [
    "for column_name in df:\n",
    "    print(f\"{column_name=}: {type(df[column_name])}\")\n",
    "    print(df[column_name])\n",
    "    print(\"-\" * 80)"
   ]
  },
  {
   "cell_type": "markdown",
   "metadata": {},
   "source": [
    " Тип данных может отличаться в разных столбцах `DataFrame` объекта (таблицы), но должен быть одинаковым для всех значений `Series` объекта (столбца). \n",
    "\n",
    "\n",
    "Объект `pandas.Series` может существовать и вне таблицы (`DataFrame`). В целом он похож на одномерный `numpy.ndarray`, но имеет расширенный индекс. Ниже приводится пример создания `pd.Series` из списка целых чисел, которому в качестве индекса присваиваются строки.\n"
   ]
  },
  {
   "cell_type": "code",
   "execution_count": 3,
   "metadata": {},
   "outputs": [
    {
     "data": {
      "text/plain": [
       "Ivan    22\n",
       "Alex    35\n",
       "Jane    58\n",
       "dtype: int64"
      ]
     },
     "execution_count": 3,
     "metadata": {},
     "output_type": "execute_result"
    }
   ],
   "source": [
    "# Создание pd.Series из списка\n",
    "# В качестве индекса указывается массив строк\n",
    "age = pd.Series(\n",
    "    [22, 35, 58], \n",
    "    index=[\"Ivan\", \"Alex\", \"Jane\"]\n",
    ")\n",
    "\n",
    "age"
   ]
  },
  {
   "cell_type": "markdown",
   "metadata": {},
   "source": [
    "### Особенности индексирования в `pandas`\n",
    "\n",
    "Главным отличием от массивов `NumPy` заключается в том, что объекты в `pandas` индексированы специальным объектом [pd.index](https://pandas.pydata.org/docs/reference/api/pandas.Index.html). Благодаря этому таблицы и столбцы  можно удобно и эффективно индексировать не только целочисленным смещением, как в `NumPy`, но и строковыми значениями, датами, временными рядами и любыми другими хэшируемыми объектами. В ячейке ниже приводится пример такого индексирования: первое значение 22 столбца `age` имеет нулевое смещение от начала и записано под меткой `\"Ivan\"`, что позволяет получить это значение и по метке `\"Ivan\"` и по 0 индексу."
   ]
  },
  {
   "cell_type": "code",
   "execution_count": 4,
   "metadata": {},
   "outputs": [
    {
     "name": "stdout",
     "output_type": "stream",
     "text": [
      "age.iloc[0]=22\n",
      "age.loc['Ivan']=22\n"
     ]
    }
   ],
   "source": [
    "print(f\"{age.iloc[0]=}\") \n",
    "print(f\"{age.loc['Ivan']=}\")"
   ]
  },
  {
   "cell_type": "markdown",
   "metadata": {},
   "source": [
    " В этом отношении объекты `pandas` похожи на словари, так как они позволяют быстрый доступ к данным по индексу (как-бы ключу), но в отличие от словарей \n",
    "\n",
    "1. индекс может повторяться для разных строк таблицы/столбца (у словарей ключи уникальны);\n",
    "2. объекты `pandas` упорядочены, т.е. являются последовательностями и их элементы пронумерованы (словари не являются последовательностями).\n",
    "\n",
    "Кроме этого такая индексация позволяет без особых усилий со стороны программиста выравнивать данные из разных источников. Чтобы проиллюстрировать это, создадим несколько столбцов, иллюстрирующих оценки группы студентов по разным дисциплинам."
   ]
  },
  {
   "cell_type": "code",
   "execution_count": 6,
   "metadata": {},
   "outputs": [
    {
     "name": "stdout",
     "output_type": "stream",
     "text": [
      "Иванов     5\n",
      "Петров     3\n",
      "Сидоров    4\n",
      "Фадеев     2\n",
      "Name: Математика, dtype: object\n",
      "________________________________________________________________________________\n",
      "Сидоров    5\n",
      "Иванов     3\n",
      "Петров     4\n",
      "Name: Физика, dtype: object\n",
      "________________________________________________________________________________\n",
      "Петров     5\n",
      "Сидоров    3\n",
      "Иванов     4\n",
      "Name: Химия, dtype: object\n",
      "________________________________________________________________________________\n"
     ]
    }
   ],
   "source": [
    "math = pd.Series({\n",
    "    \"Иванов\": 5,\n",
    "    \"Петров\": 3,\n",
    "    \"Сидоров\": 4,\n",
    "    \"Фадеев\": 2\n",
    "}, name=\"Математика\", dtype=pd.Int8Dtype)\n",
    "\n",
    "physics = pd.Series({\n",
    "    \"Сидоров\": 5,\n",
    "    \"Иванов\": 3,\n",
    "    \"Петров\": 4\n",
    "}, name=\"Физика\", dtype=pd.Int8Dtype)\n",
    "\n",
    "chemistry = pd.Series({\n",
    "    \"Петров\": 5,\n",
    "    \"Сидоров\": 3,\n",
    "    \"Иванов\": 4\n",
    "}, name=\"Химия\", dtype=pd.Int8Dtype)\n",
    "\n",
    "for discipline in (math, physics, chemistry):\n",
    "    print(discipline)\n",
    "    print(\"_\"*80)\n"
   ]
  },
  {
   "cell_type": "markdown",
   "metadata": {},
   "source": [
    "Заметьте, что в каждом из столбцов студенты перечислены в разном порядке, а также студент \"Фадеев\" явился только на первый экзамен по математике, а остальные пропустил. Свести все эти столбцы в единую таблицу `pandas` очень легко именно из-за индекса."
   ]
  },
  {
   "cell_type": "code",
   "execution_count": 28,
   "metadata": {},
   "outputs": [
    {
     "data": {
      "text/html": [
       "<div>\n",
       "<style scoped>\n",
       "    .dataframe tbody tr th:only-of-type {\n",
       "        vertical-align: middle;\n",
       "    }\n",
       "\n",
       "    .dataframe tbody tr th {\n",
       "        vertical-align: top;\n",
       "    }\n",
       "\n",
       "    .dataframe thead th {\n",
       "        text-align: right;\n",
       "    }\n",
       "</style>\n",
       "<table border=\"1\" class=\"dataframe\">\n",
       "  <thead>\n",
       "    <tr style=\"text-align: right;\">\n",
       "      <th></th>\n",
       "      <th>Математика</th>\n",
       "      <th>Физика</th>\n",
       "      <th>Химия</th>\n",
       "    </tr>\n",
       "  </thead>\n",
       "  <tbody>\n",
       "    <tr>\n",
       "      <th>Иванов</th>\n",
       "      <td>5</td>\n",
       "      <td>3</td>\n",
       "      <td>4</td>\n",
       "    </tr>\n",
       "    <tr>\n",
       "      <th>Петров</th>\n",
       "      <td>3</td>\n",
       "      <td>4</td>\n",
       "      <td>5</td>\n",
       "    </tr>\n",
       "    <tr>\n",
       "      <th>Сидоров</th>\n",
       "      <td>4</td>\n",
       "      <td>5</td>\n",
       "      <td>3</td>\n",
       "    </tr>\n",
       "    <tr>\n",
       "      <th>Фадеев</th>\n",
       "      <td>2</td>\n",
       "      <td>NaN</td>\n",
       "      <td>NaN</td>\n",
       "    </tr>\n",
       "  </tbody>\n",
       "</table>\n",
       "</div>"
      ],
      "text/plain": [
       "        Математика Физика Химия\n",
       "Иванов           5      3     4\n",
       "Петров           3      4     5\n",
       "Сидоров          4      5     3\n",
       "Фадеев           2    NaN   NaN"
      ]
     },
     "execution_count": 28,
     "metadata": {},
     "output_type": "execute_result"
    }
   ],
   "source": [
    "grades = pd.DataFrame({\n",
    "    \"Математика\": math, \n",
    "    \"Физика\": physics, \n",
    "    \"Химия\": chemistry\n",
    "})\n",
    "\n",
    "grades"
   ]
  },
  {
   "cell_type": "markdown",
   "metadata": {},
   "source": [
    "За счет применения индекса при создании столбцов `math`, `physics` и `chemistry` библиотека `pandas` сама разобралась с выравниванием значений этих столбцов. Т.к. только в одном из столбцов присутствовала оценка по метке `\"Фадеев\"`, то библиотека `pandas` интерпретировало это так, будто бы в остальных столбцах значение по этой метке пропущено, что в `pandas` моделируется значением `NaN`.\n",
    "\n",
    "Ещё индексы могут быть многоуровневыми, что позволяет в ряде случаев элегантно представлять в табличном виде многомерные данные. "
   ]
  },
  {
   "cell_type": "code",
   "execution_count": 33,
   "metadata": {},
   "outputs": [
    {
     "data": {
      "text/html": [
       "<div>\n",
       "<style scoped>\n",
       "    .dataframe tbody tr th:only-of-type {\n",
       "        vertical-align: middle;\n",
       "    }\n",
       "\n",
       "    .dataframe tbody tr th {\n",
       "        vertical-align: top;\n",
       "    }\n",
       "\n",
       "    .dataframe thead th {\n",
       "        text-align: right;\n",
       "    }\n",
       "</style>\n",
       "<table border=\"1\" class=\"dataframe\">\n",
       "  <thead>\n",
       "    <tr style=\"text-align: right;\">\n",
       "      <th></th>\n",
       "      <th></th>\n",
       "      <th>Математика</th>\n",
       "      <th>Физика</th>\n",
       "      <th>Химия</th>\n",
       "    </tr>\n",
       "    <tr>\n",
       "      <th>Фамилия</th>\n",
       "      <th>Семестр</th>\n",
       "      <th></th>\n",
       "      <th></th>\n",
       "      <th></th>\n",
       "    </tr>\n",
       "  </thead>\n",
       "  <tbody>\n",
       "    <tr>\n",
       "      <th rowspan=\"2\" valign=\"top\">Иванов</th>\n",
       "      <th>Осень</th>\n",
       "      <td>5</td>\n",
       "      <td>4</td>\n",
       "      <td>5</td>\n",
       "    </tr>\n",
       "    <tr>\n",
       "      <th>Весна</th>\n",
       "      <td>4</td>\n",
       "      <td>5</td>\n",
       "      <td>5</td>\n",
       "    </tr>\n",
       "    <tr>\n",
       "      <th rowspan=\"2\" valign=\"top\">Петров</th>\n",
       "      <th>Осень</th>\n",
       "      <td>5</td>\n",
       "      <td>4</td>\n",
       "      <td>5</td>\n",
       "    </tr>\n",
       "    <tr>\n",
       "      <th>Весна</th>\n",
       "      <td>5</td>\n",
       "      <td>4</td>\n",
       "      <td>5</td>\n",
       "    </tr>\n",
       "    <tr>\n",
       "      <th rowspan=\"2\" valign=\"top\">Сидоров</th>\n",
       "      <th>Осень</th>\n",
       "      <td>4</td>\n",
       "      <td>5</td>\n",
       "      <td>5</td>\n",
       "    </tr>\n",
       "    <tr>\n",
       "      <th>Весна</th>\n",
       "      <td>4</td>\n",
       "      <td>5</td>\n",
       "      <td>5</td>\n",
       "    </tr>\n",
       "  </tbody>\n",
       "</table>\n",
       "</div>"
      ],
      "text/plain": [
       "                 Математика  Физика  Химия\n",
       "Фамилия Семестр                           \n",
       "Иванов  Осень             5       4      5\n",
       "        Весна             4       5      5\n",
       "Петров  Осень             5       4      5\n",
       "        Весна             5       4      5\n",
       "Сидоров Осень             4       5      5\n",
       "        Весна             4       5      5"
      ]
     },
     "execution_count": 33,
     "metadata": {},
     "output_type": "execute_result"
    }
   ],
   "source": [
    "from itertools import product\n",
    "\n",
    "grades = pd.DataFrame({\n",
    "    \"Математика\": [5, 4, 5, 5, 4, 4],\n",
    "    \"Физика\": [4, 5, 4, 4, 5, 5],\n",
    "    \"Химия\": [5, 5, 5, 5, 5, 5]\n",
    "    },\n",
    "    index=pd.MultiIndex.from_tuples(\n",
    "        list(product([\"Иванов\", \"Петров\", \"Сидоров\"], [\"Осень\", \"Весна\"])),\n",
    "        names=(\"Фамилия\", \"Семестр\")\n",
    "    )\n",
    ")\n",
    "\n",
    "grades"
   ]
  },
  {
   "cell_type": "markdown",
   "metadata": {},
   "source": [
    "\n",
    "\n",
    "Ниже выводятся индексы созданных ранее объектов `pandas`. \n",
    "\n",
    "Индекс таблицы сгенерировался автоматически, т.к. не был явно указан при создании. В таком случае всегда генерируется `RangeIndex`, который в точности соответствует обычному индексу смещения относительно начала."
   ]
  },
  {
   "cell_type": "code",
   "execution_count": 17,
   "metadata": {},
   "outputs": [
    {
     "data": {
      "text/plain": [
       "RangeIndex(start=0, stop=3, step=1)"
      ]
     },
     "execution_count": 17,
     "metadata": {},
     "output_type": "execute_result"
    }
   ],
   "source": [
    "df.index"
   ]
  },
  {
   "cell_type": "markdown",
   "metadata": {},
   "source": [
    "Индекс столбца `Age` соответствует переданному при создании списку имён.  "
   ]
  },
  {
   "cell_type": "code",
   "execution_count": 18,
   "metadata": {},
   "outputs": [
    {
     "data": {
      "text/plain": [
       "Index(['Ivan', 'Alex', 'Jane'], dtype='object')"
      ]
     },
     "execution_count": 18,
     "metadata": {},
     "output_type": "execute_result"
    }
   ],
   "source": [
    "age.index"
   ]
  }
 ],
 "metadata": {
  "kernelspec": {
   "display_name": "Python 3.9.12 ('venv': venv)",
   "language": "python",
   "name": "python3"
  },
  "language_info": {
   "codemirror_mode": {
    "name": "ipython",
    "version": 3
   },
   "file_extension": ".py",
   "mimetype": "text/x-python",
   "name": "python",
   "nbconvert_exporter": "python",
   "pygments_lexer": "ipython3",
   "version": "3.9.12"
  },
  "orig_nbformat": 4,
  "vscode": {
   "interpreter": {
    "hash": "4764a2e9c2ab0c238deafcd5fe5089e08560fff2af75074975b87e9e493b44ea"
   }
  }
 },
 "nbformat": 4,
 "nbformat_minor": 2
}
