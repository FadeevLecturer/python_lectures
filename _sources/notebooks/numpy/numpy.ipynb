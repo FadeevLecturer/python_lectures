{
 "cells": [
  {
   "cell_type": "markdown",
   "metadata": {},
   "source": [
    "# Знакомство с `NumPy`\n",
    "\n",
    "Первая сторонняя библиотека, с которой мы познакомимся --- [NumPy](https://numpy.org/) (Numerical Python).\n",
    "\n",
    "Библиотека `NumPy` предоставляет доступ к многомерным массивам однородных данных (одного типа, обычно числа), подобным массивам `C/C++`, и к методам их обработки. На самом деле, под капотом эти самые массивы реализованы с помощью динамических массивов `C/C++`, которые в отличие от списков, хранят непосредственно данные, а не указатели на них. \n",
    "\n",
    "## Зачем нужен `NumPy`\n",
    "\n",
    "Необходимость в специальной библиотеке для работы с большими массивами чисел возникает из-за скорости работы `python`. За гибкость, выразительность, динамическую типизацию и многие другие достоинства, `python` приходится платить скоростью: код написанные на `python`, практически всегда будет работать медленнее, чем аналогичный код, написанный на `C/C++`. Проще всего продемонстрировать это на примере с громоздкими циклами. \n",
    "\n",
    "\n",
    "````{tabbed} c++\n",
    "```c++\n",
    "#include <iostream>\n",
    "#include <chrono>\n",
    "#include <vector>\n",
    "#include <random>\n",
    "#define N 10000000\n",
    "\n",
    "int main(){\n",
    "    // Готовим генератор случайных чисел в промежутке от -1 до 1\n",
    "    std::random_device rd;\n",
    "    std::mt19937 gen(rd());\n",
    "    std::uniform_real_distribution<> dis(-1.0, 1.0);\n",
    "    \n",
    "    // Создаём массивы случайных чисел\n",
    "    std::vector<double> a(N), b(N), c(N);\n",
    "    for(int i=0; i < N; ++i){\n",
    "        a[i] = dis(gen);\n",
    "        b[i] = dis(gen);\n",
    "    }\n",
    "\t\n",
    "    // Измеряем время сложения векторов\n",
    "    auto t1 = std::chrono::high_resolution_clock::now();\n",
    "    \n",
    "    for(int i = 0; i < N; ++i)\n",
    "        c[i] = a[i] + b[i];\n",
    "        \n",
    "    auto t2 = std::chrono::high_resolution_clock::now();\n",
    "    \n",
    "    auto ms_int = std::chrono::duration_cast<std::chrono::milliseconds>(t2 - t1);\n",
    "    std::cout << ms_int.count() << \" ms\";\n",
    "}\n",
    "```\n",
    "````\n",
    "````{tabbed} python\n",
    "```python\n",
    "from time import perf_counter\n",
    "from random import uniform\n",
    "\n",
    "\n",
    "N = 10_000_000\n",
    "\n",
    "# Создаём списки случайных чисел\n",
    "a = [uniform(-1, 1) for i in range(N)] # новый синтаксис, список случайных чисел\n",
    "b = [uniform(-1, 1) for i in range(N)]\n",
    "c = [0.] * N \n",
    "\n",
    "# Измеряем время сложения этих списков\n",
    "t1 = perf_counter()\n",
    "\n",
    "for i in range(N):\n",
    "    c[i] = a[i] + b[i]\n",
    "        \n",
    "t2 = perf_counter()\n",
    "print(f\"{(t2 - t1) * 1000} ms\") # perf_counter() - время в секундах\n",
    "```\n",
    "````\n",
    "\n",
    "\n",
    "\n",
    "```{note}\n",
    "Документацию по модулю `time` можно найти [по этой ссылке](https://docs.python.org/3/library/time.html), а по модулю `random` [по этой ссылке](https://docs.python.org/3/library/random.html). \n",
    "```\n",
    "\n",
    "Выше приведено содержимое двух файлов с исходным кодом, каждый из которых складывает два вектора чисел размерности $10^8$. \n",
    "1. Первый файл на языке `C++` использует для представления векторов в программе [std::vector](https://en.cppreference.com/w/cpp/container/vector). \n",
    "2. Второй файл на языке `python` использует для представления векторов в программе списки.\n",
    "\n",
    "Эти файлы располагаются [по ссылке](/scripts/numpy/) и могут быть запущены следующему командами в командной строке.\n",
    "```sh\n",
    "g++ loops.cpp -O2 -o loops\n",
    ".\\loops.exe\n",
    "python loops.py\n",
    "```\n",
    "\n",
    "В среднем я получил следующие результаты.\n",
    "|`C++`   |`python`|\n",
    "| :---:  | :---:  |\n",
    "|  25 ms | 1700 ms|\n",
    "\n",
    "```{note}\n",
    "Вообще говоря, на эти цифры может повлиять огромное количество факторов, в том числе и случайных. Тем не менее разница настолько явная, что качественная картина ясна: циклы в `C/C++` работают заметно быстрее, чем в `python`.\n",
    "```\n",
    "\n",
    "\"Среднее\" приложение на `python` не сталкивается с обработкой больших объемов данных и обычно разница в производительности компенсируется затраченным на реализацию алгоритма временем. Но научные вычисления очень часто представляют собой \"программы по перемолке чисел\" и такое замедление существенно. \n",
    "\n",
    "Чтобы совместить скорость компилируемого языка и удобство `python` многие библиотеки поставляются вместе со скомпилированными модулями, написанными на `C/++` (или другом компилируемом языке), а в `python` \"прокидывают\" интерфейс для взаимодействия с ними. \n",
    "\n",
    "## Установка `NumPy`\n",
    "\n",
    "В `anaconda` `NumPy` установлен по умолчанию, а установить его с помощью `PyPI` можно следующим образом: \n",
    "\n",
    "```zsh\n",
    "python -m pip install numpy\n",
    "```\n",
    "\n",
    "Установив `NumPy`, чтобы пользоваться им в программе, необходимо его импортировать."
   ]
  },
  {
   "cell_type": "code",
   "execution_count": 3,
   "metadata": {},
   "outputs": [],
   "source": [
    "import numpy as np"
   ]
  },
  {
   "cell_type": "markdown",
   "metadata": {},
   "source": [
    "Библиотека `NumPy` используется настолько часто и настолько многими, что сложилась традиция импортировать `NumPy` с псевдонимом `np`. Любой программист, увидев где-то в коде выражение вида `np.some_method()` догадается, что вызывается метод `some_method` из библиотеки `NumPy` и ему не потребуется искать глазами определение объекта `np`, чтобы понять, что скрывается за этим именем."
   ]
  },
  {
   "cell_type": "markdown",
   "metadata": {},
   "source": [
    "## О массивах `NumPy`. Тип данных, размерность, оси и форма.\n",
    "\n",
    "В ячейке ниже создаётся массив `NumPy` из случайных чисел. Можете пока не вникать, как конкретно он создаётся. Важно лишь понять, что имя `array` связывается с каким-то массивом `NumPy`."
   ]
  },
  {
   "cell_type": "code",
   "execution_count": 4,
   "metadata": {},
   "outputs": [
    {
     "name": "stdout",
     "output_type": "stream",
     "text": [
      "[[0.5971054  0.44687181 0.63247176]\n",
      " [0.20003964 0.08926428 0.99762199]]\n"
     ]
    }
   ],
   "source": [
    "array = np.random.random(size=(2, 3))\n",
    "print(array)"
   ]
  },
  {
   "cell_type": "markdown",
   "metadata": {},
   "source": [
    "Массивы в библиотеке представляются типом [numpy.ndarray](https://numpy.org/doc/stable/reference/generated/numpy.ndarray.html) (**n** **d**imensional **array**, n-мерный массив)."
   ]
  },
  {
   "cell_type": "code",
   "execution_count": 6,
   "metadata": {},
   "outputs": [
    {
     "name": "stdout",
     "output_type": "stream",
     "text": [
      "type(array)=<class 'numpy.ndarray'>\n"
     ]
    }
   ],
   "source": [
    "print(f\"{type(array)=}\")"
   ]
  },
  {
   "cell_type": "markdown",
   "metadata": {},
   "source": [
    "Тип `ndarray` является типизированным контейнером данных, т.е. он предназначен для хранения данных одного и того же типа данных. Тип данных массива хранится в атрибуте `dtype` (**d**ata **type**). Этих типов может быть много, но большинство из них --- стандартные числовые типы `C/C++`: `np.bool8`, `np.int8`, `np.int16`, `np.int32`, `np.int64`, `np.unit8`, `np.unit16`, `np.unit32`, `np.uint64`, `np.float16`, `np.float32`, `np.float64`, `np.complex64`, `np.complex128` ([подробнее про типы данных](https://numpy.org/doc/stable/user/basics.types.html)). \n",
    "\n",
    "```{note}\n",
    "Целые числа в массивах `NumPy` введут себя совсем не как тип `int` из `python`: они всегда занимают определенное количество байт и могут переполняться, т.е. совпадают с целочисленными типами из `C/C++`. \n",
    "```\n",
    "\n",
    "```{note}\n",
    "Вообще говоря, в массивах `NumPy` можно хранить и объекты произвольного типа, но тогда вместо самих объектов, в массиве будут храниться ссылки на них. Чаще всего массивы `NumPy` используются все же для хранения чисел.\n",
    "```"
   ]
  },
  {
   "cell_type": "code",
   "execution_count": 7,
   "metadata": {},
   "outputs": [
    {
     "name": "stdout",
     "output_type": "stream",
     "text": [
      "array.dtype=dtype('float64')\n"
     ]
    }
   ],
   "source": [
    "print(f\"{array.dtype=}\")"
   ]
  },
  {
   "cell_type": "markdown",
   "metadata": {},
   "source": [
    "Исходя из значения атрибута `dtype` массива `array` можно понять, что он хранит в себе 64-битные числа с плавающей запятой.\n",
    "\n",
    "Ещё `NumPy` массивы хранят количество своих измерений в атрибуте `ndim` (**n**umber of **dim**ensions). Массивы `NumPy` могут быть любой размерности: одномерные массивы часто используются для представления векторов, двумерные --- для представления матриц и таблиц, массивы более высоких размерностей --- для представления тензоров, массивы любых размерностей часто используются для представления значений некоторой функции векторного аргумента на сетке в многомерном пространстве."
   ]
  },
  {
   "cell_type": "code",
   "execution_count": 8,
   "metadata": {},
   "outputs": [
    {
     "name": "stdout",
     "output_type": "stream",
     "text": [
      "array.ndim=2\n"
     ]
    }
   ],
   "source": [
    "print(f\"{array.ndim=}\")"
   ]
  },
  {
   "cell_type": "markdown",
   "metadata": {},
   "source": [
    "Исходя из значения атрибута `ndim` массива `array` видим, что он является двухмерным.\n",
    "\n",
    "Ещё обязательный атрибут массивов `NumPy` --- форма (`shape`) --- размеры массива вдоль каждого измерения. Эти измерения называются осями (`axis` в ед. числе и `axes` в мн. числе)."
   ]
  },
  {
   "cell_type": "code",
   "execution_count": 9,
   "metadata": {},
   "outputs": [
    {
     "name": "stdout",
     "output_type": "stream",
     "text": [
      "array.shape=(2, 3)\n"
     ]
    }
   ],
   "source": [
    "print(f\"{array.shape=}\")"
   ]
  },
  {
   "cell_type": "markdown",
   "metadata": {},
   "source": [
    "Атрибут `shape` массива `array` говорит нам, что у него есть 2 элемента вдоль первого измерения и 3 вдоль второго. Иными словами можно сказать, что это таблица из двух строк и трех столбцов.\n",
    "\n",
    "Общее количество элементов в массиве (произведение количеств элементов вдоль каждой из осей) хранится в атрибуте `size`."
   ]
  },
  {
   "cell_type": "code",
   "execution_count": 10,
   "metadata": {},
   "outputs": [
    {
     "name": "stdout",
     "output_type": "stream",
     "text": [
      "array.size=6\n"
     ]
    }
   ],
   "source": [
    "print(f\"{array.size=}\")"
   ]
  },
  {
   "cell_type": "markdown",
   "metadata": {},
   "source": [
    "\n",
    "\n",
    "Все массивы должны быть выравненными, т.е. не может быть матрицы со строками разных длин, трехмерного массива из матриц разных размеров и т.п. \n",
    "\n",
    "Картинка ниже наглядно иллюстрирует смысл всех только-что введенных понятий.\n",
    "```{figure} /_static/lecture_specific/numpy/ndarrays.png\n",
    "```\n",
    "\n",
    "## Создание массивов\n",
    "\n",
    "Создавать массивы `NumPy` --- `ndarray` --- можно огромным количеством образом, но для их создания редко используется конструктор самого типа. Вместо этого гораздо чаще используются другие методы. Например, метод [numpy.array](https://numpy.org/doc/stable/reference/generated/numpy.array.html) конструирует `ndarray` из других объектов. \n",
    "\n",
    "Чаще всего он используется для создания массивов `NumPy` из `python` списков чисел. Тип данных выводится как самый общий тип данных, если он не указан явно именованным параметром `dtype`.  \n",
    "\n",
    "Ниже создаётся одномерный массив из списка четырёх чисел. При этом тип данных явно не указывается и в итоге получается массив чисел с плавающей точкой (`float64`), т.к. в исходном списке были числа типа `int` и `float`."
   ]
  },
  {
   "cell_type": "code",
   "execution_count": 41,
   "metadata": {},
   "outputs": [
    {
     "name": "stdout",
     "output_type": "stream",
     "text": [
      "array([1., 2., 3., 4.])\n",
      "a1D.dtype=dtype('float64')\n",
      "a1D.ndim=1\n",
      "a1D.shape=(4,)\n"
     ]
    }
   ],
   "source": [
    "a1D = np.array([1., 2, 3, 4]) \n",
    "print(repr(a1D)) \n",
    "print(f\"{a1D.dtype=}\")\n",
    "print(f\"{a1D.ndim=}\")\n",
    "print(f\"{a1D.shape=}\")"
   ]
  },
  {
   "cell_type": "markdown",
   "metadata": {},
   "source": [
    "В ячейке ниже демонстрируется, как создаются двухмерные массивы. Для этого ей на вход передаются списки списков, где каждый вложенный список --- строка будущей таблицы. Т.к. внутри всех этих списков находятся только целые числа, то итоговый тип массива тоже целочисленный."
   ]
  },
  {
   "cell_type": "code",
   "execution_count": 42,
   "metadata": {},
   "outputs": [
    {
     "name": "stdout",
     "output_type": "stream",
     "text": [
      "array([[1, 2],\n",
      "       [3, 4]])\n",
      "a2D.dtype=dtype('int32')\n",
      "a2D.ndim=2\n",
      "a2D.shape=(2, 2)\n"
     ]
    }
   ],
   "source": [
    "a2D = np.array([[1, 2], [3, 4]]) \n",
    "print(repr(a2D)) \n",
    "print(f\"{a2D.dtype=}\")\n",
    "print(f\"{a2D.ndim=}\")\n",
    "print(f\"{a2D.shape=}\")"
   ]
  },
  {
   "cell_type": "markdown",
   "metadata": {},
   "source": [
    "Трехмерные массивы создаются по аналогии. В ячейке ниже приводится пример. Обратите внимание, что все числа в передаваемом списке списков списков целочисленного типа, но результирующий массив получается типа `float32`, т.к. этот тип явно указан при создании массива."
   ]
  },
  {
   "cell_type": "code",
   "execution_count": 43,
   "metadata": {},
   "outputs": [
    {
     "name": "stdout",
     "output_type": "stream",
     "text": [
      "array([[[1., 2.],\n",
      "        [3., 4.]],\n",
      "\n",
      "       [[5., 6.],\n",
      "        [7., 8.]]], dtype=float32)\n",
      "a3D.dtype=dtype('float32')\n",
      "a3D.ndim=3\n",
      "a3D.shape=(2, 2, 2)\n"
     ]
    }
   ],
   "source": [
    "a3D = np.array([[[1, 2], [3, 4]], [[5, 6], [7, 8]]], dtype=np.float32) \n",
    "print(repr(a3D)) \n",
    "print(f\"{a3D.dtype=}\")\n",
    "print(f\"{a3D.ndim=}\")\n",
    "print(f\"{a3D.shape=}\")"
   ]
  },
  {
   "cell_type": "markdown",
   "metadata": {},
   "source": [
    "Так же есть ряд встроенных функций, создающих массивы. Каждая из них принимает в качестве опционального аргумента `dtype`.\n",
    "\n",
    "|Метод | Аргументы | Описание|\n",
    "| :---: | --- | :---: |\n",
    "|[np.arange](https://numpy.org/doc/stable/reference/generated/numpy.arange.html#numpy.arange)| `start`, `stop`, `end` | Аналог `np.array(range)`, но можно использовать `float` в качестве аргументов |\n",
    "|[np.linspace](https://numpy.org/doc/stable/reference/generated/numpy.linspace.html#numpy.linspace)| `start`, `stop`, `num`, `endpoint=True` | Разбиение отрезка [`start`, `stop`] на `num` отрезков, если передать в качестве `endpoint=False`, то последняя точка не включается |\n",
    "|[np.zeros](https://numpy.org/doc/stable/reference/generated/numpy.zeros.html#numpy.zeros) | `shape` | Массив заданной формы из нулей |\n",
    "|[np.ones](https://numpy.org/doc/stable/reference/generated/numpy.ones.html#numpy.ones)| `shape` | Массив заданной формы из единиц |\n",
    "|[np.random](https://numpy.org/doc/stable/reference/random/generated/numpy.random.Generator.random.html#numpy.random.Generator.random)|| Не метод, а подмодуль, содержащий методы создания массивов случайных значений | \n",
    "|[np.eye](https://numpy.org/doc/stable/reference/generated/numpy.eye.html#numpy.eye) |`n`, `m` | Если `m` не указан, то квадратная единичная матрица размера `nxn`, иначе нулевая матрица размера `nxm` с единицами на диагонали|\n",
    "|[np.diag](https://numpy.org/doc/stable/reference/generated/numpy.diag.html#numpy.diag)|`v`, `k=0` | Матрица с вектором `v` на главной диагонали (`k=0`) или на `k`-й диагонали |\n",
    "|[np.vand](https://numpy.org/doc/stable/reference/generated/numpy.vander.html#numpy.vander)|`x`, `N=None`, `increasing=False`| Матрица Вандермонда из вектора `x`|\n",
    "\n",
    "Продемонстрируем ключевые из них. Массив из нулей создаётся методом [np.zeros](https://numpy.org/doc/stable/reference/generated/numpy.zeros.html#numpy.zeros), который на вход принимает форму массива."
   ]
  },
  {
   "cell_type": "code",
   "execution_count": 30,
   "metadata": {},
   "outputs": [
    {
     "name": "stdout",
     "output_type": "stream",
     "text": [
      "[[0. 0.]\n",
      " [0. 0.]]\n"
     ]
    }
   ],
   "source": [
    "zeros = np.zeros(shape=(2, 2))\n",
    "print(zeros)"
   ]
  },
  {
   "cell_type": "markdown",
   "metadata": {},
   "source": [
    "Функция [np.ones](https://numpy.org/doc/stable/reference/generated/numpy.ones.html#numpy.ones) делает тоже самое, но создаёт массив из единиц."
   ]
  },
  {
   "cell_type": "code",
   "execution_count": 34,
   "metadata": {},
   "outputs": [
    {
     "name": "stdout",
     "output_type": "stream",
     "text": [
      "[[1. 1.]\n",
      " [1. 1.]]\n"
     ]
    }
   ],
   "source": [
    "ones = np.ones(shape=(2, 2))\n",
    "print(ones)"
   ]
  },
  {
   "cell_type": "markdown",
   "metadata": {},
   "source": [
    "Функция [np.eye](https://numpy.org/doc/stable/reference/generated/numpy.eye.html#numpy.eye) часто создаётся для создания единичных матриц."
   ]
  },
  {
   "cell_type": "code",
   "execution_count": 33,
   "metadata": {},
   "outputs": [
    {
     "name": "stdout",
     "output_type": "stream",
     "text": [
      "[[1. 0.]\n",
      " [0. 1.]]\n"
     ]
    }
   ],
   "source": [
    "eye = np.eye(2)\n",
    "print(eye)"
   ]
  },
  {
   "cell_type": "markdown",
   "metadata": {},
   "source": [
    "Функция [np.diag](https://numpy.org/doc/stable/reference/generated/numpy.diag.html#numpy.diag) конструирует диагональную матрицу, используя для заполнения диагонали элементы из переданного ей массива."
   ]
  },
  {
   "cell_type": "code",
   "execution_count": 35,
   "metadata": {},
   "outputs": [
    {
     "name": "stdout",
     "output_type": "stream",
     "text": [
      "[[ 3.14  0.  ]\n",
      " [ 0.   42.  ]]\n"
     ]
    }
   ],
   "source": [
    "diag = np.diag([3.14, 42])\n",
    "print(diag)"
   ]
  },
  {
   "cell_type": "markdown",
   "metadata": {},
   "source": [
    "\n",
    "\n",
    "Кроме того, существует ряд методов, позволяющих создавать массивы из других массивов.\n",
    "\n",
    "|Метод | Описание|\n",
    "| :--- | ---: |\n",
    "|[np.hstack](https://numpy.org/doc/stable/reference/generated/numpy.hstack.html#numpy.hstack)| Присоединение массивов вдоль строк|\n",
    "|[np.vstack](https://numpy.org/doc/stable/reference/generated/numpy.vstack.html#numpy.vstack)| Присоединение массивов вдоль столбцов |\n",
    "|[np.dstack](https://numpy.org/doc/stable/reference/generated/numpy.dstack.html#numpy.dstack)| Присоединение массивов \"в глубину\" |\n",
    "|[np.block](https://numpy.org/doc/stable/reference/generated/numpy.hstack.html#numpy.hstack) | Составление массива из блоков |\n",
    "\n",
    "Продемонстрируем метод [np.block](https://numpy.org/doc/stable/reference/generated/numpy.hstack.html#numpy.block), который позволяет создавать массивы из блоков, в качестве которых могут выступать другие массивы."
   ]
  },
  {
   "cell_type": "code",
   "execution_count": 37,
   "metadata": {},
   "outputs": [
    {
     "name": "stdout",
     "output_type": "stream",
     "text": [
      "[[ 0.    0.    1.    1.  ]\n",
      " [ 0.    0.    1.    1.  ]\n",
      " [ 1.    0.    3.14  0.  ]\n",
      " [ 0.    1.    0.   42.  ]]\n"
     ]
    }
   ],
   "source": [
    "print(np.block([[zeros, ones], [eye, diag]]))"
   ]
  },
  {
   "cell_type": "markdown",
   "metadata": {},
   "source": [
    "Более подробно о создании массивов `NumPy` можно почитать по [ссылке](https://numpy.org/doc/stable/user/basics.creation.html).\n",
    "\n",
    "## Арифметические операции над массивами `NumPy`\n",
    "\n",
    "Все основные арифметические операторы (`+`, `-`, `*`, `/`, `//`, `%`, `**`) перегружены для работы с массивами. Определим скаляр и вектор, чтобы разобраться, какие действия они позволяют выполнять."
   ]
  },
  {
   "cell_type": "code",
   "execution_count": 27,
   "metadata": {},
   "outputs": [],
   "source": [
    "x = np.array([3, 13, 42])\n",
    "alpha = 7"
   ]
  },
  {
   "cell_type": "markdown",
   "metadata": {},
   "source": [
    "### Массив и скаляр\n",
    "\n",
    "Если в арифметическом выражении участвуют скаляр и массив, то результатом является массив значений поэлементного применения указанной арифметической операции с скаляром. Т.е., можно, например, умножить массив на число."
   ]
  },
  {
   "cell_type": "code",
   "execution_count": 28,
   "metadata": {},
   "outputs": [
    {
     "name": "stdout",
     "output_type": "stream",
     "text": [
      "alpha * x = array([ 21,  91, 294])\n",
      "x * alpha = array([ 21,  91, 294])\n"
     ]
    }
   ],
   "source": [
    "print(f\"{alpha * x = }\")\n",
    "print(f\"{x * alpha = }\")"
   ]
  },
  {
   "cell_type": "markdown",
   "metadata": {},
   "source": [
    "Или сложить вектор с числом поэлементно."
   ]
  },
  {
   "cell_type": "code",
   "execution_count": 29,
   "metadata": {},
   "outputs": [
    {
     "name": "stdout",
     "output_type": "stream",
     "text": [
      "alpha + x = array([10, 20, 49])\n",
      "x + alpha = array([10, 20, 49])\n",
      "\n",
      "alpha - x = array([  4,  -6, -35])\n",
      "x - alpha = array([-4,  6, 35])\n"
     ]
    }
   ],
   "source": [
    "print(f\"{alpha + x = }\")\n",
    "print(f\"{x + alpha = }\")\n",
    "\n",
    "print()\n",
    "\n",
    "print(f\"{alpha - x = }\")\n",
    "print(f\"{x - alpha = }\")"
   ]
  },
  {
   "cell_type": "markdown",
   "metadata": {},
   "source": [
    "Можно поделить и вектор на число и число на вектор."
   ]
  },
  {
   "cell_type": "code",
   "execution_count": 30,
   "metadata": {},
   "outputs": [
    {
     "name": "stdout",
     "output_type": "stream",
     "text": [
      "alpha / x = array([2.33333333, 0.53846154, 0.16666667])\n",
      "x / alpha = array([0.42857143, 1.85714286, 6.        ])\n"
     ]
    }
   ],
   "source": [
    "print(f\"{alpha / x = }\")\n",
    "print(f\"{x / alpha = }\")"
   ]
  },
  {
   "cell_type": "markdown",
   "metadata": {},
   "source": [
    "Естественно можно делать и все остальные арифметические операции."
   ]
  },
  {
   "cell_type": "code",
   "execution_count": 31,
   "metadata": {},
   "outputs": [
    {
     "name": "stdout",
     "output_type": "stream",
     "text": [
      "alpha // x = array([2, 0, 0], dtype=int32)\n",
      "x // alpha = array([0, 1, 6], dtype=int32)\n",
      "\n",
      "alpha % x = array([1, 7, 7], dtype=int32)\n",
      "x % alpha = array([3, 6, 0], dtype=int32)\n",
      "\n",
      "alpha ** x = array([        343, -1895237401,  1626129905], dtype=int32)\n",
      "x ** alpha = array([       2187,    62748517, -1388900736], dtype=int32)\n"
     ]
    }
   ],
   "source": [
    "print(f\"{alpha // x = }\")\n",
    "print(f\"{x // alpha = }\")\n",
    "\n",
    "print()\n",
    "\n",
    "print(f\"{alpha % x = }\")\n",
    "print(f\"{x % alpha = }\")\n",
    "\n",
    "print()\n",
    "\n",
    "print(f\"{alpha ** x = }\")\n",
    "print(f\"{x ** alpha = }\")"
   ]
  },
  {
   "cell_type": "markdown",
   "metadata": {},
   "source": [
    "```{note}\n",
    "При возведение в степень в последней ячейке произошло переполнение целого числа.\n",
    "```\n",
    "\n",
    "\n",
    "### Массив и массив\n",
    "\n",
    "Если в выражении участвует два массива, то они должны быть одинаковой формы, а арифметическая операция все равно применяется поэлементно.\n",
    "\n",
    "\n",
    "```{note}\n",
    "Важно запомнить, что все арифметические операторы выполняют поэлементное преобразование. Это в каком-то смысле является стандартным поведением `NumPy` и многие другие действия `NumPy` выполняет поэлементно.  Далее рассматривается матричное умножение --- принципиально не поэлементная операция.  \n",
    "```"
   ]
  },
  {
   "cell_type": "code",
   "execution_count": 33,
   "metadata": {},
   "outputs": [
    {
     "name": "stdout",
     "output_type": "stream",
     "text": [
      "x + y = array([45, 26, 45])\n",
      "x + y = array([45, 26, 45])\n",
      "\n",
      "x * y = array([126, 169, 126])\n",
      "x / y = array([ 0.07142857,  1.        , 14.        ])\n",
      "\n",
      "x // y = array([ 0,  1, 14])\n",
      "x % y = array([3, 0, 0])\n",
      "\n",
      "x ** y = array([ 1914644777, -1692154371,       74088])\n"
     ]
    }
   ],
   "source": [
    "x = np.array([3, 13, 42])\n",
    "y = np.array([42, 13, 3])\n",
    "\n",
    "print(f\"{x + y = }\")\n",
    "print(f\"{x + y = }\")\n",
    "\n",
    "print()\n",
    "\n",
    "print(f\"{x * y = }\")\n",
    "print(f\"{x / y = }\")\n",
    "\n",
    "print()\n",
    "\n",
    "print(f\"{x // y = }\")\n",
    "print(f\"{x % y = }\")\n",
    "\n",
    "print()\n",
    "\n",
    "print(f\"{x ** y = }\")"
   ]
  },
  {
   "cell_type": "markdown",
   "metadata": {},
   "source": [
    "## Матричное умножение\n",
    "\n",
    "Оператор `*` совершает поэлементное умножение, в том числе и для для двухмерных массивов. "
   ]
  },
  {
   "cell_type": "code",
   "execution_count": 38,
   "metadata": {},
   "outputs": [
    {
     "name": "stdout",
     "output_type": "stream",
     "text": [
      "[[1. 1.]\n",
      " [1. 1.]]\n",
      "*\n",
      "[[1. 0.]\n",
      " [0. 1.]]\n",
      "=\n",
      "[[1. 0.]\n",
      " [0. 1.]] \n"
     ]
    }
   ],
   "source": [
    "ones = np.ones(shape=(2, 2))\n",
    "eye = np.eye(2)\n",
    "\n",
    "print(f\"{ones}\\n*\\n{eye}\\n=\\n{ones * eye} \")"
   ]
  },
  {
   "cell_type": "markdown",
   "metadata": {},
   "source": [
    "Чтобы произвести матричное умножение, используется оператор `@`."
   ]
  },
  {
   "cell_type": "code",
   "execution_count": 39,
   "metadata": {},
   "outputs": [
    {
     "name": "stdout",
     "output_type": "stream",
     "text": [
      "[[1. 1.]\n",
      " [1. 1.]]\n",
      "@\n",
      "[[1. 0.]\n",
      " [0. 1.]]\n",
      "=\n",
      "[[1. 1.]\n",
      " [1. 1.]] \n"
     ]
    }
   ],
   "source": [
    "print(f\"{ones}\\n@\\n{eye}\\n=\\n{ones @ eye} \")"
   ]
  },
  {
   "cell_type": "markdown",
   "metadata": {},
   "source": [
    "```{note}\n",
    "Оператор `@` ввели в `python` специально для обозначения матричного умножения в `NumPy` в `python 3.5`. До этого для представления матриц в `NumPy` использовался специальный тип [numpy](https://numpy.org/doc/stable/reference/generated/numpy.matrix.html), на экземпляры которого оператор `*` действовал, как оператор матричного умножения. Сегодня разработчики `NumPy` рекомендуют не пользоваться этим типом в своих программах.\n",
    "```\n",
    "## Индексация\n",
    "\n",
    "Индексация одномерных массивов `ndarray` осуществляется очень похоже на индексацию последовательностей `python` (списков, например)."
   ]
  },
  {
   "cell_type": "code",
   "execution_count": 44,
   "metadata": {},
   "outputs": [
    {
     "name": "stdout",
     "output_type": "stream",
     "text": [
      "[1. 2. 3. 4.]\n",
      "a1D[0] = 1.0, a1D[-1] = 4.0\n"
     ]
    }
   ],
   "source": [
    "print(a1D)\n",
    "print(f\"{a1D[0] = }, {a1D[-1] = }\")"
   ]
  },
  {
   "cell_type": "markdown",
   "metadata": {},
   "source": [
    "Индексация многомерных осуществляется несколько с новым синтаксисом. Например, чтобы получить элемент на пересечении `i`-й строки и `j`-го столбца двухмерного массива `array`, используется синтаксис\n",
    "```python\n",
    "array[i, j]\n",
    "``` "
   ]
  },
  {
   "cell_type": "code",
   "execution_count": 50,
   "metadata": {},
   "outputs": [
    {
     "name": "stdout",
     "output_type": "stream",
     "text": [
      "a2D = array([[1, 2],\n",
      "       [3, 4]])\n",
      "----------------------------------------\n",
      "a2D[1, 0] = 3, a2D[-1][-1] = 4\n",
      "----------------------------------------\n",
      "a2D[1] = array([3, 4]), a2D[-1] = array([3, 4])\n"
     ]
    }
   ],
   "source": [
    "sep = \"-\"*40\n",
    "\n",
    "print(f\"{a2D = }\")\n",
    "\n",
    "print(sep)\n",
    "\n",
    "print(f\"{a2D[1, 0] = }, {a2D[-1][-1] = }\")"
   ]
  },
  {
   "cell_type": "markdown",
   "metadata": {},
   "source": [
    "Если к двухмерному массиву применить индексацию одним числом `i`, то получится `i`-я строка."
   ]
  },
  {
   "cell_type": "code",
   "execution_count": 52,
   "metadata": {},
   "outputs": [
    {
     "name": "stdout",
     "output_type": "stream",
     "text": [
      "a2D[0] = array([1, 2]), a2D[-1] = array([3, 4])\n"
     ]
    }
   ],
   "source": [
    "print(f\"{a2D[0] = }, {a2D[-1] = }\")"
   ]
  },
  {
   "cell_type": "markdown",
   "metadata": {},
   "source": [
    "Всё это в целом распространяется на массивы произвольной размерности. Чтобы получить элемент $n$-мерного массива, указывается $n$ индексов, т.е. по индексу на каждое измерение:\n",
    "```python\n",
    "a[i_1, i_2, ..., i_n]\n",
    "```"
   ]
  },
  {
   "cell_type": "markdown",
   "metadata": {},
   "source": [
    "## Изменение формы массива\n",
    "\n",
    "Можно изменять размерность и форму массива, сохраняя данные исходного массива, но с условием, что общее количество элементов остается (`size`) неизменным."
   ]
  },
  {
   "cell_type": "code",
   "execution_count": 53,
   "metadata": {},
   "outputs": [
    {
     "name": "stdout",
     "output_type": "stream",
     "text": [
      "[ 0  1  2  3  4  5  6  7  8  9 10 11]\n"
     ]
    }
   ],
   "source": [
    "A = np.arange(12)\n",
    "print(A)"
   ]
  },
  {
   "cell_type": "markdown",
   "metadata": {},
   "source": [
    "Метод [np.ndarray.reshape](https://numpy.org/doc/stable/reference/generated/numpy.reshape.html#numpy.reshape) возвращает новый объект с теми же данными, но в массиве новой формой. "
   ]
  },
  {
   "cell_type": "code",
   "execution_count": 54,
   "metadata": {},
   "outputs": [
    {
     "name": "stdout",
     "output_type": "stream",
     "text": [
      "[[ 0  1  2]\n",
      " [ 3  4  5]\n",
      " [ 6  7  8]\n",
      " [ 9 10 11]]\n"
     ]
    }
   ],
   "source": [
    "B = A.reshape(4, 3)\n",
    "print(B)"
   ]
  },
  {
   "cell_type": "markdown",
   "metadata": {},
   "source": [
    "Метод [np.ndarray.resize](https://numpy.org/doc/stable/reference/generated/numpy.ndarray.resize.html#numpy.ndarray.resize) изменяет форму массива на месте."
   ]
  },
  {
   "cell_type": "code",
   "execution_count": 57,
   "metadata": {},
   "outputs": [
    {
     "name": "stdout",
     "output_type": "stream",
     "text": [
      "[[[ 0  1]\n",
      "  [ 2  3]\n",
      "  [ 4  5]]\n",
      "\n",
      " [[ 6  7]\n",
      "  [ 8  9]\n",
      "  [10 11]]]\n"
     ]
    }
   ],
   "source": [
    "A.resize(2, 3, 2)\n",
    "print(A)"
   ]
  },
  {
   "cell_type": "markdown",
   "metadata": {},
   "source": [
    "[np.ndarray.ravel](https://numpy.org/doc/stable/reference/generated/numpy.ravel.html#numpy.ravel) вытягивает массив произвольной размерности в одномерный."
   ]
  },
  {
   "cell_type": "code",
   "execution_count": 58,
   "metadata": {},
   "outputs": [
    {
     "name": "stdout",
     "output_type": "stream",
     "text": [
      "[ 0  1  2  3  4  5  6  7  8  9 10 11]\n"
     ]
    }
   ],
   "source": [
    "A = A.ravel()\n",
    "print(A)"
   ]
  },
  {
   "cell_type": "markdown",
   "metadata": {},
   "source": [
    "## View. Разделяемое владение данными и копирование\n",
    "\n",
    "На самом деле массивы `ndarray` устроены чуть сложнее. Массивы `ndarray` могут разделять одни и те же данные между собой. Массивы можно разделить на два вида: `base` и `view`, последний из которых не имеет собственных данных, а ссылается на данные внутри массива `base`. \n",
    "- `base` массив владеет данными; \n",
    "- `view` лишь позволяет по-другому на них посмотреть.\n",
    "\n",
    "Каждый `ndarray` представляет собой объект, который хранит не только указатель на данные (нечто очень похожее на `C` массив), но еще и метаданные, говорящие массиву, каким образом интерпретировать эти данные.\n",
    "\n",
    "Рассмотрим пример. Создадим массив `A` и убедимся, что он владеет своими данными."
   ]
  },
  {
   "cell_type": "code",
   "execution_count": 60,
   "metadata": {},
   "outputs": [
    {
     "name": "stdout",
     "output_type": "stream",
     "text": [
      "[0 1 2 3 4 5]\n",
      "Флаги массива A: \n",
      "   C_CONTIGUOUS : True\n",
      "  F_CONTIGUOUS : True\n",
      "  OWNDATA : True\n",
      "  WRITEABLE : True\n",
      "  ALIGNED : True\n",
      "  WRITEBACKIFCOPY : False\n",
      "  UPDATEIFCOPY : False\n",
      "\n"
     ]
    }
   ],
   "source": [
    "A = np.arange(6)\n",
    "print(A)\n",
    "print(\"Флаги массива A: \\n\", A.flags)"
   ]
  },
  {
   "cell_type": "markdown",
   "metadata": {},
   "source": [
    "Мы создали массив (`ndarray`) размера 6, который владеет данными `[0, 1, 2, 3, 4, 5]` типа `np.int`. Созданный массив мы связали с именем `A`.\n",
    "\n",
    "```{figure} /_static/lecture_specific/numpy/base_a.svg\n",
    "```\n",
    "\n",
    "Теперь создадим новый массив `B` путем изменения формы массива `A` методом `reshape`. Убедимся, что он использует те же данные."
   ]
  },
  {
   "cell_type": "code",
   "execution_count": 61,
   "metadata": {},
   "outputs": [
    {
     "name": "stdout",
     "output_type": "stream",
     "text": [
      "[[0 1 2]\n",
      " [3 4 5]]\n",
      "Массив B пользуется данными массива A? True\n",
      "Флаги массива B: \n",
      "   C_CONTIGUOUS : True\n",
      "  F_CONTIGUOUS : False\n",
      "  OWNDATA : False\n",
      "  WRITEABLE : True\n",
      "  ALIGNED : True\n",
      "  WRITEBACKIFCOPY : False\n",
      "  UPDATEIFCOPY : False\n",
      "\n"
     ]
    }
   ],
   "source": [
    "B = A.reshape(2, 3)\n",
    "print(B)\n",
    "print(\"Массив B пользуется данными массива A?\", B.base is A)\n",
    "print(\"Флаги массива B: \\n\", B.flags)"
   ]
  },
  {
   "cell_type": "markdown",
   "metadata": {},
   "source": [
    "Итак, массив содержит те же числа, но расположенные уже по строкам матрицы размера $2 \\times 3$. \n",
    "Напротив флага `\"OWNDATA\"` стоит `False`, т.е. данными он не владеет. Картинка ниже объясняет, что произошло. Создался новый объект с новыми метаданными, который ссылается на тот же массив с данными. Эти новые метаданные указывают, что массив данных следует интерпретировать так, как будто в нём хранится матрица размера $2 \\times 3$, записанная по строкам друг за другом.\n",
    "\n",
    "```{figure} /_static/lecture_specific/numpy/view_b.svg\n",
    "```\n",
    "\n",
    "Создадим транспонированную матрицу методом `transpose` и убедимся, что она тоже использует данные исходного массива `A`."
   ]
  },
  {
   "cell_type": "code",
   "execution_count": 62,
   "metadata": {},
   "outputs": [
    {
     "name": "stdout",
     "output_type": "stream",
     "text": [
      "[[0 3]\n",
      " [1 4]\n",
      " [2 5]]\n",
      "Массив C пользуется данными массива A? True\n"
     ]
    }
   ],
   "source": [
    "C = B.transpose()\n",
    "print(C)\n",
    "print(\"Массив C пользуется данными массива A?\", C.base is A)"
   ]
  },
  {
   "cell_type": "markdown",
   "metadata": {},
   "source": [
    "Матрица `C` --- транспонирование матрицы `B`. Под неё тоже не выделился новый массив с данными, а только лишь новые метаданные.\n",
    "В данном случае, метаданные указывают, что в массиве хранится матрица размера $3 \\times 2$, которая расположена в памяти таким образом, что первый индекс меняется быстрее второго (т.е. как бы по столбцам).\n",
    "\n",
    "```{figure} /_static/lecture_specific/numpy/view_c.svg\n",
    "```"
   ]
  },
  {
   "cell_type": "markdown",
   "metadata": {},
   "source": [
    "Продемонстрируем, что изменение элементов любого из этих массивов повлияет на остальные."
   ]
  },
  {
   "cell_type": "code",
   "execution_count": 63,
   "metadata": {},
   "outputs": [
    {
     "name": "stdout",
     "output_type": "stream",
     "text": [
      "A=array([ 0,  1,  2,  3,  4, 42])\n",
      "B=array([[ 0,  1,  2],\n",
      "       [ 3,  4, 42]])\n",
      "C=array([[ 0,  3],\n",
      "       [ 1,  4],\n",
      "       [ 2, 42]])\n"
     ]
    }
   ],
   "source": [
    "C[2, 1] = 42\n",
    "\n",
    "\n",
    "print(f\"{A=}\")\n",
    "print(f\"{B=}\")\n",
    "print(f\"{C=}\")\n"
   ]
  },
  {
   "cell_type": "code",
   "execution_count": null,
   "metadata": {},
   "outputs": [],
   "source": []
  }
 ],
 "metadata": {
  "interpreter": {
   "hash": "eea3ef54c04064aa17c056cc2578c78db8b44278034b77b7225a3166c34cea02"
  },
  "kernelspec": {
   "display_name": "Python 3.8.10 ('venv': venv)",
   "language": "python",
   "name": "python3"
  },
  "language_info": {
   "codemirror_mode": {
    "name": "ipython",
    "version": 3
   },
   "file_extension": ".py",
   "mimetype": "text/x-python",
   "name": "python",
   "nbconvert_exporter": "python",
   "pygments_lexer": "ipython3",
   "version": "3.8.10"
  },
  "vscode": {
   "interpreter": {
    "hash": "2cf0fd39df186aadf3d4a87586a022f968cfd977f53ee0e019844353ece0ae6e"
   }
  }
 },
 "nbformat": 4,
 "nbformat_minor": 2
}
