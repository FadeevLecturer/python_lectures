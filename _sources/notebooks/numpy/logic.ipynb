{
 "cells": [
  {
   "cell_type": "markdown",
   "metadata": {},
   "source": [
    "# Логические операции\n",
    "\n",
    "## Сравнение массивов NumPy\n",
    "\n",
    "Операторы сравнения \"`<`\", \"`<=`\", \"`>`\", \"`>=`\", \"`==`\" и \"`!=`\" перегружены для массивов `NumPy` и работают аналогичные правила, как и для арифметических операторов. Результатом операции сравнения является `NumPy` массив булевых значений `True` и `False`."
   ]
  },
  {
   "cell_type": "code",
   "execution_count": 19,
   "metadata": {},
   "outputs": [
    {
     "name": "stdout",
     "output_type": "stream",
     "text": [
      "[[ 1  1]\n",
      " [-1 -1]\n",
      " [ 1 -1]\n",
      " [-1  1]]\n"
     ]
    }
   ],
   "source": [
    "import numpy as np\n",
    "\n",
    "a = np.array([\n",
    "    [1, 1],\n",
    "    [-1, -1],\n",
    "    [1, -1],\n",
    "    [-1, 1]\n",
    "])\n",
    "print(a)"
   ]
  },
  {
   "cell_type": "markdown",
   "id": "2d5f7fad",
   "metadata": {},
   "source": [
    "Например, можно в следующей ячейке демонстрируется, как можно одной строкой кода узнать, какие элемента массива неотрицательны."
   ]
  },
  {
   "cell_type": "code",
   "execution_count": 20,
   "id": "1dc0cd10",
   "metadata": {},
   "outputs": [
    {
     "name": "stdout",
     "output_type": "stream",
     "text": [
      "[[ True  True]\n",
      " [False False]\n",
      " [ True False]\n",
      " [False  True]]\n"
     ]
    }
   ],
   "source": [
    "print(a >= 0)"
   ]
  },
  {
   "cell_type": "markdown",
   "metadata": {},
   "source": [
    "В результирующем булевом массиве на месте неотрицательных элементов стоит значение `True`, а в остальных позициях стоит `False`, \n",
    "\n",
    "Как и в случае арифметических операторов, логические операции тоже осуществляются поэлементно. В предыдущем примере применялся `broadcasting`, т.к. двумерный массив сравнивался со скаляром `0`. \n",
    "\n",
    "В примере ниже тот же самый массив `a` сравнивается с массивом строкой `[-1, 1]`. В итоге все элементы первого столбца массива `a` сравниваются с числом `-1`, а все элементы второго --- с числом `1`.  "
   ]
  },
  {
   "cell_type": "code",
   "execution_count": 22,
   "id": "61770057",
   "metadata": {},
   "outputs": [
    {
     "name": "stdout",
     "output_type": "stream",
     "text": [
      "[[ True False]\n",
      " [False  True]\n",
      " [ True  True]\n",
      " [False False]]\n"
     ]
    }
   ],
   "source": [
    "b = np.array([1, -1])\n",
    "\n",
    "print(a == b)"
   ]
  },
  {
   "cell_type": "markdown",
   "id": "71004d2c",
   "metadata": {},
   "source": [
    "\n",
    "В отличие от встроенных в `python` булевых значений, логические операции \"**И**\", \"**ИЛИ**\" и \"**НЕ**\" (логическое отрицание) осуществляются операторами \"`|`\", \"`&`\" и \"`~`\" соответственно, а не ключевыми словами `and`, `or` и `not`. \n",
    "\n",
    "```{note}\n",
    "В самом `python` операторы \"`|`\", \"`&`\" и \"`~`\" определенны для целых чисел и представляют собой побитовые операции.\n",
    "```\n",
    "\n",
    "Логическое  \"**И**\" --- оператор \"`&`\". В качестве примера найдем числа в диапазоне от 3 до 6."
   ]
  },
  {
   "cell_type": "code",
   "execution_count": 28,
   "id": "70b2cf6b",
   "metadata": {},
   "outputs": [
    {
     "name": "stdout",
     "output_type": "stream",
     "text": [
      "[0 1 2 3 4 5 6 7 8 9]\n",
      "[False False False  True  True  True  True False False False]\n"
     ]
    }
   ],
   "source": [
    "x = np.arange(0, 10)\n",
    "\n",
    "print(x)\n",
    "between_3_and_6 = (x >= 3) & (x <= 6)\n",
    "print(between_3_and_6)"
   ]
  },
  {
   "cell_type": "markdown",
   "metadata": {},
   "source": [
    "Логическое \"**ИЛИ**\" --- оператор \"`|`\". В качестве примера найдем числа снаружи предыдущего диапазона."
   ]
  },
  {
   "cell_type": "code",
   "execution_count": 29,
   "metadata": {},
   "outputs": [
    {
     "name": "stdout",
     "output_type": "stream",
     "text": [
      "[ True  True  True False False False False  True  True  True]\n"
     ]
    }
   ],
   "source": [
    "outside_of_3_and_6 = (x < 3) | (x > 6)\n",
    "print(outside_of_3_and_6)"
   ]
  },
  {
   "cell_type": "markdown",
   "metadata": {},
   "source": [
    "Логическое \"**НЕ**\" --- оператор \"`~`\". В качестве примера найдем числа снаружи диапазона $[3, 6]$ как отрицание чисел внутри диапазона."
   ]
  },
  {
   "cell_type": "code",
   "execution_count": 31,
   "metadata": {},
   "outputs": [
    {
     "name": "stdout",
     "output_type": "stream",
     "text": [
      "[ True  True  True False False False False  True  True  True]\n"
     ]
    }
   ],
   "source": [
    "print(~between_3_and_6)"
   ]
  },
  {
   "cell_type": "markdown",
   "metadata": {},
   "source": [
    "## Индексация булевымы массивами\n",
    "\n",
    "Массивы булевых значений могут быть использованы для индексации: если между парой квадратных скобок \"`[]`\" массива `python` указать массив булевых значений, то в качестве ответа возвращаются те значения массива, напротив которых стояло значение `True`. Такие массивы булевых значений часто называют **масками**.   \n",
    "\n",
    "```{figure} /_static/lecture_specific/numpy/masks.svg\n",
    "```"
   ]
  },
  {
   "cell_type": "code",
   "execution_count": 34,
   "metadata": {},
   "outputs": [
    {
     "data": {
      "text/plain": [
       "array([1, 6, 8, 9])"
      ]
     },
     "execution_count": 34,
     "metadata": {},
     "output_type": "execute_result"
    }
   ],
   "source": [
    "array = np.array([\n",
    "    [1, 2, 3],\n",
    "    [4, 5, 6],\n",
    "    [7, 8, 9]\n",
    "])\n",
    "\n",
    "mask = np.array([\n",
    "    [True, False, False],\n",
    "    [False, False, True],\n",
    "    [False, True, True]\n",
    "])\n",
    "\n",
    "array[mask]"
   ]
  },
  {
   "cell_type": "markdown",
   "metadata": {},
   "source": [
    "Так как результаты логических операций над массивами `NumPy` приводят к как раз булевым маскам, то можно очень легко фильтровать значения массива."
   ]
  },
  {
   "cell_type": "code",
   "execution_count": 46,
   "id": "29464347",
   "metadata": {},
   "outputs": [
    {
     "name": "stdout",
     "output_type": "stream",
     "text": [
      "[-0.53883649  0.04717316 -0.88935288 -0.94240822  0.60245659 -0.30592793\n",
      "  1.24714734  0.7061065 ]\n"
     ]
    }
   ],
   "source": [
    "rng = np.random.default_rng()\n",
    "x = rng.normal(size=8)\n",
    "print(x)"
   ]
  },
  {
   "cell_type": "markdown",
   "id": "7fa62a86",
   "metadata": {},
   "source": [
    "Например, в ячейке выше генерируется массив из 20 случайных чисел из нормального распределения. Извлечь только положительные из него можно инструкцией."
   ]
  },
  {
   "cell_type": "code",
   "execution_count": 47,
   "metadata": {},
   "outputs": [
    {
     "name": "stdout",
     "output_type": "stream",
     "text": [
      "[0.04717316 0.60245659 1.24714734 0.7061065 ]\n"
     ]
    }
   ],
   "source": [
    "print(x[x > 0])"
   ]
  },
  {
   "cell_type": "markdown",
   "metadata": {},
   "source": [
    "Обратите внимание, что внутри пары квадратных скобок \"`[]`\" располагается выражение `x > 0`, которое при вычислении даёт массив булевых значений. Этот массив далее используется в качестве маски, что и приводит к тому, что в результате мы видим только положительные значения.\n",
    "\n",
    "Сгенерируем выборку побольше и эмпирически проверим правило трех сигм, согласно которому с вероятностью $\\approx99.73\\%$ нормально распределенная случайная величина располагается в интервале $(\\mu - 3\\sigma, \\mu + 3\\sigma)$, где $\\mu$ --- математическое ожидание, $\\sigma$ --- среднеквадратичное отклонение. Это значит, что при $\\mu=0$ и $\\sigma=1$ ожидается, что чуть меньше 3 чисел из выборки размером 10000 окажутся за пределами интервала $(-3, 3)$.  "
   ]
  },
  {
   "cell_type": "code",
   "execution_count": 45,
   "metadata": {},
   "outputs": [
    {
     "data": {
      "text/plain": [
       "array([3.07690946, 3.04144012, 3.1831983 ])"
      ]
     },
     "execution_count": 45,
     "metadata": {},
     "output_type": "execute_result"
    }
   ],
   "source": [
    "x = rng.normal(size=1000)\n",
    "x[(x > 3) | (x < -3)]"
   ]
  },
  {
   "cell_type": "markdown",
   "metadata": {},
   "source": [
    "В результате численного эксперимента получилось ровно три числа, но стохастическая природа этого эксперимента не обещает, что при повторном проведении такого результата вы получите такие же результаты. \n",
    "\n",
    "Можно индексировать булевыми масками вдоль осей. "
   ]
  },
  {
   "cell_type": "code",
   "execution_count": 56,
   "id": "c3254372",
   "metadata": {},
   "outputs": [
    {
     "name": "stdout",
     "output_type": "stream",
     "text": [
      "[[7 8 8 4]\n",
      " [0 3 0 3]\n",
      " [4 2 5 5]\n",
      " [4 8 7 6]]\n"
     ]
    }
   ],
   "source": [
    "array = rng.integers(0, 10, size=(4, 4))\n",
    "print(array)"
   ]
  },
  {
   "cell_type": "markdown",
   "id": "47c709f9",
   "metadata": {},
   "source": [
    "Например, оставить только строки, напротив которых стоит `True`."
   ]
  },
  {
   "cell_type": "code",
   "execution_count": 57,
   "id": "985393be",
   "metadata": {},
   "outputs": [
    {
     "name": "stdout",
     "output_type": "stream",
     "text": [
      "[[7 8 8 4]\n",
      " [4 2 5 5]\n",
      " [4 8 7 6]]\n"
     ]
    }
   ],
   "source": [
    "mask = np.array([True, False, True, True])\n",
    "print(array[mask])"
   ]
  },
  {
   "cell_type": "markdown",
   "id": "440340b4",
   "metadata": {},
   "source": [
    "\n",
    "Или аналогично со столбцами."
   ]
  },
  {
   "cell_type": "code",
   "execution_count": 58,
   "metadata": {},
   "outputs": [
    {
     "data": {
      "text/plain": [
       "array([[7, 8, 4],\n",
       "       [0, 0, 3],\n",
       "       [4, 5, 5],\n",
       "       [4, 7, 6]], dtype=int64)"
      ]
     },
     "execution_count": 58,
     "metadata": {},
     "output_type": "execute_result"
    }
   ],
   "source": [
    "array[:, mask]"
   ]
  },
  {
   "cell_type": "markdown",
   "metadata": {},
   "source": [
    "## Агрегация булевых значений\n",
    " \n",
    "Функции [np.any](https://numpy.org/doc/stable/reference/generated/numpy.any.html) и [np.all](https://numpy.org/doc/stable/reference/generated/numpy.all.html) принимают на вход булевый массив и агрегируют значения в нем:\n",
    "- `np.any` возвращает `True`, если хотя бы один из элементов массива `True` или приводится к `True`; \n",
    "- `np.all` возвращает `True`, если все элементы массива `True` или приводятся к `True`. \n",
    "\n",
    "По поведению эти функции похожи на функции на функции `np.sum` и `np.prod`. "
   ]
  },
  {
   "cell_type": "code",
   "execution_count": 59,
   "metadata": {},
   "outputs": [
    {
     "name": "stdout",
     "output_type": "stream",
     "text": [
      "[ True False  True  True]\n",
      "any: True\n",
      "all: False\n"
     ]
    }
   ],
   "source": [
    "print(mask)\n",
    "print(f\"any: {np.any(mask)}\")\n",
    "print(f\"all: {np.all(mask)}\")"
   ]
  },
  {
   "cell_type": "markdown",
   "id": "ab915da8",
   "metadata": {},
   "source": [
    "Они также принимают опциональный аргумент `axis`."
   ]
  },
  {
   "cell_type": "code",
   "execution_count": 26,
   "metadata": {},
   "outputs": [
    {
     "data": {
      "text/plain": [
       "array([False, False,  True,  True])"
      ]
     },
     "execution_count": 26,
     "metadata": {},
     "output_type": "execute_result"
    }
   ],
   "source": [
    "np.all(mask, axis=1)"
   ]
  },
  {
   "cell_type": "markdown",
   "id": "46f64b4d",
   "metadata": {},
   "source": [
    "Функция [np.sum](https://numpy.org/doc/stable/reference/generated/numpy.sum.html) может просуммировать и булевый массив. Значение `True` интерпретируется как 1, значение `False` --- как 0. Если `mask` --- булевая маска, то `np.sum(mask)` может быть использовано для того, что подсчитать количество значений `True` в этой маске. То же самое верное и про [np.mean](https://numpy.org/doc/stable/reference/generated/numpy.mean.html?highlight=mean#numpy.mean) --- эта функция может использована для того, чтобы найти долю значений `True` в маске булевых значений.\n",
    "\n",
    "В целях демонстрации вернемся к примеру с правилом трех сигм. Сгенерируем массив из миллиона распределенных по нормальному закону случайных чисел, составим маску тех значений, которые находятся внутри интервала $(-3\\sigma, 3\\sigma)$, и подсчитаем их долю во всём массиве. "
   ]
  },
  {
   "cell_type": "code",
   "execution_count": 67,
   "id": "f40e0ee4",
   "metadata": {},
   "outputs": [
    {
     "name": "stdout",
     "output_type": "stream",
     "text": [
      "0.002716\n"
     ]
    }
   ],
   "source": [
    "x = rng.normal(size=1_000_000)\n",
    "mask = (x > 3) | (x < -3)\n",
    "print(mask.mean())"
   ]
  },
  {
   "cell_type": "markdown",
   "id": "68902e87",
   "metadata": {},
   "source": [
    "Получили значение, очень близкое к ожидаемому."
   ]
  }
 ],
 "metadata": {
  "kernelspec": {
   "display_name": "Python 3.8.10 ('venv': venv)",
   "language": "python",
   "name": "python3"
  },
  "language_info": {
   "codemirror_mode": {
    "name": "ipython",
    "version": 3
   },
   "file_extension": ".py",
   "mimetype": "text/x-python",
   "name": "python",
   "nbconvert_exporter": "python",
   "pygments_lexer": "ipython3",
   "version": "3.8.10"
  },
  "vscode": {
   "interpreter": {
    "hash": "eea3ef54c04064aa17c056cc2578c78db8b44278034b77b7225a3166c34cea02"
   }
  }
 },
 "nbformat": 4,
 "nbformat_minor": 5
}
