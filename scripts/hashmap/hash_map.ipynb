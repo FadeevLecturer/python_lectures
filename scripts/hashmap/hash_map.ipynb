{
 "cells": [
  {
   "cell_type": "code",
   "execution_count": null,
   "id": "335153ff",
   "metadata": {},
   "outputs": [],
   "source": [
    "from dataclasses import dataclass\n",
    "\n",
    "\n",
    "@dataclass\n",
    "class WordFrequency:\n",
    "    word: str\n",
    "    frequency: int\n",
    "        \n",
    "    def __lt__(self, other):\n",
    "        if isinstance(other, WordFrequency):\n",
    "            return self.word < other.word\n",
    "        if isinstance(other, str):\n",
    "            return self.word < other\n",
    "        return NotImplemented\n",
    "    \n",
    "    def __eq__(self, other):\n",
    "        if isinstance(other, WordFrequency):\n",
    "            return self.word == other.word\n",
    "        if isinstance(other, str):\n",
    "            return self.word == other\n",
    "        return NotImplemented        "
   ]
  },
  {
   "cell_type": "code",
   "execution_count": null,
   "id": "24607a4b",
   "metadata": {},
   "outputs": [],
   "source": [
    "def count_unique_words(text: list[str]):\n",
    "    unique_words = set(text)\n",
    "    return max(\n",
    "        ((word, text.count(word)) for word in unique_words), \n",
    "        key=lambda x: x[1]\n",
    "    )"
   ]
  },
  {
   "cell_type": "code",
   "execution_count": null,
   "id": "4601c528",
   "metadata": {},
   "outputs": [],
   "source": [
    "import bisect\n",
    "\n",
    "\n",
    "def unsorted_list(text: list[str]):\n",
    "    registred_words = []\n",
    "    for word in text:\n",
    "        try:\n",
    "            i = registred_words.index(word)\n",
    "            registred_words[i].frequency += 1\n",
    "        except ValueError:\n",
    "            registred_words.append(WordFrequency(word, 1))\n",
    "    \n",
    "    return max(registred_words, key=lambda word: word.frequency)\n",
    "\n",
    "def sorted_list(text: list[str]):\n",
    "    registred_words = []\n",
    "    for word in text:\n",
    "        i = bisect.bisect_left(registred_words, word)\n",
    "        \n",
    "        if i != len(registred_words) and registred_words[i].word == word:\n",
    "            registred_words[i].frequency += 1\n",
    "        else:\n",
    "            registred_words.insert(i, WordFrequency(word, 1))\n",
    "    \n",
    "    return max(registred_words, key=lambda word: word.frequency)"
   ]
  },
  {
   "cell_type": "code",
   "execution_count": null,
   "id": "28809124",
   "metadata": {},
   "outputs": [],
   "source": [
    "from collections import Counter, defaultdict\n",
    "\n",
    "\n",
    "def dictionary(text: list[str]):\n",
    "    registry = dict()\n",
    "    for word in text:\n",
    "        try:\n",
    "            registry[word] += 1\n",
    "        except KeyError:\n",
    "            registry[word] = 1\n",
    "    return max(registry.items(), key=lambda x: x[1])\n",
    "\n",
    "def default_dictionary(text: list[str]):\n",
    "    registry = defaultdict(int)\n",
    "    for word in text:\n",
    "        registry[word] += 1\n",
    "    return max(registry.items(), key=lambda x: x[1])\n",
    "        \n",
    "def counter(text: list[str]):\n",
    "    return Counter(text).most_common(1)[0]"
   ]
  },
  {
   "cell_type": "code",
   "execution_count": null,
   "id": "40044c1f",
   "metadata": {},
   "outputs": [],
   "source": [
    "from time import perf_counter\n",
    "\n",
    "\n",
    "def measure_time(f, *args, **kwargs):\n",
    "    t_start = perf_counter()\n",
    "    result = f(*args, **kwargs)\n",
    "    t_finish = perf_counter()\n",
    "    return result, t_finish - t_start"
   ]
  },
  {
   "cell_type": "code",
   "execution_count": null,
   "id": "68ecfe97",
   "metadata": {},
   "outputs": [],
   "source": [
    "import re\n",
    "\n",
    "with open(\"text_mag.txt\") as f:\n",
    "    text = f.read()\n",
    "    \n",
    "text = re.findall(r\"\\w+\", text)\n",
    "text = [word.lower() for word in text]\n",
    "print(f\"В тексте длинной {len(text)} количество уникальных слов {len(set(text))}\")"
   ]
  },
  {
   "cell_type": "code",
   "execution_count": null,
   "id": "840b0f6a",
   "metadata": {},
   "outputs": [],
   "source": [
    "methods = {\n",
    "    \"count unique words\": count_unique_words,\n",
    "    \"sorted list\": sorted_list,\n",
    "    \"unsorted list\": unsorted_list,\n",
    "    \"dictionary\": dictionary,\n",
    "    \"default dictionary\": default_dictionary,\n",
    "    \"counter\": counter,\n",
    "}\n",
    "\n",
    "time = {method_name:[] for method_name in methods}\n",
    "\n",
    "sizes = [1_000 * 2**i for i in range(11)]\n",
    "for size in sizes:\n",
    "    x = text[:size]\n",
    "    for method_name, f in methods.items():\n",
    "        word, t = measure_time(f, x)\n",
    "        print(f\"{method_name}: {word}\")\n",
    "        time[method_name].append(t)\n",
    "    print(\"_\"*80)"
   ]
  },
  {
   "cell_type": "code",
   "execution_count": null,
   "id": "905bb621",
   "metadata": {},
   "outputs": [],
   "source": [
    "import pandas as pd\n",
    "\n",
    "\n",
    "df = pd.DataFrame(time, index=sizes)\n",
    "df.to_csv(\"hash_map.csv\")\n",
    "df"
   ]
  },
  {
   "cell_type": "code",
   "execution_count": null,
   "id": "a32b590a",
   "metadata": {},
   "outputs": [],
   "source": [
    "import plotly.express as px\n",
    "\n",
    "\n",
    "fig = px.line(df, labels={\"variable\": \"Метод\", \"value\": \"Время (с)\", \"index\": \"Длина текста\"})\n",
    "fig.write_html(\"hash_map.html\")\n",
    "fig"
   ]
  },
  {
   "cell_type": "code",
   "execution_count": null,
   "id": "6b9fae80",
   "metadata": {},
   "outputs": [],
   "source": [
    "px.line(df, labels={\"variable\": \"Метод\", \"value\": \"Время (с)\", \"index\": \"Длина текста\"}, log_x=True, log_y=True)"
   ]
  },
  {
   "cell_type": "code",
   "execution_count": null,
   "id": "6d42a54f",
   "metadata": {},
   "outputs": [],
   "source": []
  }
 ],
 "metadata": {
  "kernelspec": {
   "display_name": "Python 3 (ipykernel)",
   "language": "python",
   "name": "python3"
  },
  "language_info": {
   "codemirror_mode": {
    "name": "ipython",
    "version": 3
   },
   "file_extension": ".py",
   "mimetype": "text/x-python",
   "name": "python",
   "nbconvert_exporter": "python",
   "pygments_lexer": "ipython3",
   "version": "3.10.7"
  }
 },
 "nbformat": 4,
 "nbformat_minor": 5
}
