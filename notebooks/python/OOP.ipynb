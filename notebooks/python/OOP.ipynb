{
 "cells": [
  {
   "attachments": {},
   "cell_type": "markdown",
   "metadata": {},
   "source": [
    "# Объектно ориентированное программирование в `python`\n",
    "\n",
    "## Объектная ориентированность самого языка `python`\n",
    "\n",
    "Вам уже должно быть известно, что в `python` все сущности представляются в виде объектов, т.е. в виде экземпляров каких-то классов (типов объектов). Например, даже целое число `0` представляется в виде объекта класса (типа) [int](https://docs.python.org/3/library/functions.html#int)."
   ]
  },
  {
   "cell_type": "code",
   "execution_count": 2,
   "metadata": {},
   "outputs": [
    {
     "name": "stdout",
     "output_type": "stream",
     "text": [
      "<class 'int'>\n"
     ]
    }
   ],
   "source": [
    "print(type(0))"
   ]
  },
  {
   "attachments": {},
   "cell_type": "markdown",
   "metadata": {},
   "source": [
    "Каждый встроенный класс однозначно определяет поведение своих экземпляров, т.е. набор допустимых действий над объектами встроенных типов однозначно определяется его типом. \n",
    "\n",
    "```{note}\n",
    "Согласно принципам объектно-ориентированного программирования поведения любого объекта должно однозначно определяться его типом. Однако гибкость `python` позволяет писать программы, противоречащие этому правилу. В подавляющем большинстве случаев это анти-паттерн. \n",
    "```\n",
    "Например, в классе [int](https://docs.python.org/3/library/functions.html#int) объявлен метод [bit_count](https://docs.python.org/3/library/stdtypes.html?highlight=bit_count#int.bit_count)."
   ]
  },
  {
   "cell_type": "code",
   "execution_count": 10,
   "metadata": {},
   "outputs": [
    {
     "name": "stdout",
     "output_type": "stream",
     "text": [
      "<method 'bit_count' of 'int' objects>\n"
     ]
    }
   ],
   "source": [
    "print(int.bit_count)"
   ]
  },
  {
   "attachments": {},
   "cell_type": "markdown",
   "metadata": {},
   "source": [
    "Наличие этого метода позволяет в классе `int`, позволяет вызывать этот метод от любого объекта целочисленного типа.  "
   ]
  },
  {
   "cell_type": "code",
   "execution_count": 15,
   "metadata": {},
   "outputs": [
    {
     "name": "stdout",
     "output_type": "stream",
     "text": [
      "x=42 в двоичной системе 101010.\n",
      "3\n"
     ]
    }
   ],
   "source": [
    "x = 42                  \n",
    "print(f\"{x=} в двоичной системе {x:b}.\")\n",
    "print(x.bit_count())"
   ]
  },
  {
   "attachments": {},
   "cell_type": "markdown",
   "metadata": {},
   "source": [
    "При этом в `python` даже присутствует определенная иерархия типов. На самом верху иерархии типов располагается тип `object`: все остальные классы являются производными от типа `object`.  "
   ]
  },
  {
   "cell_type": "code",
   "execution_count": 6,
   "metadata": {},
   "outputs": [
    {
     "name": "stdout",
     "output_type": "stream",
     "text": [
      "True\n",
      "True\n",
      "True\n"
     ]
    }
   ],
   "source": [
    "for type in (int, str, list):\n",
    "    print(issubclass(type, object))\n"
   ]
  },
  {
   "attachments": {},
   "cell_type": "markdown",
   "metadata": {},
   "source": [
    "В иерархии встроенных типов `python` можно уследить все основные принципы объектно-ориентированного программирования: инкапсуляцию, наследования, абстракцию, полиморфизм и т.д., т.е. даже сама основа языка `python` реализована в рамках парадигмы объектно-ориентированного программирования.  Конечно, `python` позволяет объявлять и пользовательские типы объектов (классы) с поддержкой большинства принципов ООП. \n",
    "\n",
    "Тем не менее важно понимать, что `python` не навязывает ни ООП, ни какой-либо другой парадигмы программирования. Гибкость языка `python` позволяет писать программы в процедурном, объектно-ориентированном, функциональном и некоторых других стилях, а выбор всегда остаётся за разработчиком.\n",
    "\n",
    "## Пользовательские классы в `python`\n",
    "\n",
    "Несмотря на то, что никто не заставляет вас писать свои программы в рамках ООП, очень полезно разобраться с базовыми концепциями ООП  и с синтаксисом объявления пользовательских классов в `python`. Это позволит не только писать свой и читать чужой код (многие библиотеки `python` написаны с оглядкой на ООП), но и расширять его. \n",
    "\n",
    "Так, например, наиболее универсальный способ создания своего пользовательского слоя нейронной сети в рамках наиболее распространенного фреймворка машинного обучения [PyTorch](https://pytorch.org/) --- унаследоваться от класса [torch.nn.Module](https://pytorch.org/docs/stable/generated/torch.nn.Module.html#torch.nn.Module) и перегрузить ряд методов.\n",
    "\n",
    "Большая гибкость языка `python` привела к тому, что существует несколько подходов к объявлению пользовательских типов в `python`. \n",
    "\n",
    "### `namedtuple`\n",
    "\n",
    "Например, если тип данных представляет из себя лишь набор именованных полей, то объявить такой тип данных можно в декларативном стиле, передав в функцию [collections.namedtuple](https://docs.python.org/3/library/collections.html#collections.namedtuple) имя класса и список полей этого класса."
   ]
  },
  {
   "cell_type": "code",
   "execution_count": 31,
   "metadata": {},
   "outputs": [
    {
     "name": "stdout",
     "output_type": "stream",
     "text": [
      "<class '__main__.Point'>\n"
     ]
    }
   ],
   "source": [
    "from collections import namedtuple\n",
    "\n",
    "Point = namedtuple(\"Point\", [\"x\", \"y\"])\n",
    "print(Point)"
   ]
  },
  {
   "attachments": {},
   "cell_type": "markdown",
   "metadata": {},
   "source": [
    "В ячейке выше объявляется \"класс\" `Point` с двумя полями `x` и `y`."
   ]
  },
  {
   "cell_type": "code",
   "execution_count": 32,
   "metadata": {},
   "outputs": [
    {
     "name": "stdout",
     "output_type": "stream",
     "text": [
      "Point(x=3, y=4)\n"
     ]
    }
   ],
   "source": [
    "p = Point(3, 4)\n",
    "print(p)"
   ]
  },
  {
   "attachments": {},
   "cell_type": "markdown",
   "metadata": {},
   "source": [
    "Этот класс является надстройкой над обычным кортежем, которая позволяет получать доступ к элементам кортежа по атрибутам. Тем не менее можно получать доступ к элементам кортежа и стандартным способом, по смещению.  "
   ]
  },
  {
   "cell_type": "code",
   "execution_count": 33,
   "metadata": {},
   "outputs": [
    {
     "name": "stdout",
     "output_type": "stream",
     "text": [
      "p.x=3, p.y=4\n",
      "p[0]=3, p[1]=4\n"
     ]
    }
   ],
   "source": [
    "print(f\"{p.x=}, {p.y=}\")\n",
    "print(f\"{p[0]=}, {p[1]=}\")"
   ]
  },
  {
   "attachments": {},
   "cell_type": "markdown",
   "metadata": {},
   "source": [
    "Однако `namedtuple` предоставляет очень ограниченный функционал, и его стандартное применение находится тогда, когда необходимо дать более осмысленный способ обращений к данным, структурированным в виде кортежа записей.\n",
    "\n",
    "### Классический подход\n",
    "\n",
    "Классический подход максимально гибкий и позволяет добиться практически любого поведения объектов. Основным его недостатком является громоздкость: для реализации даже самых базовых вещей нередко приходится написать довольно много кода.\n",
    "\n",
    "Например, в ячейке ниже объявляется класс `Point` в классическом стиле. Функционально этот класс похож на класс, объявленный с помощью `namedtuple`, но ряд отличий все же присутствует: а) пользовательские классы по умолчанию изменяемы, а кортежи нет; б) к элементам кортежей можно обращаться по индексу, а к полям класса доступ только осуществляется через имя.  "
   ]
  },
  {
   "cell_type": "code",
   "execution_count": 43,
   "metadata": {},
   "outputs": [
    {
     "name": "stdout",
     "output_type": "stream",
     "text": [
      "Point(x=3, y=4)\n",
      "3 4\n"
     ]
    }
   ],
   "source": [
    "from math import hypot\n",
    "\n",
    "class Point:\n",
    "    def __init__(self, x, y):\n",
    "        self.x = x\n",
    "        self.y = y\n",
    "\n",
    "    def __str__(self):\n",
    "        return f\"Point(x={self.x}, y={self.y})\"\n",
    "\n",
    "\n",
    "p = Point(3, 4)\n",
    "print(p)\n",
    "print(p.x, p.y)"
   ]
  },
  {
   "attachments": {},
   "cell_type": "markdown",
   "metadata": {},
   "source": [
    "### Модуль `dataclasses`\n",
    "\n",
    "Модуль стандартной библиотеки [dataclasses](https://docs.python.org/3/library/dataclasses.html) предоставляет средства к упрощенному синтаксису создания классов. Класс иногда называют `dataclass`, если его основная цель --- хранить в себе данные. При объявление `dataclass` класса в классическом стиле приходится писать больше количество однообразного кода. Например, посмотрите на код метода `__init__` в классе `Point`, который является своего рода конструктором.\n",
    "\n",
    "```python\n",
    "    ...\n",
    "    def __init__(self, x, y):\n",
    "            self.x = x\n",
    "            self.y = y\n",
    "    ...\n",
    "```\n",
    "Каждое из имен `x` и `y` встречается трижды! Если бы мы реализовали класс точки десятимерного пространства, то итоговый код выглядел бы до абсурдного смешным. \n",
    "\n",
    "Декоратор [dataclass](https://docs.python.org/3/library/dataclasses.html#dataclasses.dataclass) позволяет объявлять такого рода классы в декларативном стиле. Этот декоратор самостоятельно сгенерирует код конструктора класса и ряда других полезных методов (например, `__str__` из предыдущего примера) на основе информации об атрибутах класса и их типах. В ячейке ниже переопределяется класс `Point` с использованием средств этого модуля."
   ]
  },
  {
   "cell_type": "code",
   "execution_count": 41,
   "metadata": {},
   "outputs": [
    {
     "name": "stdout",
     "output_type": "stream",
     "text": [
      "Point(x=3, y=4)\n",
      "3 4\n",
      "[<class '__main__.Point'>, <class 'object'>]\n"
     ]
    }
   ],
   "source": [
    "from dataclasses import dataclass\n",
    "\n",
    "@dataclass\n",
    "class Point:\n",
    "    x: float\n",
    "    y: float\n",
    "    \n",
    "p = Point(3, 4)\n",
    "print(p)\n",
    "print(p.x, p.y)"
   ]
  },
  {
   "attachments": {},
   "cell_type": "markdown",
   "metadata": {},
   "source": [
    "Использование `dataclasses` может значительно упростить объявление пользовательских классов, их поведение можно модифицировать, добавляя внутрь класса пользовательские методы. Основным недостатком такого подхода является то, что он вынуждает аннотировать тип каждого атрибута класса, что может оказаться излишним требованием для ряда программ.  "
   ]
  }
 ],
 "metadata": {
  "kernelspec": {
   "display_name": "Python 3",
   "language": "python",
   "name": "python3"
  },
  "language_info": {
   "codemirror_mode": {
    "name": "ipython",
    "version": 3
   },
   "file_extension": ".py",
   "mimetype": "text/x-python",
   "name": "python",
   "nbconvert_exporter": "python",
   "pygments_lexer": "ipython3",
   "version": "3.10.7"
  },
  "orig_nbformat": 4,
  "vscode": {
   "interpreter": {
    "hash": "79bd89501dbe0121dbc20f29a3293cb468ae1056f00020d90c82679d1972d51f"
   }
  }
 },
 "nbformat": 4,
 "nbformat_minor": 2
}
