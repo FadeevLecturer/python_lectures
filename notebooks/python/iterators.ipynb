{
 "cells": [
  {
   "cell_type": "markdown",
   "id": "c535f43b",
   "metadata": {},
   "source": [
    "# Итераторы\n",
    "\n",
    "Итераторы позволяют обойти все элементы итерируемых объектов и по всюду используются в `python`. \n",
    "\n",
    "```{note}\n",
    "Итератор (`iterator`) --- это объект, который должен определить метод `__next__` (т.е. реагировать на функцию [next](https://docs.python.org/3/library/functions.html#next)), выдавать следующий элемент коллекции по вызову этого метода и бросать исключение [StopIteration](https://docs.python.org/3/library/exceptions.html#StopIteration), когда эти элементы исчерпались. \n",
    "```\n",
    "\n",
    "## Стандартный итератор\n",
    "\n",
    "Получить стандартный итератор по коллекции можно встроенной функцией [iter](https://docs.python.org/3/library/functions.html#iter)."
   ]
  },
  {
   "cell_type": "code",
   "execution_count": 2,
   "id": "a8d06999",
   "metadata": {},
   "outputs": [
    {
     "name": "stdout",
     "output_type": "stream",
     "text": [
      "<list_iterator object at 0x000001DE635B6320>\n"
     ]
    }
   ],
   "source": [
    "a_list = list(range(3))\n",
    "iterator = iter(a_list)\n",
    "print(iterator)"
   ]
  },
  {
   "cell_type": "markdown",
   "id": "4429fb1b",
   "metadata": {},
   "source": [
    "В ячейке выше объявлен список `a_list = [0, 1, 2]`, а далее с помощью вызова функции [iter](https://docs.python.org/3/library/functions.html#iter) создан стандартный итератор `iterator` по нему. Теперь у этого итератора можно спросить следующий элемент списка функцией [next](https://docs.python.org/3/library/functions.html#next)."
   ]
  },
  {
   "cell_type": "code",
   "execution_count": 3,
   "id": "7a7ed25c",
   "metadata": {},
   "outputs": [
    {
     "name": "stdout",
     "output_type": "stream",
     "text": [
      "0\n"
     ]
    }
   ],
   "source": [
    "a = next(iterator)\n",
    "print(a)"
   ]
  },
  {
   "cell_type": "markdown",
   "id": "9d252577",
   "metadata": {},
   "source": [
    "Первый вызов функции `next` возвращает первый элемент контейнера, от которого создан контейнер."
   ]
  },
  {
   "cell_type": "code",
   "execution_count": 5,
   "id": "b50c98ed",
   "metadata": {},
   "outputs": [
    {
     "name": "stdout",
     "output_type": "stream",
     "text": [
      "1\n"
     ]
    }
   ],
   "source": [
    "b = next(iterator)\n",
    "print(b)"
   ]
  },
  {
   "cell_type": "markdown",
   "id": "a8f90596",
   "metadata": {},
   "source": [
    "Второй вызов функции `next` --- второй элемент списка."
   ]
  },
  {
   "cell_type": "code",
   "execution_count": 7,
   "id": "615bebc2",
   "metadata": {},
   "outputs": [
    {
     "name": "stdout",
     "output_type": "stream",
     "text": [
      "2\n"
     ]
    }
   ],
   "source": [
    "c = next(iterator)\n",
    "print(c)"
   ]
  },
  {
   "cell_type": "markdown",
   "id": "da42f924",
   "metadata": {},
   "source": [
    "Третий вызов --- третий элемент списка."
   ]
  },
  {
   "cell_type": "code",
   "execution_count": 9,
   "id": "7a1e4d3c",
   "metadata": {},
   "outputs": [
    {
     "ename": "StopIteration",
     "evalue": "",
     "output_type": "error",
     "traceback": [
      "\u001b[1;31m---------------------------------------------------------------------------\u001b[0m",
      "\u001b[1;31mStopIteration\u001b[0m                             Traceback (most recent call last)",
      "Cell \u001b[1;32mIn [9], line 1\u001b[0m\n\u001b[1;32m----> 1\u001b[0m d \u001b[38;5;241m=\u001b[39m \u001b[38;5;28;43mnext\u001b[39;49m\u001b[43m(\u001b[49m\u001b[43miterator\u001b[49m\u001b[43m)\u001b[49m\n\u001b[0;32m      2\u001b[0m \u001b[38;5;28mprint\u001b[39m(d)\n",
      "\u001b[1;31mStopIteration\u001b[0m: "
     ]
    }
   ],
   "source": [
    "d = next(iterator)\n",
    "print(d)"
   ]
  },
  {
   "cell_type": "markdown",
   "id": "4da3ee38",
   "metadata": {},
   "source": [
    "Четвертый вызов функции `next` должен вернуть четвертый элемент, но т.к. список `a_list` содержит всего 3 элемента, то итератор уже исчерпан и возбуждается исключение `StopIteration`. \n",
    "\n",
    "Вообще говоря, можно изменить список при итерации по нему, но желательно по возможности избегать этого."
   ]
  },
  {
   "cell_type": "code",
   "execution_count": 10,
   "id": "2307d7fa",
   "metadata": {},
   "outputs": [
    {
     "name": "stdout",
     "output_type": "stream",
     "text": [
      "0 0 1 2\n",
      "[42, 0, 1, 2]\n"
     ]
    }
   ],
   "source": [
    "iterator = iter(a_list)\n",
    "a = next(iterator)\n",
    "\n",
    "a_list.insert(0, 42)\n",
    "b, c, d = next(iterator), next(iterator), next(iterator)\n",
    "\n",
    "print(a, b, c, d)\n",
    "print(a_list)"
   ]
  },
  {
   "cell_type": "markdown",
   "id": "7256f4e2",
   "metadata": {},
   "source": [
    "Цикл `for` использует итераторы для прохода по итерируемым объектам и сам вызывает функцию `next` до тех пор, пока не встретит исключение `StopIteration`.\n",
    "\n",
    "Среди итерируемых объектов мы уже встречались с\n",
    "- все последовательности: списки, кортежи, строки, `range` и т.п.;\n",
    "- множества, словари и все связанные с ними `view` (`dict_keys`, `dict_values` и `dict_items`);\n",
    "- массивы `NumPy`;\n",
    "- таблицы и столбцы `pandas`.  \n",
    "\n",
    "## Нестандартные встроенные итераторы \n",
    "\n",
    "В `python` существуют разные итераторы, которые могут пригодиться для разных целей, например, для того чтобы пробежаться по коллекции в другом порядке.\n",
    "\n",
    "### `reversed`\n",
    "\n",
    "Встроенная функция [reversed](https://docs.python.org/3/library/functions.html#reversed) создаёт итератор, который пробегает по коллекции в обратном порядке относительно стандартного итератора `iter`."
   ]
  },
  {
   "cell_type": "code",
   "execution_count": 11,
   "id": "bdbce04c",
   "metadata": {},
   "outputs": [
    {
     "name": "stdout",
     "output_type": "stream",
     "text": [
      "<list_reverseiterator object at 0x000001DE6483FFA0>\n",
      "[3, 2, 1]\n"
     ]
    }
   ],
   "source": [
    "x = [1, 2, 3]\n",
    "reversed_iterator = reversed(x)\n",
    "print(reversed_iterator)\n",
    "print(list(reversed_iterator))"
   ]
  },
  {
   "cell_type": "markdown",
   "id": "2f8cd16e",
   "metadata": {},
   "source": [
    "### `enumerate`\n",
    "\n",
    "Встроенная функция [enumerate](https://docs.python.org/3/library/functions.html#enumerate) возвращает \"нумерующий итератор\", т.е. итератор, который помимо следующего элемента контейнера возвращает ещё и его номер."
   ]
  },
  {
   "cell_type": "code",
   "execution_count": 12,
   "id": "bf1065cd",
   "metadata": {},
   "outputs": [
    {
     "name": "stdout",
     "output_type": "stream",
     "text": [
      "['a', 'b', 'c']\n",
      "<enumerate object at 0x000001DE6513BE40>\n",
      "[(0, 'a'), (1, 'b'), (2, 'c')]\n"
     ]
    }
   ],
   "source": [
    "L = list(\"abc\")\n",
    "enumerated_iterator = enumerate(L)\n",
    "\n",
    "print(L)\n",
    "print(enumerated_iterator)\n",
    "print(list(enumerated_iterator))"
   ]
  },
  {
   "cell_type": "markdown",
   "id": "c5c6ad1c",
   "metadata": {},
   "source": [
    "Часто используется в циклах, если нужен доступ к элементам контейнера по индексу. При этом, следующая запись\n",
    "```python\n",
    "for i, _ in enumerate(iterable):\n",
    "    ...\n",
    "```\n",
    "считается предпочтительнее, чем\n",
    "```python\n",
    "for i in range(len(iterable)):\n",
    "    ...\n",
    "```"
   ]
  },
  {
   "cell_type": "code",
   "execution_count": 24,
   "id": "d59ab969",
   "metadata": {},
   "outputs": [
    {
     "name": "stdout",
     "output_type": "stream",
     "text": [
      "0 a\n",
      "1 b\n",
      "2 c\n"
     ]
    }
   ],
   "source": [
    "for i, x in enumerate(L):\n",
    "    print(i, x)"
   ]
  },
  {
   "cell_type": "markdown",
   "id": "ceec79de",
   "metadata": {},
   "source": [
    "Конечно, эти итераторы можно комбинировать."
   ]
  },
  {
   "cell_type": "code",
   "execution_count": 26,
   "id": "41bb012f",
   "metadata": {},
   "outputs": [
    {
     "name": "stdout",
     "output_type": "stream",
     "text": [
      "0 c\n",
      "1 b\n",
      "2 a\n"
     ]
    }
   ],
   "source": [
    "for i, x in enumerate(reversed(L)):\n",
    "    print(i, x)"
   ]
  },
  {
   "cell_type": "markdown",
   "id": "58f900e1",
   "metadata": {},
   "source": [
    "### `zip`\n",
    "\n",
    "Встроенная функция [zip](https://docs.python.org/3/library/functions.html#zip) создаёт итератор по нескольким итерируемым объектам, т.е. позволяет пробежаться по нескольким контейнерам одновременно. \n",
    "\n",
    "В случае двух контейнеров название функции `zip` хорошо иллюстрирует принцип её действия.\n",
    "\n",
    "```{figure} /_static/lecture_specific/iterators/zip.svg\n",
    "```"
   ]
  },
  {
   "cell_type": "code",
   "execution_count": 30,
   "id": "ba51de68",
   "metadata": {},
   "outputs": [
    {
     "name": "stdout",
     "output_type": "stream",
     "text": [
      "<zip object at 0x000001DE651AAF80>\n",
      "[('A', 1), ('B', 2), ('C', 3)]\n"
     ]
    }
   ],
   "source": [
    "X = \"ABC\"\n",
    "Y = [1, 2, 3]\n",
    "\n",
    "zip_XY = zip(X, Y)\n",
    "print(zip_XY)\n",
    "print(list(zip_XY))"
   ]
  },
  {
   "cell_type": "markdown",
   "id": "a8360c6d",
   "metadata": {},
   "source": [
    "В ячейке выше приведен пример с двумя коллекциями `X` и `Y`. В общем случае можно передавать произвольное количество коллекций в функцию `zip`. Типичное её применение в цикле выглядит следующем образом.\n",
    "\n",
    "```python\n",
    "for x1, x2, ..., xn in zip(X1, X2, ..., Xn):\n",
    "    ...\n",
    "```"
   ]
  },
  {
   "cell_type": "code",
   "execution_count": 31,
   "id": "99192027",
   "metadata": {},
   "outputs": [
    {
     "name": "stdout",
     "output_type": "stream",
     "text": [
      "0: x='A', y=1\n",
      "1: x='B', y=2\n",
      "2: x='C', y=3\n"
     ]
    }
   ],
   "source": [
    "for i, x, y in zip(range(len(X)), X, Y):\n",
    "    print(f\"{i}: {x=}, {y=}\")"
   ]
  },
  {
   "cell_type": "markdown",
   "id": "49effd75",
   "metadata": {},
   "source": [
    "Предыдущий цикл можно заменить конструкцией вида."
   ]
  },
  {
   "cell_type": "code",
   "execution_count": 32,
   "id": "0ea691bf",
   "metadata": {},
   "outputs": [
    {
     "name": "stdout",
     "output_type": "stream",
     "text": [
      "0: x='A', y=1\n",
      "1: x='B', y=2\n",
      "2: x='C', y=3\n"
     ]
    }
   ],
   "source": [
    "for i, (x, y) in enumerate(zip(X, Y)):\n",
    "    print(f\"{i}: {x=}, {y=}\")"
   ]
  },
  {
   "cell_type": "markdown",
   "id": "540b0a07",
   "metadata": {},
   "source": [
    "Функция `zip` может быть использована для того, чтобы пробежаться по столбцам матрицы, т.е. как бы транспонировать её."
   ]
  },
  {
   "cell_type": "code",
   "execution_count": 26,
   "id": "133af991",
   "metadata": {},
   "outputs": [
    {
     "name": "stdout",
     "output_type": "stream",
     "text": [
      "[11, 12, 13]\n",
      "[21, 22, 23]\n",
      "\n",
      "(11, 21)\n",
      "(12, 22)\n",
      "(13, 23)\n"
     ]
    }
   ],
   "source": [
    "m = [\n",
    "    [11, 12, 13], \n",
    "    [21, 22, 23],\n",
    "]\n",
    "\n",
    "for row in m: \n",
    "    print(row)\n",
    "\n",
    "print()\n",
    "\n",
    "for column in zip(*m):\n",
    "    print(column)\n"
   ]
  },
  {
   "cell_type": "markdown",
   "id": "35e22990",
   "metadata": {},
   "source": [
    "Если коллекции внутри `zip` содержат разное количество элементов, то итерация прекратится, как только закончится элементы в самом коротком из них, а функция [zip_longest](https://docs.python.org/3/library/itertools.html#itertools.zip_longest) из модуля стандартной библиотеки [itertools](https://docs.python.org/3/library/itertools.html#module-itertools) позволяет итерировать до упора, пока хотя бы в одной последовательности остались элементы."
   ]
  },
  {
   "cell_type": "markdown",
   "id": "4fa96b21",
   "metadata": {},
   "source": [
    "## Модуль `itertools`\n",
    "\n",
    "В модуле [itertools](https://docs.python.org/3/library/itertools.html#module-itertools) определен ещё ряд полезных итераторов. Рассмотрим несколько из них.\n",
    "\n",
    "### `zip_longest`\n",
    "\n",
    "Если коллекции внутри `zip` содержат разное количество элементов, то итерация прекратится, как только закончится элементы в самом коротком из них, а функция [zip_longest](https://docs.python.org/3/library/itertools.html#itertools.zip_longest) из модуля `itertools` позволяет итерировать до упора, пока хотя бы в одной последовательности остались элементы.\n"
   ]
  },
  {
   "cell_type": "code",
   "execution_count": 22,
   "id": "ad0d6c65",
   "metadata": {},
   "outputs": [
    {
     "name": "stdout",
     "output_type": "stream",
     "text": [
      "0->a, 1->b, 2->c, 3->d, 4->e, 5->f, 6->g, 7->h, 8->i, 9->j, \n",
      "0->a, 1->b, 2->c, 3->d, 4->e, 5->f, 6->g, 7->h, 8->i, 9->j, nan->k, nan->l, nan->m, nan->n, nan->o, nan->p, nan->q, nan->r, nan->s, nan->t, nan->u, nan->v, nan->w, nan->x, nan->y, nan->z, nan->A, nan->B, nan->C, nan->D, nan->E, nan->F, nan->G, nan->H, nan->I, nan->J, nan->K, nan->L, nan->M, nan->N, nan->O, nan->P, nan->Q, nan->R, nan->S, nan->T, nan->U, nan->V, nan->W, nan->X, nan->Y, nan->Z, "
     ]
    }
   ],
   "source": [
    "from string import ascii_letters, digits\n",
    "from itertools import zip_longest\n",
    "\n",
    "\n",
    "for x, y in zip(digits, ascii_letters):\n",
    "    print(f\"{x}->{y}, \", end=\"\")\n",
    "\n",
    "print()\n",
    "\n",
    "for x, y in zip_longest(digits, ascii_letters, fillvalue=float(\"NaN\")):\n",
    "    print(f\"{x}->{y}, \", end=\"\")\n"
   ]
  },
  {
   "cell_type": "markdown",
   "id": "72feafe0",
   "metadata": {},
   "source": [
    "### `product`\n",
    "\n",
    "Итератор [product](https://docs.python.org/3/library/itertools.html#itertools.product) позволяет итерировать по декартову (или внешнему) произведению других итерируемых объектов. В некоторых ситуациях позволяет упростить конструкции из вложенных циклов."
   ]
  },
  {
   "cell_type": "code",
   "execution_count": 9,
   "id": "aa1d44f6",
   "metadata": {},
   "outputs": [
    {
     "name": "stdout",
     "output_type": "stream",
     "text": [
      "[(0, 'a'), (0, 'b'), (0, 'c'), (1, 'a'), (1, 'b'), (1, 'c'), (2, 'a'), (2, 'b'), (2, 'c')]\n",
      "[(0, 'a'), (0, 'b'), (0, 'c'), (1, 'a'), (1, 'b'), (1, 'c'), (2, 'a'), (2, 'b'), (2, 'c')]\n"
     ]
    }
   ],
   "source": [
    "from itertools import product\n",
    "\n",
    "X = [0, 1, 2]\n",
    "Y = \"abc\"\n",
    "\n",
    "print([(x, y) for x in X for y in Y])\n",
    "print(list(product(X, Y)))"
   ]
  },
  {
   "cell_type": "markdown",
   "id": "3ed2aa79",
   "metadata": {},
   "source": [
    "### `permutations`\n",
    "\n",
    "Итератор [permutations](https://docs.python.org/3/library/itertools.html#itertools.permutations) пробегается по списку всех возможных перестановок итерируемого аргумента."
   ]
  },
  {
   "cell_type": "code",
   "execution_count": 27,
   "id": "f5b6368a",
   "metadata": {},
   "outputs": [
    {
     "name": "stdout",
     "output_type": "stream",
     "text": [
      "[('a', 'b', 'c'), ('a', 'c', 'b'), ('b', 'a', 'c'), ('b', 'c', 'a'), ('c', 'a', 'b'), ('c', 'b', 'a')]\n"
     ]
    }
   ],
   "source": [
    "from itertools import permutations\n",
    "\n",
    "print(list(permutations(\"abc\")))"
   ]
  },
  {
   "cell_type": "markdown",
   "id": "57e79ced",
   "metadata": {},
   "source": [
    "```{note}\n",
    "Сгенерировать случайную перестановку можно методом [shuffle](https://docs.python.org/3/library/random.html#random.shuffle) или методом [sample](https://docs.python.org/3/library/random.html#random.sample) при `k` равном длине последовательности. `shuffle` случайным образом тасует элементы на месте, а `sample` возвращает новый список.\n",
    "```"
   ]
  },
  {
   "cell_type": "markdown",
   "id": "792136f7",
   "metadata": {},
   "source": [
    "### `combinations` и `combinations_with_replacements`\n",
    "\n",
    "Метод [combinations](https://docs.python.org/3/library/itertools.html#itertools.combinations) возвращает все возможные способы выбрать `r` элементов итерируемого объекта без повторов. \n"
   ]
  },
  {
   "cell_type": "code",
   "execution_count": 29,
   "id": "d645919b",
   "metadata": {},
   "outputs": [
    {
     "name": "stdout",
     "output_type": "stream",
     "text": [
      "0 and 1\n",
      "0 and 2\n",
      "1 and 2\n"
     ]
    }
   ],
   "source": [
    "from itertools import combinations\n",
    "\n",
    "for x, y in combinations(range(3), 2):\n",
    "    print(f\"{x} and {y}\") \n"
   ]
  },
  {
   "cell_type": "markdown",
   "id": "f4c644b4",
   "metadata": {},
   "source": [
    "Метод [combinations_with_replacements](https://docs.python.org/3/library/itertools.html#itertools.combinations_with_replacement) делает то же самое, но допускает повторы."
   ]
  },
  {
   "cell_type": "code",
   "execution_count": 30,
   "id": "ad7b8f28",
   "metadata": {},
   "outputs": [
    {
     "name": "stdout",
     "output_type": "stream",
     "text": [
      "0 and 0\n",
      "0 and 1\n",
      "0 and 2\n",
      "1 and 1\n",
      "1 and 2\n",
      "2 and 2\n"
     ]
    }
   ],
   "source": [
    "from itertools import combinations_with_replacement\n",
    "\n",
    "for x, y in combinations_with_replacement(range(3), 2):\n",
    "    print(f\"{x} and {y}\") "
   ]
  }
 ],
 "metadata": {
  "kernelspec": {
   "display_name": "Python 3.10.7 ('venv': venv)",
   "language": "python",
   "name": "python3"
  },
  "language_info": {
   "codemirror_mode": {
    "name": "ipython",
    "version": 3
   },
   "file_extension": ".py",
   "mimetype": "text/x-python",
   "name": "python",
   "nbconvert_exporter": "python",
   "pygments_lexer": "ipython3",
   "version": "3.10.7"
  },
  "vscode": {
   "interpreter": {
    "hash": "eea3ef54c04064aa17c056cc2578c78db8b44278034b77b7225a3166c34cea02"
   }
  }
 },
 "nbformat": 4,
 "nbformat_minor": 5
}
