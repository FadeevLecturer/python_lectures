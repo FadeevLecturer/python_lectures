{
 "cells": [
  {
   "cell_type": "markdown",
   "metadata": {},
   "source": [
    "# Работа с файлами. Сериализация: `json` и `pickle`\n",
    "\n",
    "## Файловый объект. Функция `open`\n",
    "\n",
    "Для работы с файлами существует функция [open](https://docs.python.org/3/library/functions.html#open), которая создаёт [файловый объект](https://docs.python.org/3/glossary.html#term-file-object). Единственный обязательный параметр этой функции `path` --- путь к файлу. Очень важный опциональный параметр `mode` отвечает за режим открытия файла.\n",
    "\n",
    "|Символ|Значение|\n",
    "| :--- | ---: |\n",
    "|`r`|Открыть на чтение (по умолчанию)|\n",
    "|`w`|Открыть на запись (содержимое существующего файла уничтожается) |\n",
    "|`x`|Создать файл и открыть на запись (ошибка, если файл существует) |\n",
    "|`a`|Открыть файл на дозапись (если файл существует, то дозаписывать в конец файла)|\n",
    "|`b`|Открыть как бинарный файл|\n",
    "|`t`|Открыть как текстовый файл (по умолчанию)|\n",
    "|`+`|Открыть на запись и чтение|\n",
    "\n",
    "По умолчанию функцию `open` открывает файл как текстовый для чтения. В качестве примера создадим файл `\"first_file.txt\"` в папке `\"tmp\"`. Для этого сначала убедимся в том, что папка существует и создадим строку `path`, представляющую путь до будущего файла. "
   ]
  },
  {
   "cell_type": "code",
   "execution_count": 1,
   "id": "9a013716",
   "metadata": {},
   "outputs": [],
   "source": [
    "import os\n",
    "\n",
    "folder = \"tmp\"\n",
    "filename = \"first_file.txt\"\n",
    "path = os.path.join(folder, filename)\n",
    "\n",
    "os.makedirs(folder, exist_ok=True)"
   ]
  },
  {
   "cell_type": "markdown",
   "id": "a8012bbc",
   "metadata": {},
   "source": [
    "Теперь создадим файловый объект, запишем в него текст. Для этого необходимо открыть файл в режиме на запись в текстовом режиме (флаг `\"wt\"` или `\"w\"`, т.к. текстовый режим подразумевается по умолчанию), записать строки текста в него методом [write](https://docs.python.org/3/library/io.html#io.TextIOBase.write), а в конце обязательно закрыть файл методом [close](https://docs.python.org/3/library/io.html#io.IOBase.close)."
   ]
  },
  {
   "cell_type": "code",
   "execution_count": 5,
   "id": "4f6fbea6",
   "metadata": {},
   "outputs": [],
   "source": [
    "f = open(path, \"w\")\n",
    "\n",
    "f.write(\n",
    "\"\"\"Первая строка.\n",
    "Вторая строка.\n",
    "Последняя строка.\"\"\"\n",
    ")\n",
    "\n",
    "f.close()"
   ]
  },
  {
   "cell_type": "markdown",
   "id": "19ae16ce",
   "metadata": {},
   "source": [
    "Теперь, чтобы убедиться в успешном создании файла, можно повторить эти операции, но на чтение. Как и прежде, в начале создаётся файловый объект встроенной функцией [open](https://docs.python.org/3/library/functions.html#open) и в конце закрыть его методом [close](https://docs.python.org/3/library/io.html#io.IOBase.close), но в этот раз режим открытия на чтение, а значит в качестве параметра можно передать `\"rt\"`, `\"r\"` или не передать ничего, так как по умолчанию подразумевается открытие на чтение в текстовом режиме. Считывать содержимое из файла можно несколькими методами, но для начала рассмотрим самый простой --- чтение сразу всего содержимого методом [read](https://docs.python.org/3/library/io.html#io.TextIOBase.read)."
   ]
  },
  {
   "cell_type": "code",
   "execution_count": 6,
   "id": "3cbf0aa9",
   "metadata": {},
   "outputs": [
    {
     "name": "stdout",
     "output_type": "stream",
     "text": [
      "Первая строка.\n",
      "Вторая строка.\n",
      "Последняя строка.\n"
     ]
    }
   ],
   "source": [
    "f = open(path)\n",
    "\n",
    "content = f.read()\n",
    "print(content)\n",
    "\n",
    "f.close()"
   ]
  },
  {
   "cell_type": "markdown",
   "id": "fc72a7e5",
   "metadata": {},
   "source": [
    "Видим, что все операции завершились успешно.\n",
    "\n",
    "## Контекстный менеджер `with`\n",
    "\n",
    "При создании файлового объекта в явном виде необходимо следить за тем, чтобы в самом конце вызвать метод [close](https://docs.python.org/3/library/io.html#io.IOBase.close). Это принципиально по нескольким причинам. Во-первых, считается хорошей практикой освобождать ресурсы (возвращать их под управление операционной системы), как только в них пропала нужда. Во-вторых, если исполнение программы прекратится в экстренном режиме (например, из-за логической ошибки в программе или в результате технического сбоя в аппаратном обеспечении), то риски повреждения незакрытого файла многократно растут. \n",
    "\n",
    "Тем не менее в хорошем коде `python` вы встретите вызов метода [close](https://docs.python.org/3/library/io.html#io.IOBase.close) в явном виде очень редко. Все это из-за того, что хорошей практикой является использование контекстного менеджера [with](https://docs.python.org/3/reference/compound_stmts.html#with), который не только автоматически освобождает файловый ресурс по выходу из соответствующего блока, но и проследит за освобождением ресурсов даже в том случае, если при работе программы возникла логическая ошибка и программа упала. Для работы с файлами обычно используется приблизительно следующая конструкция. \n",
    "\n",
    "```python\n",
    "with open(path) as name:\n",
    "    первая строка блока with\n",
    "    ...\n",
    "    последняя строка блока with\n",
    "\n",
    "первая инструкция после блока with # здесь файл гарантировано закрыт\n",
    "```\n",
    "В заголовке блока `with` открывается файл и результирующий файловый объект связывается с именем `name`. Этот файл будет открыт до тех пор, пока программа не покинет следующий за заголовком блок кода. Как только программы этот блок покидает (естественным образом или в результате распространения исключения), файл автоматически закрывается и имя `name` освобождается.\n",
    "\n",
    "Считаем содержимое созданного в предыдущем разделе файла с блоком `with`. "
   ]
  },
  {
   "cell_type": "code",
   "execution_count": 7,
   "metadata": {},
   "outputs": [
    {
     "name": "stdout",
     "output_type": "stream",
     "text": [
      "Первая строка.\n",
      "Вторая строка.\n",
      "Последняя строка.\n"
     ]
    }
   ],
   "source": [
    "with open(filename) as f:\n",
    "    print(f.read())"
   ]
  },
  {
   "cell_type": "markdown",
   "metadata": {},
   "source": [
    "Если возможно, то всегда рекомендуется открывать файлы именно с помощью блока `with`.\n",
    "\n",
    "## Итерация по текстовому файлу \n",
    "\n",
    "Читать содержимое текстового файла можно несколько способами, кроме уже упомянутого метода [read](https://docs.python.org/3/library/io.html#io.TextIOBase.read), есть также методы [readline](https://docs.python.org/3/library/io.html#io.TextIOBase.readline) (чтение одной строки) и [readlines](https://docs.python.org/3/library/io.html#io.IOBase.readlines) (возвращает список всех строк файла). Но в подавляющем большинстве случаев содержимое файла считывают построчно, просто итерируясь по файловому объекту."
   ]
  },
  {
   "cell_type": "code",
   "execution_count": 8,
   "metadata": {},
   "outputs": [
    {
     "name": "stdout",
     "output_type": "stream",
     "text": [
      "Первая строка.\n",
      "\n",
      "Вторая строка.\n",
      "\n",
      "Последняя строка.\n"
     ]
    }
   ],
   "source": [
    "with open(filename) as f:\n",
    "    for line in f:\n",
    "        print(line)"
   ]
  },
  {
   "cell_type": "markdown",
   "id": "966037fd",
   "metadata": {},
   "source": [
    "Видим, что при печати строки оказались разреженными. Дело в том, что при итерации в переменную `line` попадает вся считанная строка целиком, включая управляющий символ `\"\\n\"`, если он есть в конце. От этого можно избавиться методом [rstrip](https://docs.python.org/3/library/stdtypes.html#str.rstrip). \n",
    "\n",
    "## Формат `JSON`\n",
    "\n",
    "Нередко возникает необходимость сохранять и передавать структурированные данные в текстовом виде. Хотя можно разработать и свою схему сохранения данных, но гораздо удобнее использовать для таких целей форматом [JSON](https://www.json.org/json-en.html). \n",
    "> JSON (англ. JavaScript Object Notation, обычно произносится как /ˈdʒeɪsən/ JAY-sən) — текстовый формат обмена данными, основанный на JavaScript. Как и многие другие текстовые форматы, JSON легко читается людьми. Источник: [Wikipedia](https://ru.wikipedia.org/wiki/JSON).\n",
    "\n",
    "JSON изначально был придуман для [сериализации](https://ru.wikipedia.org/wiki/%D0%A1%D0%B5%D1%80%D0%B8%D0%B0%D0%BB%D0%B8%D0%B7%D0%B0%D1%86%D0%B8%D1%8F) объектов языка `javascript`, но со временем стал применяться и в других языках программирования. Его применение распространено и в `python`, т.к. две основные структуры данных в `python` --- списки и словари --- являются и основными блоками синтаксиса `JSON`.\n",
    "\n",
    "За работу с `JSON` в `python` отвечает модуль стандартной библиотеки [json](https://docs.python.org/3/library/json.html#module-json). Основные методы этого модуля:\n",
    "- [json.dumps](https://docs.python.org/3/library/json.html#json.dumps) сериализует объект в строку;\n",
    "- [json.dump](https://docs.python.org/3/library/json.html#json.dump) тоже самое, но сразу записывает в файл;\n",
    "- [json.loads](https://docs.python.org/3/library/json.html#json.loads) десериализует строку `json` и создаёт объект;\n",
    "- [json.load](https://docs.python.org/3/library/json.html#json.load) десериализует содержимое файла `json`.\n",
    "\n",
    "Рассмотрим самый простой пример с ними: создадим список и словарь и сериализуем их в строки."
   ]
  },
  {
   "cell_type": "code",
   "execution_count": null,
   "id": "f017c1bf",
   "metadata": {},
   "outputs": [],
   "source": [
    "import json\n",
    "\n",
    "a_list = [1, 1., \"a\"]\n",
    "json_list = json.dumps(a_list)\n",
    "\n",
    "a_dict = {\n",
    "    \"key1\": \"value1\",\n",
    "    \"key2\": \"value2\"\n",
    "    }\n",
    "json_dict = json.dumps(a_dict)\n",
    "\n",
    "print(f\"json представление для списка: {json_list}\")\n",
    "print(f\"json представление для словаря: {json_dict}\")"
   ]
  },
  {
   "cell_type": "markdown",
   "id": "348e3b22",
   "metadata": {},
   "source": [
    "Теперь исходные объекты можно восстановить обратным методом [json.loads](https://docs.python.org/3/library/json.html#json.loads)."
   ]
  },
  {
   "cell_type": "code",
   "execution_count": null,
   "id": "d93b8ad4",
   "metadata": {},
   "outputs": [],
   "source": [
    "a_list_recovery = json.loads(json_list)\n",
    "print(a_list_recovery, type(a_list_recovery))\n",
    "\n",
    "a_dict_recovery = json.loads(json_dict)\n",
    "print(a_dict_recovery, type(a_dict_recovery))"
   ]
  },
  {
   "cell_type": "markdown",
   "id": "625f4351",
   "metadata": {},
   "source": [
    "Из примера видно, что удалось десериализовать объекты из строки `json` в исходном виде. Заметим, что между сериализацией и десериализацией строковое представление объекта могло быть сохранено в файл и прочитано обратно, передано по сети интернет и прочитано другим компьютером и т.д.\n",
    "\n",
    "Коллекции в `python` могут быть вложенными друг в друга и `json` без проблем справляется с представлением таких вложенных структур."
   ]
  },
  {
   "cell_type": "code",
   "execution_count": null,
   "id": "18ce20c6",
   "metadata": {},
   "outputs": [],
   "source": [
    "import json\n",
    "import os\n",
    "\n",
    "course_description = {\n",
    "    \"lecturer\": \"Fadeev Egor\",\n",
    "    \"course\": \"Computer technologies workshop\",\n",
    "    \"topics\": [\"python3\", \"scientific libraries\", \"mathematical modeling\"],\n",
    "    \"where\": {\n",
    "        \"Faculty\": \"Faculty of physics\",\n",
    "        \"room\": \"5-42\"\n",
    "    },\n",
    "    \"when\": {\n",
    "        \"day of week\": \"Thursday\",\n",
    "        \"time\": \"5:05 pm\"\n",
    "    },\n",
    "    \"number of students\": 25\n",
    "}\n",
    "\n",
    "os.makedirs(\"tmp\", exist_ok=True)\n",
    "with open(os.path.join(\"tmp\", \"course_description.json\"), \"w\") as f:\n",
    "    json.dump(course_description, f, indent=4)\n"
   ]
  },
  {
   "cell_type": "markdown",
   "id": "d06c5ebd",
   "metadata": {},
   "source": [
    "Если выполнить предыдущую ячейку, то в папке `tmp` должен создаться файл `course_description.json` с следующим содержимым (с точностью до порядка ключей).\n",
    "\n",
    "```json\n",
    "{\n",
    "    \"lecturer\": \"Fadeev Egor\",\n",
    "    \"course\": \"Computer technologies workshop\",\n",
    "    \"topics\": [\n",
    "        \"python3\",\n",
    "        \"scientific libraries\",\n",
    "        \"mathematical modeling\"\n",
    "    ],\n",
    "    \"where\": {\n",
    "        \"Faculty\": \"Faculty of physics\",\n",
    "        \"room\": \"5-42\"\n",
    "    },\n",
    "    \"when\": {\n",
    "        \"day of week\": \"Thursday\",\n",
    "        \"time\": \"5:05 pm\"\n",
    "    },\n",
    "    \"number of students\": 25\n",
    "}\n",
    "```"
   ]
  }
 ],
 "metadata": {
  "kernelspec": {
   "display_name": "Python 3.8.10 ('venv': venv)",
   "language": "python",
   "name": "python3"
  },
  "language_info": {
   "codemirror_mode": {
    "name": "ipython",
    "version": 3
   },
   "file_extension": ".py",
   "mimetype": "text/x-python",
   "name": "python",
   "nbconvert_exporter": "python",
   "pygments_lexer": "ipython3",
   "version": "3.8.10"
  },
  "vscode": {
   "interpreter": {
    "hash": "eea3ef54c04064aa17c056cc2578c78db8b44278034b77b7225a3166c34cea02"
   }
  }
 },
 "nbformat": 4,
 "nbformat_minor": 5
}
