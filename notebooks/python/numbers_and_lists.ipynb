{
 "cells": [
  {
   "cell_type": "markdown",
   "metadata": {},
   "source": [
    "# Основные типы объектов: числа и списки\n",
    "\n",
    "Программы на языке `python` могут быть разложены на модули, операторы, выражения и объекты по схеме ниже.\n",
    "\n",
    "1. Программы состоят из модулей;\n",
    "2. Модули содержат операторы;\n",
    "3. Операторы содержат выражения;\n",
    "4. **Выражения создают и обрабатывают объекты**;\n",
    "\n",
    "В связи с этим нередко начинают изучать `python` именно с объектов и их типов. \n",
    "\n",
    "## В `python` всё является объектом\n",
    "\n",
    "В `python` всё --- от булевых значений и чисел до функций, классов и файлов --- представляется в виде объекта в смысле ООП. Это значит, что даже такие простые данные как целые числа хранятся упакованными в объект, у которого могут быть атрибуты и методы. "
   ]
  },
  {
   "cell_type": "code",
   "execution_count": 3,
   "metadata": {},
   "outputs": [
    {
     "name": "stdout",
     "output_type": "stream",
     "text": [
      "6\n"
     ]
    }
   ],
   "source": [
    "x = 42\n",
    "print(x.bit_length())"
   ]
  },
  {
   "cell_type": "markdown",
   "metadata": {},
   "source": [
    "В ячейке выше демонстрируется, что у целого числа есть метод `bit_length`, который возвращает необходимое для хранения этого числа количество бит. \n",
    "\n",
    "## 1. Числа\n",
    "\n",
    "Числа --- один из самых простых и понятных типов данных для компьютера, а по совместительству и один из самых простых типов объектов в `python`. \n",
    "\n",
    "### 1.1. Целые числа. `int`\n",
    "\n",
    "Целые числа представляются типом `int`. "
   ]
  },
  {
   "cell_type": "code",
   "execution_count": 4,
   "metadata": {},
   "outputs": [
    {
     "name": "stdout",
     "output_type": "stream",
     "text": [
      "a = 42, b = 5\n",
      "<class 'int'>\n"
     ]
    }
   ],
   "source": [
    "a = 42 \n",
    "b = 5\n",
    "print(\"a = {}, b = {}\".format(a, b))  # форматирование строки методом format\n",
    "print(type(a))"
   ]
  },
  {
   "cell_type": "markdown",
   "metadata": {},
   "source": [
    "Напомним, что в `C/C++` 32-битные целые числа принимают значения в диапазоне от $-2^{32} = -2,147,483,648$ до $2^{32} - 1 = 2,147,483,647$. В `python` целые числа могут принимать произвольные значения, ограниченные только объемом оперативной памяти машины, на которой запускается код. Это очень удобно, так как не нужно заботиться о переполнении и нет необходимости определять пользовательские типы для обработки больших значений."
   ]
  },
  {
   "cell_type": "code",
   "execution_count": 1,
   "metadata": {},
   "outputs": [
    {
     "name": "stdout",
     "output_type": "stream",
     "text": [
      "10715086071862673209484250490600018105614048117055336074437503883703510511249361224931983788156958581275946729175531468251871452856923140435984577574698574803934567774824230985421074605062371141877954182153046474983581941267398767559165543946077062914571196477686542167660429831652624386837205668069376\n"
     ]
    }
   ],
   "source": [
    "print(2 ** 1000)"
   ]
  },
  {
   "cell_type": "markdown",
   "metadata": {},
   "source": [
    "### 1.2. Числа с плавающей точкой. `float`\n",
    "\n",
    "Числа с плавающей точкой реализованы по тому же стандарту, что и в `C/C++` ([IEEE 754](https://en.wikipedia.org/wiki/IEEE_754)), представлены 64-х битным типом `float` (соответствует `double` в `C/C++`), а значит и ведут себя абсолютно точно также. "
   ]
  },
  {
   "cell_type": "code",
   "execution_count": 5,
   "metadata": {},
   "outputs": [
    {
     "name": "stdout",
     "output_type": "stream",
     "text": [
      "a / b = 8.4\n",
      "<class 'float'>\n"
     ]
    }
   ],
   "source": [
    "print(f\"a / b = {a / b}\")\n",
    "print(type(a / b))"
   ]
  },
  {
   "cell_type": "code",
   "execution_count": 13,
   "metadata": {},
   "outputs": [
    {
     "name": "stdout",
     "output_type": "stream",
     "text": [
      "c = 3.1415, d = 1.772427713617681\n",
      "d = 1.77\n"
     ]
    }
   ],
   "source": [
    "c = 3.1415\n",
    "d = c ** .5\n",
    "print(f\"c = {c}, d = {d}\")\n",
    "print(f\"d = {d:.2f}\")                         # форматирование вывода f-строкой               "
   ]
  },
  {
   "cell_type": "markdown",
   "metadata": {},
   "source": [
    "### 1.3. Комплексные числа\n",
    "\n",
    "Так же в `python` встроены комплексные числа, представленные типом `complex`."
   ]
  },
  {
   "cell_type": "code",
   "execution_count": 14,
   "metadata": {},
   "outputs": [
    {
     "name": "stdout",
     "output_type": "stream",
     "text": [
      "<class 'complex'>\n"
     ]
    }
   ],
   "source": [
    "e = complex(42, 13)\n",
    "print(type(e))"
   ]
  },
  {
   "cell_type": "markdown",
   "metadata": {},
   "source": [
    "Для их записи в качестве мнимой единицы можно использовать строчную или прописную букву \"`j`\". "
   ]
  },
  {
   "cell_type": "code",
   "execution_count": 15,
   "metadata": {},
   "outputs": [
    {
     "name": "stdout",
     "output_type": "stream",
     "text": [
      "True\n"
     ]
    }
   ],
   "source": [
    "f = 42 + 13j\n",
    "g = 42 + 13J\n",
    "print(e == f == g)"
   ]
  },
  {
   "cell_type": "markdown",
   "metadata": {},
   "source": [
    "Все арифметические операторы работаю с комплексными числами корректно. "
   ]
  },
  {
   "cell_type": "code",
   "execution_count": 17,
   "metadata": {
    "scrolled": true
   },
   "outputs": [
    {
     "name": "stdout",
     "output_type": "stream",
     "text": [
      "(-1+0j)\n"
     ]
    }
   ],
   "source": [
    "imaginary_unit = 1j\n",
    "print(imaginary_unit**2)"
   ]
  },
  {
   "cell_type": "markdown",
   "metadata": {},
   "source": [
    "Действительную и мнимые части комплексного числа можно узнать атрибутами `imag` и `real` соответственно. "
   ]
  },
  {
   "cell_type": "code",
   "execution_count": 18,
   "metadata": {},
   "outputs": [
    {
     "name": "stdout",
     "output_type": "stream",
     "text": [
      "1.0\n"
     ]
    }
   ],
   "source": [
    "print(imaginary_unit.imag)"
   ]
  },
  {
   "cell_type": "markdown",
   "metadata": {},
   "source": [
    "### 1.4. Булевый тип. `bool`\n",
    "\n",
    "Булевые значения `True` и `False` представляются типом данных `bool`."
   ]
  },
  {
   "cell_type": "code",
   "execution_count": 19,
   "metadata": {},
   "outputs": [
    {
     "name": "stdout",
     "output_type": "stream",
     "text": [
      "<class 'bool'>\n"
     ]
    }
   ],
   "source": [
    "flag = True\n",
    "print(type(flag))"
   ]
  },
  {
   "cell_type": "markdown",
   "metadata": {},
   "source": [
    "На самом деле `False` соответствует целочисленный нуль, а `True` --- единица."
   ]
  },
  {
   "cell_type": "code",
   "execution_count": 20,
   "metadata": {},
   "outputs": [
    {
     "name": "stdout",
     "output_type": "stream",
     "text": [
      "True = 1\n",
      "False = 0\n",
      "True\n"
     ]
    }
   ],
   "source": [
    "print(f\"True = {int(True)}\")\n",
    "print(f\"False = {int(False)}\")\n",
    "print(isinstance(flag, int))                # True, т.е. булевые значения реализованы как целые числа"
   ]
  },
  {
   "cell_type": "markdown",
   "metadata": {},
   "source": [
    "#### Сравнение чисел\n",
    "\n",
    "Получить булевое значение можно, например, сравнив числа на больше/меньше. Для сравнения чисел в `python` используются те же операторы, что и в `C/C++`:\n",
    "- \"`==`\";\n",
    "- \"`!=`\";\n",
    "- \"`<`\";\n",
    "- \"`>`\";\n",
    "- \"`<=`\"; \n",
    "- \"`>=`\". "
   ]
  },
  {
   "cell_type": "code",
   "execution_count": 21,
   "metadata": {},
   "outputs": [
    {
     "name": "stdout",
     "output_type": "stream",
     "text": [
      "True\n"
     ]
    }
   ],
   "source": [
    "print(13 < 42)"
   ]
  },
  {
   "cell_type": "markdown",
   "metadata": {},
   "source": [
    "#### Булевые операторы.\n",
    "\n",
    "Для комбинации булевых переменных используются булевые операторы, которые реализованы в виде ключевых слов названий этих операций на английском языке. \n",
    "\n",
    "Так, например, логическое \"**И**\" представлено бинарным `and`."
   ]
  },
  {
   "cell_type": "code",
   "execution_count": 26,
   "metadata": {},
   "outputs": [
    {
     "name": "stdout",
     "output_type": "stream",
     "text": [
      "False\n",
      "False\n",
      "False\n",
      "True\n"
     ]
    }
   ],
   "source": [
    "print(False and False)\n",
    "print(False and True)\n",
    "print(True and False)\n",
    "print(True and True)"
   ]
  },
  {
   "cell_type": "markdown",
   "metadata": {},
   "source": [
    "Логическое \"ИЛИ\" --- бинарным оператором `or`."
   ]
  },
  {
   "cell_type": "code",
   "execution_count": 27,
   "metadata": {},
   "outputs": [
    {
     "name": "stdout",
     "output_type": "stream",
     "text": [
      "False\n",
      "True\n",
      "True\n",
      "True\n"
     ]
    }
   ],
   "source": [
    "print(False or False)\n",
    "print(False or True)\n",
    "print(True or False)\n",
    "print(True or True)\n"
   ]
  },
  {
   "cell_type": "markdown",
   "metadata": {},
   "source": [
    "Логическое \"НЕ\" --- унарным оператором `not`."
   ]
  },
  {
   "cell_type": "code",
   "execution_count": 28,
   "metadata": {},
   "outputs": [
    {
     "name": "stdout",
     "output_type": "stream",
     "text": [
      "True\n",
      "False\n"
     ]
    }
   ],
   "source": [
    "print(not False)\n",
    "print(not True)"
   ]
  },
  {
   "cell_type": "markdown",
   "metadata": {},
   "source": [
    "#### Приведение к `bool`"
   ]
  },
  {
   "cell_type": "markdown",
   "metadata": {},
   "source": [
    "Ноль приводятся к `False`, а числа отличные от нуля к `True`."
   ]
  },
  {
   "cell_type": "code",
   "execution_count": 29,
   "metadata": {},
   "outputs": [
    {
     "name": "stdout",
     "output_type": "stream",
     "text": [
      "Нули: \t\tFalse, False, False\n",
      "Не нули: \tTrue, True, True\n"
     ]
    }
   ],
   "source": [
    "print(\"Нули: \", end=\"\\t\\t\")\n",
    "print(bool(0), bool(0.), bool(complex(0, 0)), sep=\", \")\n",
    "print(\"Не нули: \", end=\"\\t\")\n",
    "print(bool(1), bool(1.), bool(complex(0, 1)), sep=\", \")"
   ]
  },
  {
   "cell_type": "markdown",
   "metadata": {},
   "source": [
    "### 1.5.  `None` \n",
    "В `python` есть специальный тип данных `NoneType`, который может принимать единственно возможное значение `None`. "
   ]
  },
  {
   "cell_type": "code",
   "execution_count": 32,
   "metadata": {},
   "outputs": [
    {
     "name": "stdout",
     "output_type": "stream",
     "text": [
      "<class 'NoneType'>\n"
     ]
    }
   ],
   "source": [
    "null_variable = None\n",
    "print(type(None))"
   ]
  },
  {
   "cell_type": "markdown",
   "metadata": {},
   "source": [
    "`None` всегда приводится к `False`."
   ]
  },
  {
   "cell_type": "code",
   "execution_count": 33,
   "metadata": {},
   "outputs": [
    {
     "data": {
      "text/plain": [
       "False"
      ]
     },
     "execution_count": 33,
     "metadata": {},
     "output_type": "execute_result"
    }
   ],
   "source": [
    "bool(None)"
   ]
  },
  {
   "cell_type": "markdown",
   "metadata": {},
   "source": [
    "## 2. Списки \n",
    "\n",
    "Первый контейнер, с которым мы познакомимся - список. Список (`list`) - наиболее близкий аналог к массиву из `C/C++`, если брать в расчет только встроенные типы. Существенным отличием является возможность хранения в одном и том же списке объекты разных типов.\n",
    "\n",
    "В `python` ряд контейнеров обладают общими чертами. `list` --- представитель группы контейнеров `Sequence Types` (последовательности). [Последовательность](https://docs.python.org/3/library/stdtypes.html#sequence-types-list-tuple-range) означает, что элементы контейнера пронумерованы и к ним можно обращаться по индексу ([zero-based](https://en.wikipedia.org/wiki/Zero-based_numbering), как и в `C/C++` ).\n",
    "\n",
    "Другие представители последовательностей в `python`:\n",
    "- кортежи `tuple`;\n",
    "- диапазоны `range`;\n",
    "- строки `str`;\n",
    "\n",
    "Создать список можно, например, перечислив его элементы внутри квадратных скобок и разделив их запятыми."
   ]
  },
  {
   "cell_type": "code",
   "execution_count": 36,
   "metadata": {},
   "outputs": [
    {
     "name": "stdout",
     "output_type": "stream",
     "text": [
      "[1, 3, 7]\n",
      "<class 'list'>\n"
     ]
    }
   ],
   "source": [
    "l = [1, 3, 7]\n",
    "\n",
    "print(l)\n",
    "print(type(l))"
   ]
  },
  {
   "cell_type": "markdown",
   "metadata": {},
   "source": [
    "Встроенная функция `len` позволяет узнать длину списка."
   ]
  },
  {
   "cell_type": "code",
   "execution_count": 37,
   "metadata": {},
   "outputs": [
    {
     "name": "stdout",
     "output_type": "stream",
     "text": [
      "3\n"
     ]
    }
   ],
   "source": [
    "print(len(l))"
   ]
  },
  {
   "cell_type": "markdown",
   "metadata": {},
   "source": [
    "Синтаксис получения элемента списка по его индексу напоминает `C/C++`."
   ]
  },
  {
   "cell_type": "code",
   "execution_count": 39,
   "metadata": {},
   "outputs": [
    {
     "name": "stdout",
     "output_type": "stream",
     "text": [
      "3\n",
      "1 7\n"
     ]
    }
   ],
   "source": [
    "print(l[1])                     # Обращение к элементу списка по смещению\n",
    "print(l[0], l[-1])             "
   ]
  },
  {
   "cell_type": "markdown",
   "metadata": {},
   "source": [
    "У списка есть встроенный метод сортировки `list.sort()`, который сортирует его **на месте** (*in-place*). "
   ]
  },
  {
   "cell_type": "code",
   "execution_count": 40,
   "metadata": {},
   "outputs": [
    {
     "name": "stdout",
     "output_type": "stream",
     "text": [
      "[-1, 7, 13, 42, 123]\n",
      "[42, 7, 13, -1, 123]\n"
     ]
    }
   ],
   "source": [
    "l = [42, 7, 13, -1, 123]\n",
    "\n",
    "print(sorted(l))               # Функция sorted конструирует новый список\n",
    "print(l) "
   ]
  },
  {
   "cell_type": "markdown",
   "metadata": {},
   "source": [
    "Также есть функция `sorted()`, которая конструирует новый отсортированный список на основе своего аргумента (список или любой другой итерируемый объект)."
   ]
  },
  {
   "cell_type": "code",
   "execution_count": 42,
   "metadata": {},
   "outputs": [
    {
     "name": "stdout",
     "output_type": "stream",
     "text": [
      "[-1, 7, 13, 42, 123]\n"
     ]
    }
   ],
   "source": [
    "l.sort()\n",
    "print(l)"
   ]
  },
  {
   "cell_type": "markdown",
   "metadata": {},
   "source": [
    "Список не только может содержать объекты любых типов, но и содержать объекты разных типов, в том числе и другие списки. Списки можно вкладывать друг в друга на произвольную глубину."
   ]
  },
  {
   "cell_type": "code",
   "execution_count": 43,
   "metadata": {},
   "outputs": [
    {
     "name": "stdout",
     "output_type": "stream",
     "text": [
      "[-1, 7, 13, 42, 123, 'a string']\n",
      "[-1, 7, 13, 42, 123, 'a string', ['строка внутри списка внутри списка']]\n"
     ]
    }
   ],
   "source": [
    "l.append(\"a string\")\n",
    "print(l)\n",
    "l.append([\"строка внутри списка внутри списка\"])\n",
    "print(l)"
   ]
  },
  {
   "cell_type": "markdown",
   "metadata": {},
   "source": [
    "Пустой список приводится к `False`. Любой не пустой список приводится к `True`. Иногда это используется для проверки на пустоту списка. "
   ]
  },
  {
   "cell_type": "code",
   "execution_count": 44,
   "metadata": {},
   "outputs": [
    {
     "name": "stdout",
     "output_type": "stream",
     "text": [
      "False True\n"
     ]
    }
   ],
   "source": [
    "print(bool([]), bool([0]))"
   ]
  }
 ],
 "metadata": {
  "kernelspec": {
   "display_name": "Python 3.8.10 ('venv': venv)",
   "language": "python",
   "name": "python3"
  },
  "language_info": {
   "codemirror_mode": {
    "name": "ipython",
    "version": 3
   },
   "file_extension": ".py",
   "mimetype": "text/x-python",
   "name": "python",
   "nbconvert_exporter": "python",
   "pygments_lexer": "ipython3",
   "version": "3.8.10"
  },
  "vscode": {
   "interpreter": {
    "hash": "eea3ef54c04064aa17c056cc2578c78db8b44278034b77b7225a3166c34cea02"
   }
  }
 },
 "nbformat": 4,
 "nbformat_minor": 2
}
