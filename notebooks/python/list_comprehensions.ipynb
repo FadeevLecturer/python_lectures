{
 "cells": [
  {
   "cell_type": "markdown",
   "metadata": {},
   "source": [
    "(listcomp)=\n",
    "# Основы списковых включений\n",
    "\n",
    "Для создания списков есть очень мощный инструмент [list comprehensions](https://docs.python.org/3/tutorial/datastructures.html#list-comprehensions), который на русском иногда называют списковыми включениями.\n",
    "\n",
    "## Создание списка копий и копирование списков\n",
    "\n",
    "В самом простом своём варианте списковое включение позволяет копировать содержимое итерируемого объекта в новый список."
   ]
  },
  {
   "cell_type": "code",
   "execution_count": 1,
   "metadata": {},
   "outputs": [
    {
     "name": "stdout",
     "output_type": "stream",
     "text": [
      "[1, 2, 3]\n"
     ]
    }
   ],
   "source": [
    "a_list = [1, 2, 3]\n",
    "a_copy = [x for x in a_list]\n",
    "print(a_copy)"
   ]
  },
  {
   "cell_type": "markdown",
   "metadata": {},
   "source": [
    "Рассмотрим синтаксис:\n",
    "```python\n",
    "[x for x in iterable]\n",
    "```\n",
    "- `[]` квадратные скобочки означают, что содержимое будет списком;\n",
    "- `x for x in iterable` означает, что в список попадут элементы `x`, где `x` пробегает по `iterable`;\n",
    "\n",
    "То, что попадёт в список необязательно должно зависеть от `iterable`. Например, можно создать список одинаковых элементов."
   ]
  },
  {
   "cell_type": "code",
   "execution_count": 2,
   "metadata": {},
   "outputs": [
    {
     "name": "stdout",
     "output_type": "stream",
     "text": [
      "[0, 0, 0, 0, 0]\n"
     ]
    }
   ],
   "source": [
    "zeros = [0 for i in range(5)]\n",
    "print(zeros)"
   ]
  },
  {
   "cell_type": "markdown",
   "metadata": {},
   "source": [
    "Результат очень похож на выражение `[0] * 5`, но в данном случае выражение вычисляется заново на каждой итерации цикла. Т.е. можно действительно создать список разных списков."
   ]
  },
  {
   "cell_type": "code",
   "execution_count": 3,
   "metadata": {},
   "outputs": [
    {
     "name": "stdout",
     "output_type": "stream",
     "text": [
      "[['Много разных списков'], [], [], [], []]\n"
     ]
    }
   ],
   "source": [
    "many_empty_lists = [[] for i in range(5)]\n",
    "many_empty_lists[0].append(\"Много разных списков\")\n",
    "print(many_empty_lists)"
   ]
  },
  {
   "cell_type": "code",
   "execution_count": 4,
   "metadata": {},
   "outputs": [
    {
     "name": "stdout",
     "output_type": "stream",
     "text": [
      "[['Один список'], ['Один список'], ['Один список'], ['Один список'], ['Один список']]\n"
     ]
    }
   ],
   "source": [
    "one_empty_list = [[]] * 5 \n",
    "one_empty_list[0].append(\"Один список\")\n",
    "print(one_empty_list)"
   ]
  },
  {
   "cell_type": "markdown",
   "id": "12249855",
   "metadata": {},
   "source": [
    "Ещё это можно проиллюстрировать на примере с генерацией случайных чисел."
   ]
  },
  {
   "cell_type": "code",
   "execution_count": 5,
   "id": "28bb1583",
   "metadata": {},
   "outputs": [
    {
     "name": "stdout",
     "output_type": "stream",
     "text": [
      "[0.122855465110149, 0.122855465110149, 0.122855465110149]\n",
      "[0.2369856559662733, 0.7855893575232121, 0.45901615100179716]\n"
     ]
    }
   ],
   "source": [
    "from random import random\n",
    "\n",
    "print([random()] * 3) \n",
    "print([random() for _ in range(3)])"
   ]
  },
  {
   "cell_type": "markdown",
   "metadata": {},
   "source": [
    "## Аналог функции `map`\n",
    "\n",
    "В `python` есть встроенная функция [map](https://docs.python.org/3/library/functions.html#map), которая позволяет отображать функцию на элементы списка (или другого итерируемого объекта), т.е. применять какую-то функцию ко всем элементам списка. \n",
    "\n",
    "```{note}\n",
    "Функция `map` делает вычисления лениво. Концепция ленивых вычислений будет обсуждаться при обсуждении генераторов и итераторов.\n",
    "Пока что достаточно знать, что, чтобы получить список, необходимо применить `list` к результату функции `map`.\n",
    "```"
   ]
  },
  {
   "cell_type": "code",
   "execution_count": 6,
   "metadata": {},
   "outputs": [
    {
     "name": "stdout",
     "output_type": "stream",
     "text": [
      "[1.0, 2.0, 3.0, 4.0]\n",
      "[1.0, 4.0, 9.0, 16.0]\n"
     ]
    }
   ],
   "source": [
    "import math\n",
    "\n",
    "array = [1, 4, 9, 16]\n",
    "array_1 = list(map(math.sqrt, array))\n",
    "print(array_1)\n",
    "\n",
    "def my_square(x):\n",
    "    return x * x\n",
    "\n",
    "array_2 = list(map(my_square, array_1))\n",
    "print(array_2)"
   ]
  },
  {
   "cell_type": "markdown",
   "metadata": {},
   "source": [
    "Можно имитировать функцию `map` с помощью списковых включений."
   ]
  },
  {
   "cell_type": "code",
   "execution_count": 7,
   "metadata": {},
   "outputs": [
    {
     "name": "stdout",
     "output_type": "stream",
     "text": [
      "[1.0, 2.0, 3.0, 4.0]\n",
      "[1.0, 4.0, 9.0, 16.0]\n"
     ]
    }
   ],
   "source": [
    "array_1 = [math.sqrt(x) for x in array]\n",
    "array_2 = [my_square(x) for x in array_1]\n",
    "print(array_1)\n",
    "print(array_2)"
   ]
  },
  {
   "cell_type": "markdown",
   "metadata": {},
   "source": [
    "При этом необязательно применять функцию. Допустимо любое выражение."
   ]
  },
  {
   "cell_type": "code",
   "execution_count": 8,
   "metadata": {},
   "outputs": [
    {
     "name": "stdout",
     "output_type": "stream",
     "text": [
      "[1.0, 4.0, 9.0, 16.0]\n"
     ]
    }
   ],
   "source": [
    "array_2 = [x * x for x in array_1]\n",
    "print(array_2)"
   ]
  },
  {
   "cell_type": "markdown",
   "metadata": {},
   "source": [
    "Т.е. теперь синтаксис такой:\n",
    "```python\n",
    "    [expression(x) for x in iterable]\n",
    "```"
   ]
  },
  {
   "cell_type": "markdown",
   "metadata": {},
   "source": [
    "## Аналог функции `filter`\n",
    "\n",
    "В `python` есть встроенная функция фильтрации [filter](https://docs.python.org/3/library/functions.html#filter), которая принимает на вход функцию `f` и итерируемый объект `iterable`. Она оставляет только те элементы `iterable`, на которых `f` возвращает `True`. Как и функция `map`, функция `filter` делает это лениво.\n",
    "\n",
    "В качестве примера отсеем только четные элементы списка этой функцией. Для Этого "
   ]
  },
  {
   "cell_type": "code",
   "execution_count": 14,
   "metadata": {},
   "outputs": [
    {
     "name": "stdout",
     "output_type": "stream",
     "text": [
      "[69, 57, 81, 3, 0, 65, 57, 90, 34, 72, 94, 100, 68, 68, 39, 60, 21, 84, 45, 65]\n",
      "[0, 90, 34, 72, 94, 100, 68, 68, 60, 84]\n"
     ]
    }
   ],
   "source": [
    "from random import randint\n",
    "\n",
    "def is_even(x):                     \n",
    "    if x % 2:\n",
    "        return False\n",
    "    else:\n",
    "        return True\n",
    "    \n",
    "def is_even(x):\n",
    "    return False if x % 2 else True # Тернарный оператор\n",
    "\n",
    "\n",
    "def is_even(x):\n",
    "    return not x % 2\n",
    "\n",
    "array = [randint(0, 100) for _ in range(20)]\n",
    "only_even = list(filter(is_even, array))\n",
    "\n",
    "print(array)\n",
    "print(only_even)\n"
   ]
  },
  {
   "cell_type": "markdown",
   "metadata": {},
   "source": [
    "Схожего эффекта можно добиться с помощью списковых включений."
   ]
  },
  {
   "cell_type": "code",
   "execution_count": 15,
   "metadata": {},
   "outputs": [
    {
     "name": "stdout",
     "output_type": "stream",
     "text": [
      "[0, 90, 34, 72, 94, 100, 68, 68, 60, 84]\n"
     ]
    }
   ],
   "source": [
    "only_even = [x for x in array if not x % 2]\n",
    "print(only_even)"
   ]
  },
  {
   "cell_type": "markdown",
   "id": "a643d9ae",
   "metadata": {},
   "source": [
    "При этом разумеется можно комбинировать вычисление выражения с фильтрацией одновременно."
   ]
  },
  {
   "cell_type": "code",
   "execution_count": 16,
   "id": "cf25aeb9",
   "metadata": {},
   "outputs": [
    {
     "name": "stdout",
     "output_type": "stream",
     "text": [
      "[0, 8100, 1156, 5184, 8836, 10000, 4624, 4624, 3600, 7056]\n",
      "[0, 8100, 1156, 5184, 8836, 10000, 4624, 4624, 3600, 7056]\n"
     ]
    }
   ],
   "source": [
    "only_even_squared = list(map(my_square, filter(is_even, array)))\n",
    "print(only_even_squared)\n",
    "\n",
    "only_even_squared = [x * x for x in array if not x % 2]\n",
    "print(only_even_squared)"
   ]
  },
  {
   "cell_type": "markdown",
   "metadata": {},
   "source": [
    "Т.е. теперь синтаксис такой:\n",
    "```python\n",
    "    [expression(x) for x in iterable if condition(x)]\n",
    "```"
   ]
  },
  {
   "cell_type": "markdown",
   "id": "1ebc77ef",
   "metadata": {},
   "source": [
    "## Аналогия с математической записью множеств\n",
    "\n",
    "Иногда можно провести аналогию между списковыми включениями и [формой записи множеств](https://ru.wikipedia.org/wiki/%D0%A4%D0%BE%D1%80%D0%BC%D0%B0_%D0%B7%D0%B0%D0%BF%D0%B8%D1%81%D0%B8_%D0%BC%D0%BD%D0%BE%D0%B6%D0%B5%D1%81%D1%82%D0%B2%D0%B0) в математике.\n",
    "\n",
    "В качестве примера рассмотрим определение [кольца вычетов по модулю $n$](https://ru.wikipedia.org/wiki/%D0%9C%D1%83%D0%BB%D1%8C%D1%82%D0%B8%D0%BF%D0%BB%D0%B8%D0%BA%D0%B0%D1%82%D0%B8%D0%B2%D0%BD%D0%B0%D1%8F_%D0%B3%D1%80%D1%83%D0%BF%D0%BF%D0%B0_%D0%BA%D0%BE%D0%BB%D1%8C%D1%86%D0%B0_%D0%B2%D1%8B%D1%87%D0%B5%D1%82%D0%BE%D0%B2)\n",
    "\n",
    "$$\n",
    "\\mathbb{Z}_n = \\big\\{x\\in\\{1, \\ldots, n-1\\}  \\mid \\gcd(x, n) > 1\\big\\}.\n",
    "$$\n",
    "\n",
    "Здесь $\\gcd$ --- наибольший общий делитель. При $n=42$ множество элементов кольца принимает вид\n",
    "\n",
    "$$\n",
    "\\mathbb{Z}_{42} = \\big\\{x\\in\\{1, \\ldots, 41\\}  \\mid \\gcd(x, 42) = 1\\big\\} = \\{ 1, 5, 11, 13, 17, 19, 23, 25, 29, 31, 37, 41\\}.\n",
    "$$\n",
    "\n",
    "В этом примере множество $\\mathbb{Z}_{42}$ задаётся как множество элементов другого множества (множества $\\{1, \\ldots, 41\\}$), которые удовлетворяют условию взаимной простоты с числом 9. Такая логическая конструкция легко выражается списковым включением."
   ]
  },
  {
   "cell_type": "code",
   "execution_count": 20,
   "id": "283ab0a5",
   "metadata": {},
   "outputs": [
    {
     "name": "stdout",
     "output_type": "stream",
     "text": [
      "[1, 5, 11, 13, 17, 19, 23, 25, 29, 31, 37, 41]\n"
     ]
    }
   ],
   "source": [
    "from math import gcd\n",
    "\n",
    "n = 42\n",
    "Z42 = [x  for x in range(42) if gcd(x, 42) == 1]\n",
    "print(Z42)"
   ]
  },
  {
   "cell_type": "markdown",
   "id": "11334132",
   "metadata": {},
   "source": [
    "Важная деталь, которую стоит подметить --- в математике множество не может содержать дубликатов, а список в `python` может. В качестве демонстрации рассмотрим множество квадратов не превосходящих по модулю 2 целых чисел\n",
    "\n",
    "$$\n",
    "R = \\Big\\{x^2 \\mid x\\in\\{-2, -1, 0, 1, 2\\}\\Big\\} = \\{0, 1, 4\\}.\n",
    "$$"
   ]
  },
  {
   "cell_type": "code",
   "execution_count": 22,
   "id": "833267ea",
   "metadata": {},
   "outputs": [
    {
     "name": "stdout",
     "output_type": "stream",
     "text": [
      "[4, 1, 0, 1, 4]\n"
     ]
    }
   ],
   "source": [
    "R = [x ** 2 for x in range(-2, 3)]\n",
    "print(R)"
   ]
  },
  {
   "cell_type": "markdown",
   "id": "0baacdc8",
   "metadata": {},
   "source": [
    "Однако есть есть встроенный контейнер [set](https://docs.python.org/3/tutorial/datastructures.html#sets), который ведет себя как математическое множество и тоже поддерживает синтаксис включений."
   ]
  },
  {
   "cell_type": "code",
   "execution_count": 23,
   "id": "81bff514",
   "metadata": {},
   "outputs": [
    {
     "name": "stdout",
     "output_type": "stream",
     "text": [
      "{0, 1, 4}\n"
     ]
    }
   ],
   "source": [
    "R = {x ** 2 for x in range(-2, 3)}\n",
    "print(R)"
   ]
  },
  {
   "cell_type": "markdown",
   "id": "f70fb074",
   "metadata": {},
   "source": [
    "```{warning}\n",
    "Контейнер `set` устроен очень похоже на словари. Это значит, что он может хранить в себе только хэшируемые объекты, а значит поиск по нему осуществляется очень быстро. Дополнительное преимущество этого контейнера, что оператора `|` и `&` работают как объединение и пересечение множеств.\n",
    "```\n",
    "\n",
    "## \"Словарные включения\"\n",
    "\n",
    "Словари тоже поддерживают похожий синтаксис. Например, словарь, отображающий строчные буквы английского алфавита на прописные, можно записать следующим образом. "
   ]
  },
  {
   "cell_type": "code",
   "execution_count": 11,
   "id": "2ff6c372",
   "metadata": {},
   "outputs": [
    {
     "name": "stdout",
     "output_type": "stream",
     "text": [
      "{'a': 'A', 'b': 'B', 'c': 'C', 'd': 'D', 'e': 'E', 'f': 'F', 'g': 'G', 'h': 'H', 'i': 'I', 'j': 'J', 'k': 'K', 'l': 'L', 'm': 'M', 'n': 'N', 'o': 'O', 'p': 'P', 'q': 'Q', 'r': 'R', 's': 'S', 't': 'T', 'u': 'U', 'v': 'V', 'w': 'W', 'x': 'X', 'y': 'Y', 'z': 'Z'}\n"
     ]
    }
   ],
   "source": [
    "from string import ascii_lowercase\n",
    "\n",
    "d = {symbol: symbol.upper() for symbol in ascii_lowercase}\n",
    "print(d)"
   ]
  },
  {
   "cell_type": "markdown",
   "id": "08010408",
   "metadata": {},
   "source": [
    "Все остальные элементы из списковых включений поддерживаются и словарными включениями. Сделаем отображение только согласных букв. "
   ]
  },
  {
   "cell_type": "code",
   "execution_count": 24,
   "id": "8e873ad5",
   "metadata": {},
   "outputs": [
    {
     "name": "stdout",
     "output_type": "stream",
     "text": [
      "{'b': 'B', 'c': 'C', 'd': 'D', 'f': 'F', 'g': 'G', 'h': 'H', 'j': 'J', 'k': 'K', 'l': 'L', 'm': 'M', 'n': 'N', 'p': 'P', 'q': 'Q', 'r': 'R', 's': 'S', 't': 'T', 'v': 'V', 'w': 'W', 'x': 'X', 'z': 'Z'}\n"
     ]
    }
   ],
   "source": [
    "from string import ascii_lowercase, ascii_uppercase\n",
    "\n",
    "vowels = {\"a\", \"e\", \"i\", \"o\", \"u\", \"y\"} \n",
    "d = {s:S for s, S in zip(ascii_lowercase, ascii_uppercase) if s not in vowels}\n",
    "print(d)"
   ]
  },
  {
   "cell_type": "markdown",
   "id": "4ca6eaa5",
   "metadata": {},
   "source": [
    "```\n",
    "{key(x):value(x) for x in container if condition(x)}\n",
    "```\n",
    "\n",
    "В качестве аналога фильтрации, можно рассмотреть здесь применение множеств из `python`: оператор \"`-`\" для двух множеств возвращает их разницу. Мы можем получить согласные буквы, вычтя из всех букв гласные. "
   ]
  },
  {
   "cell_type": "code",
   "execution_count": 26,
   "id": "0ba2d592",
   "metadata": {},
   "outputs": [
    {
     "name": "stdout",
     "output_type": "stream",
     "text": [
      "{'x', 'k', 'h', 's', 'n', 'p', 'c', 'f', 'r', 'b', 't', 'g', 'q', 'm', 'z', 'l', 'd', 'v', 'w', 'j'}\n"
     ]
    }
   ],
   "source": [
    "consonants = set(ascii_lowercase) - set(vowels)\n",
    "print(consonants)"
   ]
  },
  {
   "cell_type": "markdown",
   "metadata": {},
   "source": [
    "## Больше возможностей\n",
    "\n",
    "В одном списковом включении может быть несколько циклов."
   ]
  },
  {
   "cell_type": "code",
   "execution_count": 27,
   "metadata": {},
   "outputs": [
    {
     "name": "stdout",
     "output_type": "stream",
     "text": [
      "['a', 'aa', 'aaa', 'b', 'bb', 'bbb', 'c', 'cc', 'ccc']\n"
     ]
    }
   ],
   "source": [
    "array = [symbol * n for symbol in \"abc\" for n in [1, 2, 3]]\n",
    "print(array)"
   ]
  },
  {
   "cell_type": "markdown",
   "metadata": {},
   "source": [
    "Списковые включения могут быть вложенными друг в друга."
   ]
  },
  {
   "cell_type": "code",
   "execution_count": 28,
   "metadata": {},
   "outputs": [
    {
     "name": "stdout",
     "output_type": "stream",
     "text": [
      "[['a', 'b', 'c'], ['aa', 'bb', 'cc'], ['aaa', 'bbb', 'ccc']]\n"
     ]
    }
   ],
   "source": [
    "array = [[symbol * n for symbol in \"abc\"] for n in [1, 2, 3]]\n",
    "print(array)"
   ]
  },
  {
   "cell_type": "markdown",
   "metadata": {},
   "source": [
    "### Пример с матрицей"
   ]
  },
  {
   "cell_type": "code",
   "execution_count": 31,
   "metadata": {},
   "outputs": [
    {
     "name": "stdout",
     "output_type": "stream",
     "text": [
      "[[0, 1, 2, 3, 4, 5, 6, 7, 8, 9],\n",
      " [10, 11, 12, 13, 14, 15, 16, 17, 18, 19],\n",
      " [20, 21, 22, 23, 24, 25, 26, 27, 28, 29],\n",
      " [30, 31, 32, 33, 34, 35, 36, 37, 38, 39],\n",
      " [40, 41, 42, 43, 44, 45, 46, 47, 48, 49],\n",
      " [50, 51, 52, 53, 54, 55, 56, 57, 58, 59],\n",
      " [60, 61, 62, 63, 64, 65, 66, 67, 68, 69],\n",
      " [70, 71, 72, 73, 74, 75, 76, 77, 78, 79],\n",
      " [80, 81, 82, 83, 84, 85, 86, 87, 88, 89],\n",
      " [90, 91, 92, 93, 94, 95, 96, 97, 98, 99]]\n"
     ]
    }
   ],
   "source": [
    "from pprint import pprint\n",
    "\n",
    "matrix = [[10 * j + i for i in range(10)] for j in range(10)]\n",
    "pprint(matrix)"
   ]
  }
 ],
 "metadata": {
  "kernelspec": {
   "display_name": "Python 3.10.7 ('venv': venv)",
   "language": "python",
   "name": "python3"
  },
  "language_info": {
   "codemirror_mode": {
    "name": "ipython",
    "version": 3
   },
   "file_extension": ".py",
   "mimetype": "text/x-python",
   "name": "python",
   "nbconvert_exporter": "python",
   "pygments_lexer": "ipython3",
   "version": "3.10.7"
  },
  "vscode": {
   "interpreter": {
    "hash": "4764a2e9c2ab0c238deafcd5fe5089e08560fff2af75074975b87e9e493b44ea"
   }
  }
 },
 "nbformat": 4,
 "nbformat_minor": 5
}
