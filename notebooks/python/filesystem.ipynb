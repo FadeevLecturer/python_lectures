{
 "cells": [
  {
   "cell_type": "markdown",
   "metadata": {},
   "source": [
    "# Взаимодействие с файловой системой\n",
    "\n",
    "Нередко требуется программными средствами взаимодействовать с файловой системой и в стандартной библиотеке `python` реализовано много инструментов, значительно упрощающих этот процесс.\n",
    "\n",
    "## Путь к файлу/директории\n",
    "\n",
    "Путь (англ. path) --- набор символов, показывающий расположение файла или каталога в файловой системе (источник --- [wikipedia](https://ru.wikipedia.org/wiki/%D0%9F%D1%83%D1%82%D1%8C_%D0%BA_%D1%84%D0%B0%D0%B9%D0%BB%D1%83)). В программных средах путь необходим, например, для того, чтобы открывать и сохранять файлы. В большинстве случаев в `python` путь представляется в виде обычного строкового объекта. \n",
    "\n",
    "Обычно путь представляет из себя последовательность вложенных каталогов, разделенных специальным символом. При этом разделитель каталогов может меняться от операционной системы: в  `OS Windows` используется \"`\\`\", в `unix-like` системах --- \"`/`\". Кроме того, важно знать, что пути бывают абсолютными и относительными. **Абсолютный путь** всегда начинается с корневого каталога файловой системы (в `OS Windows` --- это  логический раздел (например, \"C:\"), в `UNIX-like` системах --- \"/\") и всегда указывает на один и тот же файл (или директорию). **Относительный** путь, наоборот, не начинается с корневого каталога и указывает расположение относительно текущего [рабочего каталога](https://ru.wikipedia.org/wiki/%D0%A0%D0%B0%D0%B1%D0%BE%D1%87%D0%B8%D0%B9_%D0%BA%D0%B0%D1%82%D0%B0%D0%BB%D0%BE%D0%B3), а значит будет указывать на совершено другой файл, если рабочий каталог изменяется. \n",
    "\n",
    "Итого, например, путь к файлу \"hello.py\" в домашней директории пользователя \"ivan\" в зависимости от операционной системы будет выглядеть приблизительно следующим образом:\n",
    "\n",
    "|               | `OS Windows`           | `UNIX-like`               |\n",
    "|---------------|------------------------|---------------------------|\n",
    "| Глобальный    | C:\\Users\\ivan\\hello.py | /home/users/ivan/hello.py |\n",
    "| Относительный | .\\hello.py             | ./hello.py                |\n",
    "\n",
    "В связи с этим требуется прикладывать дополнительные усилия, чтобы заставить работать один и тот же код на машинах с разными операционными системами. Чтобы все же абстрагироваться от того, как конкретно устроена файловая система на каждой конкретной машине, в `python` предусмотренны модули стандартной библиотеки [os.path](https://docs.python.org/3/library/os.path.html#module-os.path) и [pathlib](https://docs.python.org/3/library/pathlib.html). \n",
    "\n",
    "\n",
    "## Соединение элементов пути\n",
    "\n",
    "Рассмотрим конкретный пример. Пусть у нас имеется строка `folder`, представляющая путь к каталогу."
   ]
  },
  {
   "cell_type": "code",
   "execution_count": 43,
   "metadata": {},
   "outputs": [],
   "source": [
    "folder = r\"C:\\Users\\fadeev\""
   ]
  },
  {
   "cell_type": "markdown",
   "metadata": {},
   "source": [
    "По виду строки можно сразу понять, что она представляет путь в `OS Windows`. Обратите внимание, что перед кавычками располагается символ \"`r`\". Он в данном случае необходим, т.к. используемый в \"OS Windows\" разделитель каталогов \"`\\`\" в `python` (и многих других языках программирования) зарезервирован для экранирования, т.е. если внутри строки встречается \"`\\`\", то он не воспринимается в качестве символа `backslash`, а изменяет смысл последующего символа. Так, например, последовательность строка `\"\\n\"` на самом деле строка из всего одного управляющего символа перевода строки."
   ]
  },
  {
   "cell_type": "code",
   "execution_count": 44,
   "metadata": {},
   "outputs": [
    {
     "name": "stdout",
     "output_type": "stream",
     "text": [
      "1\n"
     ]
    }
   ],
   "source": [
    "print(len(\"\\n\"))"
   ]
  },
  {
   "cell_type": "markdown",
   "metadata": {},
   "source": [
    "Если добавить перед кавычками символ \"`r`\", то символ \"`\\`\" теряет свою особую роль внутри неё."
   ]
  },
  {
   "cell_type": "code",
   "execution_count": 45,
   "metadata": {},
   "outputs": [
    {
     "name": "stdout",
     "output_type": "stream",
     "text": [
      "2\n"
     ]
    }
   ],
   "source": [
    "print(len(r\"\\n\"))"
   ]
  },
  {
   "cell_type": "markdown",
   "metadata": {},
   "source": [
    "Сам факт того, что при работе ручном прописывании пути в виде строки приходится проявлять дополнительную бдительность намекает на то, что должен быть более осмысленный способ составлении пути. \n",
    "\n",
    "Вернемся к нашему примеру. Предположим, что мы произвели какие-то вычисления и их результат хотим сохранить в файл с именем \"results.txt\" в этой папке `folder`. "
   ]
  },
  {
   "cell_type": "code",
   "execution_count": 46,
   "metadata": {},
   "outputs": [],
   "source": [
    "filename = \"results.txt\""
   ]
  },
  {
   "cell_type": "markdown",
   "metadata": {},
   "source": [
    "Чтобы это сделать, необходимо соединить путь к папке и имя файла, используя правильный разделитель. Конечно, можно вспомнить, что путь --- строка, а значит их можно конкатенировать. Но, что если кто-то захочет запустить ваш код на машине с другой операционной системой? Гораздо целесообразнее воспользоваться для этих целей специальными средствами. Самый надежный способ --- метод [os.path.join](https://docs.python.org/3/library/os.path.html#os.path.join), который на вход принимает произвольное количество имен файлов и соединяет их тем символом, который используется в качестве разделителя на той конкретной машине, на которой скрипт сейчас запущен. "
   ]
  },
  {
   "cell_type": "code",
   "execution_count": 47,
   "metadata": {},
   "outputs": [
    {
     "name": "stdout",
     "output_type": "stream",
     "text": [
      "C:\\Users\\fadeev\\results.txt\n"
     ]
    }
   ],
   "source": [
    "import os\n",
    "\n",
    "path = os.path.join(folder, filename)\n",
    "print(path)"
   ]
  },
  {
   "cell_type": "markdown",
   "metadata": {},
   "source": [
    "Альтернативой является модуль [pathlib](https://docs.python.org/3/library/pathlib.html), который позволяют обращаться с путями файловой системы в объектно ориентированном стиле, т.е. путь больше не представляется в виде строки, а виде специального объекта, который в любой момент может быть приведен к строке конструктором строки [str](https://docs.python.org/3/library/functions.html#func-str). \n",
    "\n",
    "Для создания такого объекта обычно используют класс [Path](https://docs.python.org/3/library/pathlib.html#pathlib.Path), при создании экземпляра которого учитывается операционная система, на которой запущен данный скрипт. "
   ]
  },
  {
   "cell_type": "code",
   "execution_count": 48,
   "metadata": {},
   "outputs": [
    {
     "name": "stdout",
     "output_type": "stream",
     "text": [
      "folder=WindowsPath('C:/Users/fadeev'), str(folder)='C:\\\\Users\\\\fadeev'\n"
     ]
    }
   ],
   "source": [
    "from pathlib import Path\n",
    "\n",
    "folder = Path(folder)\n",
    "print(f\"{folder=}, {str(folder)=}\")"
   ]
  },
  {
   "cell_type": "markdown",
   "metadata": {},
   "source": [
    "В ячейке выше создается объект типа `Path` из строки `folder` и вывод сообщает, что создался объект `WindowsPath('C:/Users/ivan')`, приведение которого к строке --- `'C:\\\\Users\\\\ivan'`. Обратите внимание, что автоматически создался путь `OS Windows`, т.к. этот скрипт запускался под управлением этой операционной системы. Именно из-за этого при приведении к строке разделителем каталогов оказался символ \"`\\`\". \n",
    "\n",
    "Чтобы присоединить имя файла к объекту `folder`, можно использовать оператор \"`/`\" вне зависимости от операционной системы. "
   ]
  },
  {
   "cell_type": "code",
   "execution_count": 49,
   "metadata": {},
   "outputs": [
    {
     "name": "stdout",
     "output_type": "stream",
     "text": [
      "path=WindowsPath('C:/Users/fadeev/results.txt')\n"
     ]
    }
   ],
   "source": [
    "path = folder / filename\n",
    "print(f\"{path=}\")"
   ]
  },
  {
   "cell_type": "markdown",
   "metadata": {},
   "source": [
    "Автор курса рекомендует всегда использовать средства модулей [os.path](https://docs.python.org/3/library/os.path.html#module-os.path) и [pathlib](https://docs.python.org/3/library/pathlib.html), даже если вам известно, что ваш скрипт будет запускаться под управлением какой-то конкретной операционной системы, чтобы писать более надежный код и формировать полезные привычки. \n",
    "\n",
    "## Извлечение элементов из пути \n",
    "\n",
    "Иногда может стоять обратная задача: дан путь, а из него надо что-то извлечь. \n",
    "\n",
    "Метод [os.path.splitdrive](https://docs.python.org/3/library/os.path.html#os.path.splitdrive) разбивает строку на логический раздел и остальное (актуально в основном на `OS Windows`)."
   ]
  },
  {
   "cell_type": "code",
   "execution_count": 50,
   "metadata": {},
   "outputs": [
    {
     "name": "stdout",
     "output_type": "stream",
     "text": [
      "path=WindowsPath('C:/Users/fadeev/results.txt')\n",
      "drive='C:', tail='\\\\Users\\\\fadeev\\\\results.txt'\n"
     ]
    }
   ],
   "source": [
    "print(f\"{path=}\")\n",
    "drive, tail = os.path.splitdrive(path)\n",
    "\n",
    "print(f\"{drive=}, {tail=}\")"
   ]
  },
  {
   "cell_type": "markdown",
   "metadata": {},
   "source": [
    "Метод [os.path.dirname](https://docs.python.org/3/library/os.path.html#os.path.dirname) выделяет из пути родительский каталог. "
   ]
  },
  {
   "cell_type": "code",
   "execution_count": 51,
   "metadata": {},
   "outputs": [
    {
     "name": "stdout",
     "output_type": "stream",
     "text": [
      "folder='C:\\\\Users\\\\fadeev', parent_folder='C:\\\\Users'\n"
     ]
    }
   ],
   "source": [
    "folder = os.path.dirname(path)\n",
    "parent_folder = os.path.dirname(folder)\n",
    "\n",
    "print(f\"{folder=}, {parent_folder=}\")"
   ]
  },
  {
   "cell_type": "markdown",
   "metadata": {},
   "source": [
    "Метод [os.path.basename](https://docs.python.org/3/library/os.path.html#os.path.basename) наоборот извлекает название файла или папки. "
   ]
  },
  {
   "cell_type": "code",
   "execution_count": 52,
   "metadata": {},
   "outputs": [
    {
     "name": "stdout",
     "output_type": "stream",
     "text": [
      "filename='results.txt', foldername='fadeev'\n"
     ]
    }
   ],
   "source": [
    "filename = os.path.basename(path)\n",
    "foldername = os.path.basename(folder)\n",
    "print(f\"{filename=}, {foldername=}\")"
   ]
  },
  {
   "cell_type": "markdown",
   "metadata": {},
   "source": [
    "## Метаинформация файла/каталога \n",
    "\n",
    "Имея путь, можно запрашивать у операционной системы информацию о том, что находится по этому пути. Важно заметить, что на этом этапе всегда происходит запрос к операционной системе. \n",
    "\n",
    "Самый фундаментальный вопрос, который можно задать --- существует ли вообще что-нибудь по указанному пути? Метод [os.path.exists](https://docs.python.org/3/library/os.path.html#os.path.exists) отвечает как раз на этот вопрос. "
   ]
  },
  {
   "cell_type": "code",
   "execution_count": 53,
   "metadata": {},
   "outputs": [
    {
     "name": "stdout",
     "output_type": "stream",
     "text": [
      "os.path.exists(path)=False, os.path.exists('filesystem.ipynb')=True\n"
     ]
    }
   ],
   "source": [
    "print(f\"{os.path.exists(path)=}, {os.path.exists('filesystem.ipynb')=}\")"
   ]
  },
  {
   "cell_type": "markdown",
   "metadata": {},
   "source": [
    "Методы [os.path.isdir](https://docs.python.org/3/library/os.path.html#os.path.isdir) и [os.path.isfile](https://docs.python.org/3/library/os.path.html#os.path.isfile) позволяют определить располагает ли по этому пути каталог или файл соответственно. Оба метода возвращают `False`, если по переданному пути ничего не располагается.  "
   ]
  },
  {
   "cell_type": "code",
   "execution_count": 55,
   "metadata": {},
   "outputs": [
    {
     "name": "stdout",
     "output_type": "stream",
     "text": [
      "os.path.isdir(folder)=True, os.path.isfile('filesystem.ipynb')=True\n"
     ]
    }
   ],
   "source": [
    "print(f\"{os.path.isdir(folder)=}, {os.path.isfile('filesystem.ipynb')=}\")"
   ]
  },
  {
   "cell_type": "markdown",
   "metadata": {},
   "source": [
    "Также иногда бывает полезно узнать время создания (последнего изменения) или последнего доступа к файлу или каталогу. Для этих целей существуют методы [os.path.getatime](https://docs.python.org/3/library/os.path.html#os.path.getatime), [os.path.getmtime](https://docs.python.org/3/library/os.path.html#os.path.getmtime) и [os.path.getctime](https://docs.python.org/3/library/os.path.html#os.path.getctime). Размер файла можно узнать методом [os.path.getsize](https://docs.python.org/3/library/os.path.html#os.path.getsize).\n",
    "\n",
    "## Содержимое каталога \n",
    "\n",
    "В ряде задач может потребоваться узнать содержимое определенного каталога, например, чтобы потом в цикле обработать каждый элемент каталога. В самых простых случаях достаточно метода [os.listdir](https://docs.python.org/3/library/os.html#os.listdir), который возвращает список файлов/каталогов в указанной директории. По умолчанию --- текущая директория."
   ]
  },
  {
   "cell_type": "code",
   "execution_count": 59,
   "metadata": {},
   "outputs": [
    {
     "name": "stdout",
     "output_type": "stream",
     "text": [
      ".ipynb_checkpoints about_12_and_so_on.ipynb about_python.ipynb argparse.ipynb custom_classes.ipynb custom_exceptions.ipynb decorators.ipynb dictionaries.ipynb dynamic_typing.ipynb exceptions.ipynb exercises1.ipynb exercises2.ipynb exercises3.ipynb files.ipynb filesystem.ipynb functions.ipynb garbage_collector.ipynb generators.ipynb if_for_range.ipynb inheritance.ipynb iterators.ipynb json.ipynb jupyter.ipynb LBYL_vs_EAFP.ipynb list_comprehensions.ipynb mutability.ipynb numbers_and_lists.ipynb operators_overloading.ipynb polymorphism.ipynb python_scripts.ipynb scripts_vs_modules.ipynb sequencies.ipynb tmp "
     ]
    }
   ],
   "source": [
    "for filename in os.listdir():\n",
    "    print(filename, end=\" \")"
   ]
  },
  {
   "cell_type": "markdown",
   "metadata": {},
   "source": [
    "Важно помнить, что согласно документации этот метод возвращает список файлов в произвольном порядке, т.е. он ни коим образом не отсортирован. Если требуется отсортировать их по названию, например, в алфавитном порядке, то можно воспользоваться встроенной функцией [sorted](https://docs.python.org/3/library/functions.html#sorted). Практически во всех остальных случаях лучше выбрать [os.scandir](https://docs.python.org/3/library/os.html#os.scandir), которая не только возвращает содержимое каталога (тоже в произвольном порядке), но и метаинформацию о каждом файле в том числе.\n",
    "\n",
    "Метод [glob.glob](https://docs.python.org/3/library/glob.html#glob.glob) модуля стандартной библиотеки [glob](https://docs.python.org/3/library/glob.html#module-glob) позволяет фильтровать содержимое каталога на основе шаблона. В ячейке ниже демонстрируется, как можно найти все файлы в каталоге, которые начинаются с символа \"`a`\", а завершаются расширением \"`.ipynb`\"."
   ]
  },
  {
   "cell_type": "code",
   "execution_count": 61,
   "metadata": {},
   "outputs": [
    {
     "name": "stdout",
     "output_type": "stream",
     "text": [
      "about_12_and_so_on.ipynb\n",
      "about_python.ipynb\n",
      "argparse.ipynb\n"
     ]
    }
   ],
   "source": [
    "import glob\n",
    "for filename in glob.glob(\"a*.ipynb\"):\n",
    "    print(filename)"
   ]
  },
  {
   "cell_type": "markdown",
   "metadata": {},
   "source": [
    "## Создание, копирование, перемещение и удаление файлов и каталогов\n",
    "\n",
    "Метод [os.mkdir](https://docs.python.org/3/library/os.html#os.mkdir) создаёт каталог, но две особенности:\n",
    "- если такой каталог уже существует, то бросается исключение;\n",
    "- если родительского каталога не существует, то тоже бросается исключение. \n",
    "\n",
    "Альтернативой является метод [os.makedirs](https://docs.python.org/3/library/os.html#os.makedirs) имеет опциональный параметр `exist_ok`, который позволяет игнорировать ошибку, возникающую при попытке создать уже существующий каталог. Кроме того, если для создания указанного каталога, потребуется создать несколько директорий по пути, то они тоже будут созданы. \n",
    "\n",
    "Таким образом метод [os.mkdir](https://docs.python.org/3/library/os.html#os.mkdir) более осторожный, т.к. он точно даст знать, если вы пытаетесь повторно создать директорию, а также если вы где-то ошиблись в пути, а метод [os.makedirs](https://docs.python.org/3/library/os.html#os.makedirs) более гибкий, позволяющий сократить объем кода, но если вы ошиблись при составлении желаемого пути (например, опечатались в имени одного каталога), то вы не получите никакого сообщения об ошибке и итоговая директория все равно будет создана. \n",
    "\n",
    "Модуль стандартной библиотеки [shutil](https://docs.python.org/3/library/shutil.html) содержит набор методов, имитирующих методы командной строки, что позволяет копировать файлы (методы [shutil.copy](https://docs.python.org/3/library/shutil.html#shutil.copy), [shutil.copy2](https://docs.python.org/3/library/shutil.html#shutil.copy2) и [shutil.copyfile](https://docs.python.org/3/library/shutil.html#shutil.copyfile)), копировать директории с их содержимым (метод [shutil.copytree](https://docs.python.org/3/library/shutil.html#shutil.copytree)), удалять директории (метод [shutil.rmtree](https://docs.python.org/3/library/shutil.html#shutil.rmtree)) и перемещать файлы или директории (метод [shutil.move](https://docs.python.org/3/library/shutil.html#shutil.move)).\n",
    "\n",
    "Удалять файлы можно методом [os.remove](https://docs.python.org/3/library/os.html#os.remove)."
   ]
  }
 ],
 "metadata": {
  "kernelspec": {
   "display_name": "Python 3.8.10 ('venv': venv)",
   "language": "python",
   "name": "python3"
  },
  "language_info": {
   "codemirror_mode": {
    "name": "ipython",
    "version": 3
   },
   "file_extension": ".py",
   "mimetype": "text/x-python",
   "name": "python",
   "nbconvert_exporter": "python",
   "pygments_lexer": "ipython3",
   "version": "3.8.10"
  },
  "orig_nbformat": 4,
  "vscode": {
   "interpreter": {
    "hash": "eea3ef54c04064aa17c056cc2578c78db8b44278034b77b7225a3166c34cea02"
   }
  }
 },
 "nbformat": 4,
 "nbformat_minor": 2
}
