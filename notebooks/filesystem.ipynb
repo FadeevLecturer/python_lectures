{
 "cells": [
  {
   "cell_type": "markdown",
   "metadata": {},
   "source": [
    "# Взаимодействие с файловой системой\n",
    "\n",
    "В стандартной библиотеке `python` есть ряд модулей, значительно облегчающих взаимодействие с файловой системой. \n",
    "\n",
    "## Путь к файлу \n",
    "\n",
    "Чтобы открыть любой файл на диске, необходимо знать [путь](https://ru.wikipedia.org/wiki/%D0%9F%D1%83%D1%82%D1%8C_%D0%BA_%D1%84%D0%B0%D0%B9%D0%BB%D1%83#:~:text=path%20%E2%80%94%20%D0%BD%D0%B0%D0%B1%D0%BE%D1%80%20%D1%81%D0%B8%D0%BC%D0%B2%D0%BE%D0%BB%D0%BE%D0%B2%2C%20%D0%BF%D0%BE%D0%BA%D0%B0%D0%B7%D1%8B%D0%B2%D0%B0%D1%8E%D1%89%D0%B8%D0%B9,%D0%BA%D0%B0%D1%82%D0%B0%D0%BB%D0%BE%D0%B3%D0%BE%D0%B2%2C%20%D1%81%D0%BE%D1%81%D1%82%D0%B0%D0%B2%D0%BB%D1%8F%D1%8E%D1%89%D0%B8%D1%85%20%D0%BF%D1%83%D1%82%D1%8C%20%D0%BA%20%D1%84%D0%B0%D0%B9%D0%BB%D1%83) к нему. \n",
    "\n",
    "\n",
    "> Путь к файлу может быть **абсолютным** или **относительным**. **Полный** или **абсолютный** путь --- это путь, который указывает на одно и то же место в файловой системе, вне зависимости от текущего рабочего каталога или других обстоятельств. Полный путь всегда начинается с корневого каталога. **Относительный** путь представляет собой путь по отношению к текущему рабочему каталогу пользователя или активных приложений.\n",
    "\n",
    "Путь к файлу чаще всего представляется в `python` с помощью строки. Продемонстрируем это на примере функции [getcwd](https://docs.python.org/3/library/os.html#os.getcwd) из модуля [os](https://docs.python.org/3/library/os.html), которая возвращает текущую рабочую директорию (**c**urrent **w**orking **d**irectory)."
   ]
  },
  {
   "cell_type": "code",
   "execution_count": 1,
   "metadata": {},
   "outputs": [
    {
     "name": "stdout",
     "output_type": "stream",
     "text": [
      "c:\\Users\\cskaf\\Desktop\\python_lectures\\notebooks\n",
      "<class 'str'>\n"
     ]
    }
   ],
   "source": [
    "import os\n",
    "\n",
    "current_working_directory = os.getcwd()\n",
    "print(current_working_directory)\n",
    "print(type(current_working_directory))"
   ]
  },
  {
   "cell_type": "code",
   "execution_count": 2,
   "metadata": {},
   "outputs": [
    {
     "name": "stdout",
     "output_type": "stream",
     "text": [
      "['computer_vision', 'data', 'filesystem.ipynb', 'machine_learning', 'numpy', 'pandas', 'plotly_example.html', 'python', 'qt', 'scipy', 'test.png', 'tmp', 'visualization']\n"
     ]
    }
   ],
   "source": [
    "print(os.listdir())"
   ]
  },
  {
   "cell_type": "markdown",
   "metadata": {},
   "source": []
  }
 ],
 "metadata": {
  "kernelspec": {
   "display_name": "Python 3.9.12 ('venv': venv)",
   "language": "python",
   "name": "python3"
  },
  "language_info": {
   "codemirror_mode": {
    "name": "ipython",
    "version": 3
   },
   "file_extension": ".py",
   "mimetype": "text/x-python",
   "name": "python",
   "nbconvert_exporter": "python",
   "pygments_lexer": "ipython3",
   "version": "3.9.12"
  },
  "orig_nbformat": 4,
  "vscode": {
   "interpreter": {
    "hash": "4764a2e9c2ab0c238deafcd5fe5089e08560fff2af75074975b87e9e493b44ea"
   }
  }
 },
 "nbformat": 4,
 "nbformat_minor": 2
}
