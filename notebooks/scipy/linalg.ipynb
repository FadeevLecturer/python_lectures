{
 "cells": [
  {
   "cell_type": "markdown",
   "metadata": {},
   "source": [
    "# Линейная алгебра\n",
    "\n",
    "Подмодуль [scipy.linalg](https://docs.scipy.org/doc/scipy/reference/linalg.html#module-scipy.linalg) в целом является надмножеством над [numpy.linalg](https://numpy.org/doc/stable/reference/routines.linalg.html), т.е. кроме того, что он содержит все методы из `numpy.linalg`, в него включены еще ряд дополнительных методов.\n",
    "\n",
    "Ряд примеров приведен в [документации](https://docs.scipy.org/doc/scipy/reference/linalg.html#module-scipy.linalg). \n",
    "- [Вычисление норм векторов и матриц](https://docs.scipy.org/doc/scipy/reference/tutorial/linalg.html#computing-norms);\n",
    "- [Обращение матриц](https://docs.scipy.org/doc/scipy/reference/tutorial/linalg.html#finding-the-inverse) (функция [linalg.inv](https://docs.scipy.org/doc/scipy/reference/reference/generated/scipy.linalg.inv.html#scipy.linalg.inv)) и [решение СЛАУ](https://docs.scipy.org/doc/scipy/reference/tutorial/linalg.html#solving-a-linear-system) (функция [linalg.solve](https://docs.scipy.org/doc/scipy/reference/reference/generated/scipy.linalg.solve.html));\n",
    "- [Разложение матрицы](https://docs.scipy.org/doc/scipy/reference/tutorial/linalg.html#decompositions): собственные значения и вектора, сингулярное разложение, LU и QR разложения и другое;\n",
    "- [Псевдообращение матриц](https://docs.scipy.org/doc/scipy/reference/tutorial/linalg.html#generalized-inverse);\n",
    "- [Методы создания специальных матриц](https://docs.scipy.org/doc/scipy/reference/tutorial/linalg.html#special-matrices), [блочно-диагональных](https://docs.scipy.org/doc/scipy/reference/reference/generated/scipy.linalg.block_diag.html#scipy.linalg.block_diag) и многих других;"
   ]
  },
  {
   "cell_type": "code",
   "execution_count": 2,
   "metadata": {},
   "outputs": [],
   "source": [
    "import numpy as np\n",
    "from scipy import linalg"
   ]
  },
  {
   "cell_type": "markdown",
   "metadata": {},
   "source": [
    "## Вычисление норм матриц и векторов\n",
    "\n",
    "Существуют разные нормы определенные на пространстве векторов и матриц. Многие из них можно вычислить средствами функции [scipy.linalg.norm](https://docs.scipy.org/doc/scipy/reference/generated/scipy.linalg.norm.html).\n",
    "\n",
    "### Векторы \n",
    "\n",
    "Для одномерных массивов по умолчанию возвращается евклидова норма (она же $l_2$), которая для $x\\in\\mathbb{R}^n$ (или $x\\in\\mathbb{C}^n$) определяется формулой\n",
    "\n",
    "$$\n",
    "\\|x\\|_2 = \\sqrt{\\sum_{i=1}^n |x_i|^2}.\n",
    "$$"
   ]
  },
  {
   "cell_type": "code",
   "execution_count": 19,
   "metadata": {},
   "outputs": [
    {
     "name": "stdout",
     "output_type": "stream",
     "text": [
      "Евклидова норма вектора x равняется 5.0\n"
     ]
    }
   ],
   "source": [
    "x = np.array([3, 4])\n",
    "\n",
    "print(f\"Евклидова норма вектора x равняется {linalg.norm(x)}\")"
   ]
  },
  {
   "cell_type": "markdown",
   "metadata": {},
   "source": [
    "Евклидова норма является частным случаем нормы $l_p$, которая для любого положительно $p$ определяется выражением\n",
    "\n",
    "$$\n",
    "\\|x\\|_p = \\left(\\sum_{i = 1}^n |x_i|^p\\right)^{\\tfrac{1}{p}}.\n",
    "$$\n",
    "\n",
    "Параметр `ord` позволяет указать значение `p` необходимой нормы. Например, очень часто вместо $l_2$ (евклидова, $p=2$) используется называемая иногда абсолютной норма $l_1$ ($p=1$), которая определяется выражением \n",
    "\n",
    "$$\n",
    "\\|x\\|_1 = \\sum_{i=1}^n|x|.\n",
    "$$"
   ]
  },
  {
   "cell_type": "code",
   "execution_count": 13,
   "metadata": {},
   "outputs": [
    {
     "name": "stdout",
     "output_type": "stream",
     "text": [
      "Абсолютная норма вектора x равняется 7.0\n"
     ]
    }
   ],
   "source": [
    "print(f\"Абсолютная норма вектора x равняется {linalg.norm(x, ord=1)}\")"
   ]
  },
  {
   "cell_type": "markdown",
   "metadata": {},
   "source": [
    "На другом конце спектра нормированных пространств семейства $l_p$ находится пространство с равномерной метрикой $l_\\infty$, определяемой выражением \n",
    "\n",
    "$$\n",
    "\\|x\\|_\\infty = \\max_{i=1}^n |x_i|.\n",
    "$$\n",
    "\n",
    "Чтобы её вычислить, необходимо передать в качестве параметра `ord` значение [numpy.inf](https://numpy.org/devdocs/reference/constants.html#numpy.inf)."
   ]
  },
  {
   "cell_type": "code",
   "execution_count": 21,
   "metadata": {},
   "outputs": [
    {
     "name": "stdout",
     "output_type": "stream",
     "text": [
      "Равномерная норма вектора x равняется 4.0\n"
     ]
    }
   ],
   "source": [
    "print(f\"Равномерная норма вектора x равняется {linalg.norm(x, ord=np.inf)}\")"
   ]
  },
  {
   "cell_type": "markdown",
   "metadata": {},
   "source": [
    "### Матрицы\n",
    "\n",
    "Если массив двухмерный, то по умолчанию вычисляется тоже евклидова норма (она же норма Фробениуса), которая для матрицы $A\\in\\mathbb{R}^{n\\times m}$ определяется выражением\n",
    "\n",
    "$$\n",
    "\\|A\\| = \\sqrt{\\sum_{i=1}^n\\sum_{j=1}^m A_{ij}^2}.\n",
    "$$\n",
    "\n",
    "```{tip}\n",
    "Если необходимо вычислить векторную норму от множества векторов в многомерном массиве, то полезным окажется параметр `axis` этого метода.\n",
    "```"
   ]
  },
  {
   "cell_type": "code",
   "execution_count": 33,
   "metadata": {},
   "outputs": [
    {
     "name": "stdout",
     "output_type": "stream",
     "text": [
      "Норма матрицы A равняется 5.477225575051661\n"
     ]
    }
   ],
   "source": [
    "A = np.array([\n",
    "    [1, 2],\n",
    "    [3, 4]\n",
    "])\n",
    "\n",
    "print(f\"Норма матрицы A равняется {linalg.norm(A)}\")"
   ]
  },
  {
   "cell_type": "markdown",
   "metadata": {},
   "source": [
    "В ряде задач, в которых матрицы используются для представления линейных операторов, важно следить за **согласованностью** и **подчиненностью** матричных норм с соответствующими нормами векторных пространств, в которых они оперируют. \n",
    "\n",
    "Так, например, норма евклидово векторное пространство $l_2$ порождает в матричном пространстве спектральную норму, которая равняется максимальному сингулярному числу этого оператора. Чтобы вычислить спектральную норму матрицы, необходимо передать 2 в качестве параметра `ord`."
   ]
  },
  {
   "cell_type": "code",
   "execution_count": 34,
   "metadata": {},
   "outputs": [
    {
     "name": "stdout",
     "output_type": "stream",
     "text": [
      "Максимальное спектральное число матрицы A равняется 5.464985704219043\n",
      "Спектральная норма матрицы m равняется 5.464985704219043\n"
     ]
    }
   ],
   "source": [
    "singular_values = linalg.svdvals(A)\n",
    "\n",
    "print(f\"Максимальное спектральное число матрицы A равняется {singular_values.max()}\")\n",
    "print(f\"Спектральная норма матрицы m равняется {linalg.norm(A, ord=2)}\")"
   ]
  },
  {
   "cell_type": "markdown",
   "metadata": {},
   "source": [
    "За более полным списком поддерживаемых норм этим методом, автор направляет вас в [документацию](https://docs.scipy.org/doc/scipy/reference/generated/scipy.linalg.norm.html)."
   ]
  },
  {
   "cell_type": "markdown",
   "metadata": {},
   "source": [
    "\n",
    "\n",
    "## Обращение матриц\n",
    "\n",
    "Функция [linalg.inv](https://docs.scipy.org/doc/scipy/reference/reference/generated/scipy.linalg.inv.html#scipy.linalg.inv) отвечает за обращение матрицы, т.е. за поиск такой матрицы $A^{-1}$, что $A A^{-1} = A^{-1} A = I$, где $I$ --- единичная матрица того же размера."
   ]
  },
  {
   "cell_type": "code",
   "execution_count": 1,
   "metadata": {},
   "outputs": [
    {
     "name": "stdout",
     "output_type": "stream",
     "text": [
      "[[1. 2.]\n",
      " [3. 4.]]\n",
      "[[-2.   1. ]\n",
      " [ 1.5 -0.5]]\n"
     ]
    }
   ],
   "source": [
    "import numpy as np\n",
    "from scipy import linalg\n",
    "\n",
    "A = np.array([[1., 2.], [3., 4.]])\n",
    "A_inv = linalg.inv(A)\n",
    "\n",
    "print(A, A_inv, sep=\"\\n\")"
   ]
  },
  {
   "cell_type": "markdown",
   "metadata": {},
   "source": [
    "Чтобы убедиться, что она возвращает обратную матрицу, проверим выполнение равенства $A A^{-1} = A^{-1} A = I$."
   ]
  },
  {
   "cell_type": "code",
   "execution_count": 4,
   "metadata": {},
   "outputs": [
    {
     "name": "stdout",
     "output_type": "stream",
     "text": [
      "[[1.0000000e+00 0.0000000e+00]\n",
      " [8.8817842e-16 1.0000000e+00]]\n",
      "[[1.00000000e+00 0.00000000e+00]\n",
      " [2.22044605e-16 1.00000000e+00]]\n"
     ]
    }
   ],
   "source": [
    "print(A @ A_inv)\n",
    "print(A_inv @ A)"
   ]
  },
  {
   "cell_type": "markdown",
   "metadata": {},
   "source": [
    "Как видим, получилась не совсем единичная матрица, но т.к. все вычисления с числами с плавающей точкой производятся в компьютере не точно, то большего ожидать нельзя. \n",
    "\n",
    "Сверять целый массив глазами не очень удобно. Упростим себе задачу и посчитаем норму невязки, т.к. нормы матриц\n",
    "\n",
    "$$\n",
    "R_1 = \\| A A^{-1} - I \\|\n",
    "$$\n",
    "\n",
    "и\n",
    "\n",
    "$$\n",
    "R_2 = \\| A^{-1} A - I \\|.\n",
    "$$\n"
   ]
  },
  {
   "cell_type": "code",
   "execution_count": 5,
   "metadata": {},
   "outputs": [
    {
     "name": "stdout",
     "output_type": "stream",
     "text": [
      "R_1=9.930136612989092e-16, R_2=4.965068306494546e-16\n"
     ]
    }
   ],
   "source": [
    "R_1 = linalg.norm(A @ A_inv - np.eye(2))\n",
    "R_2 = linalg.norm(A_inv @ A - np.eye(2))\n",
    "print(f\"{R_1=}, {R_2=}\")"
   ]
  },
  {
   "cell_type": "markdown",
   "metadata": {},
   "source": [
    "## Решение систем линейных алгебраических уравнений\n",
    "\n",
    "Функция [linalg.solve](https://docs.scipy.org/doc/scipy/reference/reference/generated/scipy.linalg.solve.html) используется для решения СЛАУ вида $Ax = b$, где $A$ --- квадратная матрица размера $N \\times N$. Правая часть уравнения $b$ может быть формы `(N, NRHS)`, т.е. если $b$ --- одномерный массив, то решается обычное СЛАУ, а если $b$ --- матрица из $N$ строк и `NRHS` столбцов, то решается матричное уравнение (или сразу решается `NRHS` СЛАУ с общей матрицей $A$, а в качестве векторов правых частей выступают столбцы матрицы $b$). \n",
    " \n",
    "Для иллюстрации создадим матрицу `A` и вектор `x`. Сгенерируем вектор правой части `b = A @ x` и попробуем восстановить значение `x`, решив СЛАУ `A x = b`."
   ]
  },
  {
   "cell_type": "code",
   "execution_count": 37,
   "metadata": {},
   "outputs": [
    {
     "name": "stdout",
     "output_type": "stream",
     "text": [
      "x_approx=array([1., 1.]). Погрешность: 4.002966042486721e-16\n"
     ]
    }
   ],
   "source": [
    "A = np.array([[1., 2.], [3., 4.]])\n",
    "x = np.array([1., 1.])\n",
    "b = A @ x\n",
    "\n",
    "x_approx = linalg.solve(A, b)\n",
    "error = linalg.norm(x_approx - x)\n",
    "print(f\"{x_approx=}. Погрешность: {error}\")"
   ]
  },
  {
   "cell_type": "markdown",
   "metadata": {},
   "source": [
    "Кроме метода `solve`, который пытается решить СЛАУ в общем случае, в `NumPy` предусмотрен набор методов для решения СЛАУ, если известны свойства матрицы в левой части. Например, для треугольной матрицы предпочтительно использовать метод [solve_triangular](https://docs.scipy.org/doc/scipy/reference/generated/scipy.linalg.solve_triangular.html#scipy.linalg.solve_triangular), для [циркулянтной матрицы](https://ru.wikipedia.org/wiki/%D0%A6%D0%B8%D1%80%D0%BA%D1%83%D0%BB%D1%8F%D0%BD%D1%82) --- метод [solve_circulant](https://docs.scipy.org/doc/scipy/reference/generated/scipy.linalg.solve_circulant.html#scipy.linalg.solve_circulant) и т.п.\n",
    "\n",
    "Определитель квадратной матрицы вычисляется методом [det](https://docs.scipy.org/doc/scipy/reference/generated/scipy.linalg.det.html#scipy.linalg.det)."
   ]
  },
  {
   "cell_type": "code",
   "execution_count": 36,
   "metadata": {},
   "outputs": [
    {
     "name": "stdout",
     "output_type": "stream",
     "text": [
      "Определитель матрицы A равен -2.0\n"
     ]
    }
   ],
   "source": [
    "print(f\"Определитель матрицы A равен {linalg.det(A)}\")"
   ]
  },
  {
   "cell_type": "markdown",
   "metadata": {},
   "source": [
    "## Поиск собственных чисел и векторов\n",
    "\n",
    "В ряде задач требуется найти собственные числа и/или собственные значения. \n",
    "\n",
    "Метод [eigvals](https://docs.scipy.org/doc/scipy/reference/generated/scipy.linalg.eigvals.html#scipy.linalg.eigvals) отвечает за поиск собственных чисел. Найдем с помощью него собственные значения матрицы \n",
    "\n",
    "$$\n",
    "A = \n",
    "\\begin{pmatrix}\n",
    "2 & 1 \\\\\n",
    "1 & 2\n",
    "\\end{pmatrix}.\n",
    "$$\n",
    "\n",
    "Характеристический полином \n",
    "\n",
    "$$\n",
    "|A-\\lambda I| = \n",
    "\\begin{pmatrix}\n",
    "    2 - \\lambda &  1\\\\\n",
    "    1 & 2 - \\lambda\n",
    "\\end{pmatrix} = \\lambda^2 - 4 \\lambda + 3\n",
    "$$\n",
    "\n",
    "имеет два действительных решения $\\lambda_1=3$ и $\\lambda_2=1$."
   ]
  },
  {
   "cell_type": "code",
   "execution_count": 6,
   "metadata": {},
   "outputs": [
    {
     "name": "stdout",
     "output_type": "stream",
     "text": [
      "Собственные значения матрицы A: [3.+0.j 1.+0.j]\n"
     ]
    }
   ],
   "source": [
    "A = np.array([\n",
    "    [2, 1],\n",
    "    [1., 2]\n",
    "])\n",
    "\n",
    "eigen_values = linalg.eigvals(A)\n",
    "print(f\"Собственные значения матрицы A: {eigen_values}\")"
   ]
  },
  {
   "cell_type": "markdown",
   "metadata": {},
   "source": [
    "Метод [eig](https://docs.scipy.org/doc/scipy/reference/generated/scipy.linalg.eig.html) вычисляет сразу и собственные числа и собственные векторы. При этом собственные вектора возвращаются как столбцы матрицы второго возвращаемого значения. "
   ]
  },
  {
   "cell_type": "code",
   "execution_count": 11,
   "metadata": {},
   "outputs": [
    {
     "name": "stdout",
     "output_type": "stream",
     "text": [
      "Собственные значения матрицы A: [3.+0.j 1.+0.j]\n",
      "[0.70710678 0.70710678] --- собственный вектор матрицы A\n",
      "[-0.70710678  0.70710678] --- собственный вектор матрицы A\n"
     ]
    }
   ],
   "source": [
    "eigen_values, eigen_vectors = linalg.eig(A)\n",
    "print(f\"Собственные значения матрицы A: {eigen_values}\")\n",
    "\n",
    "for vector in eigen_vectors.T:\n",
    "    print(f\"{vector} --- собственный вектор матрицы A\")"
   ]
  },
  {
   "cell_type": "markdown",
   "metadata": {},
   "source": [
    "Проверим, что найденные собственные вектора и числа корректны. Для этого посчитаем невязки\n",
    "\n",
    "$$\n",
    "R_i = \\| Av_i - \\lambda_i v_i \\|, \\, i=1,2,\n",
    "$$\n",
    "\n",
    "где $v_1$ и $v_2$ --- собственные вектора соответствующие собственным числам $\\lambda_1$ и $\\lambda_2$."
   ]
  },
  {
   "cell_type": "code",
   "execution_count": 12,
   "metadata": {},
   "outputs": [
    {
     "name": "stdout",
     "output_type": "stream",
     "text": [
      "R=0.0\n",
      "R=0.0\n"
     ]
    }
   ],
   "source": [
    "for l, v in zip(eigen_values, eigen_vectors.T):\n",
    "    R = linalg.norm(A@v - l*v)\n",
    "    print(f\"{R=}\")"
   ]
  },
  {
   "cell_type": "markdown",
   "metadata": {},
   "source": [
    "```{tip}\n",
    "Если заранее известны определенные свойства матрицы $A$, то лучше воспользоваться соответствующими методами.\n",
    "```\n",
    "\n",
    "## Сингулярное разложение матрицы\n",
    "\n",
    "За поиск сингулярных чисел отвечает функция [svdvalues](https://docs.scipy.org/doc/scipy/reference/generated/scipy.linalg.svdvals.html#scipy.linalg.svdvals). Функция [svd](https://docs.scipy.org/doc/scipy/reference/generated/scipy.linalg.svd.html#scipy.linalg.svd) (**S**ingular **V**alue **D**ecomposition) вычисляет сингулярное разложение матрицы, которое определено и для прямоугольных матриц. "
   ]
  },
  {
   "cell_type": "code",
   "execution_count": 20,
   "metadata": {},
   "outputs": [
    {
     "name": "stdout",
     "output_type": "stream",
     "text": [
      "R=1.9860273225978185e-15\n",
      "R=1.1625080825424498e-15\n"
     ]
    }
   ],
   "source": [
    "A = np.array([\n",
    "    [1, 2, 3],\n",
    "    [4, 5, 6],\n",
    "])\n",
    "left_vectors, singular_values, right_vectors = linalg.svd(A)\n",
    "\n",
    "for v, s, u in zip(left_vectors.T, singular_values, right_vectors):\n",
    "    R = linalg.norm(A.T @ v - s * u)\n",
    "    print(f\"{R=}\")"
   ]
  },
  {
   "cell_type": "markdown",
   "metadata": {},
   "source": [
    "```{tip}\n",
    "Кроме сингулярного разложения в `scipy` есть и многие другие, такие как [QR-разложение](https://docs.scipy.org/doc/scipy/reference/generated/scipy.linalg.qr.html#scipy.linalg.qr), [LU-разложение](https://docs.scipy.org/doc/scipy/reference/generated/scipy.linalg.lu.html#scipy.linalg.lu) и т.д.\n",
    "```"
   ]
  }
 ],
 "metadata": {
  "kernelspec": {
   "display_name": "Python 3.8.10 ('venv': venv)",
   "language": "python",
   "name": "python3"
  },
  "language_info": {
   "codemirror_mode": {
    "name": "ipython",
    "version": 3
   },
   "file_extension": ".py",
   "mimetype": "text/x-python",
   "name": "python",
   "nbconvert_exporter": "python",
   "pygments_lexer": "ipython3",
   "version": "3.8.10"
  },
  "vscode": {
   "interpreter": {
    "hash": "eea3ef54c04064aa17c056cc2578c78db8b44278034b77b7225a3166c34cea02"
   }
  }
 },
 "nbformat": 4,
 "nbformat_minor": 2
}
