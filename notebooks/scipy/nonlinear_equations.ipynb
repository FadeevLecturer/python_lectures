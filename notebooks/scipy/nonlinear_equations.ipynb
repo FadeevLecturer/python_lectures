{
 "cells": [
  {
   "cell_type": "markdown",
   "metadata": {},
   "source": [
    "# Решение нелинейных уравнений\n",
    "\n",
    "Подмодуль [scipy.optimize](https://docs.scipy.org/doc/scipy/reference/optimize.html#module-scipy.optimize) также содержит в себе методы для поиска корней нелинейных уравнений и их систем."
   ]
  },
  {
   "cell_type": "markdown",
   "metadata": {},
   "source": [
    "## Поиск корня скалярной функции одного аргумента\n",
    "\n",
    "Функция [scipy.optimize.root_scalar](https://docs.scipy.org/doc/scipy/reference/generated/scipy.optimize.root_scalar.html#scipy.optimize.root_scalar) позволяет искать корни функции $f: \\mathbb{R} \\to \\mathbb{R}$:\n",
    "\n",
    "$$\n",
    "f(x) = 0.\n",
    "$$\n",
    "\n",
    "Функция `root_scalar` предоставляет доступ к разным методам поиска корней, таким как `newton`, `bisect`, `secant` и многим другим. Какие-то из этих методов ищут корень внутри отрезка `bracket`, а другие ищут корень, начиная с какого-то начального приближения `x0`. "
   ]
  },
  {
   "cell_type": "code",
   "execution_count": 12,
   "metadata": {},
   "outputs": [
    {
     "name": "stdout",
     "output_type": "stream",
     "text": [
      "      converged: True\n",
      "           flag: 'converged'\n",
      " function_calls: 46\n",
      "     iterations: 44\n",
      "           root: 1.0000000000002274\n"
     ]
    },
    {
     "data": {
      "image/png": "[encoded data removed]",
      "text/plain": [
       "<Figure size 432x288 with 1 Axes>"
      ]
     },
     "metadata": {
      "needs_background": "light"
     },
     "output_type": "display_data"
    }
   ],
   "source": [
    "import numpy as np\n",
    "from scipy import optimize\n",
    "from matplotlib import pyplot as plt\n",
    "\n",
    "\n",
    "def f(x):\n",
    "    return x**3 - 1\n",
    "\n",
    "def fprime(x):\n",
    "    return 3 * x**2\n",
    "\n",
    "\n",
    "sol = optimize.root_scalar(f, bracket=[-10, 10], method=\"bisect\")\n",
    "print(sol)\n",
    "\n",
    "\n",
    "x = np.linspace(-3, 3, 100)\n",
    "plt.plot(x, f(x))\n",
    "plt.scatter(sol.root, f(sol.root), color=\"r\")\n",
    "plt.xticks([1])\n",
    "plt.yticks([0])\n",
    "plt.xlabel(\"x\")\n",
    "plt.ylabel(\"y\")\n",
    "plt.legend([\"f(x)\", \"Корень\"])\n",
    "plt.grid()"
   ]
  },
  {
   "cell_type": "markdown",
   "metadata": {},
   "source": [
    "Метод бисекции сошелся за 44 итерации. Проверим метод Ньютона."
   ]
  },
  {
   "cell_type": "code",
   "execution_count": 13,
   "metadata": {},
   "outputs": [
    {
     "name": "stdout",
     "output_type": "stream",
     "text": [
      "      converged: True\n",
      "           flag: 'converged'\n",
      " function_calls: 22\n",
      "     iterations: 11\n",
      "           root: 1.0\n"
     ]
    }
   ],
   "source": [
    "sol = optimize.root_scalar(f, fprime=fprime, x0=10, method=\"newton\")\n",
    "print(sol)"
   ]
  },
  {
   "cell_type": "markdown",
   "metadata": {},
   "source": [
    "Метод Ньютона сошелся за 11 итераций."
   ]
  },
  {
   "cell_type": "markdown",
   "metadata": {},
   "source": [
    "## Решение системы нелинейных уравнений.\n",
    "\n",
    "Функция $F$ предназначена для поиска корней уравнений вида\n",
    "\n",
    "$$\n",
    "F(x) = 0,\n",
    "$$\n",
    "\n",
    "где $x$ и $F(x)$ многомерны, т.е. таких систем \n",
    "\n",
    "$$\n",
    "\\begin{cases}\n",
    "f_1(x_1, ..., x_n) = 0 \\\\\n",
    "\\cdots \\\\\n",
    "f_n(x_1, ..., x_n) = 0\n",
    "\\end{cases}.\n",
    "$$\n",
    "\n",
    "Рассмотрим поиск корня на примере функции \n",
    "\n",
    "$$\n",
    "\\begin{cases}\n",
    "x_1 + \\frac{(x_1 - x_2)^3}{2} = 1 \\\\\n",
    "\\frac{(x_2 - x_1)^3}{2} + x_2 = 1\n",
    "\\end{cases}.\n",
    "$$\n",
    "\n",
    "Матрица Якоби этого уравнения имеет вид\n",
    "\n",
    "$$\n",
    "\\begin{pmatrix}\n",
    "1 + \\frac{3}{2}(x_2 - x_1)^2 & \\frac{3}{2}(x_2 - x_1)^2 \\\\\n",
    "\\frac{3}{2}(x_2 - x_1)^2 & 1 + \\frac{3}{2}(x_2 - x_1)^2\n",
    "\\end{pmatrix},\n",
    "$$\n",
    "\n",
    "а единственный действительный корень которой\n",
    "\n",
    "$$\n",
    "\\begin{cases}\n",
    "x_1 = 1 \\\\\n",
    "x_2 = 1\n",
    "\\end{cases}.\n",
    "$$"
   ]
  },
  {
   "cell_type": "code",
   "execution_count": 31,
   "metadata": {},
   "outputs": [
    {
     "name": "stdout",
     "output_type": "stream",
     "text": [
      "    fjac: array([[-0.89914291,  0.43765515],\n",
      "       [-0.43765515, -0.89914291]])\n",
      "     fun: array([-1.11022302e-16,  0.00000000e+00])\n",
      " message: 'The solution converged.'\n",
      "    nfev: 12\n",
      "     qtf: array([ 1.19565972e-11, -4.12770392e-12])\n",
      "       r: array([-2.16690469,  1.03701789, -1.10605417])\n",
      "  status: 1\n",
      " success: True\n",
      "       x: array([0.8411639, 0.1588361])\n"
     ]
    }
   ],
   "source": [
    "import numpy as np\n",
    "from scipy import optimize\n",
    "from matplotlib import pyplot as plt\n",
    "from mpl_toolkits.mplot3d import Axes3D\n",
    "\n",
    "def f(x):\n",
    "    x = np.array(x)\n",
    "    return np.array([\n",
    "        x[0]  + 0.5 * (x[0] - x[1])**3 - 1.0,\n",
    "        0.5 * (x[1] - x[0])**3 + x[1] - 1.0\n",
    "        ])\n",
    "\n",
    "\n",
    "def jac(x):\n",
    "    return np.array([[1 + 1.5 * (x[0] - x[1])**2,\n",
    "                      -1.5 * (x[0] - x[1])**2],\n",
    "                     [-1.5 * (x[1] - x[0])**2,\n",
    "                      1 + 1.5 * (x[1] - x[0])**2]])\n",
    "\n",
    "\n",
    "root = optimize.root(f, x0 = [0, 0])  \n",
    "print(root)  "
   ]
  },
  {
   "cell_type": "code",
   "execution_count": 32,
   "metadata": {},
   "outputs": [
    {
     "name": "stdout",
     "output_type": "stream",
     "text": [
      "    fjac: array([[ 0.89914291, -0.43765515],\n",
      "       [ 0.43765515,  0.89914291]])\n",
      "     fun: array([-1.11022302e-16,  0.00000000e+00])\n",
      " message: 'The solution converged.'\n",
      "    nfev: 10\n",
      "    njev: 1\n",
      "     qtf: array([-1.19565972e-11,  4.12770392e-12])\n",
      "       r: array([ 2.16690469, -1.03701789,  1.10605417])\n",
      "  status: 1\n",
      " success: True\n",
      "       x: array([0.8411639, 0.1588361])\n"
     ]
    }
   ],
   "source": [
    "root = optimize.root(f, jac=jac, x0 = [0, 0], method=\"hybr\")  \n",
    "print(root)  "
   ]
  }
 ],
 "metadata": {
  "interpreter": {
   "hash": "8617202e12f254480e1fae3258716b685f1a56bcbf234a446366b4fd3345ed22"
  },
  "kernelspec": {
   "display_name": "Python 3.8.10 64-bit",
   "name": "python3"
  },
  "language_info": {
   "codemirror_mode": {
    "name": "ipython",
    "version": 3
   },
   "file_extension": ".py",
   "mimetype": "text/x-python",
   "name": "python",
   "nbconvert_exporter": "python",
   "pygments_lexer": "ipython3",
   "version": "3.8.10"
  }
 },
 "nbformat": 4,
 "nbformat_minor": 2
}
