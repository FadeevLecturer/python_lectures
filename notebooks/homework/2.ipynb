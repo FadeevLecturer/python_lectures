{
 "cells": [
  {
   "cell_type": "markdown",
   "metadata": {},
   "source": [
    "# Домашнее задание №2\n",
    "\n",
    "Это домашнее задание нацеленно не только на закрепление материала второй лекции, но и на закрепление ряда хороших `python` практик. \n",
    "\n",
    "## Проверка типа объекта\n",
    "\n",
    "Иногда необходимо проверять тип объекта, например, для того чтобы в зависимости от типа совершить те или иные действия. \n",
    "В таких случая принято использовать функцию [isinstance](https://docs.python.org/3/library/functions.html#isinstance), которая первым аргументом принимает объект, вторым аргументом класс (он же тип), и возвращает `True`, если переданный объект является экземпляром указанного класса.\n",
    "```python\n",
    "isinstance(объект, класс)\n",
    "```\n",
    "\n"
   ]
  },
  {
   "cell_type": "markdown",
   "metadata": {},
   "source": [
    "\n",
    "\n",
    "\n",
    "## Сравнение с `None`\n",
    "\n",
    "Значение [None](https://docs.python.org/3/library/constants.html#None) в `python` имеет множество применений. Например, если функция завершается без ключевого слова `return`, то эта функция все равно вернет значение `None`."
   ]
  },
  {
   "cell_type": "code",
   "execution_count": 3,
   "metadata": {},
   "outputs": [
    {
     "name": "stdout",
     "output_type": "stream",
     "text": [
      "Hello\n",
      "x=None\n"
     ]
    }
   ],
   "source": [
    "def hello():\n",
    "    print(\"Hello\")\n",
    "\n",
    "x = hello()\n",
    "print(f\"{x=}\")"
   ]
  },
  {
   "cell_type": "markdown",
   "metadata": {},
   "source": [
    "Абсолютно такой же эффект возникает, если функция завершается ключевым словом `return`, справа от которого не указано никакого значения."
   ]
  },
  {
   "cell_type": "code",
   "execution_count": 4,
   "metadata": {},
   "outputs": [
    {
     "name": "stdout",
     "output_type": "stream",
     "text": [
      "Hello\n",
      "x=None\n"
     ]
    }
   ],
   "source": [
    "def hello():\n",
    "    print(\"Hello\")\n",
    "    return\n",
    "\n",
    "x = hello()\n",
    "print(f\"{x=}\")"
   ]
  },
  {
   "cell_type": "markdown",
   "metadata": {},
   "source": [
    "Кроме этого значение `None` часто используется в качестве значений по умолчанию опциональных параметров функции, в качестве значения [слабой ссылки](https://docs.python.org/3/library/weakref.html), указывающей на уже освобожденный ресурс, и многое другое. В пользовательском коде `None` часто используют для индикации отсутствующих значений. \n",
    "\n",
    "Повсеместное употребление `None` обуславливается не только договором сообщества программистов, но и тем, как это само значение устроенно. Дело в том, что `None` реализован по шаблону программирования [одиночка](https://ru.wikipedia.org/wiki/%D0%9E%D0%B4%D0%B8%D0%BD%D0%BE%D1%87%D0%BA%D0%B0_(%D1%88%D0%B0%D0%B1%D0%BB%D0%BE%D0%BD_%D0%BF%D1%80%D0%BE%D0%B5%D0%BA%D1%82%D0%B8%D1%80%D0%BE%D0%B2%D0%B0%D0%BD%D0%B8%D1%8F)): на самом деле есть класс `NoneType` у которого гарантировано всегда есть единственный экземпляр `None`."
   ]
  },
  {
   "cell_type": "code",
   "execution_count": 8,
   "metadata": {},
   "outputs": [
    {
     "name": "stdout",
     "output_type": "stream",
     "text": [
      "True\n",
      "True\n"
     ]
    }
   ],
   "source": [
    "x = None\n",
    "y = None\n",
    "print(x is y)"
   ]
  },
  {
   "cell_type": "markdown",
   "metadata": {},
   "source": [
    "В связи с этим в `python` принято сравнивать с `None`, используя именно ключевое слово `is`, а не оператор `==`, т.е. принято делать так\n",
    "```python\n",
    "if x is None:\n",
    "    ...\n",
    "\n",
    "if y is not None:\n",
    "    ...\n",
    "```\n",
    "а не так\n",
    "```python\n",
    "if x == None:\n",
    "    ...\n",
    "\n",
    "if y != None:\n",
    "    ...\n",
    "```\n",
    "\n",
    "```{note}\n",
    "Напомним, что оператор `is` проверяет, указывают ли два имени на один и тот же объект, а оператор `==` сравнивает два объекта на равенство. Оператор `is` всегда работает быстрее, т.к. сравнивает всего навсего значения ссылок, а оператор `==` кроме того, что всегда медленнее, но ещё и может быть перегружен не очевидным образом.\n",
    "```"
   ]
  },
  {
   "cell_type": "markdown",
   "metadata": {},
   "source": [
    "## 1. Фильтрация пропущенных значений. `None`\n",
    "\n",
    "Предположим некий физический измерительный прибор выдаёт результаты измерения в виде списка, при этом если при каком-то очередном измерении произошел сбой и результатам измерения доверять нельзя, то в качестве результата измерения записывается значение `None`. В качестве примера рассмотрим следующий список:\n",
    "\n",
    "$$\n",
    "[3.14, None, None, 2.71, 1.41]\n",
    "$$\n",
    "\n",
    "Значение `None` на второй и третей позициях этого списка указывает на то, что они были пропущены, а все остальные измерения в этом списке надежны. Напишите функцию, которая принимает на вход список такого вида `L`, а возвращает список, состоящий только из непропущенных значений списка L.  \n",
    "\n",
    "```python\n",
    "def filter_missed_values(x):\n",
    "    \"\"\"\n",
    "    Фильтрует все значения None из списка \n",
    "    \"\"\"\n",
    "\n",
    "\n",
    "L = [3.14, None, None, 2.71, 1.41]\n",
    "print(filter_missed_values(L)) # [3.14, 2.71, 1.41]\n",
    "```\n",
    "\n",
    "```{admonition} Дополнительное задание\n",
    "Предположим, что вместо пропущенных значений прибор записывает не значение `None`, а значение `NaN` (**N**ot **a** **N**umber), которое в `python` можно получить выражением `float(\"nan\")` или в модуле [math](https://docs.python.org/3/library/math.html#math.nan). Как изменится код функции `filter_missed_values` в таком случае?\n",
    "```\n",
    "\n",
    "## 2. Среднее арифметическое \n",
    "\n",
    "Пусть \n",
    "\n",
    "## Сортировка слиянием\n",
    "\n",
    "\n",
    "## "
   ]
  },
  {
   "cell_type": "code",
   "execution_count": 37,
   "metadata": {},
   "outputs": [
    {
     "name": "stdout",
     "output_type": "stream",
     "text": [
      "0.0 0.25\n",
      "True\n"
     ]
    },
    {
     "data": {
      "text/plain": [
       "0.25"
      ]
     },
     "execution_count": 37,
     "metadata": {},
     "output_type": "execute_result"
    }
   ],
   "source": [
    "def my_mean(L):\n",
    "    int_sum = 0\n",
    "    float_sum = 0\n",
    "    for x in L:\n",
    "        if isinstance(x, int):\n",
    "            int_sum += x\n",
    "        elif isinstance(x, float):\n",
    "            float_sum += x\n",
    "    return (int_sum + float_sum) / len(L)\n",
    "    \n",
    "\n",
    "floats = [1.e+20, 0., 1., -1.e+20]\n",
    "ints = [10 ** 20, 0, 1, -10 ** 20]\n",
    "print(my_mean(floats), my_mean(ints))\n",
    "print(ints == floats)\n",
    "\n",
    "mean(floats)"
   ]
  },
  {
   "cell_type": "code",
   "execution_count": 23,
   "metadata": {},
   "outputs": [
    {
     "data": {
      "text/plain": [
       "True"
      ]
     },
     "execution_count": 23,
     "metadata": {},
     "output_type": "execute_result"
    }
   ],
   "source": [
    "int(1.e2) == 10 ** 2"
   ]
  },
  {
   "cell_type": "code",
   "execution_count": 17,
   "metadata": {},
   "outputs": [
    {
     "data": {
      "text/plain": [
       "10.0"
      ]
     },
     "execution_count": 17,
     "metadata": {},
     "output_type": "execute_result"
    }
   ],
   "source": [
    "1e1"
   ]
  },
  {
   "cell_type": "code",
   "execution_count": 35,
   "metadata": {},
   "outputs": [
    {
     "data": {
      "text/plain": [
       "0.25"
      ]
     },
     "execution_count": 35,
     "metadata": {},
     "output_type": "execute_result"
    }
   ],
   "source": [
    "from statistics import mean\n",
    "\n",
    "mean(floats)"
   ]
  },
  {
   "cell_type": "code",
   "execution_count": null,
   "metadata": {},
   "outputs": [],
   "source": []
  }
 ],
 "metadata": {
  "kernelspec": {
   "display_name": "Python 3.9.12 ('venv': venv)",
   "language": "python",
   "name": "python3"
  },
  "language_info": {
   "codemirror_mode": {
    "name": "ipython",
    "version": 3
   },
   "file_extension": ".py",
   "mimetype": "text/x-python",
   "name": "python",
   "nbconvert_exporter": "python",
   "pygments_lexer": "ipython3",
   "version": "3.9.12"
  },
  "orig_nbformat": 4,
  "vscode": {
   "interpreter": {
    "hash": "4764a2e9c2ab0c238deafcd5fe5089e08560fff2af75074975b87e9e493b44ea"
   }
  }
 },
 "nbformat": 4,
 "nbformat_minor": 2
}
