{
 "cells": [
  {
   "cell_type": "markdown",
   "id": "fef8bd2f",
   "metadata": {},
   "source": [
    "# Срезы\n",
    "\n",
    "## Срезы встроенных коллекций `python`\n",
    "\n",
    "### Простые срезы\n",
    "\n",
    "Списки, строки, кортежи и другие последовательности `python` кроме обычной индексации поддерживают индексацию срезами ([slices](https://docs.python.org/3/library/functions.html#slice)). Рассмотрим на примере строк."
   ]
  },
  {
   "cell_type": "code",
   "execution_count": 6,
   "id": "9c267d61",
   "metadata": {},
   "outputs": [
    {
     "name": "stdout",
     "output_type": "stream",
     "text": [
      "abcdefghijklmnopqrstuvwxyz\n"
     ]
    }
   ],
   "source": [
    "import string\n",
    "\n",
    "s = string.ascii_lowercase\n",
    "print(s)"
   ]
  },
  {
   "cell_type": "markdown",
   "id": "ae24fa69",
   "metadata": {},
   "source": [
    "Итак, у нас есть строка `a`, состоящая из строчных символов английского алфавита. \n",
    "\n",
    "Если мы хотим извлечь подстроку, начиная с позиции `start` включая и заканчивая позицией `stop` не включая, то применяется синтаксис \n",
    "```python\n",
    "sequence[start:stop]\n",
    "```\n",
    "Например, если нас часть строки с 1-го по 5-ый символ (нумерация с нуля), мы запишем"
   ]
  },
  {
   "cell_type": "code",
   "execution_count": 5,
   "id": "9b792eb0",
   "metadata": {},
   "outputs": [
    {
     "name": "stdout",
     "output_type": "stream",
     "text": [
      "bcde\n"
     ]
    }
   ],
   "source": [
    "print(s[1:5])"
   ]
  },
  {
   "cell_type": "markdown",
   "id": "a14d6c20",
   "metadata": {},
   "source": [
    "Если нас интересует подстрока с самого начала строки до какого-то символа с индексом `stop` (не включая), то можно опускать первый параметр среза, т.е. допускается синтаксис\n",
    "\n",
    "```python\n",
    "sequence[:stop]\n",
    "```\n",
    "\n",
    "Следующие два среза синонимичны и оба возвращают первые три символа."
   ]
  },
  {
   "cell_type": "code",
   "execution_count": 4,
   "id": "eb5fd435",
   "metadata": {},
   "outputs": [
    {
     "name": "stdout",
     "output_type": "stream",
     "text": [
      "abc\n",
      "abc\n"
     ]
    }
   ],
   "source": [
    "print(s[0:3])\n",
    "print(s[:3])"
   ]
  },
  {
   "cell_type": "markdown",
   "id": "60acb9fd",
   "metadata": {},
   "source": [
    "Тоже самое справедливо и про второй параметр: если нас интересует подстрока до самого конца исходный строки, начиная с символа с индексом `start` (включая), то можно опустить второй параметр, т.е. допускается синтаксис\n",
    "\n",
    "```python\n",
    "sequence[start]\n",
    "```\n",
    "\n",
    "Следующие два среза синонимичны и оба возвращают символы с 23-го по конце. "
   ]
  },
  {
   "cell_type": "code",
   "execution_count": 7,
   "id": "3672b19c",
   "metadata": {},
   "outputs": [
    {
     "name": "stdout",
     "output_type": "stream",
     "text": [
      "xyz\n",
      "xyz\n"
     ]
    }
   ],
   "source": [
    "print(s[23:len(s)])\n",
    "print(s[23:])"
   ]
  },
  {
   "cell_type": "markdown",
   "id": "497cea19",
   "metadata": {},
   "source": [
    "Допускается даже опустить оба параметра. Тогда возвращается копия строки."
   ]
  },
  {
   "cell_type": "code",
   "execution_count": 8,
   "id": "d434cd2e",
   "metadata": {},
   "outputs": [
    {
     "name": "stdout",
     "output_type": "stream",
     "text": [
      "abcdefghijklmnopqrstuvwxyz\n"
     ]
    }
   ],
   "source": [
    "print(s[:])"
   ]
  },
  {
   "cell_type": "markdown",
   "id": "d89b7d06",
   "metadata": {},
   "source": [
    "Если один или оба параметра выходят за пределы последовательности, то это **не** является формальной ошибкой. Результатом будет та часть строки, что пересекается с выбранным срезом, которая может оказаться пустой, если индексы среза не пересекаются с допустимыми индексами строки."
   ]
  },
  {
   "cell_type": "code",
   "execution_count": 9,
   "id": "9c21d170",
   "metadata": {},
   "outputs": [
    {
     "name": "stdout",
     "output_type": "stream",
     "text": [
      "|abcdefghijklmnopqrstuvwxyz|\n",
      "||\n",
      "||\n"
     ]
    }
   ],
   "source": [
    "# символы '|' по бокам, чтобы наглядно показать края строки\n",
    "print(f\"|{s[-100:100]}|\")\n",
    "print(f\"|{s[90:100]}|\")\n",
    "print(f\"|{s[5:2]}|\")"
   ]
  },
  {
   "cell_type": "markdown",
   "id": "ed78f41d",
   "metadata": {},
   "source": [
    "### Срезы с шагом\n",
    "\n",
    "Для разнообразия теперь будем брать срезы от списков."
   ]
  },
  {
   "cell_type": "code",
   "execution_count": 12,
   "id": "d6e15c9d",
   "metadata": {},
   "outputs": [
    {
     "name": "stdout",
     "output_type": "stream",
     "text": [
      "[0, 1, 2, 3, 4, 5, 6, 7, 8, 9]\n"
     ]
    }
   ],
   "source": [
    "L = list(range(10))\n",
    "print(L)"
   ]
  },
  {
   "cell_type": "markdown",
   "id": "a9f0c255",
   "metadata": {},
   "source": [
    "Итак, у нас есть список `L` чисел от 0 до 9.\n",
    "\n",
    "Срезы с шагом позволяют извлекать элементы не подряд, а, например, с прореживанием. Для этого предыдущий синтаксис расширяется третьим параметром, который как раз и отвечает за шаг.\n",
    "```python\n",
    "sequence[start:stop:step]\n",
    "```\n",
    "\n",
    "Например, чтобы вырезать каждый второй элемент списка `L`, начиная с 1-го и заканчивая 8-м (не включая), необходимо записать."
   ]
  },
  {
   "cell_type": "code",
   "execution_count": 13,
   "id": "74e00299",
   "metadata": {},
   "outputs": [
    {
     "name": "stdout",
     "output_type": "stream",
     "text": [
      "[1, 3, 5, 7]\n"
     ]
    }
   ],
   "source": [
    "print(L[1:8:2])"
   ]
  },
  {
   "cell_type": "markdown",
   "id": "c367193c",
   "metadata": {},
   "source": [
    "Как и прежде, первые два параметра можно опускать, если `start` и `stop` совпадают с началом и концом списка соответственно.\n",
    "\n",
    "Ниже берется каждый второй элемент всего списка. "
   ]
  },
  {
   "cell_type": "code",
   "execution_count": 14,
   "id": "be24956c",
   "metadata": {},
   "outputs": [
    {
     "name": "stdout",
     "output_type": "stream",
     "text": [
      "[0, 2, 4, 6, 8]\n"
     ]
    }
   ],
   "source": [
    "print(L[::2])"
   ]
  },
  {
   "cell_type": "markdown",
   "id": "c1cc9db8",
   "metadata": {},
   "source": [
    "Шаг может быть отрицательным, но тогда `start` должен быть больше `step`, чтобы вернулась не пустая подпоследовательность. При этом, как и до этого, `start` попадает в срез, а `stop` нет."
   ]
  },
  {
   "cell_type": "code",
   "execution_count": 15,
   "id": "6db69b22",
   "metadata": {},
   "outputs": [
    {
     "name": "stdout",
     "output_type": "stream",
     "text": [
      "[8, 7, 6, 5, 4, 3, 2]\n"
     ]
    }
   ],
   "source": [
    "print(L[8:1:-1])"
   ]
  },
  {
   "cell_type": "markdown",
   "id": "18703bf2",
   "metadata": {},
   "source": [
    "Получить последовательность в обратном порядке (обратить последовательность) можно синтаксисом\n",
    "```python\n",
    "sequence[::-1]\n",
    "```\n"
   ]
  },
  {
   "cell_type": "code",
   "execution_count": 16,
   "id": "818d9316",
   "metadata": {},
   "outputs": [
    {
     "name": "stdout",
     "output_type": "stream",
     "text": [
      "zyxwvutsrqponmlkjihgfedcba\n",
      "[9, 8, 7, 6, 5, 4, 3, 2, 1, 0]\n"
     ]
    }
   ],
   "source": [
    "print(s[::-1])\n",
    "print(L[::-1])"
   ]
  },
  {
   "cell_type": "markdown",
   "id": "0f6598be",
   "metadata": {},
   "source": [
    "### Присваивание по срезам\n",
    "\n",
    "Если последовательность изменяемая (список, например), то допускается присваивание по срезу. \n",
    "\n",
    "Если шаг не указан, то можно заменить элементы среза в списке элементами коллекции справа от оператора \"`=`\" вне зависимости от того, совпадает ли количество элементов в коллекции справа от оператора \"`=`\" с размером среза слева от оператора \"`=`\"."
   ]
  },
  {
   "cell_type": "code",
   "execution_count": 17,
   "id": "374f9f54",
   "metadata": {},
   "outputs": [
    {
     "name": "stdout",
     "output_type": "stream",
     "text": [
      "[0, 1, 2, 3, 4, 5, 6, 7, 8, 9]\n"
     ]
    }
   ],
   "source": [
    "print(L)"
   ]
  },
  {
   "cell_type": "markdown",
   "id": "6c3af999",
   "metadata": {},
   "source": [
    "Например, код в ячейке ниже заменяет первые два элемента списка `L` на новые два элемента (0 заменяется на 3.14, 1 заменяется на 42)."
   ]
  },
  {
   "cell_type": "code",
   "execution_count": 18,
   "id": "4e22c92b",
   "metadata": {},
   "outputs": [
    {
     "name": "stdout",
     "output_type": "stream",
     "text": [
      "[3.14, 42, 2, 3, 4, 5, 6, 7, 8, 9]\n"
     ]
    }
   ],
   "source": [
    "L[:2] = [3.14, 42]\n",
    "print(L)"
   ]
  },
  {
   "cell_type": "markdown",
   "id": "dbeeab82",
   "metadata": {},
   "source": [
    "Код в ячейке ниже заменяет первые два элемента (3.14 и 42 после предыдущей замены) на сразу три новых элемента, тем самым расширяя список."
   ]
  },
  {
   "cell_type": "code",
   "execution_count": 19,
   "id": "de3eb409",
   "metadata": {},
   "outputs": [
    {
     "name": "stdout",
     "output_type": "stream",
     "text": [
      "[0, 3.14, 42, 2, 3, 4, 5, 6, 7, 8, 9]\n"
     ]
    }
   ],
   "source": [
    "L[:2] = [0, 3.14, 42]\n",
    "print(L)"
   ]
  },
  {
   "cell_type": "markdown",
   "id": "54af3991",
   "metadata": {},
   "source": [
    "Следующим синтаксисом можно удалить первых два элемента."
   ]
  },
  {
   "cell_type": "code",
   "execution_count": 20,
   "id": "db6d74a8",
   "metadata": {},
   "outputs": [
    {
     "name": "stdout",
     "output_type": "stream",
     "text": [
      "[42, 2, 3, 4, 5, 6, 7, 8, 9]\n"
     ]
    }
   ],
   "source": [
    "L[:2] = []\n",
    "print(L)"
   ]
  },
  {
   "cell_type": "markdown",
   "id": "84863064",
   "metadata": {},
   "source": [
    "Хотя для этого предпочтительнее воспользоваться синтаксисом \n",
    "```python\n",
    "del L[:2]\n",
    "```\n",
    "\n",
    "Если шаг указан, то количество элементов в коллекции справа от \"`=`: должно совпадать с количеством элементов в срезе"
   ]
  },
  {
   "cell_type": "code",
   "execution_count": 21,
   "id": "835e7959",
   "metadata": {},
   "outputs": [
    {
     "name": "stdout",
     "output_type": "stream",
     "text": [
      "[0, 2, 4, 6, 8]\n",
      "[1, 1, 3, 3, 5, 5, 7, 7, 9, 9]\n"
     ]
    },
    {
     "ename": "ValueError",
     "evalue": "attempt to assign sequence of size 0 to extended slice of size 5",
     "output_type": "error",
     "traceback": [
      "\u001b[1;31m---------------------------------------------------------------------------\u001b[0m",
      "\u001b[1;31mValueError\u001b[0m                                Traceback (most recent call last)",
      "\u001b[1;32mc:\\Users\\qujim\\Desktop\\python_lectures\\notebooks\\numpy\\slices.ipynb Cell 32'\u001b[0m in \u001b[0;36m<cell line: 9>\u001b[1;34m()\u001b[0m\n\u001b[0;32m      <a href='vscode-notebook-cell:/c%3A/Users/qujim/Desktop/python_lectures/notebooks/numpy/slices.ipynb#ch0000031?line=6'>7</a>\u001b[0m \u001b[39m# Ошибка\u001b[39;00m\n\u001b[0;32m      <a href='vscode-notebook-cell:/c%3A/Users/qujim/Desktop/python_lectures/notebooks/numpy/slices.ipynb#ch0000031?line=7'>8</a>\u001b[0m \u001b[39mprint\u001b[39m(L)\n\u001b[1;32m----> <a href='vscode-notebook-cell:/c%3A/Users/qujim/Desktop/python_lectures/notebooks/numpy/slices.ipynb#ch0000031?line=8'>9</a>\u001b[0m L[::\u001b[39m2\u001b[39m] \u001b[39m=\u001b[39m []\n",
      "\u001b[1;31mValueError\u001b[0m: attempt to assign sequence of size 0 to extended slice of size 5"
     ]
    }
   ],
   "source": [
    "L = list(range(10))\n",
    "\n",
    "# Oк\n",
    "print(L[::2])\n",
    "L[::2] = L[1::2]\n",
    "\n",
    "# Ошибка\n",
    "print(L)\n",
    "L[::2] = []"
   ]
  },
  {
   "cell_type": "markdown",
   "id": "684120b8",
   "metadata": {},
   "source": [
    "## Срезы массивов `NumPy`\n",
    "\n",
    "Срезы массивов `NumPy` введут себя очень похоже с двумя основными отличиями ([документация NumPy про срезы](https://numpy.org/doc/stable/user/basics.indexing.html?highlight=slice#slicing-and-striding)):\n",
    "1. при присваивании по срезу размер массива не может измениться вне зависимости от того, указан шаг или нет;\n",
    "2. допускается делать многомерные срезы.\n",
    "\n",
    "### Срезы одномерных массивов\n",
    "\n",
    "Если массив одномерный, то роль играет только первое отличие."
   ]
  },
  {
   "cell_type": "code",
   "execution_count": 2,
   "id": "0be62213",
   "metadata": {},
   "outputs": [
    {
     "name": "stdout",
     "output_type": "stream",
     "text": [
      "[0 1 2 3 4 5 6 7 8 9]\n"
     ]
    }
   ],
   "source": [
    "import numpy as np\n",
    "array = np.arange(10)\n",
    "print(array)"
   ]
  },
  {
   "cell_type": "code",
   "execution_count": 3,
   "id": "0f275518",
   "metadata": {},
   "outputs": [
    {
     "name": "stdout",
     "output_type": "stream",
     "text": [
      "[0 2 4 6 8]\n"
     ]
    }
   ],
   "source": [
    "print(array[::2])"
   ]
  },
  {
   "cell_type": "code",
   "execution_count": 7,
   "id": "9c51ed8a",
   "metadata": {},
   "outputs": [
    {
     "name": "stdout",
     "output_type": "stream",
     "text": [
      "[9 1 7 3 5 5 3 7 1 9]\n"
     ]
    }
   ],
   "source": [
    "array[::2] = [9, 7, 5, 3, 1]\n",
    "print(array)"
   ]
  },
  {
   "cell_type": "markdown",
   "id": "696561d9",
   "metadata": {},
   "source": [
    "### Многомерные срезы\n",
    "\n",
    "Но если массив многомерный, то можно делать срезы сразу вдоль нескольких осей. Рассмотрим на примере двухмерных массивов."
   ]
  },
  {
   "cell_type": "code",
   "execution_count": 8,
   "id": "900c6002",
   "metadata": {},
   "outputs": [
    {
     "name": "stdout",
     "output_type": "stream",
     "text": [
      "[[ 1  2  3  4  5]\n",
      " [ 6  7  8  9 10]\n",
      " [11 12 13 14 15]\n",
      " [16 17 18 19 20]\n",
      " [21 22 23 24 25]]\n"
     ]
    }
   ],
   "source": [
    "matrix = np.arange(1, 26).reshape(5, 5)\n",
    "print(matrix)"
   ]
  },
  {
   "cell_type": "markdown",
   "id": "6a6d5943",
   "metadata": {},
   "source": [
    "Обратим внимание, что выражением `matrix[i, j]` мы получаем элемент массива `matrix` на пересечении `i`-й строки и `j`-й строки. "
   ]
  },
  {
   "cell_type": "code",
   "execution_count": 15,
   "id": "a511d8b2",
   "metadata": {},
   "outputs": [
    {
     "name": "stdout",
     "output_type": "stream",
     "text": [
      "13\n"
     ]
    }
   ],
   "source": [
    "print(matrix[2, 2])"
   ]
  },
  {
   "cell_type": "markdown",
   "id": "f790309f",
   "metadata": {},
   "source": [
    "```{figure} /_static/lecture_specific/numpy/slices_0.svg\n",
    "```\n",
    "\n",
    "Такая же логика обобщается и на срезы. Например, получить `j`-й столбец двухмерного массива `matrix` можно выражением \n",
    "```python\n",
    "matrix[:, j]\n",
    "```\n",
    "То есть указать вдоль первой оси (`axis=0`) указывается полный срез (все строки), а вдоль второй оси (`axis=1`) указывается число `j` (только `j`-й столбец). Получим таким образом нулевой столбец."
   ]
  },
  {
   "cell_type": "code",
   "execution_count": 13,
   "id": "9bbde408",
   "metadata": {},
   "outputs": [
    {
     "name": "stdout",
     "output_type": "stream",
     "text": [
      "[ 1  6 11 16 21]\n"
     ]
    }
   ],
   "source": [
    "print(matrix[:, 0])"
   ]
  },
  {
   "cell_type": "markdown",
   "id": "6871d899",
   "metadata": {},
   "source": [
    "Итого, процесс получения двухмерного среза можно мысленно представить в следующем виде:\n",
    "- срез, указанный до запятой, вырезает строки из массива;\n",
    "- срез, указанный после запятой, вырезает столбцы из массива;\n",
    "- результирующий срез представляет из себя все элементы, что располагаются на пересечении этих строк и столбцов.\n",
    "\n",
    "```{figure} /_static/lecture_specific/numpy/slices_1.svg\n",
    "```\n",
    "\n",
    "Одну `i`-ю строку можно получить как выражением `matrix[i, :]`, так и выражением `matrix[i]`. Рассмотрим более содержательные примеры.\n",
    "\n",
    "Так, например, чтобы получить элементы на пересечении первых двух строк и столбцов с первого (включая) по четвертый (не включая), необходимо применить следующий срез."
   ]
  },
  {
   "cell_type": "code",
   "execution_count": 9,
   "id": "1004e888",
   "metadata": {},
   "outputs": [
    {
     "data": {
      "text/plain": [
       "array([[2, 3, 4],\n",
       "       [7, 8, 9]])"
      ]
     },
     "execution_count": 9,
     "metadata": {},
     "output_type": "execute_result"
    }
   ],
   "source": [
    "matrix[:2, 1:4]"
   ]
  },
  {
   "cell_type": "markdown",
   "id": "74f5b4eb",
   "metadata": {},
   "source": [
    "```{figure} /_static/lecture_specific/numpy/slices_2.svg\n",
    "```\n",
    "Если требуется получить каждый второй столбец, то вдоль первой оси (`axis=0`) указывается полный срез (все строки), а вдоль второй оси (`axis=1`) указывается полный срез с шагом 2 (каждый второй столбец). "
   ]
  },
  {
   "cell_type": "code",
   "execution_count": 10,
   "id": "ef7777ed",
   "metadata": {},
   "outputs": [
    {
     "data": {
      "text/plain": [
       "array([[ 1,  3,  5],\n",
       "       [ 6,  8, 10],\n",
       "       [11, 13, 15],\n",
       "       [16, 18, 20],\n",
       "       [21, 23, 25]])"
      ]
     },
     "execution_count": 10,
     "metadata": {},
     "output_type": "execute_result"
    }
   ],
   "source": [
    "matrix[:, ::2]"
   ]
  },
  {
   "cell_type": "markdown",
   "id": "ee80710f",
   "metadata": {},
   "source": [
    "```{figure} /_static/lecture_specific/numpy/slices_3.svg\n",
    "```\n",
    "\n",
    "В качестве последнего примера рассмотрим получение срезом элементов из каждой второй строки и каждого второго столбца."
   ]
  },
  {
   "cell_type": "code",
   "execution_count": 12,
   "id": "5192aad3",
   "metadata": {},
   "outputs": [
    {
     "data": {
      "text/plain": [
       "array([[ 1,  3,  5],\n",
       "       [11, 13, 15],\n",
       "       [21, 23, 25]])"
      ]
     },
     "execution_count": 12,
     "metadata": {},
     "output_type": "execute_result"
    }
   ],
   "source": [
    "matrix[::2, ::2]"
   ]
  },
  {
   "cell_type": "markdown",
   "id": "5aec65b0",
   "metadata": {},
   "source": [
    "```{figure} /_static/lecture_specific/numpy/slices_4.svg\n",
    "```\n",
    "\n",
    "## Присваивание по срезу\n",
    "\n",
    "Срезы ссылаются на данные исходного массива. По ним можно производить присваивание.\n",
    "Например, можно целиком заменить столбец матрицы."
   ]
  },
  {
   "cell_type": "code",
   "execution_count": 16,
   "metadata": {},
   "outputs": [
    {
     "name": "stdout",
     "output_type": "stream",
     "text": [
      "[[-5  2  3  4  5]\n",
      " [-4  7  8  9 10]\n",
      " [-3 12 13 14 15]\n",
      " [-2 17 18 19 20]\n",
      " [-1 22 23 24 25]]\n"
     ]
    }
   ],
   "source": [
    "matrix[:, 0] = np.arange(-5, 0)\n",
    "print(matrix)"
   ]
  },
  {
   "cell_type": "markdown",
   "metadata": {},
   "source": [
    "В примере выше формы среза слева от \"`=`\" и массива справа от \"`=`\" совпадают. Это необязательное условие: работают правила *броадкастинга*, т.е. массив справа от оператора \"`=`\" может быть расширен до размера среза слева от оператора \"`=`\", если их формы совместимы и срез сможет поместить в себе массив по всем измерениям. Например, прибавим к всем элемента первой строки 100, а каждый второй элемент последней строки сделаем равными 42."
   ]
  },
  {
   "cell_type": "code",
   "execution_count": 17,
   "metadata": {},
   "outputs": [
    {
     "name": "stdout",
     "output_type": "stream",
     "text": [
      "[[ 95 102 103 104 105]\n",
      " [ -4   7   8   9  10]\n",
      " [ -3  12  13  14  15]\n",
      " [ -2  17  18  19  20]\n",
      " [ 42  22  42  24  42]]\n"
     ]
    }
   ],
   "source": [
    "matrix[0, :] += 100\n",
    "matrix[-1, ::2] = 42\n",
    "print(matrix)"
   ]
  }
 ],
 "metadata": {
  "interpreter": {
   "hash": "eea3ef54c04064aa17c056cc2578c78db8b44278034b77b7225a3166c34cea02"
  },
  "kernelspec": {
   "display_name": "Python 3.8.10 ('venv': venv)",
   "language": "python",
   "name": "python3"
  },
  "language_info": {
   "codemirror_mode": {
    "name": "ipython",
    "version": 3
   },
   "file_extension": ".py",
   "mimetype": "text/x-python",
   "name": "python",
   "nbconvert_exporter": "python",
   "pygments_lexer": "ipython3",
   "version": "3.8.10"
  }
 },
 "nbformat": 4,
 "nbformat_minor": 5
}
