{
 "cells": [
  {
   "cell_type": "markdown",
   "id": "d9345c81",
   "metadata": {},
   "source": [
    "# Векторизация"
   ]
  },
  {
   "cell_type": "code",
   "execution_count": 54,
   "id": "c6d3f2ff",
   "metadata": {
    "tags": [
     "hide-cell"
    ]
   },
   "outputs": [],
   "source": [
    "horizontal_line = \"_\" * 80"
   ]
  },
  {
   "cell_type": "markdown",
   "id": "7f1123b1",
   "metadata": {},
   "source": [
    "\n",
    "## Про векторизацию\n",
    "`NumPy` оптимизирован для работы с многомерными массивами, но циклы `python` нет. В связи с этим распространен подход, называемый **векторизацией**, при котором устраняются циклы, а вместо них вызываются встроенные в `NumPy` методы. Таким образом эти циклы осуществляются внутри `C` кода. \n",
    "\n",
    "Продемонстрируем это на примере вычисления суммы элементов массива `NumPy`. Ниже создаётся массив из $10^7$ случайных чисел. "
   ]
  },
  {
   "cell_type": "code",
   "execution_count": 17,
   "id": "66bf5c7b",
   "metadata": {},
   "outputs": [],
   "source": [
    "import numpy as np\n",
    "\n",
    "N = 10 ** 7\n",
    "\n",
    "x = np.random.random(N)"
   ]
  },
  {
   "cell_type": "markdown",
   "id": "b2128c27",
   "metadata": {},
   "source": [
    "Измерим, сколько времени займёт вычисление суммы элементов этого массива в обычном цикле.\n",
    "\n",
    "```{note}\n",
    "[%%time](https://ipython.readthedocs.io/en/stable/interactive/magics.html#magic-time) --- [магическая команда](https://ipython.readthedocs.io/en/stable/interactive/magics.html#) `ipython`, которая измеряет время, затраченное на исполнение кода в ячейке, в которой она указана.\n",
    "```"
   ]
  },
  {
   "cell_type": "code",
   "execution_count": 2,
   "id": "5e4e3d32",
   "metadata": {},
   "outputs": [
    {
     "name": "stdout",
     "output_type": "stream",
     "text": [
      "CPU times: total: 3.11 s\n",
      "Wall time: 3.12 s\n"
     ]
    }
   ],
   "source": [
    "%%time\n",
    "s1 = 0\n",
    "for i in range(N):\n",
    "    s1 += x[i]"
   ]
  },
  {
   "cell_type": "markdown",
   "id": "1f912448",
   "metadata": {},
   "source": [
    "Теперь используем для этого метод [numpy.sum](https://numpy.org/doc/stable/reference/generated/numpy.sum.html).\n",
    "\n",
    "```{note}\n",
    "[%%timeit](https://ipython.readthedocs.io/en/stable/interactive/magics.html#magic-timeit) --- то же самое, что и `%%time`, но время усредняется по нескольким запускам. \n",
    "```"
   ]
  },
  {
   "cell_type": "code",
   "execution_count": 3,
   "id": "1874218c",
   "metadata": {},
   "outputs": [
    {
     "name": "stdout",
     "output_type": "stream",
     "text": [
      "12 ms ± 75.2 µs per loop (mean ± std. dev. of 7 runs, 100 loops each)\n"
     ]
    }
   ],
   "source": [
    "%%timeit\n",
    "s2 = x.sum()"
   ]
  },
  {
   "cell_type": "markdown",
   "id": "51516544",
   "metadata": {},
   "source": [
    "Видим значительную разницу в скорости циклов и векторизованного кода. \n",
    "\n",
    "У векторизации есть три основных плюса:\n",
    "1. **Скорость**: векторизованный код исполняется гораздо быстрее, чем его аналог в циклах;\n",
    "2. **Количество кода**: векторизованный код без циклов как правило короче, а значит в нем сложнее ошибиться;\n",
    "3. **Выразительность**: векторизованный код больше похож на математическое выражение, что упрощает его чтение."
   ]
  },
  {
   "cell_type": "markdown",
   "id": "0ae11680",
   "metadata": {},
   "source": [
    "## Арифметика. \n",
    "\n",
    "Всегда предпочтительнее использовать арифметические операторы сразу к массивам целиком, а не к их элементам внутри циклов.  \n",
    "\n",
    "Заведем два массива длинной $10^7$ каждый."
   ]
  },
  {
   "cell_type": "code",
   "execution_count": 9,
   "id": "78abfa5e",
   "metadata": {},
   "outputs": [],
   "source": [
    "x = np.zeros(N)\n",
    "y = np.ones(N)"
   ]
  },
  {
   "cell_type": "markdown",
   "id": "862679f7",
   "metadata": {},
   "source": [
    "Измерим, сколько времени займет вычисление суммы двух этих циклов поэлементно в цикле."
   ]
  },
  {
   "cell_type": "code",
   "execution_count": 10,
   "id": "dbfb3aa6",
   "metadata": {},
   "outputs": [
    {
     "name": "stdout",
     "output_type": "stream",
     "text": [
      "CPU times: total: 4.67 s\n",
      "Wall time: 4.75 s\n"
     ]
    }
   ],
   "source": [
    "%%time\n",
    "z = np.zeros(N)\n",
    "for i in range(N):\n",
    "    z[i] = x[i] + y[i]"
   ]
  },
  {
   "cell_type": "markdown",
   "id": "c035e87d",
   "metadata": {},
   "source": [
    "Теперь сравним это с векторизованной версией."
   ]
  },
  {
   "cell_type": "code",
   "execution_count": 11,
   "id": "b41b3d99",
   "metadata": {},
   "outputs": [
    {
     "name": "stdout",
     "output_type": "stream",
     "text": [
      "43 ms ± 535 µs per loop (mean ± std. dev. of 7 runs, 10 loops each)\n"
     ]
    }
   ],
   "source": [
    "%%timeit\n",
    "z = x + y"
   ]
  },
  {
   "cell_type": "markdown",
   "id": "61033a26",
   "metadata": {},
   "source": [
    "Кроме того, что вычисления заняли гораздо в 103 раза меньше времени, исходный код для сложения выглядит гораздо проще.\n",
    "\n",
    "\n",
    "## `Broadcasting`\n",
    "\n",
    "\n",
    "В ряде случаев допускается применять арифметические операторы к массивам разной формы. Строго говоря, `NumPy` может оперировать с двумя массивами, если их формы совместимы (`broadcastable`). Подробнее почитать о `broadcasting` в документации можно [здесь](https://numpy.org/doc/stable/user/theory.broadcasting.html#array-broadcasting-in-numpy) и [здесь](https://numpy.org/devdocs/user/basics.broadcasting.html).\n",
    "\n",
    "**Пример 1. Скаляр и массив.** \n",
    "\n",
    "Начнем с самого простого примера. Если в арифметическом выражении участвует массив любой формы и скаляр, то можно представить, что скаляр расширяется до массива такой же формы, у которого все элементы равны значению скаляра.\n",
    "\n",
    "```{figure} /_static/lecture_specific/numpy/broadcasting_1.svg\n",
    "```\n",
    "\n",
    "На картинке выше массив `a` из трех элементов умножается на скаляр `b` (который можно представить в виде массива из одного элемента)."
   ]
  },
  {
   "cell_type": "code",
   "execution_count": 12,
   "id": "891106be",
   "metadata": {},
   "outputs": [
    {
     "name": "stdout",
     "output_type": "stream",
     "text": [
      "[1 2 3] * [2] = [2 4 6]\n"
     ]
    }
   ],
   "source": [
    "a = np.array([1, 2, 3])\n",
    "b = np.array([2])\n",
    "result = a * b\n",
    "print(f\"{a} * {b} = {result}\")"
   ]
  },
  {
   "cell_type": "markdown",
   "id": "4ae2db4f",
   "metadata": {},
   "source": [
    "```{note}\n",
    "В реальности никакого промежуточного массива из двоек в примере выше не создается. Это лишь удобный способ представить себе, что происходит.\n",
    "```\n",
    "\n",
    "**Общий случай.** В более общем случае два массива совместимы по форме (`broadcastable`), если размеры вдоль всех их осей совместимы. Размеры вдоль двух осей совместимы, только если \n",
    "- они равны;\n",
    "- один из них равен единице;\n",
    "\n",
    "При этом проверка этих размеров происходит справа налево и форма массива меньшей размерности дополняется единицами слева до необходимого количества измерений.\n",
    "\n",
    "Рассмотрим примеры совместимых и не совместимых форм.\n",
    "\n",
    "Совместимые формы.\n",
    "\n",
    "|`A.shape`|`B.shape`|`result.shape`|Комментарий|\n",
    "| :---- | --- | --- | ---: |\n",
    "| (3,) | (1, ) | (3, ) | Размер `B` вдоль единственной оси равен 1, формы `A` и `B` совместимы |\n",
    "| (1, 3) | (3, 1) | (3, 3) | Размеры вдоль последней оси совместимы, т.к. размер `B` вдоль нее равен 1. Размеры вдоль первой оси совместимы, т.к. размер `A` вдоль неё равен 1|\n",
    "|(8, 1, 6, 1)|(7, 1, 5)|(8, 7, 5, 6)|Массив `B` можно представить в виде массива с формой (1, 7, 1, 5). Размеры вдоль всех осей совместимы, т.к. вдоль каждой оси у одного из массивов длинна равняется 1|\n",
    "|(15, 4, 3)|(15, 1, 3)|(15, 4, 3)| Размеры вдоль всех осей совместимы |\n",
    "\n",
    "Несовместимые формы.\n",
    "\n",
    "|`A.shape`|`B.shape`|Комментарий|\n",
    "| :---- | --- | ---: |\n",
    "|(3, )|(4, )| Размеры вдоль единственных осей не равны между собой, ни один из них не равен 1|\n",
    "|(2, 1)| (2, 4, 3)| Сначала сравниваются 1 и 3: всё ок. Затем сравниваются 2 и 4: несовместимы. Можно представить форму (2, 1) в виде (1, 2, 1)|\n",
    "\n",
    "**Пример 2. Матрица и вектор-строка**. \n",
    "\n",
    "Если складываются (умножаются и т.п.) двумерный и одномерный массивы, то операция возможна, если количество столбцов в матрице соответствует количеству элементов в одномерном массиве.\n",
    "\n",
    "```{figure} /_static/lecture_specific/numpy/broadcasting_2.svg\n",
    "```\n",
    "\n",
    "В примере выше складываются массивы с формами `(4, 3)` и `(3, )`, что эквивалентно записи `(4, 3)` и `(1, 3)`. Формы совместимы и результат выходит такой, будто одномерный массив расширяется до двумерного массива с формой `(4, 3)` \"по столбцам\"."
   ]
  },
  {
   "cell_type": "code",
   "execution_count": 55,
   "id": "016e98a9",
   "metadata": {},
   "outputs": [
    {
     "name": "stdout",
     "output_type": "stream",
     "text": [
      "[[ 0  0  0]\n",
      " [10 10 10]\n",
      " [20 20 20]\n",
      " [30 30 30]] \n",
      " + \n",
      " [0 1 2] \n",
      " = \n",
      " [[ 0  1  2]\n",
      " [10 11 12]\n",
      " [20 21 22]\n",
      " [30 31 32]] \n"
     ]
    }
   ],
   "source": [
    "a = np.array([[0, 0, 0], [10, 10, 10], [20, 20, 20], [30, 30, 30]])\n",
    "b = np.array([0, 1, 2])\n",
    "result = a + b\n",
    "\n",
    "print(f\"{a} \\n + \\n {b} \\n = \\n {result} \")"
   ]
  },
  {
   "cell_type": "markdown",
   "id": "c3bb7643",
   "metadata": {},
   "source": [
    "```{figure} /_static/lecture_specific/numpy/broadcasting_3.svg\n",
    "```\n",
    "\n",
    "А в этом примере формы не совместимы."
   ]
  },
  {
   "cell_type": "code",
   "execution_count": 14,
   "id": "96a7257f",
   "metadata": {},
   "outputs": [
    {
     "ename": "ValueError",
     "evalue": "operands could not be broadcast together with shapes (4,3) (4,) ",
     "output_type": "error",
     "traceback": [
      "\u001b[1;31m---------------------------------------------------------------------------\u001b[0m",
      "\u001b[1;31mValueError\u001b[0m                                Traceback (most recent call last)",
      "Input \u001b[1;32mIn [14]\u001b[0m, in \u001b[0;36m<cell line: 3>\u001b[1;34m()\u001b[0m\n\u001b[0;32m      1\u001b[0m a \u001b[38;5;241m=\u001b[39m np\u001b[38;5;241m.\u001b[39marray([[\u001b[38;5;241m0\u001b[39m, \u001b[38;5;241m0\u001b[39m, \u001b[38;5;241m0\u001b[39m], [\u001b[38;5;241m10\u001b[39m, \u001b[38;5;241m10\u001b[39m, \u001b[38;5;241m10\u001b[39m], [\u001b[38;5;241m20\u001b[39m, \u001b[38;5;241m20\u001b[39m, \u001b[38;5;241m20\u001b[39m], [\u001b[38;5;241m30\u001b[39m, \u001b[38;5;241m30\u001b[39m, \u001b[38;5;241m30\u001b[39m]])\n\u001b[0;32m      2\u001b[0m b \u001b[38;5;241m=\u001b[39m np\u001b[38;5;241m.\u001b[39marray([\u001b[38;5;241m1\u001b[39m, \u001b[38;5;241m2\u001b[39m, \u001b[38;5;241m3\u001b[39m, \u001b[38;5;241m4\u001b[39m])\n\u001b[1;32m----> 3\u001b[0m \u001b[43ma\u001b[49m\u001b[43m \u001b[49m\u001b[38;5;241;43m+\u001b[39;49m\u001b[43m \u001b[49m\u001b[43mb\u001b[49m\n",
      "\u001b[1;31mValueError\u001b[0m: operands could not be broadcast together with shapes (4,3) (4,) "
     ]
    }
   ],
   "source": [
    "a = np.array([[0, 0, 0], [10, 10, 10], [20, 20, 20], [30, 30, 30]])\n",
    "b = np.array([1, 2, 3, 4])\n",
    "a + b"
   ]
  },
  {
   "cell_type": "markdown",
   "id": "63c70b17",
   "metadata": {},
   "source": [
    "**Пример 3. Матрица и вектор столбец.**\n",
    "\n",
    "Аналогично можно сложить матрицу с вектором столбцом, но для этого этот массив нужно транспонировать, т.е. привести вектор формы `(n, )` (одномерный массив из `n` элементов) к форме `(n, 1)` (матрица из `n` строк длинны 1).\n",
    "\n",
    "К сожалению, `ndarray.T` (`np.transpose`) не приведёт к желаемому результату, если массив одномерный. "
   ]
  },
  {
   "cell_type": "code",
   "execution_count": 40,
   "id": "12285a8c",
   "metadata": {},
   "outputs": [
    {
     "name": "stdout",
     "output_type": "stream",
     "text": [
      "[0 1 2] [0 1 2]\n"
     ]
    }
   ],
   "source": [
    "print(b, b.T)"
   ]
  },
  {
   "cell_type": "markdown",
   "id": "214c6317",
   "metadata": {},
   "source": [
    "Сделать это можно изменив форму или \"вставив ось\"."
   ]
  },
  {
   "cell_type": "code",
   "execution_count": 16,
   "id": "f40461f6",
   "metadata": {},
   "outputs": [
    {
     "name": "stdout",
     "output_type": "stream",
     "text": [
      "[[1]\n",
      " [2]\n",
      " [3]\n",
      " [4]]\n",
      "\n",
      "[[1]\n",
      " [2]\n",
      " [3]\n",
      " [4]]\n"
     ]
    }
   ],
   "source": [
    "n = b.shape[0]\n",
    "print(b.reshape((n, 1)))\n",
    "print()\n",
    "print(b[:, np.newaxis])"
   ]
  },
  {
   "cell_type": "markdown",
   "id": "36077060",
   "metadata": {},
   "source": [
    "Теперь можно сложить матрицу со столбцом."
   ]
  },
  {
   "cell_type": "code",
   "execution_count": 17,
   "id": "3a05afda",
   "metadata": {},
   "outputs": [
    {
     "name": "stdout",
     "output_type": "stream",
     "text": [
      "[[ 1  1  1]\n",
      " [12 12 12]\n",
      " [23 23 23]\n",
      " [34 34 34]]\n"
     ]
    }
   ],
   "source": [
    "result = a + b[:, np.newaxis]\n",
    "print(result)"
   ]
  },
  {
   "cell_type": "markdown",
   "id": "580723b9",
   "metadata": {},
   "source": [
    "**Пример 3. Вектор столбец и вектор строка**\n",
    "\n",
    "Если складывать вектор столбец и вектор строку, то каждая из них как бы расширится до матрицы по строкам и по столбцам. \n",
    "\n",
    "```{figure} /_static/lecture_specific/numpy/broadcasting_4.svg\n",
    "```\n"
   ]
  },
  {
   "cell_type": "code",
   "execution_count": 18,
   "id": "6c861a22",
   "metadata": {},
   "outputs": [
    {
     "name": "stdout",
     "output_type": "stream",
     "text": [
      "[[ 0]\n",
      " [10]\n",
      " [20]\n",
      " [30]] \n",
      " + \n",
      " [1 2 3] \n",
      "  = \n",
      " [[ 1  2  3]\n",
      " [11 12 13]\n",
      " [21 22 23]\n",
      " [31 32 33]]\n"
     ]
    }
   ],
   "source": [
    "a = np.array([0, 10, 20, 30])[:, np.newaxis]\n",
    "b = np.array([1, 2, 3])\n",
    "result = a + b\n",
    "print(f\"{a} \\n + \\n {b} \\n  = \\n {result}\")"
   ]
  },
  {
   "cell_type": "markdown",
   "id": "9fea3372",
   "metadata": {},
   "source": [
    "## Математические функции\n",
    "\n",
    "В `NumPy` есть большое количество математических функций, полный список которых можно посмотреть [здесь](https://numpy.org/doc/stable/reference/routines.math.html).  Применять их можно сразу к всему массиву: выбранная функция будет применена поэлементно. Для двухмерного массива это можно проиллюстрировать следующим образом. \n",
    "\n",
    "$$\n",
    "\\mathrm{np.sin}\\left(\n",
    "\\begin{bmatrix}\n",
    "x_{11} & \\ldots & x_{1m} \\\\\n",
    "\\vdots & \\ddots & \\vdots \\\\\n",
    "x_{n1} & \\ldots & x_{nm}\n",
    "\\end{bmatrix}\n",
    "\\right) = \n",
    "\\begin{bmatrix}\n",
    "\\mathrm{np.sin}(x_{11}) & \\ldots & \\mathrm{np.sin}(x_{1m}) \\\\\n",
    "\\vdots & \\ddots & \\vdots \\\\\n",
    "\\mathrm{np.sin}(x_{n1}) & \\ldots & \\mathrm{np.sin}(x_{nm})\n",
    "\\end{bmatrix}\n",
    "$$\n",
    "\n",
    "\n",
    "Все циклы выполнятся в `C` коде, а значит быстро."
   ]
  },
  {
   "cell_type": "code",
   "execution_count": 18,
   "id": "5fc4ed7b",
   "metadata": {},
   "outputs": [],
   "source": [
    "x = np.random.random(N)\n",
    "y = np.zeros(N)"
   ]
  },
  {
   "cell_type": "markdown",
   "id": "22864fd2",
   "metadata": {},
   "source": [
    "Применение функции в цикле поэлементно."
   ]
  },
  {
   "cell_type": "code",
   "execution_count": 19,
   "id": "2cd486d9",
   "metadata": {},
   "outputs": [
    {
     "name": "stdout",
     "output_type": "stream",
     "text": [
      "CPU times: total: 18.5 s\n",
      "Wall time: 20.2 s\n"
     ]
    }
   ],
   "source": [
    "%%time\n",
    "for i in range(N):\n",
    "    y[i] = np.sin(x[i])"
   ]
  },
  {
   "cell_type": "markdown",
   "id": "0df3a3d7",
   "metadata": {},
   "source": [
    "Применение функции сразу ко всему массиву. "
   ]
  },
  {
   "cell_type": "code",
   "execution_count": 20,
   "id": "cf72ad81",
   "metadata": {},
   "outputs": [
    {
     "name": "stdout",
     "output_type": "stream",
     "text": [
      "124 ms ± 1.85 ms per loop (mean ± std. dev. of 7 runs, 10 loops each)\n"
     ]
    }
   ],
   "source": [
    "%%timeit\n",
    "y = np.sin(x)"
   ]
  },
  {
   "cell_type": "markdown",
   "id": "06e98f38",
   "metadata": {},
   "source": [
    "### Табуляция функции одной переменной \n",
    "\n",
    "Для табуляции функции $f\\colon \\mathbb{R} \\to \\mathbb{R}$ на узлах сетки $\\{x_i, \\, i=1,\\ldots,N\\}$ достаточно просто реализовать функцию $f$ средствами функций из библиотеки `NumPy` и передать этой функции массив узлов сетки."
   ]
  },
  {
   "cell_type": "code",
   "execution_count": 14,
   "id": "bc4259b8",
   "metadata": {},
   "outputs": [
    {
     "name": "stdout",
     "output_type": "stream",
     "text": [
      "[0.  0.5 1. ]\n"
     ]
    }
   ],
   "source": [
    "x = np.array([0, np.pi/6, np.pi/2])\n",
    "y = np.sin(x)\n",
    "\n",
    "print(y)"
   ]
  },
  {
   "cell_type": "markdown",
   "id": "4d247273",
   "metadata": {},
   "source": [
    "Часто очень полезной в таких ситуациях оказывается полезной метод [numpy.linspace](https://numpy.org/doc/stable/reference/generated/numpy.linspace.html), который генерирует равномерную на отрезке сетку. Например, чтобы задать равномерную на отрезке $[-1, 1]$ сетку из 11 точек, достаточно вызывать этот метод в следующей форме."
   ]
  },
  {
   "cell_type": "code",
   "execution_count": 21,
   "id": "36810d75",
   "metadata": {},
   "outputs": [
    {
     "data": {
      "text/plain": [
       "array([-1. , -0.8, -0.6, -0.4, -0.2,  0. ,  0.2,  0.4,  0.6,  0.8,  1. ])"
      ]
     },
     "execution_count": 21,
     "metadata": {},
     "output_type": "execute_result"
    }
   ],
   "source": [
    "np.linspace(-1, 1, 11)"
   ]
  },
  {
   "cell_type": "markdown",
   "id": "95d1f2e5",
   "metadata": {},
   "source": [
    "### Табуляция функции нескольких переменных\n",
    "\n",
    "Пусть даны наборы точек $\\{x_i, \\, i=1,\\ldots,N\\}$ и $\\{y_i, \\, i=1,\\ldots,M\\}$ и требуется вычислить значение функции $f\\colon \\mathbb{R}^2 \\to \\mathbb{R}$ в узлах этой сетки: \n",
    "\n",
    "$$\n",
    "z_{ji} = f(x_i, y_j), \\quad  i=1,\\ldots,N, \\quad j=1,\\ldots,M.\n",
    "$$\n",
    "\n",
    "  \n",
    "Не векторизованный код может выглядеть как-то так."
   ]
  },
  {
   "cell_type": "code",
   "execution_count": 51,
   "id": "cb3677f7",
   "metadata": {},
   "outputs": [
    {
     "name": "stdout",
     "output_type": "stream",
     "text": [
      "[[ 0.15852902 -0.30116868]\n",
      " [ 0.09070257 -0.36899512]\n",
      " [ 0.85887999  0.3991823 ]]\n"
     ]
    }
   ],
   "source": [
    "N, M = 2, 3\n",
    "\n",
    "def f(x, y):\n",
    "    return np.cos(x) + np.sin(y)\n",
    "\n",
    "x = np.array([0, 1])\n",
    "y = np.array([-1, -2, -3])\n",
    "z = np.zeros((M, N))\n",
    "\n",
    "for i in range(N):\n",
    "    for j in range(M):\n",
    "        z[j, i] = f(x[i], y[j])\n",
    "\n",
    "print(z)"
   ]
  },
  {
   "cell_type": "markdown",
   "id": "e448c494",
   "metadata": {},
   "source": [
    "Если функция $f$ реализована исключительно средствами функций библиотеки `NumPy`, как в ячейке выше, то можно легко его векторизовать. Для этого удобно применить метод [numpy.meshgrid](https://numpy.org/doc/stable/reference/generated/numpy.meshgrid.html). Принцип его действия в случае двух массивов иллюстрируется формулой\n",
    "\n",
    "$$\n",
    "\\mathrm{np.meshgrid}\\left(\n",
    "\\begin{bmatrix}\n",
    "x_1 \\\\\n",
    "\\vdots \\\\\n",
    "x_N\n",
    "\\end{bmatrix}, \n",
    "\\begin{bmatrix}\n",
    "y_1 \\\\\n",
    "\\vdots \\\\\n",
    "y_M\n",
    "\\end{bmatrix} \n",
    "\\right) = \\left(\n",
    "M\\left\\{\n",
    "\\begin{bmatrix}\n",
    "x_1 & \\ldots & x_N \\\\\n",
    "\\vdots & \\ddots & \\vdots \\\\\n",
    "x_1 & \\ldots & x_N \n",
    "\\end{bmatrix}\\right.,\n",
    "\\overbrace{\n",
    "\\begin{bmatrix}\n",
    "y_1 & \\ldots & y_1 \\\\\n",
    "\\vdots & \\ddots & \\vdots \\\\\n",
    "y_M & \\ldots & y_M\n",
    "\\end{bmatrix} \n",
    "}^{\\text{N}}\n",
    "\\right).\n",
    "$$\n",
    "\n",
    "В более конкретном случае при $N=2$ и $M=3$ метод `numpy.meshgrid` сработает следующим образом.\n",
    "\n",
    "$$\n",
    "\\mathrm{np.meshgrid}\\left(\n",
    "\\begin{bmatrix}\n",
    "x_1 \\\\\n",
    "x_2\n",
    "\\end{bmatrix}, \n",
    "\\begin{bmatrix}\n",
    "y_1 \\\\\n",
    "y_2 \\\\\n",
    "y_3\n",
    "\\end{bmatrix} \n",
    "\\right) = \\left(\n",
    "\\begin{bmatrix}\n",
    "x_1 & x_2 \\\\\n",
    "x_1 & x_2 \\\\\n",
    "x_1 & x_2\n",
    "\\end{bmatrix},\n",
    "\\begin{bmatrix}\n",
    "y_1 & y_1 \\\\\n",
    "y_2 & y_2 \\\\\n",
    "y_3 & y_3\n",
    "\\end{bmatrix} \n",
    "\\right).\n",
    "$$"
   ]
  },
  {
   "cell_type": "code",
   "execution_count": 52,
   "id": "7af9109c",
   "metadata": {},
   "outputs": [
    {
     "name": "stdout",
     "output_type": "stream",
     "text": [
      "x=array([0, 1])\n",
      "y=array([-1, -2, -3])\n",
      "\n",
      "[[0 1]\n",
      " [0 1]\n",
      " [0 1]]\n",
      "[[-1 -1]\n",
      " [-2 -2]\n",
      " [-3 -3]]\n"
     ]
    }
   ],
   "source": [
    "print(f\"{x=}\")\n",
    "print(f\"{y=}\")\n",
    "\n",
    "print(horizontal_line)\n",
    "\n",
    "xv, yv = np.meshgrid(x, y)\n",
    "print(f\"{xv}\")\n",
    "print(f\"{yv}\")"
   ]
  },
  {
   "cell_type": "markdown",
   "id": "4802f6b0",
   "metadata": {},
   "source": [
    "Теперь можно заменить двойной цикл одним вызовом функции."
   ]
  },
  {
   "cell_type": "code",
   "execution_count": 53,
   "id": "3d4ed209",
   "metadata": {},
   "outputs": [
    {
     "name": "stdout",
     "output_type": "stream",
     "text": [
      "[[ 0.15852902 -0.30116868]\n",
      " [ 0.09070257 -0.36899512]\n",
      " [ 0.85887999  0.3991823 ]]\n"
     ]
    }
   ],
   "source": [
    "z = f(xv, yv)\n",
    "print(z)"
   ]
  },
  {
   "cell_type": "markdown",
   "id": "020d6823",
   "metadata": {},
   "source": [
    "## Агрегирующие функции\n",
    "\n",
    "Так же в `NumPy` реализован ряд агрегирующих методов, таких как сумма элементов массива ([ndarray.sum](https://numpy.org/doc/stable/reference/generated/numpy.sum.html#numpy.sum)), их произведение ([ndarray.prod](https://numpy.org/doc/stable/reference/generated/numpy.prod.html#numpy.prod)), минимум ([ndarray.min](https://numpy.org/doc/stable/reference/generated/numpy.ndarray.min.html)), максимум ([ndarray.max](https://numpy.org/doc/stable/reference/generated/numpy.ndarray.max.html)) и т.п. Такого рода операции часто применяются в статистике и доступные в `NumPy` функции такого рода перечисленны по [ссылке](https://numpy.org/doc/stable/reference/routines.statistics.html#averages-and-variances).\n",
    "\n",
    "Продемонстрируем поведение таких функций на примере метода [numpy.sum](https://numpy.org/doc/stable/reference/generated/numpy.sum.html)."
   ]
  },
  {
   "cell_type": "code",
   "execution_count": 2,
   "id": "605c86d5",
   "metadata": {},
   "outputs": [
    {
     "name": "stdout",
     "output_type": "stream",
     "text": [
      "[[  1   2   3]\n",
      " [ 10  20  30]\n",
      " [100 200 300]]\n",
      "666\n"
     ]
    }
   ],
   "source": [
    "matrix = np.array([\n",
    "    [1, 2, 3],\n",
    "    [10, 20, 30],\n",
    "    [100, 200, 300]\n",
    "])\n",
    "print(matrix)\n",
    "\n",
    "print(matrix.sum())"
   ]
  },
  {
   "cell_type": "markdown",
   "id": "cbdd3c17",
   "metadata": {},
   "source": [
    "По умолчанию все агрегирующие функции игнорируют размерность и форму массива и агрегируют все данные из массива в одно число. \n",
    "\n",
    "```{figure} /_static/lecture_specific/numpy/sum_1.svg\n",
    "```\n",
    "\n",
    "Каждая из них позволяет не только агрегировать по всему массиву целиком, но и вдоль обозначенной опциональным параметром `axis` оси. Например, чтобы просуммировать матрицу по столбцам, необходимо передать значение 0 в качестве параметра `axis`."
   ]
  },
  {
   "cell_type": "code",
   "execution_count": 3,
   "id": "fca777d2",
   "metadata": {},
   "outputs": [
    {
     "name": "stdout",
     "output_type": "stream",
     "text": [
      "[111 222 333]\n"
     ]
    }
   ],
   "source": [
    "print(matrix.sum(axis=0))"
   ]
  },
  {
   "cell_type": "markdown",
   "id": "44f81222",
   "metadata": {},
   "source": [
    "```{figure} /_static/lecture_specific/numpy/sum_2.svg\n",
    "```\n",
    "\n",
    "А чтобы просуммировать по строкам --- значение 1."
   ]
  },
  {
   "cell_type": "code",
   "execution_count": 4,
   "id": "b37b5b1a",
   "metadata": {},
   "outputs": [
    {
     "name": "stdout",
     "output_type": "stream",
     "text": [
      "[  6  60 600]\n"
     ]
    }
   ],
   "source": [
    "print(matrix.sum(axis=1))"
   ]
  },
  {
   "cell_type": "markdown",
   "id": "672b2efe",
   "metadata": {},
   "source": [
    "```{figure} /_static/lecture_specific/numpy/sum_3.svg\n",
    "```"
   ]
  }
 ],
 "metadata": {
  "celltoolbar": "Tags",
  "interpreter": {
   "hash": "eea3ef54c04064aa17c056cc2578c78db8b44278034b77b7225a3166c34cea02"
  },
  "kernelspec": {
   "display_name": "Python 3 (ipykernel)",
   "language": "python",
   "name": "python3"
  },
  "language_info": {
   "codemirror_mode": {
    "name": "ipython",
    "version": 3
   },
   "file_extension": ".py",
   "mimetype": "text/x-python",
   "name": "python",
   "nbconvert_exporter": "python",
   "pygments_lexer": "ipython3",
   "version": "3.10.7"
  }
 },
 "nbformat": 4,
 "nbformat_minor": 5
}
