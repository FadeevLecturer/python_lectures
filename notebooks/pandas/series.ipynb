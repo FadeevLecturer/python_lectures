{
 "cells": [
  {
   "cell_type": "markdown",
   "metadata": {},
   "source": [
    "# Столбцы в `pandas`\n",
    "\n",
    "Резюмируя содержание предыдущей страницы, столбцы таблиц в `pandas` представляются объектами [pandas.Series](https://pandas.pydata.org/docs/reference/api/pandas.Series.html#pandas.Series), у которых есть сходства и различия с одномерными массивами `NumPy`: оба являются последовательностями данных (т.е. элементы столбца пронумерованы и по номеру можно получить доступ к соответствующему значению в столбце) одного типа, но в отличие от массивов `NumPy` столбцы `pandas` поддерживают продвинутую индексацию.  \n",
    "\n",
    "Кроме этого важно помнить, что содержимое столбцов `pandas` изменяемо, а длина --- нет."
   ]
  },
  {
   "cell_type": "code",
   "execution_count": 11,
   "metadata": {},
   "outputs": [],
   "source": [
    "horizontal_line = \"_\" * 80  "
   ]
  },
  {
   "cell_type": "markdown",
   "metadata": {},
   "source": [
    "\n",
    "\n",
    "## Создание \n",
    "\n",
    "Создать столбец `pandas` можно многими разными способами. Сам по себе `pandas` столбец обычно создают конструктором [pandas.Series](https://pandas.pydata.org/docs/reference/api/pandas.Series.html#pandas.Series). С помощью него создать столбец можно из \n",
    "1. скаляра (число, `str`); \n",
    "2. последовательности (`list`, `np.array` и т.д.);\n",
    "3. словаря.\n",
    "\n",
    "Можно создать и пустой `pd.Series`, но большого смысла в этом нет из-за невозможности наращивать длину столбца на месте. \n",
    "\n",
    "### Скаляр \n",
    "\n",
    "Если передать в качестве параметра скаляр, то создаётся столбец из одного элемента. При этом строка тоже считается скаляром, несмотря на то, что она формально является последовательностью."
   ]
  },
  {
   "cell_type": "code",
   "execution_count": 6,
   "metadata": {},
   "outputs": [
    {
     "data": {
      "text/plain": [
       "0    abc\n",
       "dtype: object"
      ]
     },
     "execution_count": 6,
     "metadata": {},
     "output_type": "execute_result"
    }
   ],
   "source": [
    "import pandas as pd\n",
    "import numpy as np\n",
    "\n",
    "s = pd.Series(\"abc\")\n",
    "s"
   ]
  },
  {
   "cell_type": "markdown",
   "metadata": {},
   "source": [
    "Вывод сообщает, что `s` --- столбец из одного элемента `\"abc\"` типа `object`, индекс которого равен `0`. \n",
    "- `object` --- самый общий тип данных в столбце. В `pd.Series` типа `object` можно хранить данные любого типа, но этого следует по возможности избегать из соображений производительности, читабельности и удобства применений методов библиотеки `pandas`. Указать тип столбца можно дополнительным параметром `dtype` (\"string\" для строк).\n",
    "- при создании `pd.Series` скаляра, индекс единственного элемента будет равен 0. Можно явно указать индекс с помощью параметра `index`. "
   ]
  },
  {
   "cell_type": "code",
   "execution_count": 2,
   "metadata": {},
   "outputs": [
    {
     "data": {
      "text/plain": [
       "42    abc\n",
       "dtype: string"
      ]
     },
     "execution_count": 2,
     "metadata": {},
     "output_type": "execute_result"
    }
   ],
   "source": [
    "s = pd.Series(\"abc\", dtype=\"string\", index=[42])\n",
    "s"
   ]
  },
  {
   "cell_type": "markdown",
   "metadata": {},
   "source": [
    "### Последовательность.\n",
    "\n",
    "Более содержательный пример --- создание `pd.Series` из списка или массива `NumPy`. "
   ]
  },
  {
   "cell_type": "code",
   "execution_count": 2,
   "metadata": {},
   "outputs": [
    {
     "data": {
      "text/plain": [
       "0     7\n",
       "1    12\n",
       "2    42\n",
       "dtype: int64"
      ]
     },
     "execution_count": 2,
     "metadata": {},
     "output_type": "execute_result"
    }
   ],
   "source": [
    "data = [7, 12, 42]\n",
    "s = pd.Series(data)\n",
    "s"
   ]
  },
  {
   "cell_type": "markdown",
   "metadata": {},
   "source": [
    "По умолчанию генерируется [RangeIndex](https://pandas.pydata.org/docs/reference/api/pandas.RangeIndex.html), который соответствует смещению. При необходимости можно в явном виде указать необходимый индекс в виде последовательности той же длинны: за это отвечает параметр `index`."
   ]
  },
  {
   "cell_type": "code",
   "execution_count": 13,
   "metadata": {},
   "outputs": [
    {
     "data": {
      "text/plain": [
       "a     7\n",
       "b    12\n",
       "c    42\n",
       "dtype: int64"
      ]
     },
     "execution_count": 13,
     "metadata": {},
     "output_type": "execute_result"
    }
   ],
   "source": [
    "index = [\"a\", \"b\", \"c\"]\n",
    "s = pd.Series(data, index=index)\n",
    "s"
   ]
  },
  {
   "cell_type": "markdown",
   "metadata": {},
   "source": [
    "На самом деле данные столбца хранятся в массиве `NumPy`, к которому можно получить доступ по атрибуту [values](https://pandas.pydata.org/docs/reference/api/pandas.Series.values.html#pandas.Series.values) столбца. "
   ]
  },
  {
   "cell_type": "code",
   "execution_count": 14,
   "metadata": {},
   "outputs": [
    {
     "name": "stdout",
     "output_type": "stream",
     "text": [
      "values=array([ 7, 12, 42], dtype=int64)\n",
      "type(values)=<class 'numpy.ndarray'>\n"
     ]
    }
   ],
   "source": [
    "values = s.values\n",
    "print(f\"{values=}\")\n",
    "print(f\"{type(values)=}\")"
   ]
  },
  {
   "cell_type": "markdown",
   "metadata": {},
   "source": [
    "Код в ячейке ниже демонстрирует, что изменение в возвращенном массиве отражаются на исходном столбце."
   ]
  },
  {
   "cell_type": "code",
   "execution_count": 15,
   "metadata": {},
   "outputs": [
    {
     "name": "stdout",
     "output_type": "stream",
     "text": [
      "a     7\n",
      "b    12\n",
      "c    42\n",
      "dtype: int64\n",
      "________________________________________________________________________________\n",
      "a     0\n",
      "b    12\n",
      "c    42\n",
      "dtype: int64\n"
     ]
    }
   ],
   "source": [
    "print(s)\n",
    "print(horizontal_line)\n",
    "\n",
    "values[0] = 0\n",
    "print(s)"
   ]
  },
  {
   "cell_type": "markdown",
   "metadata": {},
   "source": [
    "Тип столбца выводится согласно правилам `NumPy`: наиболее общий тип (вплоть до `object`), если не указывается явно.   "
   ]
  },
  {
   "cell_type": "markdown",
   "metadata": {},
   "source": [
    "### Словарь\n",
    "\n",
    "При создании `pd.Series` из словаря, ключи попадают в индекс столбца, а значения попадают в данные столбца."
   ]
  },
  {
   "cell_type": "code",
   "execution_count": 20,
   "metadata": {},
   "outputs": [
    {
     "data": {
      "text/plain": [
       "a     7\n",
       "b    12\n",
       "c    42\n",
       "dtype: int64"
      ]
     },
     "execution_count": 20,
     "metadata": {},
     "output_type": "execute_result"
    }
   ],
   "source": [
    "d = {\"a\": 7, \"b\": 12, \"c\": 42}\n",
    "s = pd.Series(d)\n",
    "s"
   ]
  },
  {
   "cell_type": "markdown",
   "metadata": {},
   "source": [
    "## Индексация \n",
    "\n",
    "Подробнее разберем особенности индексации объектов `pandas`. Индексация строк таблиц очень похожа на индексацию элементов столбца, и многие утверждения в этом разделе работают аналогично и в случае таблиц `pandas`.\n",
    "\n",
    "### Индексация по метке **vs** индексация по смещению\n",
    "\n",
    "#### Индексация с помощью `.loc[]` vs `.iloc[]`\n",
    "\n",
    "Получать значение из столбца можно двумя способами:\n",
    "- по метке (используя индекс столбца) --- \"[.loc[]](https://pandas.pydata.org/docs/reference/api/pandas.Series.loc.html#pandas.Series.loc)\";\n",
    "- по целочисленному смещению --- \"[.iloc[]](https://pandas.pydata.org/docs/reference/api/pandas.Series.iloc.html#pandas.Series.iloc)\".\n",
    "\n",
    "Продемонстрируем разницу между \"`.loc[]`\" и \"`.iloc[]`\" на примере столбца из предыдущего раздела."
   ]
  },
  {
   "cell_type": "code",
   "execution_count": 21,
   "metadata": {},
   "outputs": [
    {
     "name": "stdout",
     "output_type": "stream",
     "text": [
      "a     7\n",
      "b    12\n",
      "c    42\n",
      "dtype: int64\n"
     ]
    }
   ],
   "source": [
    "print(s)"
   ]
  },
  {
   "cell_type": "markdown",
   "metadata": {},
   "source": [
    "Индексирование с помощью \"`.iloc[]`\" эквивалентно индексированию лежащему под капотом массиву `NumPy`, т.е. это индексирование по смещению.  "
   ]
  },
  {
   "cell_type": "code",
   "execution_count": 25,
   "metadata": {},
   "outputs": [
    {
     "name": "stdout",
     "output_type": "stream",
     "text": [
      "i=0: s.iloc[i]=7\n",
      "i=1: s.iloc[i]=12\n",
      "i=2: s.iloc[i]=42\n"
     ]
    }
   ],
   "source": [
    "for i in range(3):\n",
    "    print(f\"{i=}: {s.iloc[i]=}\")"
   ]
  },
  {
   "cell_type": "markdown",
   "metadata": {},
   "source": [
    "Индексирование с помощью \"`.loc[]`\" подразумевает использование индекса столбца, т.е. доступ осуществляется по метке. "
   ]
  },
  {
   "cell_type": "code",
   "execution_count": 26,
   "metadata": {},
   "outputs": [
    {
     "name": "stdout",
     "output_type": "stream",
     "text": [
      "label='a': s.loc[label]=7\n",
      "label='b': s.loc[label]=12\n",
      "label='c': s.loc[label]=42\n"
     ]
    }
   ],
   "source": [
    "for label in \"abc\":\n",
    "    print(f\"{label=}: {s.loc[label]=}\")"
   ]
  },
  {
   "cell_type": "markdown",
   "metadata": {},
   "source": [
    "#### Индексация с помощью `[]` и почему рекомендуется её избегать\n",
    "\n",
    "Вообще говоря, можно использовать для индексации и просто \"`[]`\". Тогда способ индексации определятся по переданному значению. В нашем примере метки представляются строками, а значит если указать между пары квадратных скобок строку, то индексация будет произведена по метке. "
   ]
  },
  {
   "cell_type": "code",
   "execution_count": 27,
   "metadata": {},
   "outputs": [
    {
     "name": "stdout",
     "output_type": "stream",
     "text": [
      "i=0: s[i]=7\n",
      "i=1: s[i]=12\n",
      "i=2: s[i]=42\n",
      "________________________________________________________________________________\n",
      "label='a': s[label]=7\n",
      "label='b': s[label]=12\n",
      "label='c': s[label]=42\n"
     ]
    }
   ],
   "source": [
    "for i in range(3):\n",
    "    print(f\"{i=}: {s[i]=}\")\n",
    "\n",
    "print(horizontal_line)\n",
    "\n",
    "for label in \"abc\":\n",
    "    print(f\"{label=}: {s[label]=}\")"
   ]
  },
  {
   "cell_type": "markdown",
   "metadata": {},
   "source": [
    "Если индекс столбца сам по себе является целочисленным (например, создаваемый по умолчанию [RangeIndex](https://pandas.pydata.org/docs/reference/api/pandas.RangeIndex.html)), то при использовании \"`[]`\" `pandas` попытается индексировать именно по метке. "
   ]
  },
  {
   "cell_type": "code",
   "execution_count": 33,
   "metadata": {},
   "outputs": [
    {
     "name": "stdout",
     "output_type": "stream",
     "text": [
      "7      7\n",
      "13    13\n",
      "42    42\n",
      "dtype: int64\n",
      "________________________________________________________________________________\n",
      "label=7: s[label]=7\n",
      "label=13: s[label]=13\n",
      "label=42: s[label]=42\n",
      "________________________________________________________________________________\n",
      "Ошибка при обращении по метке '0'.\n"
     ]
    }
   ],
   "source": [
    "s = pd.Series(data=[7, 13, 42], index=[7, 13, 42])\n",
    "print(s)\n",
    "\n",
    "print(horizontal_line)\n",
    "\n",
    "for label in (7, 13, 42):\n",
    "    print(f\"{label=}: {s[label]=}\")\n",
    "\n",
    "print(horizontal_line)\n",
    "\n",
    "try:\n",
    "    s[0]\n",
    "except KeyError:\n",
    "    print(\"Ошибка при обращении по метке '0'.\") # Только в случае ошибки"
   ]
  },
  {
   "cell_type": "markdown",
   "metadata": {},
   "source": [
    "Нередко осмысленного индекса придумать не удаётся и вы довольствуетесь сгенерированным по умолчанию [RangeIndex](https://pandas.pydata.org/docs/reference/api/pandas.RangeIndex.html). В таком случае следует проявлять особую осторожность. Хотя изначальный индекс и совпадает с индексацией по смещению, а значит \"`[]`\", \"`.loc[]`\" и \"`.iloc[]`\" произведут одинаковый эффект. Однако в процессе работы могут получиться столбцы, у которых такое свойство нарушится, что может привести к логическим ошибкам. \n",
    "\n",
    "Для демонстрации создадим новый столбец `s`."
   ]
  },
  {
   "cell_type": "code",
   "execution_count": 42,
   "metadata": {},
   "outputs": [
    {
     "name": "stdout",
     "output_type": "stream",
     "text": [
      "0    1\n",
      "1    2\n",
      "2    3\n",
      "dtype: int64\n",
      "________________________________________________________________________________\n",
      "i=0: s[i]=1, s.iloc[i]=1, s.loc[i]=1\n",
      "i=1: s[i]=2, s.iloc[i]=2, s.loc[i]=2\n",
      "i=2: s[i]=3, s.iloc[i]=3, s.loc[i]=3\n"
     ]
    }
   ],
   "source": [
    "s = pd.Series([1, 2, 3])\n",
    "print(s)\n",
    "\n",
    "print(horizontal_line)\n",
    "\n",
    "for i in range(3):\n",
    "    print(f\"{i=}: {s[i]=}, {s.iloc[i]=}, {s.loc[i]=}\")"
   ]
  },
  {
   "cell_type": "markdown",
   "metadata": {},
   "source": [
    "Видим, что индексация с помощью \"`[]`\", \"`.loc[]`\" и \"`.iloc[]`\" приводит к одинаковому результату. \n",
    "\n",
    "Теперь извлечем последние два элемента этого столбца простым срезом."
   ]
  },
  {
   "cell_type": "code",
   "execution_count": 45,
   "metadata": {},
   "outputs": [
    {
     "name": "stdout",
     "output_type": "stream",
     "text": [
      "1    2\n",
      "2    3\n",
      "dtype: int64\n"
     ]
    }
   ],
   "source": [
    "tail = s.iloc[-2:]\n",
    "print(tail)"
   ]
  },
  {
   "cell_type": "markdown",
   "metadata": {},
   "source": [
    "Обратите внимание, что в итоговом столбце метки начинаются с 1, а значит теперь индексация \"`.loc[]`\" и \"`.iloc[]`\" приведет к разным результатам."
   ]
  },
  {
   "cell_type": "code",
   "execution_count": 44,
   "metadata": {},
   "outputs": [
    {
     "name": "stdout",
     "output_type": "stream",
     "text": [
      "i=0: tail.iloc[i]=2\n",
      "i=1: tail.iloc[i]=3\n",
      "________________________________________________________________________________\n",
      "i=1: tail.loc[i]=2\n",
      "i=2: tail.loc[i]=3\n"
     ]
    }
   ],
   "source": [
    "for i in (0, 1):\n",
    "    print(f\"{i=}: {tail.iloc[i]=}\")\n",
    "\n",
    "print(horizontal_line)\n",
    "\n",
    "for i in (1, 2):\n",
    "    print(f\"{i=}: {tail.loc[i]=}\")"
   ]
  },
  {
   "cell_type": "markdown",
   "metadata": {},
   "source": [
    "Индексация с помощью \"`[]`\" в таком случае эквивалента индексации с помощью \"`.`\", т.е. обращение по нулевому индексу `s[0]` --- ошибка.\n",
    "\n",
    "```{warning}\n",
    "В связи с тем, что индексация с помощью \"`[]`\" явным образом не указывает, будет ли использоваться индексация по меткам или по смещению, а также из-за того, что использование \"`[]`\" предрасполагает к логическим ошибкам, разработчики и сообщество программистов рекомендуют **не использовать** \"`[]`\" для индексации столбцов `pandas` никогда и всегда использовать или \"`.loc[]`\" или \"`.iloc[]`\", чтобы явно сообщить свои намерения. \n",
    "```\n",
    "\n",
    "### Индексация по метке\n",
    "\n",
    "Индексация по смещению работает как в `NumPy`, а индексация по метке больше похожа на получения значений по ключу в словарях (`dict`). Однако пара отличий все же есть. \n",
    "\n",
    "Во-первых, в метках могут содержаться дубликаты. Если индексировать по метке, которая встречается в индексе не единожды, то в качестве результата вы получите новый столбец."
   ]
  },
  {
   "cell_type": "code",
   "execution_count": 47,
   "metadata": {},
   "outputs": [
    {
     "name": "stdout",
     "output_type": "stream",
     "text": [
      "a    1\n",
      "b    2\n",
      "b    3\n",
      "dtype: int64\n",
      "________________________________________________________________________________\n"
     ]
    },
    {
     "data": {
      "text/plain": [
       "b    2\n",
       "b    3\n",
       "dtype: int64"
      ]
     },
     "execution_count": 47,
     "metadata": {},
     "output_type": "execute_result"
    }
   ],
   "source": [
    "duplicates = pd.Series([1, 2, 3], index=[\"a\", \"b\", \"b\"])\n",
    "print(duplicates)\n",
    "\n",
    "print(horizontal_line)\n",
    "\n",
    "duplicates.loc[\"b\"]"
   ]
  },
  {
   "cell_type": "markdown",
   "metadata": {},
   "source": [
    "Во-вторых, можно за один раз извлекать сразу несколько элементов. Чтобы продемонстрировать, создадим новый столбец."
   ]
  },
  {
   "cell_type": "code",
   "execution_count": 76,
   "metadata": {},
   "outputs": [
    {
     "name": "stdout",
     "output_type": "stream",
     "text": [
      "a    0\n",
      "e    1\n",
      "c    2\n",
      "d    3\n",
      "b    4\n",
      "f    5\n",
      "dtype: int64\n"
     ]
    }
   ],
   "source": [
    "values = range(6)\n",
    "index = list(\"aecdbf\")\n",
    "s = pd.Series(values, index)\n",
    "print(s)"
   ]
  },
  {
   "cell_type": "markdown",
   "metadata": {},
   "source": [
    "Можно передать в \"`.loc[]`\" список меток и получить столбец с теми же значениями. "
   ]
  },
  {
   "cell_type": "code",
   "execution_count": 77,
   "metadata": {},
   "outputs": [
    {
     "data": {
      "text/plain": [
       "b    4\n",
       "c    2\n",
       "f    5\n",
       "dtype: int64"
      ]
     },
     "execution_count": 77,
     "metadata": {},
     "output_type": "execute_result"
    }
   ],
   "source": [
    "s.loc[[\"b\", \"c\", \"f\"]]"
   ]
  },
  {
   "cell_type": "markdown",
   "metadata": {},
   "source": [
    "Если метки не содержат дубликатов, то можно применять срезы."
   ]
  },
  {
   "cell_type": "code",
   "execution_count": 78,
   "metadata": {},
   "outputs": [
    {
     "data": {
      "text/plain": [
       "e    1\n",
       "c    2\n",
       "d    3\n",
       "b    4\n",
       "dtype: int64"
      ]
     },
     "execution_count": 78,
     "metadata": {},
     "output_type": "execute_result"
    }
   ],
   "source": [
    "s.loc[\"e\":\"b\"]"
   ]
  },
  {
   "cell_type": "markdown",
   "metadata": {},
   "source": [
    "### Индексация булевыми масками \n",
    "\n",
    "Как и массивы `NumPy` столбцы `pandas` можно индексировать булевыми масками. в случае булевой маски `mask`, выражения \"`.loc[mask]`\" и \"`.iloc[mask]`\" делают одно и тоже, поэтому тут оправданно применение простых квадратных скобок \"`[]`\"."
   ]
  },
  {
   "cell_type": "code",
   "execution_count": 85,
   "metadata": {},
   "outputs": [
    {
     "data": {
      "text/plain": [
       "c    2\n",
       "b    4\n",
       "f    5\n",
       "dtype: int64"
      ]
     },
     "execution_count": 85,
     "metadata": {},
     "output_type": "execute_result"
    }
   ],
   "source": [
    "mask = [False, False, True, False, True, True]\n",
    "s[mask]"
   ]
  },
  {
   "cell_type": "markdown",
   "metadata": {},
   "source": [
    "По аналогии это позволяет применять логические операции к столбцам `pandas` и сразу же элегантно фильтровать значений. "
   ]
  },
  {
   "cell_type": "code",
   "execution_count": 86,
   "metadata": {},
   "outputs": [
    {
     "data": {
      "text/plain": [
       "a    42\n",
       "e     1\n",
       "c     2\n",
       "f     5\n",
       "dtype: int64"
      ]
     },
     "execution_count": 86,
     "metadata": {},
     "output_type": "execute_result"
    }
   ],
   "source": [
    "s[(s >= 5) | (s <= 2)]"
   ]
  },
  {
   "cell_type": "markdown",
   "metadata": {},
   "source": [
    "## Изменяемость `pandas.Series`\n",
    "\n",
    "Аналогично с массивами `NumPy`, можно изменять содержимое ячейки/среза, но нельзя изменять размер (длину) столбца. \n",
    "\n",
    "Например, изменить содержимое ячейки по метке `\"a\"` можно изменить следующим образом."
   ]
  },
  {
   "cell_type": "code",
   "execution_count": 79,
   "metadata": {},
   "outputs": [
    {
     "name": "stdout",
     "output_type": "stream",
     "text": [
      "a    0\n",
      "e    1\n",
      "c    2\n",
      "d    3\n",
      "b    4\n",
      "f    5\n",
      "dtype: int64\n",
      "________________________________________________________________________________\n",
      "a    42\n",
      "e     1\n",
      "c     2\n",
      "d     3\n",
      "b     4\n",
      "f     5\n",
      "dtype: int64\n"
     ]
    }
   ],
   "source": [
    "print(s)\n",
    "\n",
    "print(horizontal_line)\n",
    "\n",
    "s.loc['a'] = 42\n",
    "print(s)"
   ]
  },
  {
   "cell_type": "markdown",
   "metadata": {},
   "source": [
    "С изменением размера следует быть аккуратным. Следующая операция как бы увеличит размер столбца `s`."
   ]
  },
  {
   "cell_type": "code",
   "execution_count": 75,
   "metadata": {},
   "outputs": [
    {
     "name": "stdout",
     "output_type": "stream",
     "text": [
      "a     0\n",
      "e     1\n",
      "c     2\n",
      "d     3\n",
      "b     4\n",
      "f     5\n",
      "z    42\n",
      "dtype: int64\n",
      "________________________________________________________________________________\n",
      "a     0\n",
      "e     1\n",
      "c     2\n",
      "d     3\n",
      "b     4\n",
      "f     5\n",
      "z    42\n",
      "dtype: int64\n"
     ]
    }
   ],
   "source": [
    "print(s)\n",
    "\n",
    "print(horizontal_line)\n",
    "\n",
    "s.loc['z'] = 42\n",
    "print(s)"
   ]
  },
  {
   "cell_type": "markdown",
   "metadata": {},
   "source": [
    "Но `pandas` перевыделяет память, копирует данные старого столбца и дозаписывает новое значение при каждом добавлении нового значения в столбец или новой строки в таблицу. Т.е. использовать объекты `pandas` для накопления строк по одной крайне неэффективно. Если есть такая необходимость, то обычно данные накапливают в контейнерах `python` (список, словарь) и трансформируют в `pandas` объект в самом конце или по накоплении некого блока информации. Альтернативой служит создание большой таблицы/столбца и работа только с первыми `n` строками, увеличивая `n` при необходимости.  \n",
    "\n",
    "## Операции над столбцами\n",
    "\n",
    "При выполнении операций над столбцами метки играют важную роль. Например, при сложении двух столбцов складываются значения с одинаковыми метками. Индекс результирующего столбца --- объединение индексов столбцов слагаемых, а напротив тех меток, которые присутствуют в индексе только одного столбца записывается значение `np.nan`. "
   ]
  },
  {
   "cell_type": "code",
   "execution_count": 94,
   "metadata": {},
   "outputs": [
    {
     "name": "stdout",
     "output_type": "stream",
     "text": [
      "a    1\n",
      "b    2\n",
      "c    3\n",
      "dtype: int64\n",
      "________________________________________________________________________________\n",
      "c    10\n",
      "b    20\n",
      "d    30\n",
      "dtype: int64\n",
      "________________________________________________________________________________\n",
      "a     NaN\n",
      "b    22.0\n",
      "c    13.0\n",
      "d     NaN\n",
      "dtype: float64\n"
     ]
    }
   ],
   "source": [
    "s1 = pd.Series([1, 2, 3], index=[\"a\", \"b\", \"c\"], dtype=\"int64\")\n",
    "print(s1)\n",
    "print(horizontal_line)\n",
    "\n",
    "s2 = pd.Series([10, 20, 30], index=[\"c\", \"b\", \"d\"], dtype=\"int64\")\n",
    "print(s2)\n",
    "print(horizontal_line)\n",
    "\n",
    "s = s1 + s2\n",
    "print(s)"
   ]
  },
  {
   "cell_type": "markdown",
   "metadata": {},
   "source": [
    "Рисунок ниже иллюстрирует, что произошло. \n",
    "\n",
    "```{figure} /_static/lecture_specific/pandas/addition.png\n",
    "```\n",
    "\n",
    "Также можно заметить, что данные результирующего столбца имеют тип `float64`, несмотря на то, что исходные столбцы целочисленного типа. Это объясняется тем, что появившееся значения `NaN` не могут быть представлены стандартным числовым типом, что вынуждает приведение к `float`. Избежать такого поведения можно используя расширенные целочисленные типы, для использования которых указывается тип с заглавной буквы \"`I`\"."
   ]
  },
  {
   "cell_type": "code",
   "execution_count": 95,
   "metadata": {},
   "outputs": [
    {
     "name": "stdout",
     "output_type": "stream",
     "text": [
      "a    1\n",
      "b    2\n",
      "c    3\n",
      "dtype: Int64\n",
      "________________________________________________________________________________\n",
      "c    10\n",
      "b    20\n",
      "d    30\n",
      "dtype: Int64\n",
      "________________________________________________________________________________\n",
      "a    <NA>\n",
      "b      22\n",
      "c      13\n",
      "d    <NA>\n",
      "dtype: Int64\n"
     ]
    }
   ],
   "source": [
    "s1 = pd.Series([1, 2, 3], index=[\"a\", \"b\", \"c\"], dtype=\"Int64\")\n",
    "print(s1)\n",
    "print(horizontal_line)\n",
    "\n",
    "s2 = pd.Series([10, 20, 30], index=[\"c\", \"b\", \"d\"], dtype=\"Int64\")\n",
    "print(s2)\n",
    "print(horizontal_line)\n",
    "\n",
    "print(s1 + s2)"
   ]
  },
  {
   "cell_type": "markdown",
   "metadata": {},
   "source": [
    "Большинство методов массивов `NumPy` переопределены в `pandas` для `pd.Series` таким образом, чтобы обрабатывать пропущенные значения."
   ]
  },
  {
   "cell_type": "code",
   "execution_count": 99,
   "metadata": {},
   "outputs": [
    {
     "name": "stdout",
     "output_type": "stream",
     "text": [
      "pandas_mean=17.5, numpy_mean=nan\n"
     ]
    }
   ],
   "source": [
    "pandas_mean = s.mean()\n",
    "numpy_mean = np.mean(s.values)\n",
    "\n",
    "print(f\"{pandas_mean=}, {numpy_mean=}\")\n"
   ]
  }
 ],
 "metadata": {
  "kernelspec": {
   "display_name": "Python 3.8.10 ('venv': venv)",
   "language": "python",
   "name": "python3"
  },
  "language_info": {
   "codemirror_mode": {
    "name": "ipython",
    "version": 3
   },
   "file_extension": ".py",
   "mimetype": "text/x-python",
   "name": "python",
   "nbconvert_exporter": "python",
   "pygments_lexer": "ipython3",
   "version": "3.8.10"
  },
  "orig_nbformat": 4,
  "vscode": {
   "interpreter": {
    "hash": "eea3ef54c04064aa17c056cc2578c78db8b44278034b77b7225a3166c34cea02"
   }
  }
 },
 "nbformat": 4,
 "nbformat_minor": 2
}
